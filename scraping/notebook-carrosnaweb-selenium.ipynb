{
 "cells": [
  {
   "cell_type": "code",
   "execution_count": 37,
   "metadata": {},
   "outputs": [],
   "source": [
    "from selenium import webdriver\n",
    "from selenium.webdriver.common.keys import Keys\n",
    "from selenium.webdriver.support.ui import Select\n",
    "from selenium.webdriver.chrome.options import Options\n",
    "from webdriver_manager.chrome import ChromeDriverManager\n",
    "from selenium.webdriver.support.ui import WebDriverWait\n",
    "from selenium.webdriver.chrome.service import Service\n",
    "from selenium.webdriver.support import expected_conditions as EC\n",
    "\n",
    "from bs4 import BeautifulSoup\n",
    "import pandas as pd\n",
    "import json"
   ]
  },
  {
   "cell_type": "code",
   "execution_count": 38,
   "metadata": {},
   "outputs": [],
   "source": [
    "service = Service()\n",
    "options = webdriver.ChromeOptions()\n",
    "\n",
    "\n",
    "# options.add_argument('--headless')\n",
    "options.add_argument('--no-sandbox')\n",
    "options.add_argument('--disable-gpu')\n",
    "options.add_argument('--ignore-certificate-errors')\n",
    "options.add_argument('disable-infobars')\n",
    "options.add_argument('--disable-extension')"
   ]
  },
  {
   "cell_type": "code",
   "execution_count": 40,
   "metadata": {},
   "outputs": [],
   "source": [
    "driver = webdriver.Chrome(service=Service(ChromeDriverManager().install()), options=options)"
   ]
  },
  {
   "cell_type": "code",
   "execution_count": 41,
   "metadata": {},
   "outputs": [],
   "source": [
    "URL = \"https://www.carrosnaweb.com.br/fichadetalhe.asp\"\n",
    "CODIGO = \"?codigo=2\"\n",
    "\n",
    "URL_BASE = URL + CODIGO"
   ]
  },
  {
   "cell_type": "code",
   "execution_count": 43,
   "metadata": {},
   "outputs": [],
   "source": [
    "driver.get(URL_BASE)\n",
    "wait = WebDriverWait(driver, 10)\n",
    "\n",
    "\n",
    "# try:\n",
    "\n",
    "#     WebDriverWait(driver, 10).until(EC.frame_to_be_available_and_switch_to_it((By.CSS_SELECTOR, \"table[border='0', cellspacing='1', cellpadding=''3', width='100%]\")))\n",
    "    \n",
    "#     print (\"Page is ready!\")\n",
    "# except TimeoutException:\n",
    "#     print (\"Loading took too much time!\")"
   ]
  },
  {
   "cell_type": "code",
   "execution_count": 20,
   "metadata": {},
   "outputs": [],
   "source": [
    "soup = BeautifulSoup(driver.page_source, 'html.parser')"
   ]
  },
  {
   "cell_type": "code",
   "execution_count": 21,
   "metadata": {},
   "outputs": [],
   "source": [
    "# with open(\"./html-carrosnaweb.html\", 'r', encoding='utf-8') as fp:\n",
    "#     soup = BeautifulSoup(fp, 'html.parser')"
   ]
  },
  {
   "cell_type": "code",
   "execution_count": 22,
   "metadata": {},
   "outputs": [
    {
     "ename": "AttributeError",
     "evalue": "'NoneType' object has no attribute 'find_all'",
     "output_type": "error",
     "traceback": [
      "\u001b[1;31m---------------------------------------------------------------------------\u001b[0m",
      "\u001b[1;31mAttributeError\u001b[0m                            Traceback (most recent call last)",
      "Cell \u001b[1;32mIn[22], line 11\u001b[0m\n\u001b[0;32m      1\u001b[0m principal_table \u001b[39m=\u001b[39m soup \\\n\u001b[0;32m      2\u001b[0m     \u001b[39m.\u001b[39mfind(\u001b[39m'\u001b[39m\u001b[39mtable\u001b[39m\u001b[39m'\u001b[39m, \n\u001b[0;32m      3\u001b[0m     {\n\u001b[1;32m   (...)\u001b[0m\n\u001b[0;32m      7\u001b[0m         \u001b[39m\"\u001b[39m\u001b[39mwidth\u001b[39m\u001b[39m\"\u001b[39m:\u001b[39m\"\u001b[39m\u001b[39m100\u001b[39m\u001b[39m%\u001b[39m\u001b[39m\"\u001b[39m\n\u001b[0;32m      8\u001b[0m     }, recursive\u001b[39m=\u001b[39m\u001b[39mTrue\u001b[39;00m)\n\u001b[1;32m---> 11\u001b[0m tbody \u001b[39m=\u001b[39m principal_table\u001b[39m.\u001b[39;49mfind_all(\u001b[39m'\u001b[39m\u001b[39mtbody\u001b[39m\u001b[39m'\u001b[39m)[\u001b[39m0\u001b[39m]\n\u001b[0;32m     12\u001b[0m rows \u001b[39m=\u001b[39m tbody\u001b[39m.\u001b[39mfind_all(\u001b[39m'\u001b[39m\u001b[39mtr\u001b[39m\u001b[39m'\u001b[39m)\n\u001b[0;32m     14\u001b[0m info_vehicles \u001b[39m=\u001b[39m []\n",
      "\u001b[1;31mAttributeError\u001b[0m: 'NoneType' object has no attribute 'find_all'"
     ]
    }
   ],
   "source": [
    "principal_table = soup \\\n",
    "    .find('table', \n",
    "    {\n",
    "        \"cellspacing\":\"1\",\n",
    "        \"cellpadding\":\"3\",\n",
    "        \"border\":\"0\",\n",
    "        \"width\":\"100%\"\n",
    "    }, recursive=True)\n",
    "\n",
    "\n",
    "tbody = principal_table.find_all('tbody')[0]\n",
    "rows = tbody.find_all('tr')\n",
    "\n",
    "info_vehicles = []\n",
    "filtered_rows = []\n",
    "\n",
    "for row in rows:\n",
    "    cells = row.find_all('td')\n",
    "    for cell in cells:\n",
    "        \n",
    "        # if not cell.has_attr({\"colspan\":\"6\" \"align\":\"center\" \"bgcolor\":\"#ffffff\"}):\n",
    "        info_vehicles.append(cell.text.strip().replace('', ''))\n"
   ]
  },
  {
   "cell_type": "code",
   "execution_count": null,
   "metadata": {},
   "outputs": [],
   "source": [
    "words_to_exclude = \\\n",
    "    [   \"Página\", \n",
    "        \"Compartilhe:\", \n",
    "        \"As informa\", \n",
    "        \"Ficha T\", \n",
    "        \"Avaliação\",\n",
    "        \"SUSPENSÃO\",\n",
    "        \"FREIOS\",\n",
    "        \"DIREÇÃO\",\n",
    "        \"PNEUS\",\n",
    "        \"DIMENSÕES\",\n",
    "        \"AERODINÂMICA\",\n",
    "        \"DESEMPENHO\",\n",
    "        \"CONSUMO\",\n",
    "        \"AUTONOMIA\",\n",
    "        \"MOTOR\",\n",
    "        \"TRANSMISSÃO\",\n",
    "        \"Fotos\",\n",
    "    ]\n",
    "\n",
    "# Criar uma nova lista sem elementos que contenham palavras da lista de exclusão\n",
    "filtered_list_exclude = [item for item in info_vehicles if not any(word in item for word in words_to_exclude)]\n",
    "\n",
    "\n",
    "filtered_removed_empty = list(filter(None, filtered_list_exclude))"
   ]
  },
  {
   "cell_type": "code",
   "execution_count": null,
   "metadata": {},
   "outputs": [],
   "source": [
    "info_veichle = []\n",
    "filtered_desc_labels = filtered_removed_empty[1:-1]\n",
    "# Convertendo o array para um dicionário\n",
    "json_dict = {filtered_desc_labels[i]: filtered_desc_labels[i+1] for i in range(0, len(filtered_desc_labels), 2)}\n",
    "\n",
    "\n",
    "if \"Geração\" not in json_dict:\n",
    "    json_dict[\"Geração\"] = \"\"\n",
    "if \"Tuchos\" not in json_dict:\n",
    "    json_dict[\"Tuchos\"] = \"\"\n",
    "if \"Variação do Comando\" not in json_dict:\n",
    "    json_dict[\"Variação do Comando\"] = \"\"\n",
    "if \"Acionamento comando\" not in json_dict:\n",
    "    json_dict[\"Acionamento comando\"] = \"\"\n",
    "if \"Código do Cambio\" not in json_dict:\n",
    "    json_dict[\"Código do Cambio\"] = \"\"\n",
    "if \"Estepe\" not in json_dict:\n",
    "    json_dict[\"Estepe\"] = \"\"\n",
    "if \"Carga útil\" not in json_dict:\n",
    "    json_dict[\"Carga útil\"] = \"\"\n",
    "\n",
    "# Convertendo o dicionário em uma string JSON formatada\n",
    "json_string = json.dumps(json_dict, indent=2,  ensure_ascii=False)\n"
   ]
  },
  {
   "cell_type": "code",
   "execution_count": null,
   "metadata": {},
   "outputs": [
    {
     "data": {
      "text/plain": [
       "'{\\n  \"Ano\": \"2002\",\\n  \"Preço\": \"R$ 11.113\",\\n  \"Desvalorização\": \"8,27%\",\\n  \"Propulsão\": \"Combustão\",\\n  \"Combustível\": \"Gasolina\",\\n  \"IPVA\": \"Isento2\",\\n  \"Seguro\": \"Indisponível\",\\n  \"Revisões\": \"Preços não tabelados\",\\n  \"Procedência\": \"Nacional\",\\n  \"Garantia\": \"1 ano\",\\n  \"Configuração\": \"Hatch\",\\n  \"Porte\": \"Compacto\",\\n  \"Lugares\": \"5\",\\n  \"Portas\": \"4\",\\n  \"Geração\": \"1\",\\n  \"Nota do Leitor\": \"8,8\\\\n\\\\t\\xa0\\\\nAvalie\\\\n10\\\\n9\\\\n8\\\\n7\\\\n6\\\\n5\\\\n4\\\\n3\\\\n2\\\\n1\\\\n0\",\\n  \"Índice CNW\": \"63,57\",\\n  \"Ranking CNW\": \"14659\",\\n  \"Instalação\": \"Dianteiro\",\\n  \"Aspiração\": \"Natural\",\\n  \"Disposição\": \"Transversal\",\\n  \"Alimentação\": \"Injeção multiponto\",\\n  \"Cilindros\": \"4 em linha\",\\n  \"Comando de válvulas\": \"Único no cabeçote\",\\n  \"Tuchos\": \"Mecânicos\",\\n  \"Cilindrada unitária\": \"250 cm3\",\\n  \"Acionamento comando\": \"Correia dentada\",\\n  \"Válvulas por cilindro\": \"2\",\\n  \"Diâmetro do cilindro\": \"70 mm\",\\n  \"Razão de compressão\": \"9,5:1\",\\n  \"Curso do pistão\": \"64,9 mm\",\\n  \"Deslocamento\": \"cm3\",\\n  \"Potência  máxima\": \"cv  a 5500 rpm\",\\n  \"Código do motor\": \"Fire\",\\n  \"Torque  máximo\": \"8,5 kgfm  a 2500 rpm\",\\n  \"Peso/potência\": \"15,00 kg/cv\",\\n  \"Torque específico\": \"8,5 kgfm/litro\",\\n  \"Peso/torque\": \"97,1 kg/kgfm\",\\n  \"Potência específica\": \"55,1 cv/litro\",\\n  \"Tração\": \"Dianteira\",\\n  \"Câmbio\": \"Manual\\\\n\\\\t \\\\n\\\\t\\\\tde 5 marchas\",\\n  \"Código do câmbio\": \"C513\",\\n  \"Acoplamento\": \"Embreagem monodisco a seco\",\\n  \"Dianteira\": \"Independente, McPherson\",\\n  \"Elemento elástico\": \"Feixe de molas semielípticas\",\\n  \"Traseira\": \"Independente, McPherson\",\\n  \"Dianteiros\": \"145/80 R13\",\\n  \"Traseiros\": \"145/80 R13\",\\n  \"Assistência\": \"Não assistida\",\\n  \"Diâmetro de giro\": \"10 m\",\\n  \"Altura do flanco\": \"116 mm\",\\n  \"Estepe\": \"145/80 R13\",\\n  \"Comprimento\": \"mm\",\\n  \"Largura\": \"1548 mm\",\\n  \"Distância entre-eixos\": \"2361 mm\",\\n  \"Altura\": \"1445 mm\",\\n  \"Porta-malas\": \"290 litros\",\\n  \"Tanque de combustível\": \"50 litros\",\\n  \"Peso\": \"kg\",\\n  \"Área frontal (A)\": \"1,9 m2\",\\n  \"Coef. de arrasto (Cx)\": \"0,36\",\\n  \"Área frontal corrigida\": \"0,684 m2\",\\n  \"Velocidade máxima\": \"151 km/h\",\\n  \"Aceleração 0-100 km/h\": \"15,2 s\",\\n  \"Urbano\": \"10 km/l\",\\n  \"Rodoviário\": \"17 km/l\",\\n  \"Urbana\": \"500 km\",\\n  \"Rodoviária\": \"850 km\",\\n  \"Variação do Comando\": \"\",\\n  \"Código do Cambio\": \"\",\\n  \"Carga útil\": \"\"\\n}'"
      ]
     },
     "execution_count": 18,
     "metadata": {},
     "output_type": "execute_result"
    }
   ],
   "source": [
    "json_string"
   ]
  },
  {
   "cell_type": "code",
   "execution_count": null,
   "metadata": {},
   "outputs": [],
   "source": [
    "df_vehicles = pd.DataFrame()"
   ]
  },
  {
   "cell_type": "code",
   "execution_count": null,
   "metadata": {},
   "outputs": [],
   "source": [
    "\n",
    "df_vehicles = pd.concat([df_vehicles, pd.DataFrame([info_veichle])], ignore_index=True)"
   ]
  },
  {
   "cell_type": "code",
   "execution_count": null,
   "metadata": {},
   "outputs": [],
   "source": [
    "df_vehicles"
   ]
  },
  {
   "cell_type": "code",
   "execution_count": null,
   "metadata": {},
   "outputs": [],
   "source": []
  }
 ],
 "metadata": {
  "kernelspec": {
   "display_name": "Python 3",
   "language": "python",
   "name": "python3"
  },
  "language_info": {
   "codemirror_mode": {
    "name": "ipython",
    "version": 3
   },
   "file_extension": ".py",
   "mimetype": "text/x-python",
   "name": "python",
   "nbconvert_exporter": "python",
   "pygments_lexer": "ipython3",
   "version": "3.10.11"
  },
  "orig_nbformat": 4
 },
 "nbformat": 4,
 "nbformat_minor": 2
}
