{
 "cells": [
  {
   "cell_type": "code",
   "execution_count": 1,
   "metadata": {},
   "outputs": [],
   "source": [
    "import pandas as pd\n",
    "import matplotlib.pyplot as plt\n",
    "from datetime import datetime\n",
    "import numpy as np\n",
    "from sklearn.preprocessing import FunctionTransformer\n",
    "import numpy as np"
   ]
  },
  {
   "cell_type": "code",
   "execution_count": 2,
   "metadata": {},
   "outputs": [
    {
     "name": "stderr",
     "output_type": "stream",
     "text": [
      "/tmp/ipykernel_686/2562627805.py:2: DtypeWarning: Columns (38) have mixed types. Specify dtype option on import or set low_memory=False.\n",
      "  df = pd.concat([pd.read_csv(f) for f in files])\n",
      "/tmp/ipykernel_686/2562627805.py:2: DtypeWarning: Columns (21,39) have mixed types. Specify dtype option on import or set low_memory=False.\n",
      "  df = pd.concat([pd.read_csv(f) for f in files])\n"
     ]
    }
   ],
   "source": [
    "files = [\"./furtos_consolidado.csv\", \"./roubos_consolidado.csv\"]\n",
    "df = pd.concat([pd.read_csv(f) for f in files])"
   ]
  },
  {
   "cell_type": "code",
   "execution_count": 3,
   "metadata": {},
   "outputs": [],
   "source": [
    "df.columns = df.columns.str.lower()\n",
    "df[\"datahora\"] = pd.to_datetime(df[\"dataocorrencia\"] + \" \" + df[\"horaocorrencia\"], errors=\"coerce\")\n",
    "df = df[df[\"datahora\"] > datetime(2020, 1, 1)]\n",
    "df[\"hora\"] = df[\"datahora\"].dt.hour\n",
    "df[\"ano\"] = df[\"datahora\"].dt.year\n",
    "df[\"mes\"] = df[\"datahora\"].dt.month\n",
    "df[\"dia\"] = df[\"datahora\"].dt.day\n",
    "df[\"estacao\"] = ((df[\"mes\"] % 12) // 3) + 1\n",
    "df[\"periodo\"] = np.where(\n",
    "    (df[\"hora\"] >= 0) & (df[\"hora\"] < 8), 0, \n",
    "    np.where((df[\"hora\"] >= 8) & (df[\"hora\"] < 16), 1, 2)\n",
    ")\n",
    "for c in [\"cidade\", \"bairro\", \"logradouro\"]:\n",
    "  df.loc[:, c] = df[c].str.normalize(\"NFKD\").str.encode(\"ascii\",  errors='ignore').str.decode(\"UTF-8\").str.lower()\n",
    "df[\"bairro\"] = df[\"cidade\"] + \"|\" + df[\"bairro\"]"
   ]
  },
  {
   "cell_type": "code",
   "execution_count": 4,
   "metadata": {},
   "outputs": [],
   "source": [
    "crimes = df[[\"cidade\", \"bairro\", \"logradouro\", \"estacao\", \"ano\", \"mes\", \"dia\", \"periodo\"]]"
   ]
  },
  {
   "cell_type": "code",
   "execution_count": 5,
   "metadata": {},
   "outputs": [],
   "source": [
    "def sin_transform(x, period):\n",
    "    return np.sin(x / period * 2 * np.pi)\n",
    "\n",
    "def cos_transform(x, period):\n",
    "    return np.cos(x / period * 2 * np.pi)"
   ]
  },
  {
   "cell_type": "code",
   "execution_count": 6,
   "metadata": {},
   "outputs": [
    {
     "name": "stderr",
     "output_type": "stream",
     "text": [
      "/tmp/ipykernel_686/2427418647.py:1: SettingWithCopyWarning: \n",
      "A value is trying to be set on a copy of a slice from a DataFrame.\n",
      "Try using .loc[row_indexer,col_indexer] = value instead\n",
      "\n",
      "See the caveats in the documentation: https://pandas.pydata.org/pandas-docs/stable/user_guide/indexing.html#returning-a-view-versus-a-copy\n",
      "  crimes.loc[:, \"mes_sin\"] = sin_transform(crimes[\"mes\"], 12)\n",
      "/tmp/ipykernel_686/2427418647.py:2: SettingWithCopyWarning: \n",
      "A value is trying to be set on a copy of a slice from a DataFrame.\n",
      "Try using .loc[row_indexer,col_indexer] = value instead\n",
      "\n",
      "See the caveats in the documentation: https://pandas.pydata.org/pandas-docs/stable/user_guide/indexing.html#returning-a-view-versus-a-copy\n",
      "  crimes.loc[:, \"mes_cos\"] = cos_transform(crimes[\"mes\"], 12)\n",
      "/tmp/ipykernel_686/2427418647.py:3: SettingWithCopyWarning: \n",
      "A value is trying to be set on a copy of a slice from a DataFrame.\n",
      "Try using .loc[row_indexer,col_indexer] = value instead\n",
      "\n",
      "See the caveats in the documentation: https://pandas.pydata.org/pandas-docs/stable/user_guide/indexing.html#returning-a-view-versus-a-copy\n",
      "  crimes.loc[:, \"dia_sin\"] = sin_transform(crimes[\"dia\"], 30)\n",
      "/tmp/ipykernel_686/2427418647.py:4: SettingWithCopyWarning: \n",
      "A value is trying to be set on a copy of a slice from a DataFrame.\n",
      "Try using .loc[row_indexer,col_indexer] = value instead\n",
      "\n",
      "See the caveats in the documentation: https://pandas.pydata.org/pandas-docs/stable/user_guide/indexing.html#returning-a-view-versus-a-copy\n",
      "  crimes.loc[:, \"dia_cos\"] = cos_transform(crimes[\"dia\"], 30)\n"
     ]
    }
   ],
   "source": [
    "crimes.loc[:, \"mes_sin\"] = sin_transform(crimes[\"mes\"], 12)\n",
    "crimes.loc[:, \"mes_cos\"] = cos_transform(crimes[\"mes\"], 12)\n",
    "crimes.loc[:, \"dia_sin\"] = sin_transform(crimes[\"dia\"], 30)\n",
    "crimes.loc[:, \"dia_cos\"] = cos_transform(crimes[\"dia\"], 30)"
   ]
  },
  {
   "cell_type": "code",
   "execution_count": 7,
   "metadata": {},
   "outputs": [
    {
     "data": {
      "text/html": [
       "<div>\n",
       "<style scoped>\n",
       "    .dataframe tbody tr th:only-of-type {\n",
       "        vertical-align: middle;\n",
       "    }\n",
       "\n",
       "    .dataframe tbody tr th {\n",
       "        vertical-align: top;\n",
       "    }\n",
       "\n",
       "    .dataframe thead th {\n",
       "        text-align: right;\n",
       "    }\n",
       "</style>\n",
       "<table border=\"1\" class=\"dataframe\">\n",
       "  <thead>\n",
       "    <tr style=\"text-align: right;\">\n",
       "      <th></th>\n",
       "      <th>cidade</th>\n",
       "      <th>bairro</th>\n",
       "      <th>logradouro</th>\n",
       "      <th>estacao</th>\n",
       "      <th>ano</th>\n",
       "      <th>mes</th>\n",
       "      <th>dia</th>\n",
       "      <th>periodo</th>\n",
       "      <th>mes_sin</th>\n",
       "      <th>mes_cos</th>\n",
       "      <th>dia_sin</th>\n",
       "      <th>dia_cos</th>\n",
       "    </tr>\n",
       "  </thead>\n",
       "  <tbody>\n",
       "    <tr>\n",
       "      <th>3</th>\n",
       "      <td>limeira</td>\n",
       "      <td>limeira|vila claudia</td>\n",
       "      <td>avenida antonio ometo</td>\n",
       "      <td>1</td>\n",
       "      <td>2020</td>\n",
       "      <td>1</td>\n",
       "      <td>1</td>\n",
       "      <td>0</td>\n",
       "      <td>0.5</td>\n",
       "      <td>0.866025</td>\n",
       "      <td>0.207912</td>\n",
       "      <td>0.978148</td>\n",
       "    </tr>\n",
       "    <tr>\n",
       "      <th>4</th>\n",
       "      <td>birigui</td>\n",
       "      <td>birigui|chacaras caicara</td>\n",
       "      <td>rua benjamin strozi</td>\n",
       "      <td>1</td>\n",
       "      <td>2020</td>\n",
       "      <td>1</td>\n",
       "      <td>1</td>\n",
       "      <td>0</td>\n",
       "      <td>0.5</td>\n",
       "      <td>0.866025</td>\n",
       "      <td>0.207912</td>\n",
       "      <td>0.978148</td>\n",
       "    </tr>\n",
       "    <tr>\n",
       "      <th>5</th>\n",
       "      <td>birigui</td>\n",
       "      <td>birigui|jardim vitrine</td>\n",
       "      <td>rua silvio vieira coelho</td>\n",
       "      <td>1</td>\n",
       "      <td>2020</td>\n",
       "      <td>1</td>\n",
       "      <td>1</td>\n",
       "      <td>0</td>\n",
       "      <td>0.5</td>\n",
       "      <td>0.866025</td>\n",
       "      <td>0.207912</td>\n",
       "      <td>0.978148</td>\n",
       "    </tr>\n",
       "    <tr>\n",
       "      <th>17</th>\n",
       "      <td>praia grande</td>\n",
       "      <td>praia grande|solemar ii</td>\n",
       "      <td>avenida ministro marcos freire</td>\n",
       "      <td>1</td>\n",
       "      <td>2020</td>\n",
       "      <td>1</td>\n",
       "      <td>1</td>\n",
       "      <td>0</td>\n",
       "      <td>0.5</td>\n",
       "      <td>0.866025</td>\n",
       "      <td>0.207912</td>\n",
       "      <td>0.978148</td>\n",
       "    </tr>\n",
       "    <tr>\n",
       "      <th>18</th>\n",
       "      <td>praia grande</td>\n",
       "      <td>praia grande|solemar ii</td>\n",
       "      <td>avenida ministro marcos freire</td>\n",
       "      <td>1</td>\n",
       "      <td>2020</td>\n",
       "      <td>1</td>\n",
       "      <td>1</td>\n",
       "      <td>0</td>\n",
       "      <td>0.5</td>\n",
       "      <td>0.866025</td>\n",
       "      <td>0.207912</td>\n",
       "      <td>0.978148</td>\n",
       "    </tr>\n",
       "  </tbody>\n",
       "</table>\n",
       "</div>"
      ],
      "text/plain": [
       "          cidade                    bairro                      logradouro  \\\n",
       "3        limeira      limeira|vila claudia           avenida antonio ometo   \n",
       "4        birigui  birigui|chacaras caicara             rua benjamin strozi   \n",
       "5        birigui    birigui|jardim vitrine        rua silvio vieira coelho   \n",
       "17  praia grande   praia grande|solemar ii  avenida ministro marcos freire   \n",
       "18  praia grande   praia grande|solemar ii  avenida ministro marcos freire   \n",
       "\n",
       "    estacao   ano  mes  dia  periodo  mes_sin   mes_cos   dia_sin   dia_cos  \n",
       "3         1  2020    1    1        0      0.5  0.866025  0.207912  0.978148  \n",
       "4         1  2020    1    1        0      0.5  0.866025  0.207912  0.978148  \n",
       "5         1  2020    1    1        0      0.5  0.866025  0.207912  0.978148  \n",
       "17        1  2020    1    1        0      0.5  0.866025  0.207912  0.978148  \n",
       "18        1  2020    1    1        0      0.5  0.866025  0.207912  0.978148  "
      ]
     },
     "execution_count": 7,
     "metadata": {},
     "output_type": "execute_result"
    }
   ],
   "source": [
    "crimes.head()"
   ]
  },
  {
   "cell_type": "code",
   "execution_count": 8,
   "metadata": {},
   "outputs": [],
   "source": [
    "to_score = [\"cidade\", \"bairro\", \"estacao\", \"ano\", \"mes\", \"dia\", \"periodo\"]\n",
    "scored = []\n",
    "neighborhood_crimes = crimes.copy()\n",
    "for t in to_score:\n",
    "  grouped = neighborhood_crimes.groupby(t).size().reset_index()\n",
    "  name = f\"{t}_PONTOS\"\n",
    "  scored.append(name)\n",
    "  grouped.rename(columns={0: name}, inplace=True)\n",
    "  neighborhood_crimes = neighborhood_crimes.join(grouped.set_index(t), on=t)"
   ]
  },
  {
   "cell_type": "code",
   "execution_count": 9,
   "metadata": {},
   "outputs": [],
   "source": [
    "neighborhood_crimes[\"pontos\"] = neighborhood_crimes[scored].sum(axis=1)\n",
    "neighborhood_crimes = neighborhood_crimes.drop(columns=scored)"
   ]
  },
  {
   "cell_type": "code",
   "execution_count": 10,
   "metadata": {},
   "outputs": [],
   "source": [
    "to_score = [\"cidade\", \"bairro\", \"logradouro\", \"estacao\", \"ano\", \"mes\", \"dia\", \"periodo\"]\n",
    "scored = []\n",
    "for t in to_score:\n",
    "  grouped = crimes.groupby(t).size().reset_index()\n",
    "  name = f\"{t}_PONTOS\"\n",
    "  scored.append(name)\n",
    "  grouped.rename(columns={0: name}, inplace=True)\n",
    "  crimes = crimes.join(grouped.set_index(t), on=t)"
   ]
  },
  {
   "cell_type": "code",
   "execution_count": 11,
   "metadata": {},
   "outputs": [],
   "source": [
    "crimes[\"pontos\"] = crimes[scored].sum(axis=1)\n",
    "crimes = crimes.drop(columns=scored)"
   ]
  },
  {
   "cell_type": "code",
   "execution_count": 12,
   "metadata": {},
   "outputs": [
    {
     "data": {
      "text/plain": [
       "<AxesSubplot:>"
      ]
     },
     "execution_count": 12,
     "metadata": {},
     "output_type": "execute_result"
    },
    {
     "data": {
      "image/png": "[encoded data removed]",
      "text/plain": [
       "<Figure size 640x480 with 1 Axes>"
      ]
     },
     "metadata": {},
     "output_type": "display_data"
    }
   ],
   "source": [
    "crimes[\"pontos\"].hist()"
   ]
  },
  {
   "cell_type": "code",
   "execution_count": 13,
   "metadata": {},
   "outputs": [
    {
     "data": {
      "image/png": "[encoded data removed]",
      "text/plain": [
       "<Figure size 640x480 with 6 Axes>"
      ]
     },
     "metadata": {},
     "output_type": "display_data"
    }
   ],
   "source": [
    "fig, axs = plt.subplots(3, 2)\n",
    "to_plot = [\"cidade\", \"bairro\", \"ano\", \"mes\", \"dia\", \"periodo\"]\n",
    "for t, ax in zip(to_plot, axs.ravel()):\n",
    "    crimes.groupby(t)[\"pontos\"].sum().sort_values(ascending=False).head().plot(kind=\"barh\", ax=ax)\n",
    "plt.tight_layout()"
   ]
  },
  {
   "cell_type": "code",
   "execution_count": 14,
   "metadata": {},
   "outputs": [
    {
     "name": "stdout",
     "output_type": "stream",
     "text": [
      "Total 130393\n",
      "\n",
      "cidade          84\n",
      "bairro        1036\n",
      "logradouro    6774\n",
      "estacao          0\n",
      "ano              0\n",
      "mes              0\n",
      "dia              0\n",
      "periodo          0\n",
      "mes_sin          0\n",
      "mes_cos          0\n",
      "dia_sin          0\n",
      "dia_cos          0\n",
      "pontos           0\n",
      "dtype: int64\n",
      "\n",
      "cidade        0.000644\n",
      "bairro        0.007945\n",
      "logradouro    0.051951\n",
      "estacao       0.000000\n",
      "ano           0.000000\n",
      "mes           0.000000\n",
      "dia           0.000000\n",
      "periodo       0.000000\n",
      "mes_sin       0.000000\n",
      "mes_cos       0.000000\n",
      "dia_sin       0.000000\n",
      "dia_cos       0.000000\n",
      "pontos        0.000000\n",
      "dtype: float64\n"
     ]
    }
   ],
   "source": [
    "print(f\"Total {crimes.shape[0]}\\n\")\n",
    "print(crimes.isna().sum())\n",
    "print()\n",
    "print(crimes.isna().mean())"
   ]
  },
  {
   "cell_type": "code",
   "execution_count": 15,
   "metadata": {},
   "outputs": [],
   "source": [
    "crimes.dropna(inplace=True)\n",
    "neighborhood_crimes.dropna(inplace=True)"
   ]
  },
  {
   "cell_type": "code",
   "execution_count": 16,
   "metadata": {},
   "outputs": [],
   "source": [
    "crimes = crimes.assign(location=(crimes[\"cidade\"] + \"|\" + crimes[\"bairro\"] + \"|\" + crimes[\"logradouro\"]).astype(\"category\"))"
   ]
  },
  {
   "cell_type": "code",
   "execution_count": 17,
   "metadata": {},
   "outputs": [],
   "source": [
    "crimes.to_csv(\"crimes_scored.csv\", index=False)\n",
    "neighborhood_crimes.to_csv(\"neighborhood_crimes_scored.csv\", index=False)"
   ]
  }
 ],
 "metadata": {
  "kernelspec": {
   "display_name": "base",
   "language": "python",
   "name": "python3"
  },
  "language_info": {
   "codemirror_mode": {
    "name": "ipython",
    "version": 3
   },
   "file_extension": ".py",
   "mimetype": "text/x-python",
   "name": "python",
   "nbconvert_exporter": "python",
   "pygments_lexer": "ipython3",
   "version": "3.10.10"
  },
  "orig_nbformat": 4
 },
 "nbformat": 4,
 "nbformat_minor": 2
}
