{
 "cells": [
  {
   "cell_type": "code",
   "execution_count": 14,
   "metadata": {},
   "outputs": [],
   "source": [
    "import pandas as pd\n",
    "import matplotlib.pyplot as plt\n",
    "from datetime import datetime\n",
    "import numpy as np"
   ]
  },
  {
   "cell_type": "code",
   "execution_count": 15,
   "metadata": {},
   "outputs": [
    {
     "name": "stderr",
     "output_type": "stream",
     "text": [
      "/tmp/ipykernel_1177/2757053829.py:1: DtypeWarning: Columns (38) have mixed types. Specify dtype option on import or set low_memory=False.\n",
      "  df = pd.read_csv(\"./furtos_consolidado.csv\")\n"
     ]
    }
   ],
   "source": [
    "df = pd.read_csv(\"./furtos_consolidado.csv\")"
   ]
  },
  {
   "cell_type": "code",
   "execution_count": 16,
   "metadata": {},
   "outputs": [],
   "source": [
    "df.columns = df.columns.str.lower()\n",
    "df[\"datahora\"] = pd.to_datetime(df[\"dataocorrencia\"] + \" \" + df[\"horaocorrencia\"])\n",
    "df = df[df[\"datahora\"] > datetime(2020, 1, 1)]\n",
    "df[\"hora\"] = df[\"datahora\"].dt.hour\n",
    "df[\"mes\"] = df[\"datahora\"].dt.month\n",
    "df[\"dia\"] = df[\"datahora\"].dt.day\n",
    "df[\"estacao\"] = ((df[\"mes\"] % 12) // 3) + 1\n",
    "df[\"periodo\"] = np.where(\n",
    "    (df[\"hora\"] >= 0) & (df[\"hora\"] < 8), 0, \n",
    "    np.where((df[\"hora\"] >= 8) & (df[\"hora\"] < 16), 1, 2)\n",
    ")\n",
    "for c in [\"cidade\", \"bairro\", \"logradouro\"]:\n",
    "  df.loc[:, c] = df[c].str.normalize(\"NFKD\").str.encode(\"ascii\",  errors='ignore').str.decode(\"UTF-8\").str.lower()"
   ]
  },
  {
   "cell_type": "code",
   "execution_count": 17,
   "metadata": {},
   "outputs": [],
   "source": [
    "crimes = df[[\"cidade\", \"bairro\", \"logradouro\", \"estacao\", \"hora\", \"mes\", \"dia\", \"periodo\"]]"
   ]
  },
  {
   "cell_type": "code",
   "execution_count": 18,
   "metadata": {},
   "outputs": [
    {
     "data": {
      "text/html": [
       "<div>\n",
       "<style scoped>\n",
       "    .dataframe tbody tr th:only-of-type {\n",
       "        vertical-align: middle;\n",
       "    }\n",
       "\n",
       "    .dataframe tbody tr th {\n",
       "        vertical-align: top;\n",
       "    }\n",
       "\n",
       "    .dataframe thead th {\n",
       "        text-align: right;\n",
       "    }\n",
       "</style>\n",
       "<table border=\"1\" class=\"dataframe\">\n",
       "  <thead>\n",
       "    <tr style=\"text-align: right;\">\n",
       "      <th></th>\n",
       "      <th>cidade</th>\n",
       "      <th>bairro</th>\n",
       "      <th>logradouro</th>\n",
       "      <th>estacao</th>\n",
       "      <th>hora</th>\n",
       "      <th>mes</th>\n",
       "      <th>dia</th>\n",
       "      <th>periodo</th>\n",
       "    </tr>\n",
       "  </thead>\n",
       "  <tbody>\n",
       "    <tr>\n",
       "      <th>3</th>\n",
       "      <td>limeira</td>\n",
       "      <td>vila claudia</td>\n",
       "      <td>avenida antonio ometo</td>\n",
       "      <td>1</td>\n",
       "      <td>0</td>\n",
       "      <td>1</td>\n",
       "      <td>1</td>\n",
       "      <td>0</td>\n",
       "    </tr>\n",
       "    <tr>\n",
       "      <th>4</th>\n",
       "      <td>birigui</td>\n",
       "      <td>chacaras caicara</td>\n",
       "      <td>rua benjamin strozi</td>\n",
       "      <td>1</td>\n",
       "      <td>0</td>\n",
       "      <td>1</td>\n",
       "      <td>1</td>\n",
       "      <td>0</td>\n",
       "    </tr>\n",
       "    <tr>\n",
       "      <th>5</th>\n",
       "      <td>birigui</td>\n",
       "      <td>jardim vitrine</td>\n",
       "      <td>rua silvio vieira coelho</td>\n",
       "      <td>1</td>\n",
       "      <td>0</td>\n",
       "      <td>1</td>\n",
       "      <td>1</td>\n",
       "      <td>0</td>\n",
       "    </tr>\n",
       "    <tr>\n",
       "      <th>17</th>\n",
       "      <td>praia grande</td>\n",
       "      <td>solemar ii</td>\n",
       "      <td>avenida ministro marcos freire</td>\n",
       "      <td>1</td>\n",
       "      <td>0</td>\n",
       "      <td>1</td>\n",
       "      <td>1</td>\n",
       "      <td>0</td>\n",
       "    </tr>\n",
       "    <tr>\n",
       "      <th>18</th>\n",
       "      <td>praia grande</td>\n",
       "      <td>solemar ii</td>\n",
       "      <td>avenida ministro marcos freire</td>\n",
       "      <td>1</td>\n",
       "      <td>0</td>\n",
       "      <td>1</td>\n",
       "      <td>1</td>\n",
       "      <td>0</td>\n",
       "    </tr>\n",
       "  </tbody>\n",
       "</table>\n",
       "</div>"
      ],
      "text/plain": [
       "          cidade            bairro                      logradouro  estacao  \\\n",
       "3        limeira      vila claudia           avenida antonio ometo        1   \n",
       "4        birigui  chacaras caicara             rua benjamin strozi        1   \n",
       "5        birigui    jardim vitrine        rua silvio vieira coelho        1   \n",
       "17  praia grande        solemar ii  avenida ministro marcos freire        1   \n",
       "18  praia grande        solemar ii  avenida ministro marcos freire        1   \n",
       "\n",
       "    hora  mes  dia  periodo  \n",
       "3      0    1    1        0  \n",
       "4      0    1    1        0  \n",
       "5      0    1    1        0  \n",
       "17     0    1    1        0  \n",
       "18     0    1    1        0  "
      ]
     },
     "execution_count": 18,
     "metadata": {},
     "output_type": "execute_result"
    }
   ],
   "source": [
    "crimes.head()"
   ]
  },
  {
   "cell_type": "code",
   "execution_count": 19,
   "metadata": {},
   "outputs": [],
   "source": [
    "to_score = [\"cidade\", \"bairro\", \"logradouro\", \"estacao\", \"hora\", \"mes\", \"dia\", \"periodo\"]\n",
    "scored = []\n",
    "for t in to_score:\n",
    "  grouped = crimes.groupby(t).size().reset_index()\n",
    "  name = f\"{t}_PONTOS\"\n",
    "  scored.append(name)\n",
    "  grouped.rename(columns={0: name}, inplace=True)\n",
    "  crimes = crimes.join(grouped.set_index(t), on=t)"
   ]
  },
  {
   "cell_type": "code",
   "execution_count": 20,
   "metadata": {},
   "outputs": [],
   "source": [
    "crimes[\"pontos\"] = crimes[scored].sum(axis=1)\n",
    "crimes = crimes.drop(columns=scored)"
   ]
  },
  {
   "cell_type": "code",
   "execution_count": 21,
   "metadata": {},
   "outputs": [
    {
     "data": {
      "text/plain": [
       "<AxesSubplot:>"
      ]
     },
     "execution_count": 21,
     "metadata": {},
     "output_type": "execute_result"
    },
    {
     "data": {
      "image/png": "[encoded data removed]",
      "text/plain": [
       "<Figure size 640x480 with 1 Axes>"
      ]
     },
     "metadata": {},
     "output_type": "display_data"
    }
   ],
   "source": [
    "crimes[\"pontos\"].hist()"
   ]
  },
  {
   "cell_type": "code",
   "execution_count": 22,
   "metadata": {},
   "outputs": [
    {
     "data": {
      "image/png": "[encoded data removed]",
      "text/plain": [
       "<Figure size 640x480 with 6 Axes>"
      ]
     },
     "metadata": {},
     "output_type": "display_data"
    }
   ],
   "source": [
    "fig, axs = plt.subplots(3, 2)\n",
    "to_plot = [\"cidade\", \"bairro\", \"mes\", \"dia\", \"periodo\"]\n",
    "for t, ax in zip(to_plot, axs.ravel()):\n",
    "    crimes.groupby(t)[\"pontos\"].sum().sort_values(ascending=False).head().plot(kind=\"barh\", ax=ax)\n",
    "plt.tight_layout()"
   ]
  },
  {
   "cell_type": "code",
   "execution_count": 23,
   "metadata": {},
   "outputs": [
    {
     "name": "stdout",
     "output_type": "stream",
     "text": [
      "Total 20891\n",
      "\n",
      "cidade          30\n",
      "bairro          64\n",
      "logradouro    1414\n",
      "estacao          0\n",
      "hora             0\n",
      "mes              0\n",
      "dia              0\n",
      "periodo          0\n",
      "pontos           0\n",
      "dtype: int64\n",
      "\n",
      "cidade        0.001436\n",
      "bairro        0.003064\n",
      "logradouro    0.067685\n",
      "estacao       0.000000\n",
      "hora          0.000000\n",
      "mes           0.000000\n",
      "dia           0.000000\n",
      "periodo       0.000000\n",
      "pontos        0.000000\n",
      "dtype: float64\n"
     ]
    }
   ],
   "source": [
    "print(f\"Total {crimes.shape[0]}\\n\")\n",
    "print(crimes.isna().sum())\n",
    "print()\n",
    "print(crimes.isna().mean())"
   ]
  },
  {
   "cell_type": "code",
   "execution_count": 24,
   "metadata": {},
   "outputs": [],
   "source": [
    "crimes.dropna(inplace=True)"
   ]
  },
  {
   "cell_type": "code",
   "execution_count": 25,
   "metadata": {},
   "outputs": [],
   "source": [
    "crimes.to_csv(\"furtos_scored.csv\", index=False)"
   ]
  }
 ],
 "metadata": {
  "kernelspec": {
   "display_name": "base",
   "language": "python",
   "name": "python3"
  },
  "language_info": {
   "codemirror_mode": {
    "name": "ipython",
    "version": 3
   },
   "file_extension": ".py",
   "mimetype": "text/x-python",
   "name": "python",
   "nbconvert_exporter": "python",
   "pygments_lexer": "ipython3",
   "version": "3.10.10"
  },
  "orig_nbformat": 4
 },
 "nbformat": 4,
 "nbformat_minor": 2
}
