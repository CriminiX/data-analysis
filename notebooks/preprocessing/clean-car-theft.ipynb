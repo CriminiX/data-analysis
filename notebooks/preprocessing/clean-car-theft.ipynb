{
 "cells": [
  {
   "cell_type": "code",
   "execution_count": 14,
   "id": "c5f4bd8e-31fe-455a-bf0c-53ca978c670e",
   "metadata": {
    "tags": []
   },
   "outputs": [
    {
     "ename": "ImportError",
     "evalue": "cannot import name 'SaveMode' from 'pyspark.sql' (/usr/local/spark/python/pyspark/sql/__init__.py)",
     "output_type": "error",
     "traceback": [
      "\u001b[0;31m\u001b[0m",
      "\u001b[0;31mImportError\u001b[0mTraceback (most recent call last)",
      "Cell \u001b[0;32mIn[14], line 3\u001b[0m\n\u001b[1;32m      1\u001b[0m \u001b[38;5;28;01mfrom\u001b[39;00m \u001b[38;5;21;01mpyspark\u001b[39;00m\u001b[38;5;21;01m.\u001b[39;00m\u001b[38;5;21;01msql\u001b[39;00m\u001b[38;5;21;01m.\u001b[39;00m\u001b[38;5;21;01mtypes\u001b[39;00m \u001b[38;5;28;01mimport\u001b[39;00m \u001b[38;5;241m*\u001b[39m\n\u001b[1;32m      2\u001b[0m \u001b[38;5;28;01mfrom\u001b[39;00m \u001b[38;5;21;01mpyspark\u001b[39;00m\u001b[38;5;21;01m.\u001b[39;00m\u001b[38;5;21;01msql\u001b[39;00m\u001b[38;5;21;01m.\u001b[39;00m\u001b[38;5;21;01mfunctions\u001b[39;00m \u001b[38;5;28;01mimport\u001b[39;00m col, isnan, when, split, regexp_replace, to_date, year, month, dayofmonth, dayofweek, dayofyear, weekofyear, upper, translate, trim\n\u001b[0;32m----> 3\u001b[0m \u001b[38;5;28;01mfrom\u001b[39;00m \u001b[38;5;21;01mpyspark\u001b[39;00m\u001b[38;5;21;01m.\u001b[39;00m\u001b[38;5;21;01msql\u001b[39;00m \u001b[38;5;28;01mimport\u001b[39;00m SaveMode\n\u001b[1;32m      4\u001b[0m \u001b[38;5;28;01mimport\u001b[39;00m \u001b[38;5;21;01mpandas\u001b[39;00m \u001b[38;5;28;01mas\u001b[39;00m \u001b[38;5;21;01mpd\u001b[39;00m\n\u001b[1;32m      5\u001b[0m \u001b[38;5;28;01mimport\u001b[39;00m \u001b[38;5;21;01municodedata\u001b[39;00m\n",
      "\u001b[0;31mImportError\u001b[0m: cannot import name 'SaveMode' from 'pyspark.sql' (/usr/local/spark/python/pyspark/sql/__init__.py)"
     ]
    }
   ],
   "source": [
    "from pyspark.sql.types import *\n",
    "from pyspark.sql.functions import col, isnan, when, split, regexp_replace, to_date, year, month, dayofmonth, dayofweek, dayofyear, weekofyear, upper, translate, trim\n",
    "import pandas as pd\n",
    "import unicodedata\n",
    "from schema import SCHEMA\n",
    "from dataclean_car import Dataclean\n",
    "\n",
    "from pyspark.sql import SparkSession\n",
    "import boto3"
   ]
  },
  {
   "cell_type": "code",
   "execution_count": 5,
   "id": "d61fe755-354b-4d52-bb04-a5b4a18d72a2",
   "metadata": {
    "tags": []
   },
   "outputs": [],
   "source": [
    "# Retrieve AWS credentials from the EC2 instance metadata\n",
    "credentials = boto3.Session().get_credentials()\n",
    "\n",
    "# Configure SparkSession with S3 credentials\n",
    "spark = SparkSession.builder \\\n",
    "    .appName(\"Read CSV from S3 Example\") \\\n",
    "    .config(\"spark.hadoop.fs.s3a.access.key\", credentials.access_key) \\\n",
    "    .config(\"spark.hadoop.fs.s3a.secret.key\", credentials.secret_key) \\\n",
    "    .config(\"spark.hadoop.fs.s3a.session.token\", credentials.token) \\\n",
    "    .config(\"spark.jars.packages\", \"org.apache.hadoop:hadoop-aws:3.3.1\") \\\n",
    "    .getOrCreate()"
   ]
  },
  {
   "cell_type": "code",
   "execution_count": 6,
   "id": "b861cd9c-02b1-49d1-840c-18f558d5ffc7",
   "metadata": {
    "tags": []
   },
   "outputs": [
    {
     "data": {
      "text/plain": [
       "2574991"
      ]
     },
     "execution_count": 6,
     "metadata": {},
     "output_type": "execute_result"
    }
   ],
   "source": [
    "#file = \"s3a://criminix-criminix-raw/car_theft/year=2005/month=07/2005-07-01.xlsx\"\n",
    "files = []\n",
    "s3 = \"s3a://criminix-criminix-raw/\"\n",
    "\n",
    "for year in range(2003,2023):\n",
    "    for month in range(1,13):\n",
    "        filename = f\"{year}-{month:02d}-01.xlsx\"\n",
    "        path = f\"{s3}car_theft/year={year}/month={month:02d}/{filename}\"\n",
    "        files.append(path)\n",
    "\n",
    "df = spark.read.option(\"encoding\", \"utf-16le\").option(\"sep\", \"\\t\").option(\"header\", \"true\").option(\"multiLine\", \"true\").csv(files, schema=SCHEMA)\n",
    "\n",
    "df.count()"
   ]
  },
  {
   "cell_type": "code",
   "execution_count": 7,
   "id": "45a28cbb-30de-428e-ac13-cfe384a137f6",
   "metadata": {},
   "outputs": [],
   "source": [
    "dtcl = Dataclean(df=df)\n",
    "dtcl.drop_columns()\n",
    "dtcl.to_upper_case()\n",
    "dtcl.remove_accents()\n",
    "dtcl.format_dates()\n",
    "dtcl.cast_types()\n",
    "dtcl.format_vehicle_brands_models()\n",
    "dtcl.format_abstence_with_null()\n",
    "dtcl.format_saint_names()\n",
    "dtcl.format_street_name()\n",
    "dtcl.format_cities_names()\n",
    "dtcl.drop_duplicates()\n",
    "dtcl.format_empty_values()"
   ]
  },
  {
   "cell_type": "code",
   "execution_count": 8,
   "id": "c8439429-b2c6-44ac-8e26-be3b5e88fef1",
   "metadata": {
    "tags": []
   },
   "outputs": [
    {
     "data": {
      "text/plain": [
       "1601839"
      ]
     },
     "execution_count": 8,
     "metadata": {},
     "output_type": "execute_result"
    }
   ],
   "source": [
    "dfx = dtcl.get_df()\n",
    "dfx.count()"
   ]
  },
  {
   "cell_type": "code",
   "execution_count": 16,
   "id": "a5f3c6be-321f-43aa-be6d-123c17d1c0ec",
   "metadata": {
    "tags": []
   },
   "outputs": [],
   "source": [
    "s3_clean = \"s3a://criminix-criminix-clean/\"\n",
    "\n",
    "path = f\"{s3_clean}car_theft/car_theft_csv\"\n",
    "dfx.write.option(\"header\", \"true\").mode(\"overwrite\").csv(path)\n",
    "\n",
    "#path = f\"{s3_clean}car_theft/car_theft_parquet\"\n",
    "#dfx.write.option(\"header\", \"true\").parquet(path)"
   ]
  },
  {
   "cell_type": "code",
   "execution_count": 17,
   "id": "08988676-9809-4b64-bf20-986cbf69f341",
   "metadata": {
    "tags": []
   },
   "outputs": [],
   "source": [
    "dfx_latest = dfx.select(col(\"ANO\").isin([2020, 2021, 2022]))\n",
    "\n",
    "s3_clean = \"s3a://criminix-criminix-clean/\"\n",
    "\n",
    "path = f\"{s3_clean}car_theft/car_theft_latest_csv\"\n",
    "dfx_latest.coalesce(1).write.option(\"header\", \"true\").mode(\"overwrite\").csv(path)"
   ]
  }
 ],
 "metadata": {
  "kernelspec": {
   "display_name": "Python 3 (ipykernel)",
   "language": "python",
   "name": "python3"
  },
  "language_info": {
   "codemirror_mode": {
    "name": "ipython",
    "version": 3
   },
   "file_extension": ".py",
   "mimetype": "text/x-python",
   "name": "python",
   "nbconvert_exporter": "python",
   "pygments_lexer": "ipython3",
   "version": "3.10.9"
  }
 },
 "nbformat": 4,
 "nbformat_minor": 5
}
