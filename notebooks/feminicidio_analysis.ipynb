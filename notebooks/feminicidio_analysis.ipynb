{
 "cells": [
  {
   "cell_type": "code",
   "execution_count": 1,
   "id": "baae26c1-9b16-481a-8388-8cffc9127641",
   "metadata": {
    "tags": []
   },
   "outputs": [],
   "source": [
    "import pandas as pd\n",
    "import seaborn as sns\n",
    "import numpy as np\n",
    "import matplotlib.pyplot as plt\n",
    "\n",
    "\n",
    "# Configurando o max_columns no pandas\n",
    "pd.set_option('display.max_columns', 30)\n",
    "pd.set_option('display.max_rows', None)"
   ]
  },
  {
   "cell_type": "markdown",
   "id": "71cc8156-497c-409c-85a2-5ab6f5663bbc",
   "metadata": {},
   "source": [
    "### Analysis de Feminicídio\n",
    "Os dados foram extraídos da Secretaria de Segurança de São Paulo [SSP](http://www.ssp.sp.gov.br/transparenciassp/Consulta.aspx) no perído de 2016-2022"
   ]
  },
  {
   "cell_type": "code",
   "execution_count": 2,
   "id": "34cc799f-6afb-47d9-b2ce-c5e6e3e9c743",
   "metadata": {
    "tags": []
   },
   "outputs": [
    {
     "name": "stderr",
     "output_type": "stream",
     "text": [
      "C:\\Users\\gabriel\\AppData\\Local\\Programs\\Python\\Python39\\lib\\site-packages\\openpyxl\\worksheet\\_reader.py:329: UserWarning: Data Validation extension is not supported and will be removed\n",
      "  warn(msg)\n"
     ]
    }
   ],
   "source": [
    "# Realizando a leitura para cada aba da planilha disponibilizada pela SSP\n",
    "ex_arquivo = pd.ExcelFile(\"C:\\\\Users\\\\gabriel\\\\Desktop\\\\analysis\\\\Dados Feminicidio\\\\Feminicidio_2015_2022.xlsx\")\n",
    "\n",
    "df_2016 = pd.read_excel(ex_arquivo, sheet_name='2016')\n",
    "df_2017 = pd.read_excel(ex_arquivo, sheet_name='2017')\n",
    "df_2018 = pd.read_excel(ex_arquivo, sheet_name='2018')\n",
    "df_2019 = pd.read_excel(ex_arquivo, sheet_name='2019')\n",
    "df_2020 = pd.read_excel(ex_arquivo, sheet_name='2020')\n",
    "df_2021 = pd.read_excel(ex_arquivo, sheet_name='2021')\n",
    "df_2022 = pd.read_excel(ex_arquivo, sheet_name=' 2022')"
   ]
  },
  {
   "cell_type": "code",
   "execution_count": 3,
   "id": "893880e7-823e-4c58-9ad8-12a964e106fc",
   "metadata": {
    "tags": []
   },
   "outputs": [],
   "source": [
    "df = pd.DataFrame()\n",
    "\n",
    "df = pd.concat([df, df_2016])\n",
    "df = pd.concat([df, df_2017])\n",
    "df = pd.concat([df, df_2018])\n",
    "df = pd.concat([df, df_2019])\n",
    "df = pd.concat([df, df_2020])\n",
    "df = pd.concat([df, df_2021])\n",
    "df = pd.concat([df, df_2022])"
   ]
  },
  {
   "cell_type": "code",
   "execution_count": 4,
   "id": "5a27e7cb-72c1-4dd7-93fb-41bd09e23dee",
   "metadata": {
    "tags": []
   },
   "outputs": [
    {
     "data": {
      "text/html": [
       "<div>\n",
       "<style scoped>\n",
       "    .dataframe tbody tr th:only-of-type {\n",
       "        vertical-align: middle;\n",
       "    }\n",
       "\n",
       "    .dataframe tbody tr th {\n",
       "        vertical-align: top;\n",
       "    }\n",
       "\n",
       "    .dataframe thead th {\n",
       "        text-align: right;\n",
       "    }\n",
       "</style>\n",
       "<table border=\"1\" class=\"dataframe\">\n",
       "  <thead>\n",
       "    <tr style=\"text-align: right;\">\n",
       "      <th></th>\n",
       "      <th>DEPARTAMENTO_CIRCUNSCRICAO</th>\n",
       "      <th>SECCIONAL_CIRCUNSCRICAO</th>\n",
       "      <th>MUNICIPIO_CIRCUNSCRICAO</th>\n",
       "      <th>DP_CIRCUNSCRICAO</th>\n",
       "      <th>HD</th>\n",
       "      <th>Nº DE VÍT HD</th>\n",
       "      <th>ID_DELEGACIA</th>\n",
       "      <th>MÊS ESTATISTICA</th>\n",
       "      <th>ANO ESTATISTICA</th>\n",
       "      <th>DATAHORA_REGISTRO_BO</th>\n",
       "      <th>NUM_BO</th>\n",
       "      <th>ANO_BO</th>\n",
       "      <th>MUNICIPIO_ELABORACAO</th>\n",
       "      <th>DP_ELABORACAO</th>\n",
       "      <th>SEC_ELABORACAO</th>\n",
       "      <th>...</th>\n",
       "      <th>DATA_FATO</th>\n",
       "      <th>HORA_FATO</th>\n",
       "      <th>DESC_TIPOLOCAL</th>\n",
       "      <th>LOGRADOURO</th>\n",
       "      <th>NUMERO_LOGRADOURO</th>\n",
       "      <th>LATITUDE</th>\n",
       "      <th>LONGITUDE</th>\n",
       "      <th>TIPO_PESSOA</th>\n",
       "      <th>SEXO_PESSOA</th>\n",
       "      <th>IDADE_PESSOA</th>\n",
       "      <th>DATA_NASCIMENTO_PESSOA</th>\n",
       "      <th>COR_PELE</th>\n",
       "      <th>PROFISSAO</th>\n",
       "      <th>NATUREZA_APURADA</th>\n",
       "      <th>DESDOBRAMENTO</th>\n",
       "    </tr>\n",
       "  </thead>\n",
       "  <tbody>\n",
       "    <tr>\n",
       "      <th>0</th>\n",
       "      <td>DEINTER 4</td>\n",
       "      <td>SEC Bauru</td>\n",
       "      <td>Bauru</td>\n",
       "      <td>001 DP - Bauru</td>\n",
       "      <td>1.0</td>\n",
       "      <td>1</td>\n",
       "      <td>60404</td>\n",
       "      <td>1</td>\n",
       "      <td>2016</td>\n",
       "      <td>2016-01-19</td>\n",
       "      <td>1533</td>\n",
       "      <td>2016</td>\n",
       "      <td>BAURU</td>\n",
       "      <td>CENTRAL POL.JUDICIÁRIA-BAURU</td>\n",
       "      <td>DEL.SEC.BAURU</td>\n",
       "      <td>...</td>\n",
       "      <td>2016-01-19</td>\n",
       "      <td>04:30:00</td>\n",
       "      <td>Residência</td>\n",
       "      <td>DA VEDAÇÃO DA DIVULGAÇÃO DOS DADOS RELATIVOS</td>\n",
       "      <td>NaN</td>\n",
       "      <td>NaN</td>\n",
       "      <td>NaN</td>\n",
       "      <td>Vítima</td>\n",
       "      <td>Feminino</td>\n",
       "      <td>32.0</td>\n",
       "      <td>1983-10-16</td>\n",
       "      <td>Parda</td>\n",
       "      <td>NaN</td>\n",
       "      <td>HOMICÍDIO DOLOSO</td>\n",
       "      <td>Feminicídio-contra a mulher por razões da cond...</td>\n",
       "    </tr>\n",
       "    <tr>\n",
       "      <th>1</th>\n",
       "      <td>DEINTER 4</td>\n",
       "      <td>SEC Bauru</td>\n",
       "      <td>Bauru</td>\n",
       "      <td>001 DP - Bauru</td>\n",
       "      <td>NaN</td>\n",
       "      <td>1</td>\n",
       "      <td>60404</td>\n",
       "      <td>1</td>\n",
       "      <td>2016</td>\n",
       "      <td>2016-01-19</td>\n",
       "      <td>1533</td>\n",
       "      <td>2016</td>\n",
       "      <td>BAURU</td>\n",
       "      <td>CENTRAL POL.JUDICIÁRIA-BAURU</td>\n",
       "      <td>DEL.SEC.BAURU</td>\n",
       "      <td>...</td>\n",
       "      <td>2016-01-19</td>\n",
       "      <td>04:30:00</td>\n",
       "      <td>Residência</td>\n",
       "      <td>DA VEDAÇÃO DA DIVULGAÇÃO DOS DADOS RELATIVOS</td>\n",
       "      <td>NaN</td>\n",
       "      <td>NaN</td>\n",
       "      <td>NaN</td>\n",
       "      <td>Vítima</td>\n",
       "      <td>Feminino</td>\n",
       "      <td>72.0</td>\n",
       "      <td>1943-09-27</td>\n",
       "      <td>Parda</td>\n",
       "      <td>NaN</td>\n",
       "      <td>HOMICÍDIO DOLOSO</td>\n",
       "      <td>Feminicídio-contra a mulher por razões da cond...</td>\n",
       "    </tr>\n",
       "    <tr>\n",
       "      <th>2</th>\n",
       "      <td>DEINTER 4</td>\n",
       "      <td>SEC Bauru</td>\n",
       "      <td>Bauru</td>\n",
       "      <td>001 DP - Bauru</td>\n",
       "      <td>NaN</td>\n",
       "      <td>1</td>\n",
       "      <td>60404</td>\n",
       "      <td>1</td>\n",
       "      <td>2016</td>\n",
       "      <td>2016-01-19</td>\n",
       "      <td>1533</td>\n",
       "      <td>2016</td>\n",
       "      <td>BAURU</td>\n",
       "      <td>CENTRAL POL.JUDICIÁRIA-BAURU</td>\n",
       "      <td>DEL.SEC.BAURU</td>\n",
       "      <td>...</td>\n",
       "      <td>2016-01-19</td>\n",
       "      <td>04:30:00</td>\n",
       "      <td>Residência</td>\n",
       "      <td>DA VEDAÇÃO DA DIVULGAÇÃO DOS DADOS RELATIVOS</td>\n",
       "      <td>NaN</td>\n",
       "      <td>NaN</td>\n",
       "      <td>NaN</td>\n",
       "      <td>Vítima</td>\n",
       "      <td>Feminino</td>\n",
       "      <td>27.0</td>\n",
       "      <td>1988-01-25</td>\n",
       "      <td>Parda</td>\n",
       "      <td>NaN</td>\n",
       "      <td>HOMICÍDIO DOLOSO</td>\n",
       "      <td>Feminicídio-contra a mulher por razões da cond...</td>\n",
       "    </tr>\n",
       "    <tr>\n",
       "      <th>3</th>\n",
       "      <td>DEINTER 2</td>\n",
       "      <td>2ª Seccional Campinas</td>\n",
       "      <td>Campinas</td>\n",
       "      <td>009 DP - Campinas</td>\n",
       "      <td>1.0</td>\n",
       "      <td>1</td>\n",
       "      <td>70942</td>\n",
       "      <td>2</td>\n",
       "      <td>2016</td>\n",
       "      <td>2016-02-12</td>\n",
       "      <td>1168</td>\n",
       "      <td>2016</td>\n",
       "      <td>CAMPINAS</td>\n",
       "      <td>DEL.SEC.2ª CAMPINAS-PLANTÃO</td>\n",
       "      <td>DEL.SEC.2º CAMPINAS</td>\n",
       "      <td>...</td>\n",
       "      <td>2016-02-12</td>\n",
       "      <td>04:15:00</td>\n",
       "      <td>Saúde</td>\n",
       "      <td>AVENIDA RUI RODRIGUES</td>\n",
       "      <td>13000.0</td>\n",
       "      <td>-22.950911</td>\n",
       "      <td>-47.111880</td>\n",
       "      <td>Vítima</td>\n",
       "      <td>Feminino</td>\n",
       "      <td>29.0</td>\n",
       "      <td>1986-10-25</td>\n",
       "      <td>Parda</td>\n",
       "      <td>NaN</td>\n",
       "      <td>HOMICÍDIO DOLOSO</td>\n",
       "      <td>Feminicídio-contra a mulher por razões da cond...</td>\n",
       "    </tr>\n",
       "    <tr>\n",
       "      <th>4</th>\n",
       "      <td>DECAP</td>\n",
       "      <td>4ª SEC</td>\n",
       "      <td>São Paulo</td>\n",
       "      <td>090 DP - Parque Novo Mundo</td>\n",
       "      <td>1.0</td>\n",
       "      <td>1</td>\n",
       "      <td>10336</td>\n",
       "      <td>2</td>\n",
       "      <td>2016</td>\n",
       "      <td>2016-02-07</td>\n",
       "      <td>1393</td>\n",
       "      <td>2016</td>\n",
       "      <td>S.PAULO</td>\n",
       "      <td>73º D.P. JACANA</td>\n",
       "      <td>DEL.SEC.4º NORTE</td>\n",
       "      <td>...</td>\n",
       "      <td>2016-02-07</td>\n",
       "      <td>05:30:00</td>\n",
       "      <td>Via pública</td>\n",
       "      <td>RUA CANAPOLIS</td>\n",
       "      <td>247.0</td>\n",
       "      <td>-23.493130</td>\n",
       "      <td>-46.579755</td>\n",
       "      <td>Vítima</td>\n",
       "      <td>Feminino</td>\n",
       "      <td>39.0</td>\n",
       "      <td>1976-09-29</td>\n",
       "      <td>Branca</td>\n",
       "      <td>NaN</td>\n",
       "      <td>HOMICÍDIO DOLOSO</td>\n",
       "      <td>Feminicídio-contra a mulher por razões da cond...</td>\n",
       "    </tr>\n",
       "  </tbody>\n",
       "</table>\n",
       "<p>5 rows × 31 columns</p>\n",
       "</div>"
      ],
      "text/plain": [
       "  DEPARTAMENTO_CIRCUNSCRICAO SECCIONAL_CIRCUNSCRICAO MUNICIPIO_CIRCUNSCRICAO   \n",
       "0                  DEINTER 4               SEC Bauru                   Bauru  \\\n",
       "1                  DEINTER 4               SEC Bauru                   Bauru   \n",
       "2                  DEINTER 4               SEC Bauru                   Bauru   \n",
       "3                  DEINTER 2   2ª Seccional Campinas                Campinas   \n",
       "4                      DECAP                  4ª SEC               São Paulo   \n",
       "\n",
       "            DP_CIRCUNSCRICAO    HD  Nº DE VÍT HD  ID_DELEGACIA   \n",
       "0              001 DP - Bauru  1.0             1         60404  \\\n",
       "1              001 DP - Bauru  NaN             1         60404   \n",
       "2              001 DP - Bauru  NaN             1         60404   \n",
       "3           009 DP - Campinas  1.0             1         70942   \n",
       "4  090 DP - Parque Novo Mundo  1.0             1         10336   \n",
       "\n",
       "   MÊS ESTATISTICA  ANO ESTATISTICA DATAHORA_REGISTRO_BO NUM_BO  ANO_BO   \n",
       "0                1             2016           2016-01-19   1533    2016  \\\n",
       "1                1             2016           2016-01-19   1533    2016   \n",
       "2                1             2016           2016-01-19   1533    2016   \n",
       "3                2             2016           2016-02-12   1168    2016   \n",
       "4                2             2016           2016-02-07   1393    2016   \n",
       "\n",
       "  MUNICIPIO_ELABORACAO                 DP_ELABORACAO       SEC_ELABORACAO   \n",
       "0                BAURU  CENTRAL POL.JUDICIÁRIA-BAURU        DEL.SEC.BAURU  \\\n",
       "1                BAURU  CENTRAL POL.JUDICIÁRIA-BAURU        DEL.SEC.BAURU   \n",
       "2                BAURU  CENTRAL POL.JUDICIÁRIA-BAURU        DEL.SEC.BAURU   \n",
       "3             CAMPINAS   DEL.SEC.2ª CAMPINAS-PLANTÃO  DEL.SEC.2º CAMPINAS   \n",
       "4              S.PAULO               73º D.P. JACANA     DEL.SEC.4º NORTE   \n",
       "\n",
       "   ...  DATA_FATO HORA_FATO DESC_TIPOLOCAL   \n",
       "0  ... 2016-01-19  04:30:00     Residência  \\\n",
       "1  ... 2016-01-19  04:30:00     Residência   \n",
       "2  ... 2016-01-19  04:30:00     Residência   \n",
       "3  ... 2016-02-12  04:15:00          Saúde   \n",
       "4  ... 2016-02-07  05:30:00    Via pública   \n",
       "\n",
       "                                     LOGRADOURO NUMERO_LOGRADOURO   LATITUDE   \n",
       "0  DA VEDAÇÃO DA DIVULGAÇÃO DOS DADOS RELATIVOS               NaN        NaN  \\\n",
       "1  DA VEDAÇÃO DA DIVULGAÇÃO DOS DADOS RELATIVOS               NaN        NaN   \n",
       "2  DA VEDAÇÃO DA DIVULGAÇÃO DOS DADOS RELATIVOS               NaN        NaN   \n",
       "3                         AVENIDA RUI RODRIGUES           13000.0 -22.950911   \n",
       "4                                 RUA CANAPOLIS             247.0 -23.493130   \n",
       "\n",
       "   LONGITUDE  TIPO_PESSOA SEXO_PESSOA IDADE_PESSOA  DATA_NASCIMENTO_PESSOA   \n",
       "0        NaN       Vítima    Feminino         32.0              1983-10-16  \\\n",
       "1        NaN       Vítima    Feminino         72.0              1943-09-27   \n",
       "2        NaN       Vítima    Feminino         27.0              1988-01-25   \n",
       "3 -47.111880       Vítima    Feminino         29.0              1986-10-25   \n",
       "4 -46.579755       Vítima    Feminino         39.0              1976-09-29   \n",
       "\n",
       "  COR_PELE PROFISSAO  NATUREZA_APURADA   \n",
       "0    Parda       NaN  HOMICÍDIO DOLOSO  \\\n",
       "1    Parda       NaN  HOMICÍDIO DOLOSO   \n",
       "2    Parda       NaN  HOMICÍDIO DOLOSO   \n",
       "3    Parda       NaN  HOMICÍDIO DOLOSO   \n",
       "4   Branca       NaN  HOMICÍDIO DOLOSO   \n",
       "\n",
       "                                       DESDOBRAMENTO  \n",
       "0  Feminicídio-contra a mulher por razões da cond...  \n",
       "1  Feminicídio-contra a mulher por razões da cond...  \n",
       "2  Feminicídio-contra a mulher por razões da cond...  \n",
       "3  Feminicídio-contra a mulher por razões da cond...  \n",
       "4  Feminicídio-contra a mulher por razões da cond...  \n",
       "\n",
       "[5 rows x 31 columns]"
      ]
     },
     "execution_count": 4,
     "metadata": {},
     "output_type": "execute_result"
    }
   ],
   "source": [
    "df.head()"
   ]
  },
  {
   "cell_type": "code",
   "execution_count": 5,
   "id": "939da1b6-6b35-46ea-83b7-9e0dabd01f42",
   "metadata": {
    "tags": []
   },
   "outputs": [
    {
     "data": {
      "text/html": [
       "<div>\n",
       "<style scoped>\n",
       "    .dataframe tbody tr th:only-of-type {\n",
       "        vertical-align: middle;\n",
       "    }\n",
       "\n",
       "    .dataframe tbody tr th {\n",
       "        vertical-align: top;\n",
       "    }\n",
       "\n",
       "    .dataframe thead th {\n",
       "        text-align: right;\n",
       "    }\n",
       "</style>\n",
       "<table border=\"1\" class=\"dataframe\">\n",
       "  <thead>\n",
       "    <tr style=\"text-align: right;\">\n",
       "      <th></th>\n",
       "      <th>DEPARTAMENTO_CIRCUNSCRICAO</th>\n",
       "      <th>SECCIONAL_CIRCUNSCRICAO</th>\n",
       "      <th>MUNICIPIO_CIRCUNSCRICAO</th>\n",
       "      <th>DP_CIRCUNSCRICAO</th>\n",
       "      <th>HD</th>\n",
       "      <th>Nº DE VÍT HD</th>\n",
       "      <th>ID_DELEGACIA</th>\n",
       "      <th>MÊS ESTATISTICA</th>\n",
       "      <th>ANO ESTATISTICA</th>\n",
       "      <th>DATAHORA_REGISTRO_BO</th>\n",
       "      <th>NUM_BO</th>\n",
       "      <th>ANO_BO</th>\n",
       "      <th>MUNICIPIO_ELABORACAO</th>\n",
       "      <th>DP_ELABORACAO</th>\n",
       "      <th>SEC_ELABORACAO</th>\n",
       "      <th>...</th>\n",
       "      <th>DATA_FATO</th>\n",
       "      <th>HORA_FATO</th>\n",
       "      <th>DESC_TIPOLOCAL</th>\n",
       "      <th>LOGRADOURO</th>\n",
       "      <th>NUMERO_LOGRADOURO</th>\n",
       "      <th>LATITUDE</th>\n",
       "      <th>LONGITUDE</th>\n",
       "      <th>TIPO_PESSOA</th>\n",
       "      <th>SEXO_PESSOA</th>\n",
       "      <th>IDADE_PESSOA</th>\n",
       "      <th>DATA_NASCIMENTO_PESSOA</th>\n",
       "      <th>COR_PELE</th>\n",
       "      <th>PROFISSAO</th>\n",
       "      <th>NATUREZA_APURADA</th>\n",
       "      <th>DESDOBRAMENTO</th>\n",
       "    </tr>\n",
       "  </thead>\n",
       "  <tbody>\n",
       "    <tr>\n",
       "      <th>190</th>\n",
       "      <td>DEMACRO</td>\n",
       "      <td>SEC Guarulhos</td>\n",
       "      <td>Guarulhos</td>\n",
       "      <td>004 DP - Guarulhos</td>\n",
       "      <td>1.0</td>\n",
       "      <td>1</td>\n",
       "      <td>30212</td>\n",
       "      <td>12</td>\n",
       "      <td>2022</td>\n",
       "      <td>2022-12-09</td>\n",
       "      <td>5983</td>\n",
       "      <td>2022</td>\n",
       "      <td>GUARULHOS</td>\n",
       "      <td>04º D.P. GUARULHOS</td>\n",
       "      <td>DEL.SEC.GUARULHOS</td>\n",
       "      <td>...</td>\n",
       "      <td>2022-12-09</td>\n",
       "      <td>12:30:00</td>\n",
       "      <td>Saúde</td>\n",
       "      <td>Rua São José do Paraíso</td>\n",
       "      <td>100.0</td>\n",
       "      <td>-23.439885</td>\n",
       "      <td>-46.409521</td>\n",
       "      <td>Vítima</td>\n",
       "      <td>Feminino</td>\n",
       "      <td>28.0</td>\n",
       "      <td>1994-08-18</td>\n",
       "      <td>Parda</td>\n",
       "      <td>NaN</td>\n",
       "      <td>HOMICÍDIO DOLOSO</td>\n",
       "      <td>Feminicídio-contra a mulher por razões da cond...</td>\n",
       "    </tr>\n",
       "    <tr>\n",
       "      <th>191</th>\n",
       "      <td>DEMACRO</td>\n",
       "      <td>SEC Guarulhos</td>\n",
       "      <td>Guarulhos</td>\n",
       "      <td>006 DP - Guarulhos</td>\n",
       "      <td>1.0</td>\n",
       "      <td>1</td>\n",
       "      <td>30216</td>\n",
       "      <td>12</td>\n",
       "      <td>2022</td>\n",
       "      <td>2022-12-07</td>\n",
       "      <td>828</td>\n",
       "      <td>2022</td>\n",
       "      <td>GUARULHOS</td>\n",
       "      <td>06º D.P. GUARULHOS</td>\n",
       "      <td>DEL.SEC.GUARULHOS</td>\n",
       "      <td>...</td>\n",
       "      <td>2022-12-07</td>\n",
       "      <td>11:16:00</td>\n",
       "      <td>Via pública</td>\n",
       "      <td>RUA FONTE BOA</td>\n",
       "      <td>8.0</td>\n",
       "      <td>-23.448946</td>\n",
       "      <td>-46.507070</td>\n",
       "      <td>Vítima</td>\n",
       "      <td>Feminino</td>\n",
       "      <td>37.0</td>\n",
       "      <td>1984-12-08</td>\n",
       "      <td>Parda</td>\n",
       "      <td>OUTROS</td>\n",
       "      <td>HOMICÍDIO DOLOSO</td>\n",
       "      <td>Feminicídio-contra a mulher por razões da cond...</td>\n",
       "    </tr>\n",
       "    <tr>\n",
       "      <th>192</th>\n",
       "      <td>DEMACRO</td>\n",
       "      <td>SEC Guarulhos</td>\n",
       "      <td>Guarulhos</td>\n",
       "      <td>009 DP - Guarulhos</td>\n",
       "      <td>1.0</td>\n",
       "      <td>1</td>\n",
       "      <td>30217</td>\n",
       "      <td>12</td>\n",
       "      <td>2022</td>\n",
       "      <td>2022-12-28</td>\n",
       "      <td>4172</td>\n",
       "      <td>2022</td>\n",
       "      <td>GUARULHOS</td>\n",
       "      <td>07º D.P. GUARULHOS</td>\n",
       "      <td>DEL.SEC.GUARULHOS</td>\n",
       "      <td>...</td>\n",
       "      <td>2022-12-28</td>\n",
       "      <td>DE MADRUGADA</td>\n",
       "      <td>Residência</td>\n",
       "      <td>DA VEDAÇÃO DA DIVULGAÇÃO DOS DADOS RELATIVOS</td>\n",
       "      <td>NaN</td>\n",
       "      <td>NaN</td>\n",
       "      <td>NaN</td>\n",
       "      <td>Vítima</td>\n",
       "      <td>Feminino</td>\n",
       "      <td>28.0</td>\n",
       "      <td>1994-06-21</td>\n",
       "      <td>Parda</td>\n",
       "      <td>NaN</td>\n",
       "      <td>HOMICÍDIO DOLOSO</td>\n",
       "      <td>Feminicídio-contra a mulher por razões da cond...</td>\n",
       "    </tr>\n",
       "    <tr>\n",
       "      <th>193</th>\n",
       "      <td>DEMACRO</td>\n",
       "      <td>SEC Mogi das Cruzes</td>\n",
       "      <td>Ferraz de Vasconcelos</td>\n",
       "      <td>001 DP - Ferraz de Vasconcelos</td>\n",
       "      <td>1.0</td>\n",
       "      <td>1</td>\n",
       "      <td>30302</td>\n",
       "      <td>12</td>\n",
       "      <td>2022</td>\n",
       "      <td>2022-12-29</td>\n",
       "      <td>3650</td>\n",
       "      <td>2022</td>\n",
       "      <td>FERRAZ DE VASCONCELOS</td>\n",
       "      <td>DEL.POL.FERRAZ DE VASCONCELOS</td>\n",
       "      <td>DEL.SEC.MOGI DAS CRUZES</td>\n",
       "      <td>...</td>\n",
       "      <td>2022-12-28</td>\n",
       "      <td>21:17:00</td>\n",
       "      <td>Residência</td>\n",
       "      <td>DA VEDAÇÃO DA DIVULGAÇÃO DOS DADOS RELATIVOS</td>\n",
       "      <td>NaN</td>\n",
       "      <td>NaN</td>\n",
       "      <td>NaN</td>\n",
       "      <td>Vítima</td>\n",
       "      <td>Feminino</td>\n",
       "      <td>2.0</td>\n",
       "      <td>2020-09-01</td>\n",
       "      <td>Parda</td>\n",
       "      <td>NaN</td>\n",
       "      <td>HOMICÍDIO DOLOSO</td>\n",
       "      <td>Feminicídio-contra a mulher por razões da cond...</td>\n",
       "    </tr>\n",
       "    <tr>\n",
       "      <th>194</th>\n",
       "      <td>DEMACRO</td>\n",
       "      <td>SEC Mogi das Cruzes</td>\n",
       "      <td>Ferraz de Vasconcelos</td>\n",
       "      <td>DM - Ferraz de Vasconcelos</td>\n",
       "      <td>1.0</td>\n",
       "      <td>1</td>\n",
       "      <td>10353</td>\n",
       "      <td>12</td>\n",
       "      <td>2022</td>\n",
       "      <td>2022-12-25</td>\n",
       "      <td>7010</td>\n",
       "      <td>2022</td>\n",
       "      <td>S.PAULO</td>\n",
       "      <td>53º D.P. PARQUE DO CARMO</td>\n",
       "      <td>DEL.SEC.MOGI DAS CRUZES</td>\n",
       "      <td>...</td>\n",
       "      <td>2022-12-12</td>\n",
       "      <td>11:00:00</td>\n",
       "      <td>Residência</td>\n",
       "      <td>DA VEDAÇÃO DA DIVULGAÇÃO DOS DADOS RELATIVOS</td>\n",
       "      <td>NaN</td>\n",
       "      <td>NaN</td>\n",
       "      <td>NaN</td>\n",
       "      <td>Vítima</td>\n",
       "      <td>Feminino</td>\n",
       "      <td>23.0</td>\n",
       "      <td>1999-11-27</td>\n",
       "      <td>Branca</td>\n",
       "      <td>NaN</td>\n",
       "      <td>HOMICÍDIO DOLOSO</td>\n",
       "      <td>Feminicídio-contra a mulher por razões da cond...</td>\n",
       "    </tr>\n",
       "  </tbody>\n",
       "</table>\n",
       "<p>5 rows × 31 columns</p>\n",
       "</div>"
      ],
      "text/plain": [
       "    DEPARTAMENTO_CIRCUNSCRICAO SECCIONAL_CIRCUNSCRICAO   \n",
       "190                    DEMACRO           SEC Guarulhos  \\\n",
       "191                    DEMACRO           SEC Guarulhos   \n",
       "192                    DEMACRO           SEC Guarulhos   \n",
       "193                    DEMACRO     SEC Mogi das Cruzes   \n",
       "194                    DEMACRO     SEC Mogi das Cruzes   \n",
       "\n",
       "    MUNICIPIO_CIRCUNSCRICAO               DP_CIRCUNSCRICAO    HD   \n",
       "190               Guarulhos              004 DP - Guarulhos  1.0  \\\n",
       "191               Guarulhos              006 DP - Guarulhos  1.0   \n",
       "192               Guarulhos              009 DP - Guarulhos  1.0   \n",
       "193   Ferraz de Vasconcelos  001 DP - Ferraz de Vasconcelos  1.0   \n",
       "194   Ferraz de Vasconcelos      DM - Ferraz de Vasconcelos  1.0   \n",
       "\n",
       "     Nº DE VÍT HD  ID_DELEGACIA  MÊS ESTATISTICA  ANO ESTATISTICA   \n",
       "190             1         30212               12             2022  \\\n",
       "191             1         30216               12             2022   \n",
       "192             1         30217               12             2022   \n",
       "193             1         30302               12             2022   \n",
       "194             1         10353               12             2022   \n",
       "\n",
       "    DATAHORA_REGISTRO_BO NUM_BO  ANO_BO   MUNICIPIO_ELABORACAO   \n",
       "190           2022-12-09   5983    2022              GUARULHOS  \\\n",
       "191           2022-12-07    828    2022              GUARULHOS   \n",
       "192           2022-12-28   4172    2022              GUARULHOS   \n",
       "193           2022-12-29   3650    2022  FERRAZ DE VASCONCELOS   \n",
       "194           2022-12-25   7010    2022                S.PAULO   \n",
       "\n",
       "                     DP_ELABORACAO           SEC_ELABORACAO  ...  DATA_FATO   \n",
       "190             04º D.P. GUARULHOS        DEL.SEC.GUARULHOS  ... 2022-12-09  \\\n",
       "191             06º D.P. GUARULHOS        DEL.SEC.GUARULHOS  ... 2022-12-07   \n",
       "192             07º D.P. GUARULHOS        DEL.SEC.GUARULHOS  ... 2022-12-28   \n",
       "193  DEL.POL.FERRAZ DE VASCONCELOS  DEL.SEC.MOGI DAS CRUZES  ... 2022-12-28   \n",
       "194       53º D.P. PARQUE DO CARMO  DEL.SEC.MOGI DAS CRUZES  ... 2022-12-12   \n",
       "\n",
       "        HORA_FATO DESC_TIPOLOCAL   \n",
       "190      12:30:00          Saúde  \\\n",
       "191      11:16:00    Via pública   \n",
       "192  DE MADRUGADA     Residência   \n",
       "193      21:17:00     Residência   \n",
       "194      11:00:00     Residência   \n",
       "\n",
       "                                        LOGRADOURO NUMERO_LOGRADOURO   \n",
       "190                        Rua São José do Paraíso             100.0  \\\n",
       "191                                  RUA FONTE BOA               8.0   \n",
       "192  DA VEDAÇÃO DA DIVULGAÇÃO DOS DADOS RELATIVOS                NaN   \n",
       "193  DA VEDAÇÃO DA DIVULGAÇÃO DOS DADOS RELATIVOS                NaN   \n",
       "194  DA VEDAÇÃO DA DIVULGAÇÃO DOS DADOS RELATIVOS                NaN   \n",
       "\n",
       "      LATITUDE  LONGITUDE  TIPO_PESSOA SEXO_PESSOA IDADE_PESSOA   \n",
       "190 -23.439885 -46.409521       Vítima    Feminino         28.0  \\\n",
       "191 -23.448946 -46.507070       Vítima    Feminino         37.0   \n",
       "192        NaN        NaN       Vítima    Feminino         28.0   \n",
       "193        NaN        NaN       Vítima    Feminino          2.0   \n",
       "194        NaN        NaN       Vítima    Feminino         23.0   \n",
       "\n",
       "     DATA_NASCIMENTO_PESSOA COR_PELE PROFISSAO  NATUREZA_APURADA   \n",
       "190              1994-08-18    Parda       NaN  HOMICÍDIO DOLOSO  \\\n",
       "191              1984-12-08    Parda    OUTROS  HOMICÍDIO DOLOSO   \n",
       "192              1994-06-21    Parda       NaN  HOMICÍDIO DOLOSO   \n",
       "193              2020-09-01    Parda       NaN  HOMICÍDIO DOLOSO   \n",
       "194              1999-11-27   Branca       NaN  HOMICÍDIO DOLOSO   \n",
       "\n",
       "                                         DESDOBRAMENTO  \n",
       "190  Feminicídio-contra a mulher por razões da cond...  \n",
       "191  Feminicídio-contra a mulher por razões da cond...  \n",
       "192  Feminicídio-contra a mulher por razões da cond...  \n",
       "193  Feminicídio-contra a mulher por razões da cond...  \n",
       "194  Feminicídio-contra a mulher por razões da cond...  \n",
       "\n",
       "[5 rows x 31 columns]"
      ]
     },
     "execution_count": 5,
     "metadata": {},
     "output_type": "execute_result"
    }
   ],
   "source": [
    "df.tail()"
   ]
  },
  {
   "cell_type": "code",
   "execution_count": 6,
   "id": "770dca7c-aebc-447e-a66b-4c92b6795c4b",
   "metadata": {
    "tags": []
   },
   "outputs": [
    {
     "data": {
      "text/plain": [
       "(1019, 31)"
      ]
     },
     "execution_count": 6,
     "metadata": {},
     "output_type": "execute_result"
    }
   ],
   "source": [
    "df.shape"
   ]
  },
  {
   "cell_type": "code",
   "execution_count": 7,
   "id": "26733178-526c-42fe-8670-4fffda5a4bdf",
   "metadata": {
    "tags": []
   },
   "outputs": [
    {
     "name": "stdout",
     "output_type": "stream",
     "text": [
      "<class 'pandas.core.frame.DataFrame'>\n",
      "Index: 1019 entries, 0 to 194\n",
      "Data columns (total 31 columns):\n",
      " #   Column                      Non-Null Count  Dtype         \n",
      "---  ------                      --------------  -----         \n",
      " 0   DEPARTAMENTO_CIRCUNSCRICAO  1019 non-null   object        \n",
      " 1   SECCIONAL_CIRCUNSCRICAO     1019 non-null   object        \n",
      " 2   MUNICIPIO_CIRCUNSCRICAO     1019 non-null   object        \n",
      " 3   DP_CIRCUNSCRICAO            1019 non-null   object        \n",
      " 4   HD                          973 non-null    float64       \n",
      " 5   Nº DE VÍT HD                1019 non-null   int64         \n",
      " 6   ID_DELEGACIA                1019 non-null   int64         \n",
      " 7   MÊS ESTATISTICA             1019 non-null   int64         \n",
      " 8   ANO ESTATISTICA             1019 non-null   int64         \n",
      " 9   DATAHORA_REGISTRO_BO        1019 non-null   datetime64[ns]\n",
      " 10  NUM_BO                      1019 non-null   object        \n",
      " 11  ANO_BO                      1019 non-null   int64         \n",
      " 12  MUNICIPIO_ELABORACAO        1019 non-null   object        \n",
      " 13  DP_ELABORACAO               1019 non-null   object        \n",
      " 14  SEC_ELABORACAO              1019 non-null   object        \n",
      " 15  DEP_ELABORACAO              1019 non-null   object        \n",
      " 16  DATA_FATO                   1019 non-null   datetime64[ns]\n",
      " 17  HORA_FATO                   1019 non-null   object        \n",
      " 18  DESC_TIPOLOCAL              1019 non-null   object        \n",
      " 19  LOGRADOURO                  1019 non-null   object        \n",
      " 20  NUMERO_LOGRADOURO           331 non-null    float64       \n",
      " 21  LATITUDE                    309 non-null    float64       \n",
      " 22  LONGITUDE                   309 non-null    float64       \n",
      " 23  TIPO_PESSOA                 1019 non-null   object        \n",
      " 24  SEXO_PESSOA                 1019 non-null   object        \n",
      " 25  IDADE_PESSOA                1011 non-null   float64       \n",
      " 26  DATA_NASCIMENTO_PESSOA      1008 non-null   datetime64[ns]\n",
      " 27  COR_PELE                    1019 non-null   object        \n",
      " 28  PROFISSAO                   654 non-null    object        \n",
      " 29  NATUREZA_APURADA            1019 non-null   object        \n",
      " 30  DESDOBRAMENTO               1019 non-null   object        \n",
      "dtypes: datetime64[ns](3), float64(5), int64(5), object(18)\n",
      "memory usage: 254.8+ KB\n"
     ]
    }
   ],
   "source": [
    "df.info()"
   ]
  },
  {
   "cell_type": "code",
   "execution_count": 8,
   "id": "83399c85-aa5b-4652-a5bd-f123d14510cf",
   "metadata": {
    "tags": []
   },
   "outputs": [
    {
     "data": {
      "text/html": [
       "<div>\n",
       "<style scoped>\n",
       "    .dataframe tbody tr th:only-of-type {\n",
       "        vertical-align: middle;\n",
       "    }\n",
       "\n",
       "    .dataframe tbody tr th {\n",
       "        vertical-align: top;\n",
       "    }\n",
       "\n",
       "    .dataframe thead th {\n",
       "        text-align: right;\n",
       "    }\n",
       "</style>\n",
       "<table border=\"1\" class=\"dataframe\">\n",
       "  <thead>\n",
       "    <tr style=\"text-align: right;\">\n",
       "      <th></th>\n",
       "      <th>HD</th>\n",
       "      <th>Nº DE VÍT HD</th>\n",
       "      <th>ID_DELEGACIA</th>\n",
       "      <th>MÊS ESTATISTICA</th>\n",
       "      <th>ANO ESTATISTICA</th>\n",
       "      <th>DATAHORA_REGISTRO_BO</th>\n",
       "      <th>ANO_BO</th>\n",
       "      <th>DATA_FATO</th>\n",
       "      <th>NUMERO_LOGRADOURO</th>\n",
       "      <th>LATITUDE</th>\n",
       "      <th>LONGITUDE</th>\n",
       "      <th>IDADE_PESSOA</th>\n",
       "      <th>DATA_NASCIMENTO_PESSOA</th>\n",
       "    </tr>\n",
       "  </thead>\n",
       "  <tbody>\n",
       "    <tr>\n",
       "      <th>count</th>\n",
       "      <td>973.0</td>\n",
       "      <td>1019.0</td>\n",
       "      <td>1019.000000</td>\n",
       "      <td>1019.000000</td>\n",
       "      <td>1019.000000</td>\n",
       "      <td>1019</td>\n",
       "      <td>1019.000000</td>\n",
       "      <td>1019</td>\n",
       "      <td>331.000000</td>\n",
       "      <td>309.000000</td>\n",
       "      <td>309.000000</td>\n",
       "      <td>1011.000000</td>\n",
       "      <td>1008</td>\n",
       "    </tr>\n",
       "    <tr>\n",
       "      <th>mean</th>\n",
       "      <td>1.0</td>\n",
       "      <td>1.0</td>\n",
       "      <td>65447.876349</td>\n",
       "      <td>6.708538</td>\n",
       "      <td>2019.469087</td>\n",
       "      <td>2019-12-26 02:12:45.506378752</td>\n",
       "      <td>2019.472031</td>\n",
       "      <td>2019-12-25 13:21:15.368007936</td>\n",
       "      <td>1218.589124</td>\n",
       "      <td>-22.886798</td>\n",
       "      <td>-47.053274</td>\n",
       "      <td>35.898121</td>\n",
       "      <td>1983-08-07 10:40:00</td>\n",
       "    </tr>\n",
       "    <tr>\n",
       "      <th>min</th>\n",
       "      <td>1.0</td>\n",
       "      <td>1.0</td>\n",
       "      <td>10101.000000</td>\n",
       "      <td>1.000000</td>\n",
       "      <td>2016.000000</td>\n",
       "      <td>2016-01-19 00:00:00</td>\n",
       "      <td>2016.000000</td>\n",
       "      <td>2016-01-19 00:00:00</td>\n",
       "      <td>0.000000</td>\n",
       "      <td>-24.538717</td>\n",
       "      <td>-52.113980</td>\n",
       "      <td>1.000000</td>\n",
       "      <td>1931-10-26 00:00:00</td>\n",
       "    </tr>\n",
       "    <tr>\n",
       "      <th>25%</th>\n",
       "      <td>1.0</td>\n",
       "      <td>1.0</td>\n",
       "      <td>30126.000000</td>\n",
       "      <td>4.000000</td>\n",
       "      <td>2018.000000</td>\n",
       "      <td>2018-07-29 00:00:00</td>\n",
       "      <td>2018.000000</td>\n",
       "      <td>2018-07-29 00:00:00</td>\n",
       "      <td>20.000000</td>\n",
       "      <td>-23.588189</td>\n",
       "      <td>-47.522510</td>\n",
       "      <td>27.000000</td>\n",
       "      <td>1976-05-17 12:00:00</td>\n",
       "    </tr>\n",
       "    <tr>\n",
       "      <th>50%</th>\n",
       "      <td>1.0</td>\n",
       "      <td>1.0</td>\n",
       "      <td>60405.000000</td>\n",
       "      <td>7.000000</td>\n",
       "      <td>2020.000000</td>\n",
       "      <td>2020-01-14 00:00:00</td>\n",
       "      <td>2020.000000</td>\n",
       "      <td>2020-01-14 00:00:00</td>\n",
       "      <td>135.000000</td>\n",
       "      <td>-23.435339</td>\n",
       "      <td>-46.794108</td>\n",
       "      <td>34.000000</td>\n",
       "      <td>1985-07-30 12:00:00</td>\n",
       "    </tr>\n",
       "    <tr>\n",
       "      <th>75%</th>\n",
       "      <td>1.0</td>\n",
       "      <td>1.0</td>\n",
       "      <td>100409.500000</td>\n",
       "      <td>10.000000</td>\n",
       "      <td>2021.000000</td>\n",
       "      <td>2021-06-04 12:00:00</td>\n",
       "      <td>2021.000000</td>\n",
       "      <td>2021-06-04 12:00:00</td>\n",
       "      <td>643.500000</td>\n",
       "      <td>-22.476922</td>\n",
       "      <td>-46.556460</td>\n",
       "      <td>43.000000</td>\n",
       "      <td>1993-03-01 12:00:00</td>\n",
       "    </tr>\n",
       "    <tr>\n",
       "      <th>max</th>\n",
       "      <td>1.0</td>\n",
       "      <td>1.0</td>\n",
       "      <td>900556.000000</td>\n",
       "      <td>12.000000</td>\n",
       "      <td>2022.000000</td>\n",
       "      <td>2022-12-30 23:32:00</td>\n",
       "      <td>2023.000000</td>\n",
       "      <td>2022-12-29 00:00:00</td>\n",
       "      <td>99999.000000</td>\n",
       "      <td>0.000000</td>\n",
       "      <td>0.000000</td>\n",
       "      <td>88.000000</td>\n",
       "      <td>2020-11-06 00:00:00</td>\n",
       "    </tr>\n",
       "    <tr>\n",
       "      <th>std</th>\n",
       "      <td>0.0</td>\n",
       "      <td>0.0</td>\n",
       "      <td>65426.097613</td>\n",
       "      <td>3.578812</td>\n",
       "      <td>1.842997</td>\n",
       "      <td>NaN</td>\n",
       "      <td>1.847303</td>\n",
       "      <td>NaN</td>\n",
       "      <td>7861.788195</td>\n",
       "      <td>1.596656</td>\n",
       "      <td>2.908912</td>\n",
       "      <td>13.769981</td>\n",
       "      <td>NaN</td>\n",
       "    </tr>\n",
       "  </tbody>\n",
       "</table>\n",
       "</div>"
      ],
      "text/plain": [
       "          HD  Nº DE VÍT HD   ID_DELEGACIA  MÊS ESTATISTICA  ANO ESTATISTICA   \n",
       "count  973.0        1019.0    1019.000000      1019.000000      1019.000000  \\\n",
       "mean     1.0           1.0   65447.876349         6.708538      2019.469087   \n",
       "min      1.0           1.0   10101.000000         1.000000      2016.000000   \n",
       "25%      1.0           1.0   30126.000000         4.000000      2018.000000   \n",
       "50%      1.0           1.0   60405.000000         7.000000      2020.000000   \n",
       "75%      1.0           1.0  100409.500000        10.000000      2021.000000   \n",
       "max      1.0           1.0  900556.000000        12.000000      2022.000000   \n",
       "std      0.0           0.0   65426.097613         3.578812         1.842997   \n",
       "\n",
       "                DATAHORA_REGISTRO_BO       ANO_BO   \n",
       "count                           1019  1019.000000  \\\n",
       "mean   2019-12-26 02:12:45.506378752  2019.472031   \n",
       "min              2016-01-19 00:00:00  2016.000000   \n",
       "25%              2018-07-29 00:00:00  2018.000000   \n",
       "50%              2020-01-14 00:00:00  2020.000000   \n",
       "75%              2021-06-04 12:00:00  2021.000000   \n",
       "max              2022-12-30 23:32:00  2023.000000   \n",
       "std                              NaN     1.847303   \n",
       "\n",
       "                           DATA_FATO  NUMERO_LOGRADOURO    LATITUDE   \n",
       "count                           1019         331.000000  309.000000  \\\n",
       "mean   2019-12-25 13:21:15.368007936        1218.589124  -22.886798   \n",
       "min              2016-01-19 00:00:00           0.000000  -24.538717   \n",
       "25%              2018-07-29 00:00:00          20.000000  -23.588189   \n",
       "50%              2020-01-14 00:00:00         135.000000  -23.435339   \n",
       "75%              2021-06-04 12:00:00         643.500000  -22.476922   \n",
       "max              2022-12-29 00:00:00       99999.000000    0.000000   \n",
       "std                              NaN        7861.788195    1.596656   \n",
       "\n",
       "        LONGITUDE  IDADE_PESSOA DATA_NASCIMENTO_PESSOA  \n",
       "count  309.000000   1011.000000                   1008  \n",
       "mean   -47.053274     35.898121    1983-08-07 10:40:00  \n",
       "min    -52.113980      1.000000    1931-10-26 00:00:00  \n",
       "25%    -47.522510     27.000000    1976-05-17 12:00:00  \n",
       "50%    -46.794108     34.000000    1985-07-30 12:00:00  \n",
       "75%    -46.556460     43.000000    1993-03-01 12:00:00  \n",
       "max      0.000000     88.000000    2020-11-06 00:00:00  \n",
       "std      2.908912     13.769981                    NaN  "
      ]
     },
     "execution_count": 8,
     "metadata": {},
     "output_type": "execute_result"
    }
   ],
   "source": [
    "df.describe()"
   ]
  },
  {
   "cell_type": "markdown",
   "id": "4a22f7a0-2a76-48e3-8a6a-5e60977fbf5f",
   "metadata": {
    "tags": []
   },
   "source": [
    "#### Selecionando apenas colunas que podem gerar insights "
   ]
  },
  {
   "cell_type": "code",
   "execution_count": 9,
   "id": "f4c944c7-e9ef-49fa-8e6f-688a856d33aa",
   "metadata": {
    "tags": []
   },
   "outputs": [],
   "source": [
    "# Selecionando apenas colunas que podem gerar insights \n",
    "df_2 = df[['DEPARTAMENTO_CIRCUNSCRICAO', 'SECCIONAL_CIRCUNSCRICAO', 'MUNICIPIO_CIRCUNSCRICAO', 'DP_CIRCUNSCRICAO ', 'MÊS ESTATISTICA', 'ANO ESTATISTICA', 'DATAHORA_REGISTRO_BO', 'ANO_BO', 'MUNICIPIO_ELABORACAO', 'DP_ELABORACAO', 'SEC_ELABORACAO','HORA_FATO', 'DATA_FATO', 'DESC_TIPOLOCAL', 'LOGRADOURO', 'NUMERO_LOGRADOURO', 'LATITUDE', 'LONGITUDE', 'TIPO_PESSOA', 'SEXO_PESSOA', 'IDADE_PESSOA', 'DATA_NASCIMENTO_PESSOA', 'COR_PELE', 'PROFISSAO', 'NATUREZA_APURADA', 'DESDOBRAMENTO']]"
   ]
  },
  {
   "cell_type": "markdown",
   "id": "6a14c694-c239-4e5f-bb71-279753abb1ac",
   "metadata": {},
   "source": [
    "##### Renomeando as colunas"
   ]
  },
  {
   "cell_type": "code",
   "execution_count": 10,
   "id": "c0a4ffc6-3e25-4eb9-9c62-3636f4aa3e96",
   "metadata": {
    "tags": []
   },
   "outputs": [],
   "source": [
    "df_2 = df_2.rename(columns={'DEPARTAMENTO_CIRCUNSCRICAO': 'departamento_circunscricao', 'SECCIONAL_CIRCUNSCRICAO': 'seccional_circunscricao', 'MUNICIPIO_CIRCUNSCRICAO': 'municipio_circunscricao', 'DP_CIRCUNSCRICAO ': 'dp_circunscricao', 'MÊS ESTATISTICA': 'mes_estatistica', 'ANO ESTATISTICA': 'ano_estatistica', 'DATAHORA_REGISTRO_BO': 'datahora_registro_bo', 'ANO_BO': 'ano_bo',  'MUNICIPIO_ELABORACAO': 'municipio_elaboracao', 'DP_ELABORACAO': 'dp_elaboracao', 'SEC_ELABORACAO': 'sec_elaboracao', 'HORA_FATO': 'hora_fato', 'DATA_FATO': 'data_fato', 'DESC_TIPOLOCAL': 'desc_tipo_local', 'LOGRADOURO': 'logradouro', 'NUMERO_LOGRADOURO': 'num_logradouro', 'LATITUDE': 'latitude', 'LONGITUDE': 'longitude', 'TIPO_PESSOA': 'tp_pessoa', 'SEXO_PESSOA': 'sexo_pessoa', 'IDADE_PESSOA': 'idade_pessoa', 'DATA_NASCIMENTO_PESSOA': 'dt_nascimento_pessoa', 'COR_PELE': 'cor_pele', 'PROFISSAO': 'profissao', 'NATUREZA_APURADA': 'natureza_apurada'})"
   ]
  },
  {
   "cell_type": "code",
   "execution_count": 11,
   "id": "20ab4629-c3ed-4c94-b17a-095d6651befc",
   "metadata": {
    "tags": []
   },
   "outputs": [
    {
     "data": {
      "text/plain": [
       "Index(['departamento_circunscricao', 'seccional_circunscricao',\n",
       "       'municipio_circunscricao', 'dp_circunscricao', 'mes_estatistica',\n",
       "       'ano_estatistica', 'datahora_registro_bo', 'ano_bo',\n",
       "       'municipio_elaboracao', 'dp_elaboracao', 'sec_elaboracao', 'hora_fato',\n",
       "       'data_fato', 'desc_tipo_local', 'logradouro', 'num_logradouro',\n",
       "       'latitude', 'longitude', 'tp_pessoa', 'sexo_pessoa', 'idade_pessoa',\n",
       "       'dt_nascimento_pessoa', 'cor_pele', 'profissao', 'natureza_apurada',\n",
       "       'DESDOBRAMENTO'],\n",
       "      dtype='object')"
      ]
     },
     "execution_count": 11,
     "metadata": {},
     "output_type": "execute_result"
    }
   ],
   "source": [
    "df_2.columns"
   ]
  },
  {
   "cell_type": "markdown",
   "id": "a830abc2-9e1d-4e87-813d-8ea381e6b2de",
   "metadata": {
    "tags": []
   },
   "source": [
    "#### Colunas com campos não preenchidos"
   ]
  },
  {
   "cell_type": "code",
   "execution_count": 12,
   "id": "fdbe70fc-ecaa-43fb-b5dc-4b21b1eac686",
   "metadata": {
    "tags": []
   },
   "outputs": [
    {
     "data": {
      "text/plain": [
       "<Axes: >"
      ]
     },
     "execution_count": 12,
     "metadata": {},
     "output_type": "execute_result"
    },
    {
     "data": {
      "image/png": "[encoded data removed]",
      "text/plain": [
       "<Figure size 500x500 with 1 Axes>"
      ]
     },
     "metadata": {},
     "output_type": "display_data"
    }
   ],
   "source": [
    "percent_missing = df_2.isnull().sum() * 100 / len(df_2)\n",
    "qtde_registros_missing = df_2.isnull().sum()\n",
    "missing_values =  pd.DataFrame({'percent_missing': percent_missing})\n",
    "missing_values.sort_values(by='percent_missing').plot(kind='barh', figsize=(5, 5))"
   ]
  },
  {
   "cell_type": "markdown",
   "id": "e16953b7-6ba9-42da-aece-1fb8b88216a1",
   "metadata": {},
   "source": [
    "### Analisando as variáveis"
   ]
  },
  {
   "cell_type": "markdown",
   "id": "78ee93e8-01fe-48e3-aad3-1f60179d02a4",
   "metadata": {},
   "source": [
    "### Profissão\n",
    "A variável descreve a profissão da vítima catalogada na hora do cadastramento do BO\n",
    "##### Tratamentos\n",
    "1. Valores cadastrados de formas deferentes (Via pública => via publica..)\n",
    "##### Comentários\n",
    "- Esta columna possui cerca de 40% do total da base em valores NULLS, porém podemos utilizar técnica de preenchimento de most_frequent.\n",
    "- A coluna possui um grande preenchimento como \"Não Informada\""
   ]
  },
  {
   "cell_type": "code",
   "execution_count": 13,
   "id": "dcb3f6c0",
   "metadata": {
    "tags": []
   },
   "outputs": [
    {
     "data": {
      "text/plain": [
       "count                    654\n",
       "unique                   104\n",
       "top       PRENDAS DOMESTICAS\n",
       "freq                     102\n",
       "Name: profissao, dtype: object"
      ]
     },
     "execution_count": 13,
     "metadata": {},
     "output_type": "execute_result"
    }
   ],
   "source": [
    "df_2['profissao'].describe()"
   ]
  },
  {
   "cell_type": "code",
   "execution_count": 14,
   "id": "00a7b912",
   "metadata": {
    "tags": []
   },
   "outputs": [
    {
     "data": {
      "text/plain": [
       "profissao\n",
       "False    654\n",
       "True     365\n",
       "Name: count, dtype: int64"
      ]
     },
     "execution_count": 14,
     "metadata": {},
     "output_type": "execute_result"
    }
   ],
   "source": [
    "df_2['profissao'].isna().value_counts()"
   ]
  },
  {
   "cell_type": "code",
   "execution_count": 15,
   "id": "10dee8a5-8f82-4e94-82d4-83f5ce2ee38b",
   "metadata": {
    "tags": []
   },
   "outputs": [
    {
     "data": {
      "text/plain": [
       "<Axes: ylabel='profissao'>"
      ]
     },
     "execution_count": 15,
     "metadata": {},
     "output_type": "execute_result"
    },
    {
     "data": {
      "image/png": "[encoded data removed]",
      "text/plain": [
       "<Figure size 640x480 with 1 Axes>"
      ]
     },
     "metadata": {},
     "output_type": "display_data"
    }
   ],
   "source": [
    "df_2['profissao'].value_counts().head(10).sort_values(ascending=False).plot(kind='barh')"
   ]
  },
  {
   "cell_type": "markdown",
   "id": "f166e3d2",
   "metadata": {},
   "source": [
    "### Data de nascimento da vítima\n",
    "A variável descreve a data de nascimento da vítima\n",
    "\n",
    "#### Comentários\n",
    "1. Existem indivíduos com data de nascimento porém com idade não preenchida"
   ]
  },
  {
   "cell_type": "code",
   "execution_count": 16,
   "id": "17e01e1c",
   "metadata": {
    "tags": []
   },
   "outputs": [
    {
     "data": {
      "text/plain": [
       "count                   1008\n",
       "mean     1983-08-07 10:40:00\n",
       "min      1931-10-26 00:00:00\n",
       "25%      1976-05-17 12:00:00\n",
       "50%      1985-07-30 12:00:00\n",
       "75%      1993-03-01 12:00:00\n",
       "max      2020-11-06 00:00:00\n",
       "Name: dt_nascimento_pessoa, dtype: object"
      ]
     },
     "execution_count": 16,
     "metadata": {},
     "output_type": "execute_result"
    }
   ],
   "source": [
    "df_2['dt_nascimento_pessoa'].describe()"
   ]
  },
  {
   "cell_type": "code",
   "execution_count": 17,
   "id": "dd3dad51",
   "metadata": {
    "tags": []
   },
   "outputs": [
    {
     "data": {
      "text/plain": [
       "dt_nascimento_pessoa\n",
       "False    1008\n",
       "True       11\n",
       "Name: count, dtype: int64"
      ]
     },
     "execution_count": 17,
     "metadata": {},
     "output_type": "execute_result"
    }
   ],
   "source": [
    "df_2['dt_nascimento_pessoa'].isna().value_counts()"
   ]
  },
  {
   "cell_type": "code",
   "execution_count": 18,
   "id": "84559b45",
   "metadata": {
    "tags": []
   },
   "outputs": [
    {
     "data": {
      "text/html": [
       "<div>\n",
       "<style scoped>\n",
       "    .dataframe tbody tr th:only-of-type {\n",
       "        vertical-align: middle;\n",
       "    }\n",
       "\n",
       "    .dataframe tbody tr th {\n",
       "        vertical-align: top;\n",
       "    }\n",
       "\n",
       "    .dataframe thead th {\n",
       "        text-align: right;\n",
       "    }\n",
       "</style>\n",
       "<table border=\"1\" class=\"dataframe\">\n",
       "  <thead>\n",
       "    <tr style=\"text-align: right;\">\n",
       "      <th></th>\n",
       "      <th>departamento_circunscricao</th>\n",
       "      <th>seccional_circunscricao</th>\n",
       "      <th>municipio_circunscricao</th>\n",
       "      <th>dp_circunscricao</th>\n",
       "      <th>mes_estatistica</th>\n",
       "      <th>ano_estatistica</th>\n",
       "      <th>datahora_registro_bo</th>\n",
       "      <th>ano_bo</th>\n",
       "      <th>municipio_elaboracao</th>\n",
       "      <th>dp_elaboracao</th>\n",
       "      <th>sec_elaboracao</th>\n",
       "      <th>hora_fato</th>\n",
       "      <th>data_fato</th>\n",
       "      <th>desc_tipo_local</th>\n",
       "      <th>logradouro</th>\n",
       "      <th>num_logradouro</th>\n",
       "      <th>latitude</th>\n",
       "      <th>longitude</th>\n",
       "      <th>tp_pessoa</th>\n",
       "      <th>sexo_pessoa</th>\n",
       "      <th>idade_pessoa</th>\n",
       "      <th>dt_nascimento_pessoa</th>\n",
       "      <th>cor_pele</th>\n",
       "      <th>profissao</th>\n",
       "      <th>natureza_apurada</th>\n",
       "      <th>DESDOBRAMENTO</th>\n",
       "    </tr>\n",
       "  </thead>\n",
       "  <tbody>\n",
       "    <tr>\n",
       "      <th>41</th>\n",
       "      <td>DEMACRO</td>\n",
       "      <td>SEC Carapicuíba</td>\n",
       "      <td>Itapevi</td>\n",
       "      <td>DM - Itapevi</td>\n",
       "      <td>8</td>\n",
       "      <td>2016</td>\n",
       "      <td>2016-08-14</td>\n",
       "      <td>2016</td>\n",
       "      <td>ITAPEVI</td>\n",
       "      <td>DEL.POL.ITAPEVI</td>\n",
       "      <td>DEL.SEC.CARAPICUIBA</td>\n",
       "      <td>18:31:00</td>\n",
       "      <td>2016-08-14</td>\n",
       "      <td>Residência</td>\n",
       "      <td>DA VEDAÇÃO DA DIVULGAÇÃO DOS DADOS RELATIVOS</td>\n",
       "      <td>NaN</td>\n",
       "      <td>NaN</td>\n",
       "      <td>NaN</td>\n",
       "      <td>Vítima</td>\n",
       "      <td>Feminino</td>\n",
       "      <td>52.0</td>\n",
       "      <td>NaT</td>\n",
       "      <td>Parda</td>\n",
       "      <td>NaN</td>\n",
       "      <td>HOMICÍDIO DOLOSO</td>\n",
       "      <td>Feminicídio-contra a mulher por razões da cond...</td>\n",
       "    </tr>\n",
       "    <tr>\n",
       "      <th>67</th>\n",
       "      <td>DEINTER 4</td>\n",
       "      <td>SEC Bauru</td>\n",
       "      <td>Agudos</td>\n",
       "      <td>DM - Agudos</td>\n",
       "      <td>8</td>\n",
       "      <td>2017</td>\n",
       "      <td>2017-08-14</td>\n",
       "      <td>2017</td>\n",
       "      <td>AGUDOS</td>\n",
       "      <td>DEL.POL.AGUDOS</td>\n",
       "      <td>DEL.SEC.BAURU</td>\n",
       "      <td>23:50:00</td>\n",
       "      <td>2017-08-14</td>\n",
       "      <td>Area não ocupada</td>\n",
       "      <td>ESTRADA AGUDOS/SP X GAUIANAS/SP</td>\n",
       "      <td>NaN</td>\n",
       "      <td>NaN</td>\n",
       "      <td>NaN</td>\n",
       "      <td>Vítima</td>\n",
       "      <td>Feminino</td>\n",
       "      <td>24.0</td>\n",
       "      <td>NaT</td>\n",
       "      <td>Branca</td>\n",
       "      <td>NaN</td>\n",
       "      <td>HOMICÍDIO DOLOSO</td>\n",
       "      <td>Feminicídio-contra a mulher por razões da cond...</td>\n",
       "    </tr>\n",
       "    <tr>\n",
       "      <th>75</th>\n",
       "      <td>DECAP</td>\n",
       "      <td>7ª SEC</td>\n",
       "      <td>São Paulo</td>\n",
       "      <td>062 DP - Ermelino Matarazzo</td>\n",
       "      <td>6</td>\n",
       "      <td>2019</td>\n",
       "      <td>2019-06-13</td>\n",
       "      <td>2019</td>\n",
       "      <td>S.PAULO</td>\n",
       "      <td>24º D.P. PONTE RASA</td>\n",
       "      <td>DEL.SEC.7º ITAQUERA</td>\n",
       "      <td>18:20:00</td>\n",
       "      <td>2019-06-13</td>\n",
       "      <td>Residência</td>\n",
       "      <td>DA VEDAÇÃO DA DIVULGAÇÃO DOS DADOS RELATIVOS</td>\n",
       "      <td>NaN</td>\n",
       "      <td>NaN</td>\n",
       "      <td>NaN</td>\n",
       "      <td>Vítima</td>\n",
       "      <td>Feminino</td>\n",
       "      <td>26.0</td>\n",
       "      <td>NaT</td>\n",
       "      <td>Parda</td>\n",
       "      <td>PRENDAS DOMESTICAS</td>\n",
       "      <td>HOMICÍDIO DOLOSO</td>\n",
       "      <td>Feminicídio-contra a mulher por razões da cond...</td>\n",
       "    </tr>\n",
       "  </tbody>\n",
       "</table>\n",
       "</div>"
      ],
      "text/plain": [
       "   departamento_circunscricao seccional_circunscricao municipio_circunscricao   \n",
       "41                    DEMACRO         SEC Carapicuíba                 Itapevi  \\\n",
       "67                  DEINTER 4               SEC Bauru                  Agudos   \n",
       "75                      DECAP                  7ª SEC               São Paulo   \n",
       "\n",
       "               dp_circunscricao  mes_estatistica  ano_estatistica   \n",
       "41                 DM - Itapevi                8             2016  \\\n",
       "67                  DM - Agudos                8             2017   \n",
       "75  062 DP - Ermelino Matarazzo                6             2019   \n",
       "\n",
       "   datahora_registro_bo  ano_bo municipio_elaboracao        dp_elaboracao   \n",
       "41           2016-08-14    2016              ITAPEVI      DEL.POL.ITAPEVI  \\\n",
       "67           2017-08-14    2017               AGUDOS       DEL.POL.AGUDOS   \n",
       "75           2019-06-13    2019              S.PAULO  24º D.P. PONTE RASA   \n",
       "\n",
       "         sec_elaboracao hora_fato  data_fato   desc_tipo_local   \n",
       "41  DEL.SEC.CARAPICUIBA  18:31:00 2016-08-14        Residência  \\\n",
       "67        DEL.SEC.BAURU  23:50:00 2017-08-14  Area não ocupada   \n",
       "75  DEL.SEC.7º ITAQUERA  18:20:00 2019-06-13        Residência   \n",
       "\n",
       "                                       logradouro  num_logradouro  latitude   \n",
       "41   DA VEDAÇÃO DA DIVULGAÇÃO DOS DADOS RELATIVOS             NaN       NaN  \\\n",
       "67                ESTRADA AGUDOS/SP X GAUIANAS/SP             NaN       NaN   \n",
       "75  DA VEDAÇÃO DA DIVULGAÇÃO DOS DADOS RELATIVOS              NaN       NaN   \n",
       "\n",
       "    longitude tp_pessoa sexo_pessoa  idade_pessoa dt_nascimento_pessoa   \n",
       "41        NaN    Vítima    Feminino          52.0                  NaT  \\\n",
       "67        NaN    Vítima    Feminino          24.0                  NaT   \n",
       "75        NaN    Vítima    Feminino          26.0                  NaT   \n",
       "\n",
       "   cor_pele           profissao  natureza_apurada   \n",
       "41    Parda                 NaN  HOMICÍDIO DOLOSO  \\\n",
       "67   Branca                 NaN  HOMICÍDIO DOLOSO   \n",
       "75    Parda  PRENDAS DOMESTICAS  HOMICÍDIO DOLOSO   \n",
       "\n",
       "                                        DESDOBRAMENTO  \n",
       "41  Feminicídio-contra a mulher por razões da cond...  \n",
       "67  Feminicídio-contra a mulher por razões da cond...  \n",
       "75  Feminicídio-contra a mulher por razões da cond...  "
      ]
     },
     "execution_count": 18,
     "metadata": {},
     "output_type": "execute_result"
    }
   ],
   "source": [
    "df_2[(df_2['dt_nascimento_pessoa'].isna()) & (df_2['idade_pessoa'].notna())].head()"
   ]
  },
  {
   "cell_type": "code",
   "execution_count": 19,
   "id": "8492a8ef",
   "metadata": {
    "tags": []
   },
   "outputs": [
    {
     "name": "stdout",
     "output_type": "stream",
     "text": [
      "Casos com data de nascimento não preenchida mas com idade: 3\n"
     ]
    }
   ],
   "source": [
    "print('Casos com data de nascimento não preenchida mas com idade: '+str(len(df_2[(df_2['dt_nascimento_pessoa'].isna()) & (df_2['idade_pessoa'].notna())])))"
   ]
  },
  {
   "cell_type": "markdown",
   "id": "e91e4ad6",
   "metadata": {},
   "source": [
    "### Idade da vítima\n",
    "A variável descreve idade da vítima"
   ]
  },
  {
   "cell_type": "code",
   "execution_count": 20,
   "id": "7e46aa24",
   "metadata": {
    "tags": []
   },
   "outputs": [
    {
     "data": {
      "text/plain": [
       "count    1011.000000\n",
       "mean       35.898121\n",
       "std        13.769981\n",
       "min         1.000000\n",
       "25%        27.000000\n",
       "50%        34.000000\n",
       "75%        43.000000\n",
       "max        88.000000\n",
       "Name: idade_pessoa, dtype: float64"
      ]
     },
     "execution_count": 20,
     "metadata": {},
     "output_type": "execute_result"
    }
   ],
   "source": [
    "df_2['idade_pessoa'].describe()"
   ]
  },
  {
   "cell_type": "code",
   "execution_count": 21,
   "id": "80132c98",
   "metadata": {
    "tags": []
   },
   "outputs": [
    {
     "data": {
      "text/plain": [
       "idade_pessoa\n",
       "False    1011\n",
       "True        8\n",
       "Name: count, dtype: int64"
      ]
     },
     "execution_count": 21,
     "metadata": {},
     "output_type": "execute_result"
    }
   ],
   "source": [
    "df_2['idade_pessoa'].isna().value_counts()"
   ]
  },
  {
   "cell_type": "code",
   "execution_count": 22,
   "id": "af976f9d",
   "metadata": {
    "tags": []
   },
   "outputs": [],
   "source": [
    "df_idade_notna = df_2[(df_2['idade_pessoa'].notna()) & (df_2['idade_pessoa'] != 'NULL ')]"
   ]
  },
  {
   "cell_type": "code",
   "execution_count": 23,
   "id": "44b1d0fd",
   "metadata": {
    "tags": []
   },
   "outputs": [
    {
     "data": {
      "text/plain": [
       "<Axes: xlabel='idade_pessoa', ylabel='Count'>"
      ]
     },
     "execution_count": 23,
     "metadata": {},
     "output_type": "execute_result"
    },
    {
     "data": {
      "image/png": "[encoded data removed]",
      "text/plain": [
       "<Figure size 640x480 with 1 Axes>"
      ]
     },
     "metadata": {},
     "output_type": "display_data"
    }
   ],
   "source": [
    "sns.histplot(df_idade_notna['idade_pessoa'], bins=10)"
   ]
  },
  {
   "cell_type": "markdown",
   "id": "0abfd632",
   "metadata": {},
   "source": [
    "### Cor da vítima\n",
    "A variável descreve a cor da vítime do crime de homicídio\n",
    "##### Tratamentos\n",
    "1. Valores cadastrados de formas deferentes (Preta => preta)\n",
    "##### Comentários\n",
    "- A variável possui uma grande volumetria em Via pública\n",
    "- Alto preenchimento da coluna, apenas 6 linhas com NULLs"
   ]
  },
  {
   "cell_type": "code",
   "execution_count": 24,
   "id": "2d174806",
   "metadata": {
    "tags": []
   },
   "outputs": [
    {
     "name": "stderr",
     "output_type": "stream",
     "text": [
      "C:\\Users\\gabriel\\AppData\\Local\\Temp\\ipykernel_6524\\2618161973.py:2: SettingWithCopyWarning: \n",
      "A value is trying to be set on a copy of a slice from a DataFrame\n",
      "\n",
      "See the caveats in the documentation: https://pandas.pydata.org/pandas-docs/stable/user_guide/indexing.html#returning-a-view-versus-a-copy\n",
      "  df_2['cor_pele'].loc[df_2['cor_pele'].str.contains(\"pre\")==True] = 'Preta'\n"
     ]
    }
   ],
   "source": [
    "## Tratrando coluna \n",
    "df_2['cor_pele'].loc[df_2['cor_pele'].str.contains(\"pre\")==True] = 'Preta'"
   ]
  },
  {
   "cell_type": "code",
   "execution_count": 25,
   "id": "ad337402",
   "metadata": {
    "tags": []
   },
   "outputs": [
    {
     "data": {
      "text/plain": [
       "count       1019\n",
       "unique         5\n",
       "top       Branca\n",
       "freq         580\n",
       "Name: cor_pele, dtype: object"
      ]
     },
     "execution_count": 25,
     "metadata": {},
     "output_type": "execute_result"
    }
   ],
   "source": [
    "df_2['cor_pele'].describe()"
   ]
  },
  {
   "cell_type": "code",
   "execution_count": 26,
   "id": "d4e81780",
   "metadata": {
    "tags": []
   },
   "outputs": [
    {
     "data": {
      "text/plain": [
       "cor_pele\n",
       "False    1019\n",
       "Name: count, dtype: int64"
      ]
     },
     "execution_count": 26,
     "metadata": {},
     "output_type": "execute_result"
    }
   ],
   "source": [
    "# Valores NULLS\n",
    "df_2['cor_pele'].isna().value_counts()"
   ]
  },
  {
   "cell_type": "code",
   "execution_count": 27,
   "id": "70431957-d9d3-46b4-9300-198876496e2f",
   "metadata": {
    "scrolled": true,
    "tags": []
   },
   "outputs": [
    {
     "data": {
      "text/plain": [
       "cor_pele\n",
       "Branca      580\n",
       "Parda       361\n",
       "Preta        67\n",
       "Ignorada      6\n",
       "Amarela       5\n",
       "Name: count, dtype: int64"
      ]
     },
     "execution_count": 27,
     "metadata": {},
     "output_type": "execute_result"
    }
   ],
   "source": [
    "# Quantidade por valor\n",
    "df_2['cor_pele'].value_counts()"
   ]
  },
  {
   "cell_type": "markdown",
   "id": "72871f01",
   "metadata": {},
   "source": [
    "### Tipo da pessoa\n",
    "A variável descreve a cor da vítime do crime de homicídio\n",
    "##### Tratamentos\n",
    "1. Valores cadastrados de formas deferentes (Vitíma => 'Vitima  ')"
   ]
  },
  {
   "cell_type": "code",
   "execution_count": 28,
   "id": "1626b625",
   "metadata": {
    "tags": []
   },
   "outputs": [
    {
     "data": {
      "text/plain": [
       "count       1019\n",
       "unique         4\n",
       "top       Vítima\n",
       "freq        1016\n",
       "Name: tp_pessoa, dtype: object"
      ]
     },
     "execution_count": 28,
     "metadata": {},
     "output_type": "execute_result"
    }
   ],
   "source": [
    "df_2['tp_pessoa'].describe()"
   ]
  },
  {
   "cell_type": "code",
   "execution_count": 29,
   "id": "562533ff",
   "metadata": {
    "tags": []
   },
   "outputs": [
    {
     "data": {
      "text/plain": [
       "tp_pessoa\n",
       "False    1019\n",
       "Name: count, dtype: int64"
      ]
     },
     "execution_count": 29,
     "metadata": {},
     "output_type": "execute_result"
    }
   ],
   "source": [
    "df_2['tp_pessoa'].isna().value_counts()"
   ]
  },
  {
   "cell_type": "code",
   "execution_count": 30,
   "id": "4855538e",
   "metadata": {
    "tags": []
   },
   "outputs": [
    {
     "data": {
      "text/plain": [
       "tp_pessoa\n",
       "Vítima                  1016\n",
       "Autor/Vitima               1\n",
       "Encontro de Cadáver        1\n",
       "Vítima                     1\n",
       "Name: count, dtype: int64"
      ]
     },
     "execution_count": 30,
     "metadata": {},
     "output_type": "execute_result"
    }
   ],
   "source": [
    "df_2['tp_pessoa'].value_counts()"
   ]
  },
  {
   "cell_type": "code",
   "execution_count": 31,
   "id": "e3f036c1",
   "metadata": {
    "tags": []
   },
   "outputs": [
    {
     "data": {
      "text/plain": [
       "<Axes: ylabel='tp_pessoa'>"
      ]
     },
     "execution_count": 31,
     "metadata": {},
     "output_type": "execute_result"
    },
    {
     "data": {
      "image/png": "[encoded data removed]",
      "text/plain": [
       "<Figure size 640x480 with 1 Axes>"
      ]
     },
     "metadata": {},
     "output_type": "display_data"
    }
   ],
   "source": [
    "df_2['tp_pessoa'].value_counts().head(10).sort_values(ascending=False).plot(kind='barh')"
   ]
  },
  {
   "cell_type": "markdown",
   "id": "07a9ceaf",
   "metadata": {},
   "source": [
    "### Natureza Apurada\n",
    "A variável descreve a natureza do crime, sendo a base de homicídios temos apenas essa opção"
   ]
  },
  {
   "cell_type": "code",
   "execution_count": 32,
   "id": "918f9f7d",
   "metadata": {
    "tags": []
   },
   "outputs": [
    {
     "data": {
      "text/plain": [
       "natureza_apurada\n",
       "HOMICÍDIO DOLOSO    1019\n",
       "Name: count, dtype: int64"
      ]
     },
     "execution_count": 32,
     "metadata": {},
     "output_type": "execute_result"
    }
   ],
   "source": [
    "df_2['natureza_apurada'].value_counts()"
   ]
  },
  {
   "cell_type": "markdown",
   "id": "45572a01",
   "metadata": {},
   "source": [
    "### Ano estatística\n",
    "A variável descreve o ano dos fatos ocorridos"
   ]
  },
  {
   "cell_type": "code",
   "execution_count": 33,
   "id": "76b9daed",
   "metadata": {
    "tags": []
   },
   "outputs": [
    {
     "data": {
      "text/plain": [
       "<Axes: xlabel='ano_estatistica'>"
      ]
     },
     "execution_count": 33,
     "metadata": {},
     "output_type": "execute_result"
    },
    {
     "data": {
      "image/png": "[encoded data removed]",
      "text/plain": [
       "<Figure size 640x480 with 1 Axes>"
      ]
     },
     "metadata": {},
     "output_type": "display_data"
    }
   ],
   "source": [
    "df_ordenado_anomes = df_2.sort_values('ano_estatistica',key=lambda x: pd.to_datetime(x, format='%Y'))\n",
    "df_ordenado_anomes.groupby('ano_estatistica').size().plot(kind='bar')"
   ]
  },
  {
   "cell_type": "markdown",
   "id": "dfd89f21",
   "metadata": {},
   "source": [
    "### Mês estatística\n",
    "A variável descreve o mês em formato numérico dos fatos ocorridos"
   ]
  },
  {
   "cell_type": "code",
   "execution_count": 34,
   "id": "d79fbc69",
   "metadata": {
    "tags": []
   },
   "outputs": [
    {
     "data": {
      "text/plain": [
       "count    1019.000000\n",
       "mean        6.708538\n",
       "std         3.578812\n",
       "min         1.000000\n",
       "25%         4.000000\n",
       "50%         7.000000\n",
       "75%        10.000000\n",
       "max        12.000000\n",
       "Name: mes_estatistica, dtype: float64"
      ]
     },
     "execution_count": 34,
     "metadata": {},
     "output_type": "execute_result"
    }
   ],
   "source": [
    "df_2['mes_estatistica'].describe()"
   ]
  },
  {
   "cell_type": "code",
   "execution_count": 35,
   "id": "a395f0c6",
   "metadata": {
    "tags": []
   },
   "outputs": [
    {
     "data": {
      "text/plain": [
       "mes_estatistica\n",
       "False    1019\n",
       "Name: count, dtype: int64"
      ]
     },
     "execution_count": 35,
     "metadata": {},
     "output_type": "execute_result"
    }
   ],
   "source": [
    "df_2['mes_estatistica'].isna().value_counts()"
   ]
  },
  {
   "cell_type": "markdown",
   "id": "2d3c4bee-7630-45f9-a7b5-ca926a9c868c",
   "metadata": {},
   "source": [
    "#### Observando o mês x ano que mais ocorreram homicídios"
   ]
  },
  {
   "cell_type": "code",
   "execution_count": 36,
   "id": "7ecf1df2-d206-4ab7-aa52-4b087f5f9cdb",
   "metadata": {
    "tags": []
   },
   "outputs": [
    {
     "data": {
      "text/plain": [
       "<Axes: xlabel='mes_estatistica', ylabel='ano_estatistica'>"
      ]
     },
     "execution_count": 36,
     "metadata": {},
     "output_type": "execute_result"
    },
    {
     "data": {
      "image/png": "[encoded data removed]",
      "text/plain": [
       "<Figure size 640x480 with 2 Axes>"
      ]
     },
     "metadata": {},
     "output_type": "display_data"
    }
   ],
   "source": [
    "sns.heatmap(pd.crosstab(df_2['ano_estatistica'], df_2['mes_estatistica']), annot=True, cmap=\"Blues\")"
   ]
  },
  {
   "cell_type": "markdown",
   "id": "a07c92e7-f57b-4315-8f25-328c210136c0",
   "metadata": {
    "tags": []
   },
   "source": [
    "### Hora do Fato\n",
    "A variável descreve a hora do ocorrido\n",
    "\n",
    "##### Tratamentos\n",
    "1 - Existem valores como texto no campo de hora, por exemplo: \"A TARDE\", \"PELA MANHÃ\""
   ]
  },
  {
   "cell_type": "code",
   "execution_count": 37,
   "id": "ab3f39c1-6f6c-41df-9181-abded3cce79f",
   "metadata": {
    "tags": []
   },
   "outputs": [
    {
     "data": {
      "text/plain": [
       "count                1019\n",
       "unique                458\n",
       "top       EM HORA INCERTA\n",
       "freq                   30\n",
       "Name: hora_fato, dtype: object"
      ]
     },
     "execution_count": 37,
     "metadata": {},
     "output_type": "execute_result"
    }
   ],
   "source": [
    "df_2['hora_fato'].describe()"
   ]
  },
  {
   "cell_type": "code",
   "execution_count": 38,
   "id": "28cb71de-a4a5-45c5-a6f0-e6829b7ed1b2",
   "metadata": {
    "tags": []
   },
   "outputs": [
    {
     "data": {
      "text/plain": [
       "0"
      ]
     },
     "execution_count": 38,
     "metadata": {},
     "output_type": "execute_result"
    }
   ],
   "source": [
    "df_2['hora_fato'].isna().sum()"
   ]
  },
  {
   "cell_type": "code",
   "execution_count": 39,
   "id": "855542dd-9f99-495c-90e6-434e82a30c4f",
   "metadata": {
    "tags": []
   },
   "outputs": [
    {
     "data": {
      "text/plain": [
       "hora_fato\n",
       "EM HORA INCERTA    30\n",
       "DE MADRUGADA       29\n",
       "PELA MANHÃ         23\n",
       "23:00:00           14\n",
       "00:00:00           13\n",
       "A TARDE            13\n",
       "19:00:00           13\n",
       "16:00:00           12\n",
       "18:00:00           11\n",
       "07:00:00           11\n",
       "Name: count, dtype: int64"
      ]
     },
     "execution_count": 39,
     "metadata": {},
     "output_type": "execute_result"
    }
   ],
   "source": [
    "df_2['hora_fato'].value_counts().head(10)"
   ]
  },
  {
   "cell_type": "code",
   "execution_count": 40,
   "id": "4f8598e7-6e5a-4b5e-a00e-a052d998ac59",
   "metadata": {
    "tags": []
   },
   "outputs": [
    {
     "data": {
      "text/plain": [
       "0    04:30:00\n",
       "1    04:30:00\n",
       "Name: hora_fato, dtype: object"
      ]
     },
     "execution_count": 40,
     "metadata": {},
     "output_type": "execute_result"
    }
   ],
   "source": [
    "df_2['hora_fato'].head(2)"
   ]
  },
  {
   "cell_type": "markdown",
   "id": "3b5df7ad-655c-43da-84b2-3bcbfaa212ea",
   "metadata": {},
   "source": [
    "### Data do Fato"
   ]
  },
  {
   "cell_type": "code",
   "execution_count": 41,
   "id": "fcd05a04-bd41-4228-bc74-56761058f1f1",
   "metadata": {},
   "outputs": [
    {
     "data": {
      "text/plain": [
       "count                             1019\n",
       "mean     2019-12-25 13:21:15.368007936\n",
       "min                2016-01-19 00:00:00\n",
       "25%                2018-07-29 00:00:00\n",
       "50%                2020-01-14 00:00:00\n",
       "75%                2021-06-04 12:00:00\n",
       "max                2022-12-29 00:00:00\n",
       "Name: data_fato, dtype: object"
      ]
     },
     "execution_count": 41,
     "metadata": {},
     "output_type": "execute_result"
    }
   ],
   "source": [
    "df_2['data_fato'].describe()"
   ]
  },
  {
   "cell_type": "code",
   "execution_count": 42,
   "id": "7ea219e8-0a7f-4f36-b890-470e5674d4e8",
   "metadata": {
    "tags": []
   },
   "outputs": [
    {
     "data": {
      "text/plain": [
       "0"
      ]
     },
     "execution_count": 42,
     "metadata": {},
     "output_type": "execute_result"
    }
   ],
   "source": [
    "df_2['data_fato'].isna().sum()"
   ]
  },
  {
   "cell_type": "code",
   "execution_count": 43,
   "id": "dff496ee-31ad-4ca6-9b9a-f451d66a4a54",
   "metadata": {
    "tags": []
   },
   "outputs": [
    {
     "data": {
      "text/plain": [
       "data_fato\n",
       "2017-01-01    10\n",
       "2020-12-21     4\n",
       "2020-03-15     4\n",
       "2022-10-08     4\n",
       "2022-01-18     4\n",
       "Name: count, dtype: int64"
      ]
     },
     "execution_count": 43,
     "metadata": {},
     "output_type": "execute_result"
    }
   ],
   "source": [
    "df_2['data_fato'].value_counts().head(5)"
   ]
  },
  {
   "cell_type": "markdown",
   "id": "919b5a7f",
   "metadata": {},
   "source": [
    "### Seccional Circunscricao\n",
    "A variável descreve a delegacia responsável pela investigação do crime\n",
    "#### Tratamentos\n",
    "1. Possívelmente retirar espaços em ltrim() e rtrim()"
   ]
  },
  {
   "cell_type": "code",
   "execution_count": 44,
   "id": "d349f1a9",
   "metadata": {
    "tags": []
   },
   "outputs": [
    {
     "data": {
      "text/plain": [
       "count       1019\n",
       "unique        71\n",
       "top       6ª SEC\n",
       "freq          50\n",
       "Name: seccional_circunscricao, dtype: object"
      ]
     },
     "execution_count": 44,
     "metadata": {},
     "output_type": "execute_result"
    }
   ],
   "source": [
    "df_2['seccional_circunscricao'].describe()"
   ]
  },
  {
   "cell_type": "code",
   "execution_count": 45,
   "id": "c143003f",
   "metadata": {
    "tags": []
   },
   "outputs": [
    {
     "data": {
      "text/plain": [
       "seccional_circunscricao\n",
       "False    1019\n",
       "Name: count, dtype: int64"
      ]
     },
     "execution_count": 45,
     "metadata": {},
     "output_type": "execute_result"
    }
   ],
   "source": [
    "df_2['seccional_circunscricao'].isna().value_counts()"
   ]
  },
  {
   "cell_type": "code",
   "execution_count": 46,
   "id": "b2aa2afe",
   "metadata": {
    "tags": []
   },
   "outputs": [
    {
     "data": {
      "text/plain": [
       "seccional_circunscricao\n",
       "6ª SEC                   50\n",
       "SEC Carapicuíba          39\n",
       "SEC Sorocaba             38\n",
       "SEC Mogi das Cruzes      36\n",
       "7ª SEC                   34\n",
       "8ª SEC                   32\n",
       "4ª SEC                   32\n",
       "SEC Guarulhos            32\n",
       "3ª SEC                   30\n",
       "1ª Seccional Campinas    27\n",
       "2ª Seccional Campinas    26\n",
       "SEC Santo André          25\n",
       "SEC Bauru                24\n",
       "SEC Osasco               22\n",
       "SEC Araraquara           21\n",
       "Name: count, dtype: int64"
      ]
     },
     "execution_count": 46,
     "metadata": {},
     "output_type": "execute_result"
    }
   ],
   "source": [
    "df_2['seccional_circunscricao'].value_counts().head(15)"
   ]
  },
  {
   "cell_type": "code",
   "execution_count": 47,
   "id": "bd94bb14",
   "metadata": {
    "tags": []
   },
   "outputs": [
    {
     "data": {
      "text/plain": [
       "<Axes: ylabel='count'>"
      ]
     },
     "execution_count": 47,
     "metadata": {},
     "output_type": "execute_result"
    },
    {
     "data": {
      "image/png": "[encoded data removed]",
      "text/plain": [
       "<Figure size 640x480 with 1 Axes>"
      ]
     },
     "metadata": {},
     "output_type": "display_data"
    }
   ],
   "source": [
    "df_2['seccional_circunscricao'].value_counts().head(7).sort_values(ascending=False).plot.pie()"
   ]
  },
  {
   "cell_type": "markdown",
   "id": "b1818ebd",
   "metadata": {},
   "source": [
    "### Municipio Circunscricao\n",
    "A variável descreve o municipio onde está localizado a Delegacia de polícia responsável pela investigação do crime\n",
    "##### Tratamentos\n",
    "1. Possívelmente retirar espaços em ltrim() e rtrim()"
   ]
  },
  {
   "cell_type": "code",
   "execution_count": 48,
   "id": "5e8f855d",
   "metadata": {
    "tags": []
   },
   "outputs": [
    {
     "data": {
      "text/plain": [
       "count          1019\n",
       "unique          260\n",
       "top       São Paulo\n",
       "freq            226\n",
       "Name: municipio_circunscricao, dtype: object"
      ]
     },
     "execution_count": 48,
     "metadata": {},
     "output_type": "execute_result"
    }
   ],
   "source": [
    "df_2['municipio_circunscricao'].describe()"
   ]
  },
  {
   "cell_type": "code",
   "execution_count": 49,
   "id": "6e8d22f7",
   "metadata": {
    "tags": []
   },
   "outputs": [
    {
     "data": {
      "text/plain": [
       "municipio_circunscricao\n",
       "False    1019\n",
       "Name: count, dtype: int64"
      ]
     },
     "execution_count": 49,
     "metadata": {},
     "output_type": "execute_result"
    }
   ],
   "source": [
    "df_2['municipio_circunscricao'].isna().value_counts()"
   ]
  },
  {
   "cell_type": "code",
   "execution_count": 50,
   "id": "7aa6b7e8",
   "metadata": {
    "tags": []
   },
   "outputs": [
    {
     "data": {
      "text/plain": [
       "municipio_circunscricao\n",
       "São Paulo                226\n",
       "Campinas                  47\n",
       "Guarulhos                 27\n",
       "Osasco                    22\n",
       "Sorocaba                  18\n",
       "Ribeirão Preto            14\n",
       "Bauru                     12\n",
       "São José dos Campos       12\n",
       "Santo André               12\n",
       "Mauá                      11\n",
       "Piracicaba                11\n",
       "Itaquaquecetuba           10\n",
       "São Bernardo do Campo     10\n",
       "São José do Rio Preto     10\n",
       "Limeira                    9\n",
       "Name: count, dtype: int64"
      ]
     },
     "execution_count": 50,
     "metadata": {},
     "output_type": "execute_result"
    }
   ],
   "source": [
    "df_2['municipio_circunscricao'].value_counts().head(15)"
   ]
  },
  {
   "cell_type": "markdown",
   "id": "246ec8fd",
   "metadata": {},
   "source": [
    "### DP Circunscricao\n",
    "A variável descrive a delegacia de policia responsável pela investigação do crime\n",
    "##### Tratamentos\n",
    "1. Possívelmente retirar espaços em ltrim() e rtrim()"
   ]
  },
  {
   "cell_type": "code",
   "execution_count": 51,
   "id": "c6fef441",
   "metadata": {
    "tags": []
   },
   "outputs": [
    {
     "data": {
      "text/plain": [
       "count                       1019\n",
       "unique                       492\n",
       "top       047 DP - Capão Redondo\n",
       "freq                          14\n",
       "Name: dp_circunscricao, dtype: object"
      ]
     },
     "execution_count": 51,
     "metadata": {},
     "output_type": "execute_result"
    }
   ],
   "source": [
    "df_2['dp_circunscricao'].describe()"
   ]
  },
  {
   "cell_type": "code",
   "execution_count": 52,
   "id": "c3845b5b",
   "metadata": {
    "tags": []
   },
   "outputs": [
    {
     "data": {
      "text/plain": [
       "dp_circunscricao\n",
       "False    1019\n",
       "Name: count, dtype: int64"
      ]
     },
     "execution_count": 52,
     "metadata": {},
     "output_type": "execute_result"
    }
   ],
   "source": [
    "df_2['dp_circunscricao'].isna().value_counts()"
   ]
  },
  {
   "cell_type": "code",
   "execution_count": 53,
   "id": "cfe0c368",
   "metadata": {
    "tags": []
   },
   "outputs": [
    {
     "data": {
      "text/plain": [
       "dp_circunscricao\n",
       "047 DP - Capão Redondo         14\n",
       "003 DP - Campinas              12\n",
       "025 DP - Parelheiros           11\n",
       "009 DP - Campinas               9\n",
       "100 DP - Jardim Herculano       9\n",
       "DM - Itaquaquecetuba            7\n",
       "062 DP - Ermelino Matarazzo     7\n",
       "073 DP - Jaçanã                 7\n",
       "006 DP - Santo André            7\n",
       "011 DP - Campinas               7\n",
       "046 DP - Perus                  7\n",
       "DM - Ubatuba                    6\n",
       "069 DP - Teotônio Vilela        6\n",
       "DM - Itapevi                    6\n",
       "024 DP - Ponte Rasa             6\n",
       "Name: count, dtype: int64"
      ]
     },
     "execution_count": 53,
     "metadata": {},
     "output_type": "execute_result"
    }
   ],
   "source": [
    "df_2['dp_circunscricao'].value_counts().head(15)"
   ]
  },
  {
   "cell_type": "markdown",
   "id": "ebabddb2",
   "metadata": {},
   "source": [
    "### Departamento Circunscricao\n",
    "A variável descreve o departamento responsável pela investigação do crime"
   ]
  },
  {
   "cell_type": "code",
   "execution_count": 54,
   "id": "f930abc9",
   "metadata": {
    "tags": []
   },
   "outputs": [
    {
     "data": {
      "text/plain": [
       "count      1019\n",
       "unique       12\n",
       "top       DECAP\n",
       "freq        226\n",
       "Name: departamento_circunscricao, dtype: object"
      ]
     },
     "execution_count": 54,
     "metadata": {},
     "output_type": "execute_result"
    }
   ],
   "source": [
    "df_2['departamento_circunscricao'].describe()"
   ]
  },
  {
   "cell_type": "code",
   "execution_count": 55,
   "id": "314d00a3",
   "metadata": {
    "tags": []
   },
   "outputs": [
    {
     "data": {
      "text/plain": [
       "departamento_circunscricao\n",
       "False    1019\n",
       "Name: count, dtype: int64"
      ]
     },
     "execution_count": 55,
     "metadata": {},
     "output_type": "execute_result"
    }
   ],
   "source": [
    "df_2['departamento_circunscricao'].isna().value_counts()"
   ]
  },
  {
   "cell_type": "code",
   "execution_count": 56,
   "id": "359bf1a5",
   "metadata": {
    "tags": []
   },
   "outputs": [
    {
     "data": {
      "text/plain": [
       "departamento_circunscricao\n",
       "DECAP         226\n",
       "DEMACRO       212\n",
       "DEINTER 3     109\n",
       "DEINTER 2     100\n",
       "DEINTER 9      71\n",
       "DEINTER 4      68\n",
       "DEINTER 7      63\n",
       "DEINTER 1      46\n",
       "DEINTER 5      44\n",
       "DEINTER 6      34\n",
       "DEINTER 8      30\n",
       "DEINTER 10     16\n",
       "Name: count, dtype: int64"
      ]
     },
     "execution_count": 56,
     "metadata": {},
     "output_type": "execute_result"
    }
   ],
   "source": [
    "df_2['departamento_circunscricao'].value_counts()"
   ]
  },
  {
   "cell_type": "markdown",
   "id": "bc4adf66",
   "metadata": {},
   "source": [
    "### Logradouro\n",
    "A variável descreve o logradouro onde ocorreu crime de homicídio \n",
    "##### Tratamentos\n",
    "1. Possívelmente retirar espaços em ltrim() e rtrim()\n",
    "\n",
    "##### Comentários\n",
    "A variável possui valores aparentetemente com limitação/bloqueio de divulgação de informações \"DA VEDAÇÃO DA DIVULGAÇÃO DOS DADOS RELATIVOS\""
   ]
  },
  {
   "cell_type": "code",
   "execution_count": 57,
   "id": "a604108e",
   "metadata": {
    "tags": []
   },
   "outputs": [
    {
     "data": {
      "text/plain": [
       "count                                              1019\n",
       "unique                                              328\n",
       "top       DA VEDAÇÃO DA DIVULGAÇÃO DOS DADOS RELATIVOS \n",
       "freq                                                648\n",
       "Name: logradouro, dtype: object"
      ]
     },
     "execution_count": 57,
     "metadata": {},
     "output_type": "execute_result"
    }
   ],
   "source": [
    "df_2['logradouro'].describe()"
   ]
  },
  {
   "cell_type": "code",
   "execution_count": 58,
   "id": "e0f5e9e2",
   "metadata": {
    "tags": []
   },
   "outputs": [
    {
     "data": {
      "text/plain": [
       "logradouro\n",
       "False    1019\n",
       "Name: count, dtype: int64"
      ]
     },
     "execution_count": 58,
     "metadata": {},
     "output_type": "execute_result"
    }
   ],
   "source": [
    "df_2['logradouro'].isna().value_counts()"
   ]
  },
  {
   "cell_type": "code",
   "execution_count": 59,
   "id": "0ca88454",
   "metadata": {
    "tags": []
   },
   "outputs": [
    {
     "data": {
      "text/plain": [
       "logradouro\n",
       "DA VEDAÇÃO DA DIVULGAÇÃO DOS DADOS RELATIVOS     648\n",
       "DA VEDAÇÃO DA DIVULGAÇÃO DOS DADOS RELATIVOS      39\n",
       "CHÁCARA DOS IPES                                   2\n",
       "RUA APÓSTOLO SIMÃO PEDRO                           2\n",
       "RUA LUIS GOIS                                      2\n",
       "RUA TIRIGI BASTIA                                  2\n",
       "RUA DA FE                                          2\n",
       "AVENIDA JOAQUIM LOPES ÁGUILA                       2\n",
       "RUA MONSENHOR ANDRADE                              1\n",
       "ESTRADA DO MARENGO                                 1\n",
       "RUA JORGE TOME                                     1\n",
       "RUA estevan peres alvarez                          1\n",
       "RUA raul seixas                                    1\n",
       "AVENIDA FERNANDO FIGUEIREDO LINS                   1\n",
       "RUA GERCINO GOMES DA SILVA                         1\n",
       "PRAÇA ATALIBA LEONEL                               1\n",
       "RUA PICA-PAU                                       1\n",
       "ALAMEDA OLGA                                       1\n",
       "RUA sete                                           1\n",
       "RUA FLORIANO PEIXOTO                               1\n",
       "Name: count, dtype: int64"
      ]
     },
     "execution_count": 59,
     "metadata": {},
     "output_type": "execute_result"
    }
   ],
   "source": [
    "df_2['logradouro'].value_counts().head(20)"
   ]
  },
  {
   "cell_type": "markdown",
   "id": "176ebd17",
   "metadata": {},
   "source": [
    "### Número do Logradouro\n",
    "Variável contendo o número do logradouro onde ocorreu crime de homicídio \n",
    "\n",
    "\n",
    "\n",
    "##### Comentários\n",
    "Existem números como \"9999.0\" que podem ser considerados com \"faltantes\""
   ]
  },
  {
   "cell_type": "code",
   "execution_count": 60,
   "id": "f891cbdf",
   "metadata": {
    "tags": []
   },
   "outputs": [
    {
     "data": {
      "text/plain": [
       "count      331.000000\n",
       "mean      1218.589124\n",
       "std       7861.788195\n",
       "min          0.000000\n",
       "25%         20.000000\n",
       "50%        135.000000\n",
       "75%        643.500000\n",
       "max      99999.000000\n",
       "Name: num_logradouro, dtype: float64"
      ]
     },
     "execution_count": 60,
     "metadata": {},
     "output_type": "execute_result"
    }
   ],
   "source": [
    "df_2['num_logradouro'].describe()"
   ]
  },
  {
   "cell_type": "code",
   "execution_count": 61,
   "id": "b0bc4f06",
   "metadata": {},
   "outputs": [
    {
     "data": {
      "text/plain": [
       "num_logradouro\n",
       "True     688\n",
       "False    331\n",
       "Name: count, dtype: int64"
      ]
     },
     "execution_count": 61,
     "metadata": {},
     "output_type": "execute_result"
    }
   ],
   "source": [
    "df_2['num_logradouro'].isna().value_counts()"
   ]
  },
  {
   "cell_type": "code",
   "execution_count": 62,
   "id": "10f00f13",
   "metadata": {},
   "outputs": [
    {
     "data": {
      "text/plain": [
       "num_logradouro\n",
       "1.0       36\n",
       "0.0       25\n",
       "100.0      6\n",
       "10.0       5\n",
       "20.0       4\n",
       "8.0        4\n",
       "200.0      4\n",
       "98.0       3\n",
       "265.0      3\n",
       "50.0       3\n",
       "85.0       2\n",
       "63.0       2\n",
       "281.0      2\n",
       "1480.0     2\n",
       "520.0      2\n",
       "26.0       2\n",
       "3.0        2\n",
       "70.0       2\n",
       "40.0       2\n",
       "47.0       2\n",
       "Name: count, dtype: int64"
      ]
     },
     "execution_count": 62,
     "metadata": {},
     "output_type": "execute_result"
    }
   ],
   "source": [
    "df_2['num_logradouro'].value_counts().head(20)"
   ]
  },
  {
   "cell_type": "markdown",
   "id": "9f00c3ce",
   "metadata": {},
   "source": [
    "### Descrição do tipo local\n",
    "A variável descreve o local do crime ocorrido\n",
    "##### Tratamentos\n",
    "1. Valores cadastrados de formas deferentes (Via pública => via publica..)\n",
    "2. Possívelmente retirar espaços em ltrim() e rtrim()\n",
    "##### Comentários\n",
    "A variável possui uma grande volumetria em Via pública e cerca de 6 linhas nulas"
   ]
  },
  {
   "cell_type": "code",
   "execution_count": 63,
   "id": "71bcb352",
   "metadata": {
    "tags": []
   },
   "outputs": [
    {
     "data": {
      "text/plain": [
       "count           1019\n",
       "unique            19\n",
       "top       Residência\n",
       "freq             673\n",
       "Name: desc_tipo_local, dtype: object"
      ]
     },
     "execution_count": 63,
     "metadata": {},
     "output_type": "execute_result"
    }
   ],
   "source": [
    "df_2['desc_tipo_local'].describe()"
   ]
  },
  {
   "cell_type": "code",
   "execution_count": 64,
   "id": "f1e629df",
   "metadata": {
    "tags": []
   },
   "outputs": [
    {
     "data": {
      "text/plain": [
       "desc_tipo_local\n",
       "False    1019\n",
       "Name: count, dtype: int64"
      ]
     },
     "execution_count": 64,
     "metadata": {},
     "output_type": "execute_result"
    }
   ],
   "source": [
    "df_2['desc_tipo_local'].isna().value_counts()"
   ]
  },
  {
   "cell_type": "code",
   "execution_count": 65,
   "id": "aef1f2ef",
   "metadata": {
    "tags": []
   },
   "outputs": [
    {
     "data": {
      "text/plain": [
       "desc_tipo_local\n",
       "Residência                   673\n",
       "Via pública                  221\n",
       "Comércio e serviços           23\n",
       "Unidade rural                 22\n",
       "Area não ocupada              15\n",
       "Saúde                         13\n",
       "Hospedagem                    11\n",
       "Condominio Residencial         9\n",
       "Rodovia/Estrada                8\n",
       "Restaurante e afins            6\n",
       "Lazer e recreação              5\n",
       "Escritório                     3\n",
       "Estabelecimento prisional      3\n",
       "Favela                         2\n",
       "Serviços e bens públicos       1\n",
       "Condominio Comercial           1\n",
       "Templo e afins                 1\n",
       "Repartição Pública             1\n",
       "Estabelecimento de ensino      1\n",
       "Name: count, dtype: int64"
      ]
     },
     "execution_count": 65,
     "metadata": {},
     "output_type": "execute_result"
    }
   ],
   "source": [
    "df_2['desc_tipo_local'].value_counts()"
   ]
  },
  {
   "cell_type": "code",
   "execution_count": 66,
   "id": "8bcb2f81",
   "metadata": {
    "tags": []
   },
   "outputs": [
    {
     "name": "stderr",
     "output_type": "stream",
     "text": [
      "C:\\Users\\gabriel\\AppData\\Local\\Temp\\ipykernel_6524\\2806489551.py:2: SettingWithCopyWarning: \n",
      "A value is trying to be set on a copy of a slice from a DataFrame\n",
      "\n",
      "See the caveats in the documentation: https://pandas.pydata.org/pandas-docs/stable/user_guide/indexing.html#returning-a-view-versus-a-copy\n",
      "  df_2['desc_tipo_local'].loc[df_2['desc_tipo_local'].str.contains(\"Via p\")==True] = 'Via pública'\n"
     ]
    }
   ],
   "source": [
    "## Tratrando coluna \n",
    "df_2['desc_tipo_local'].loc[df_2['desc_tipo_local'].str.contains(\"Via p\")==True] = 'Via pública'"
   ]
  },
  {
   "cell_type": "code",
   "execution_count": 67,
   "id": "e55fc79e",
   "metadata": {
    "tags": []
   },
   "outputs": [
    {
     "data": {
      "text/plain": [
       "<Axes: ylabel='count'>"
      ]
     },
     "execution_count": 67,
     "metadata": {},
     "output_type": "execute_result"
    },
    {
     "data": {
      "image/png": "[encoded data removed]",
      "text/plain": [
       "<Figure size 640x480 with 1 Axes>"
      ]
     },
     "metadata": {},
     "output_type": "display_data"
    }
   ],
   "source": [
    "df_2['desc_tipo_local'].value_counts().head(5).sort_values(ascending=False).plot.pie()"
   ]
  },
  {
   "cell_type": "markdown",
   "id": "a34292c1",
   "metadata": {},
   "source": [
    "### Latitude e Longitude\n",
    "A Latitude e Longitude do endereço onde ocorreu o crime\n",
    "\n",
    "##### Comentários\n",
    "A maior ocorrencia de crimes de homiícios está concentrado na capital de são paulo"
   ]
  },
  {
   "cell_type": "code",
   "execution_count": 68,
   "id": "7ba6c583",
   "metadata": {
    "tags": []
   },
   "outputs": [
    {
     "data": {
      "text/html": [
       "<div>\n",
       "<style scoped>\n",
       "    .dataframe tbody tr th:only-of-type {\n",
       "        vertical-align: middle;\n",
       "    }\n",
       "\n",
       "    .dataframe tbody tr th {\n",
       "        vertical-align: top;\n",
       "    }\n",
       "\n",
       "    .dataframe thead th {\n",
       "        text-align: right;\n",
       "    }\n",
       "</style>\n",
       "<table border=\"1\" class=\"dataframe\">\n",
       "  <thead>\n",
       "    <tr style=\"text-align: right;\">\n",
       "      <th></th>\n",
       "      <th>latitude</th>\n",
       "      <th>longitude</th>\n",
       "    </tr>\n",
       "  </thead>\n",
       "  <tbody>\n",
       "    <tr>\n",
       "      <th>count</th>\n",
       "      <td>309.000000</td>\n",
       "      <td>309.000000</td>\n",
       "    </tr>\n",
       "    <tr>\n",
       "      <th>mean</th>\n",
       "      <td>-22.886798</td>\n",
       "      <td>-47.053274</td>\n",
       "    </tr>\n",
       "    <tr>\n",
       "      <th>std</th>\n",
       "      <td>1.596656</td>\n",
       "      <td>2.908912</td>\n",
       "    </tr>\n",
       "    <tr>\n",
       "      <th>min</th>\n",
       "      <td>-24.538717</td>\n",
       "      <td>-52.113980</td>\n",
       "    </tr>\n",
       "    <tr>\n",
       "      <th>25%</th>\n",
       "      <td>-23.588189</td>\n",
       "      <td>-47.522510</td>\n",
       "    </tr>\n",
       "    <tr>\n",
       "      <th>50%</th>\n",
       "      <td>-23.435339</td>\n",
       "      <td>-46.794108</td>\n",
       "    </tr>\n",
       "    <tr>\n",
       "      <th>75%</th>\n",
       "      <td>-22.476922</td>\n",
       "      <td>-46.556460</td>\n",
       "    </tr>\n",
       "    <tr>\n",
       "      <th>max</th>\n",
       "      <td>0.000000</td>\n",
       "      <td>0.000000</td>\n",
       "    </tr>\n",
       "  </tbody>\n",
       "</table>\n",
       "</div>"
      ],
      "text/plain": [
       "         latitude   longitude\n",
       "count  309.000000  309.000000\n",
       "mean   -22.886798  -47.053274\n",
       "std      1.596656    2.908912\n",
       "min    -24.538717  -52.113980\n",
       "25%    -23.588189  -47.522510\n",
       "50%    -23.435339  -46.794108\n",
       "75%    -22.476922  -46.556460\n",
       "max      0.000000    0.000000"
      ]
     },
     "execution_count": 68,
     "metadata": {},
     "output_type": "execute_result"
    }
   ],
   "source": [
    "df_2[['latitude','longitude']].describe()"
   ]
  },
  {
   "cell_type": "code",
   "execution_count": 69,
   "id": "fce9d33e",
   "metadata": {
    "tags": []
   },
   "outputs": [
    {
     "data": {
      "text/plain": [
       "<Axes: xlabel='longitude', ylabel='latitude'>"
      ]
     },
     "execution_count": 69,
     "metadata": {},
     "output_type": "execute_result"
    },
    {
     "data": {
      "image/png": "[encoded data removed]",
      "text/plain": [
       "<Figure size 640x480 with 1 Axes>"
      ]
     },
     "metadata": {},
     "output_type": "display_data"
    }
   ],
   "source": [
    "sns.scatterplot(x = df_2['longitude'], y=df_2['latitude'])"
   ]
  },
  {
   "cell_type": "code",
   "execution_count": 70,
   "id": "53d2542f",
   "metadata": {
    "tags": []
   },
   "outputs": [],
   "source": [
    "df_2_sem_outlier = df_2[(df_2['longitude'] != 0) & (df_2['latitude'] != 0)]"
   ]
  },
  {
   "cell_type": "code",
   "execution_count": 71,
   "id": "4c46a4a0",
   "metadata": {
    "tags": []
   },
   "outputs": [
    {
     "data": {
      "text/plain": [
       "<Axes: xlabel='longitude', ylabel='latitude'>"
      ]
     },
     "execution_count": 71,
     "metadata": {},
     "output_type": "execute_result"
    },
    {
     "data": {
      "image/png": "[encoded data removed]",
      "text/plain": [
       "<Figure size 640x480 with 1 Axes>"
      ]
     },
     "metadata": {},
     "output_type": "display_data"
    }
   ],
   "source": [
    "sns.scatterplot(x = df_2_sem_outlier['longitude'], y = df_2_sem_outlier['latitude'])"
   ]
  },
  {
   "cell_type": "markdown",
   "id": "fe287197",
   "metadata": {},
   "source": [
    "### DP da Elaboração\n",
    "Delegacia de policia responsável pela elaboração do B.O do crime\n",
    "\n",
    "##### Comentários\n",
    "1. O Municipio, secretaria, departamento e dp são as mesmas que são emitidas o BO (circunscricao)"
   ]
  },
  {
   "cell_type": "code",
   "execution_count": 72,
   "id": "0ea884ee",
   "metadata": {
    "tags": []
   },
   "outputs": [
    {
     "data": {
      "text/plain": [
       "count                       1019\n",
       "unique                       388\n",
       "top       47º D.P. CAPAO REDONDO\n",
       "freq                          22\n",
       "Name: dp_elaboracao, dtype: object"
      ]
     },
     "execution_count": 72,
     "metadata": {},
     "output_type": "execute_result"
    }
   ],
   "source": [
    "df_2['dp_elaboracao'].describe()"
   ]
  },
  {
   "cell_type": "code",
   "execution_count": 73,
   "id": "30c4b65e",
   "metadata": {
    "tags": []
   },
   "outputs": [
    {
     "data": {
      "text/plain": [
       "dp_elaboracao\n",
       "False    1019\n",
       "Name: count, dtype: int64"
      ]
     },
     "execution_count": 73,
     "metadata": {},
     "output_type": "execute_result"
    }
   ],
   "source": [
    "df_2['dp_elaboracao'].isna().value_counts()"
   ]
  },
  {
   "cell_type": "code",
   "execution_count": 74,
   "id": "6be5e5e2",
   "metadata": {
    "tags": []
   },
   "outputs": [
    {
     "data": {
      "text/plain": [
       "<Axes: ylabel='dp_elaboracao'>"
      ]
     },
     "execution_count": 74,
     "metadata": {},
     "output_type": "execute_result"
    },
    {
     "data": {
      "image/png": "[encoded data removed]",
      "text/plain": [
       "<Figure size 640x480 with 1 Axes>"
      ]
     },
     "metadata": {},
     "output_type": "display_data"
    }
   ],
   "source": [
    "df_2['dp_elaboracao'].value_counts().head(5).sort_values(ascending=False).plot(kind='barh')"
   ]
  },
  {
   "cell_type": "code",
   "execution_count": 75,
   "id": "134b3340",
   "metadata": {
    "tags": []
   },
   "outputs": [
    {
     "data": {
      "text/html": [
       "<div>\n",
       "<style scoped>\n",
       "    .dataframe tbody tr th:only-of-type {\n",
       "        vertical-align: middle;\n",
       "    }\n",
       "\n",
       "    .dataframe tbody tr th {\n",
       "        vertical-align: top;\n",
       "    }\n",
       "\n",
       "    .dataframe thead th {\n",
       "        text-align: right;\n",
       "    }\n",
       "</style>\n",
       "<table border=\"1\" class=\"dataframe\">\n",
       "  <thead>\n",
       "    <tr style=\"text-align: right;\">\n",
       "      <th>dp_circunscricao</th>\n",
       "      <th>001 DP - Adamantina</th>\n",
       "      <th>001 DP - Americana</th>\n",
       "      <th>001 DP - Amparo</th>\n",
       "      <th>001 DP - Andradina</th>\n",
       "      <th>001 DP - Araraquara</th>\n",
       "      <th>001 DP - Araras</th>\n",
       "      <th>001 DP - Araçatuba</th>\n",
       "      <th>001 DP - Barretos</th>\n",
       "      <th>001 DP - Barueri</th>\n",
       "      <th>001 DP - Batatais</th>\n",
       "      <th>001 DP - Bauru</th>\n",
       "      <th>001 DP - Botucatu</th>\n",
       "      <th>001 DP - Caieiras</th>\n",
       "      <th>001 DP - Cajamar</th>\n",
       "      <th>001 DP - Caraguatatuba</th>\n",
       "      <th>...</th>\n",
       "      <th>DM - Tatuí</th>\n",
       "      <th>DM - Teodoro Sampaio</th>\n",
       "      <th>DM - Terra Roxa</th>\n",
       "      <th>DM - Tiete</th>\n",
       "      <th>DM - Ubatuba</th>\n",
       "      <th>DM - Ubirajara</th>\n",
       "      <th>DM - Urupes</th>\n",
       "      <th>DM - Valentim Gentil</th>\n",
       "      <th>DM - Vargem Grande Paulista</th>\n",
       "      <th>DM - Vargem Grande do Sul</th>\n",
       "      <th>DM - Vera Cruz</th>\n",
       "      <th>DM - Várzea Pta.</th>\n",
       "      <th>DM - Zacarias</th>\n",
       "      <th>DM - Águas de Lindóia</th>\n",
       "      <th>DM - Álvares Machado</th>\n",
       "    </tr>\n",
       "    <tr>\n",
       "      <th>dp_elaboracao</th>\n",
       "      <th></th>\n",
       "      <th></th>\n",
       "      <th></th>\n",
       "      <th></th>\n",
       "      <th></th>\n",
       "      <th></th>\n",
       "      <th></th>\n",
       "      <th></th>\n",
       "      <th></th>\n",
       "      <th></th>\n",
       "      <th></th>\n",
       "      <th></th>\n",
       "      <th></th>\n",
       "      <th></th>\n",
       "      <th></th>\n",
       "      <th></th>\n",
       "      <th></th>\n",
       "      <th></th>\n",
       "      <th></th>\n",
       "      <th></th>\n",
       "      <th></th>\n",
       "      <th></th>\n",
       "      <th></th>\n",
       "      <th></th>\n",
       "      <th></th>\n",
       "      <th></th>\n",
       "      <th></th>\n",
       "      <th></th>\n",
       "      <th></th>\n",
       "      <th></th>\n",
       "      <th></th>\n",
       "    </tr>\n",
       "  </thead>\n",
       "  <tbody>\n",
       "    <tr>\n",
       "      <th>01ª DDM CENTRO</th>\n",
       "      <td>0</td>\n",
       "      <td>0</td>\n",
       "      <td>0</td>\n",
       "      <td>0</td>\n",
       "      <td>0</td>\n",
       "      <td>0</td>\n",
       "      <td>0</td>\n",
       "      <td>0</td>\n",
       "      <td>0</td>\n",
       "      <td>0</td>\n",
       "      <td>0</td>\n",
       "      <td>0</td>\n",
       "      <td>0</td>\n",
       "      <td>0</td>\n",
       "      <td>0</td>\n",
       "      <td>...</td>\n",
       "      <td>0</td>\n",
       "      <td>0</td>\n",
       "      <td>0</td>\n",
       "      <td>0</td>\n",
       "      <td>0</td>\n",
       "      <td>0</td>\n",
       "      <td>0</td>\n",
       "      <td>0</td>\n",
       "      <td>0</td>\n",
       "      <td>0</td>\n",
       "      <td>0</td>\n",
       "      <td>0</td>\n",
       "      <td>0</td>\n",
       "      <td>0</td>\n",
       "      <td>0</td>\n",
       "    </tr>\n",
       "    <tr>\n",
       "      <th>01ª DEL. SEC. CAMPINAS - SHPP</th>\n",
       "      <td>0</td>\n",
       "      <td>0</td>\n",
       "      <td>0</td>\n",
       "      <td>0</td>\n",
       "      <td>0</td>\n",
       "      <td>0</td>\n",
       "      <td>0</td>\n",
       "      <td>0</td>\n",
       "      <td>0</td>\n",
       "      <td>0</td>\n",
       "      <td>0</td>\n",
       "      <td>0</td>\n",
       "      <td>0</td>\n",
       "      <td>0</td>\n",
       "      <td>0</td>\n",
       "      <td>...</td>\n",
       "      <td>0</td>\n",
       "      <td>0</td>\n",
       "      <td>0</td>\n",
       "      <td>0</td>\n",
       "      <td>0</td>\n",
       "      <td>0</td>\n",
       "      <td>0</td>\n",
       "      <td>0</td>\n",
       "      <td>0</td>\n",
       "      <td>0</td>\n",
       "      <td>0</td>\n",
       "      <td>0</td>\n",
       "      <td>0</td>\n",
       "      <td>0</td>\n",
       "      <td>0</td>\n",
       "    </tr>\n",
       "    <tr>\n",
       "      <th>01ª DEL.DEF.MUL. CENTRO</th>\n",
       "      <td>0</td>\n",
       "      <td>0</td>\n",
       "      <td>0</td>\n",
       "      <td>0</td>\n",
       "      <td>0</td>\n",
       "      <td>0</td>\n",
       "      <td>0</td>\n",
       "      <td>0</td>\n",
       "      <td>0</td>\n",
       "      <td>0</td>\n",
       "      <td>0</td>\n",
       "      <td>0</td>\n",
       "      <td>0</td>\n",
       "      <td>0</td>\n",
       "      <td>0</td>\n",
       "      <td>...</td>\n",
       "      <td>0</td>\n",
       "      <td>0</td>\n",
       "      <td>0</td>\n",
       "      <td>0</td>\n",
       "      <td>0</td>\n",
       "      <td>0</td>\n",
       "      <td>0</td>\n",
       "      <td>0</td>\n",
       "      <td>0</td>\n",
       "      <td>0</td>\n",
       "      <td>0</td>\n",
       "      <td>0</td>\n",
       "      <td>0</td>\n",
       "      <td>0</td>\n",
       "      <td>0</td>\n",
       "    </tr>\n",
       "    <tr>\n",
       "      <th>01º D.P. CAJAMAR</th>\n",
       "      <td>0</td>\n",
       "      <td>0</td>\n",
       "      <td>0</td>\n",
       "      <td>0</td>\n",
       "      <td>0</td>\n",
       "      <td>0</td>\n",
       "      <td>0</td>\n",
       "      <td>0</td>\n",
       "      <td>0</td>\n",
       "      <td>0</td>\n",
       "      <td>0</td>\n",
       "      <td>0</td>\n",
       "      <td>0</td>\n",
       "      <td>2</td>\n",
       "      <td>0</td>\n",
       "      <td>...</td>\n",
       "      <td>0</td>\n",
       "      <td>0</td>\n",
       "      <td>0</td>\n",
       "      <td>0</td>\n",
       "      <td>0</td>\n",
       "      <td>0</td>\n",
       "      <td>0</td>\n",
       "      <td>0</td>\n",
       "      <td>0</td>\n",
       "      <td>0</td>\n",
       "      <td>0</td>\n",
       "      <td>0</td>\n",
       "      <td>0</td>\n",
       "      <td>0</td>\n",
       "      <td>0</td>\n",
       "    </tr>\n",
       "    <tr>\n",
       "      <th>01º D.P. CARAPICUIBA</th>\n",
       "      <td>0</td>\n",
       "      <td>0</td>\n",
       "      <td>0</td>\n",
       "      <td>0</td>\n",
       "      <td>0</td>\n",
       "      <td>0</td>\n",
       "      <td>0</td>\n",
       "      <td>0</td>\n",
       "      <td>0</td>\n",
       "      <td>0</td>\n",
       "      <td>0</td>\n",
       "      <td>0</td>\n",
       "      <td>0</td>\n",
       "      <td>0</td>\n",
       "      <td>0</td>\n",
       "      <td>...</td>\n",
       "      <td>0</td>\n",
       "      <td>0</td>\n",
       "      <td>0</td>\n",
       "      <td>0</td>\n",
       "      <td>0</td>\n",
       "      <td>0</td>\n",
       "      <td>0</td>\n",
       "      <td>0</td>\n",
       "      <td>0</td>\n",
       "      <td>0</td>\n",
       "      <td>0</td>\n",
       "      <td>0</td>\n",
       "      <td>0</td>\n",
       "      <td>0</td>\n",
       "      <td>0</td>\n",
       "    </tr>\n",
       "    <tr>\n",
       "      <th>01º D.P. COTIA</th>\n",
       "      <td>0</td>\n",
       "      <td>0</td>\n",
       "      <td>0</td>\n",
       "      <td>0</td>\n",
       "      <td>0</td>\n",
       "      <td>0</td>\n",
       "      <td>0</td>\n",
       "      <td>0</td>\n",
       "      <td>0</td>\n",
       "      <td>0</td>\n",
       "      <td>0</td>\n",
       "      <td>0</td>\n",
       "      <td>0</td>\n",
       "      <td>0</td>\n",
       "      <td>0</td>\n",
       "      <td>...</td>\n",
       "      <td>0</td>\n",
       "      <td>0</td>\n",
       "      <td>0</td>\n",
       "      <td>0</td>\n",
       "      <td>0</td>\n",
       "      <td>0</td>\n",
       "      <td>0</td>\n",
       "      <td>0</td>\n",
       "      <td>0</td>\n",
       "      <td>0</td>\n",
       "      <td>0</td>\n",
       "      <td>0</td>\n",
       "      <td>0</td>\n",
       "      <td>0</td>\n",
       "      <td>0</td>\n",
       "    </tr>\n",
       "    <tr>\n",
       "      <th>01º D.P. GUARUJA</th>\n",
       "      <td>0</td>\n",
       "      <td>0</td>\n",
       "      <td>0</td>\n",
       "      <td>0</td>\n",
       "      <td>0</td>\n",
       "      <td>0</td>\n",
       "      <td>0</td>\n",
       "      <td>0</td>\n",
       "      <td>0</td>\n",
       "      <td>0</td>\n",
       "      <td>0</td>\n",
       "      <td>0</td>\n",
       "      <td>0</td>\n",
       "      <td>0</td>\n",
       "      <td>0</td>\n",
       "      <td>...</td>\n",
       "      <td>0</td>\n",
       "      <td>0</td>\n",
       "      <td>0</td>\n",
       "      <td>0</td>\n",
       "      <td>0</td>\n",
       "      <td>0</td>\n",
       "      <td>0</td>\n",
       "      <td>0</td>\n",
       "      <td>0</td>\n",
       "      <td>0</td>\n",
       "      <td>0</td>\n",
       "      <td>0</td>\n",
       "      <td>0</td>\n",
       "      <td>0</td>\n",
       "      <td>0</td>\n",
       "    </tr>\n",
       "    <tr>\n",
       "      <th>01º D.P. GUARULHOS</th>\n",
       "      <td>0</td>\n",
       "      <td>0</td>\n",
       "      <td>0</td>\n",
       "      <td>0</td>\n",
       "      <td>0</td>\n",
       "      <td>0</td>\n",
       "      <td>0</td>\n",
       "      <td>0</td>\n",
       "      <td>0</td>\n",
       "      <td>0</td>\n",
       "      <td>0</td>\n",
       "      <td>0</td>\n",
       "      <td>0</td>\n",
       "      <td>0</td>\n",
       "      <td>0</td>\n",
       "      <td>...</td>\n",
       "      <td>0</td>\n",
       "      <td>0</td>\n",
       "      <td>0</td>\n",
       "      <td>0</td>\n",
       "      <td>0</td>\n",
       "      <td>0</td>\n",
       "      <td>0</td>\n",
       "      <td>0</td>\n",
       "      <td>0</td>\n",
       "      <td>0</td>\n",
       "      <td>0</td>\n",
       "      <td>0</td>\n",
       "      <td>0</td>\n",
       "      <td>0</td>\n",
       "      <td>0</td>\n",
       "    </tr>\n",
       "    <tr>\n",
       "      <th>01º D.P. ITANHAEM</th>\n",
       "      <td>0</td>\n",
       "      <td>0</td>\n",
       "      <td>0</td>\n",
       "      <td>0</td>\n",
       "      <td>0</td>\n",
       "      <td>0</td>\n",
       "      <td>0</td>\n",
       "      <td>0</td>\n",
       "      <td>0</td>\n",
       "      <td>0</td>\n",
       "      <td>0</td>\n",
       "      <td>0</td>\n",
       "      <td>0</td>\n",
       "      <td>0</td>\n",
       "      <td>0</td>\n",
       "      <td>...</td>\n",
       "      <td>0</td>\n",
       "      <td>0</td>\n",
       "      <td>0</td>\n",
       "      <td>0</td>\n",
       "      <td>0</td>\n",
       "      <td>0</td>\n",
       "      <td>0</td>\n",
       "      <td>0</td>\n",
       "      <td>0</td>\n",
       "      <td>0</td>\n",
       "      <td>0</td>\n",
       "      <td>0</td>\n",
       "      <td>0</td>\n",
       "      <td>0</td>\n",
       "      <td>0</td>\n",
       "    </tr>\n",
       "    <tr>\n",
       "      <th>01º D.P. ITAQUAQUECETUBA</th>\n",
       "      <td>0</td>\n",
       "      <td>0</td>\n",
       "      <td>0</td>\n",
       "      <td>0</td>\n",
       "      <td>0</td>\n",
       "      <td>0</td>\n",
       "      <td>0</td>\n",
       "      <td>0</td>\n",
       "      <td>0</td>\n",
       "      <td>0</td>\n",
       "      <td>0</td>\n",
       "      <td>0</td>\n",
       "      <td>0</td>\n",
       "      <td>0</td>\n",
       "      <td>0</td>\n",
       "      <td>...</td>\n",
       "      <td>0</td>\n",
       "      <td>0</td>\n",
       "      <td>0</td>\n",
       "      <td>0</td>\n",
       "      <td>0</td>\n",
       "      <td>0</td>\n",
       "      <td>0</td>\n",
       "      <td>0</td>\n",
       "      <td>0</td>\n",
       "      <td>0</td>\n",
       "      <td>0</td>\n",
       "      <td>0</td>\n",
       "      <td>0</td>\n",
       "      <td>0</td>\n",
       "      <td>0</td>\n",
       "    </tr>\n",
       "  </tbody>\n",
       "</table>\n",
       "<p>10 rows × 492 columns</p>\n",
       "</div>"
      ],
      "text/plain": [
       "dp_circunscricao               001 DP - Adamantina  001 DP - Americana   \n",
       "dp_elaboracao                                                            \n",
       "01ª DDM CENTRO                                   0                   0  \\\n",
       "01ª DEL. SEC. CAMPINAS - SHPP                    0                   0   \n",
       "01ª DEL.DEF.MUL. CENTRO                          0                   0   \n",
       "01º D.P. CAJAMAR                                 0                   0   \n",
       "01º D.P. CARAPICUIBA                             0                   0   \n",
       "01º D.P. COTIA                                   0                   0   \n",
       "01º D.P. GUARUJA                                 0                   0   \n",
       "01º D.P. GUARULHOS                               0                   0   \n",
       "01º D.P. ITANHAEM                                0                   0   \n",
       "01º D.P. ITAQUAQUECETUBA                         0                   0   \n",
       "\n",
       "dp_circunscricao               001 DP - Amparo  001 DP - Andradina   \n",
       "dp_elaboracao                                                        \n",
       "01ª DDM CENTRO                               0                   0  \\\n",
       "01ª DEL. SEC. CAMPINAS - SHPP                0                   0   \n",
       "01ª DEL.DEF.MUL. CENTRO                      0                   0   \n",
       "01º D.P. CAJAMAR                             0                   0   \n",
       "01º D.P. CARAPICUIBA                         0                   0   \n",
       "01º D.P. COTIA                               0                   0   \n",
       "01º D.P. GUARUJA                             0                   0   \n",
       "01º D.P. GUARULHOS                           0                   0   \n",
       "01º D.P. ITANHAEM                            0                   0   \n",
       "01º D.P. ITAQUAQUECETUBA                     0                   0   \n",
       "\n",
       "dp_circunscricao               001 DP - Araraquara  001 DP - Araras   \n",
       "dp_elaboracao                                                         \n",
       "01ª DDM CENTRO                                   0                0  \\\n",
       "01ª DEL. SEC. CAMPINAS - SHPP                    0                0   \n",
       "01ª DEL.DEF.MUL. CENTRO                          0                0   \n",
       "01º D.P. CAJAMAR                                 0                0   \n",
       "01º D.P. CARAPICUIBA                             0                0   \n",
       "01º D.P. COTIA                                   0                0   \n",
       "01º D.P. GUARUJA                                 0                0   \n",
       "01º D.P. GUARULHOS                               0                0   \n",
       "01º D.P. ITANHAEM                                0                0   \n",
       "01º D.P. ITAQUAQUECETUBA                         0                0   \n",
       "\n",
       "dp_circunscricao               001 DP - Araçatuba  001 DP - Barretos   \n",
       "dp_elaboracao                                                          \n",
       "01ª DDM CENTRO                                  0                  0  \\\n",
       "01ª DEL. SEC. CAMPINAS - SHPP                   0                  0   \n",
       "01ª DEL.DEF.MUL. CENTRO                         0                  0   \n",
       "01º D.P. CAJAMAR                                0                  0   \n",
       "01º D.P. CARAPICUIBA                            0                  0   \n",
       "01º D.P. COTIA                                  0                  0   \n",
       "01º D.P. GUARUJA                                0                  0   \n",
       "01º D.P. GUARULHOS                              0                  0   \n",
       "01º D.P. ITANHAEM                               0                  0   \n",
       "01º D.P. ITAQUAQUECETUBA                        0                  0   \n",
       "\n",
       "dp_circunscricao               001 DP - Barueri  001 DP - Batatais   \n",
       "dp_elaboracao                                                        \n",
       "01ª DDM CENTRO                                0                  0  \\\n",
       "01ª DEL. SEC. CAMPINAS - SHPP                 0                  0   \n",
       "01ª DEL.DEF.MUL. CENTRO                       0                  0   \n",
       "01º D.P. CAJAMAR                              0                  0   \n",
       "01º D.P. CARAPICUIBA                          0                  0   \n",
       "01º D.P. COTIA                                0                  0   \n",
       "01º D.P. GUARUJA                              0                  0   \n",
       "01º D.P. GUARULHOS                            0                  0   \n",
       "01º D.P. ITANHAEM                             0                  0   \n",
       "01º D.P. ITAQUAQUECETUBA                      0                  0   \n",
       "\n",
       "dp_circunscricao               001 DP - Bauru  001 DP - Botucatu   \n",
       "dp_elaboracao                                                      \n",
       "01ª DDM CENTRO                              0                  0  \\\n",
       "01ª DEL. SEC. CAMPINAS - SHPP               0                  0   \n",
       "01ª DEL.DEF.MUL. CENTRO                     0                  0   \n",
       "01º D.P. CAJAMAR                            0                  0   \n",
       "01º D.P. CARAPICUIBA                        0                  0   \n",
       "01º D.P. COTIA                              0                  0   \n",
       "01º D.P. GUARUJA                            0                  0   \n",
       "01º D.P. GUARULHOS                          0                  0   \n",
       "01º D.P. ITANHAEM                           0                  0   \n",
       "01º D.P. ITAQUAQUECETUBA                    0                  0   \n",
       "\n",
       "dp_circunscricao               001 DP - Caieiras  001 DP - Cajamar   \n",
       "dp_elaboracao                                                        \n",
       "01ª DDM CENTRO                                 0                 0  \\\n",
       "01ª DEL. SEC. CAMPINAS - SHPP                  0                 0   \n",
       "01ª DEL.DEF.MUL. CENTRO                        0                 0   \n",
       "01º D.P. CAJAMAR                               0                 2   \n",
       "01º D.P. CARAPICUIBA                           0                 0   \n",
       "01º D.P. COTIA                                 0                 0   \n",
       "01º D.P. GUARUJA                               0                 0   \n",
       "01º D.P. GUARULHOS                             0                 0   \n",
       "01º D.P. ITANHAEM                              0                 0   \n",
       "01º D.P. ITAQUAQUECETUBA                       0                 0   \n",
       "\n",
       "dp_circunscricao               001 DP - Caraguatatuba  ...  DM - Tatuí   \n",
       "dp_elaboracao                                          ...               \n",
       "01ª DDM CENTRO                                      0  ...           0  \\\n",
       "01ª DEL. SEC. CAMPINAS - SHPP                       0  ...           0   \n",
       "01ª DEL.DEF.MUL. CENTRO                             0  ...           0   \n",
       "01º D.P. CAJAMAR                                    0  ...           0   \n",
       "01º D.P. CARAPICUIBA                                0  ...           0   \n",
       "01º D.P. COTIA                                      0  ...           0   \n",
       "01º D.P. GUARUJA                                    0  ...           0   \n",
       "01º D.P. GUARULHOS                                  0  ...           0   \n",
       "01º D.P. ITANHAEM                                   0  ...           0   \n",
       "01º D.P. ITAQUAQUECETUBA                            0  ...           0   \n",
       "\n",
       "dp_circunscricao               DM - Teodoro Sampaio  DM - Terra Roxa   \n",
       "dp_elaboracao                                                          \n",
       "01ª DDM CENTRO                                    0                0  \\\n",
       "01ª DEL. SEC. CAMPINAS - SHPP                     0                0   \n",
       "01ª DEL.DEF.MUL. CENTRO                           0                0   \n",
       "01º D.P. CAJAMAR                                  0                0   \n",
       "01º D.P. CARAPICUIBA                              0                0   \n",
       "01º D.P. COTIA                                    0                0   \n",
       "01º D.P. GUARUJA                                  0                0   \n",
       "01º D.P. GUARULHOS                                0                0   \n",
       "01º D.P. ITANHAEM                                 0                0   \n",
       "01º D.P. ITAQUAQUECETUBA                          0                0   \n",
       "\n",
       "dp_circunscricao               DM - Tiete  DM - Ubatuba  DM - Ubirajara   \n",
       "dp_elaboracao                                                             \n",
       "01ª DDM CENTRO                          0             0               0  \\\n",
       "01ª DEL. SEC. CAMPINAS - SHPP           0             0               0   \n",
       "01ª DEL.DEF.MUL. CENTRO                 0             0               0   \n",
       "01º D.P. CAJAMAR                        0             0               0   \n",
       "01º D.P. CARAPICUIBA                    0             0               0   \n",
       "01º D.P. COTIA                          0             0               0   \n",
       "01º D.P. GUARUJA                        0             0               0   \n",
       "01º D.P. GUARULHOS                      0             0               0   \n",
       "01º D.P. ITANHAEM                       0             0               0   \n",
       "01º D.P. ITAQUAQUECETUBA                0             0               0   \n",
       "\n",
       "dp_circunscricao               DM - Urupes  DM - Valentim Gentil   \n",
       "dp_elaboracao                                                      \n",
       "01ª DDM CENTRO                           0                     0  \\\n",
       "01ª DEL. SEC. CAMPINAS - SHPP            0                     0   \n",
       "01ª DEL.DEF.MUL. CENTRO                  0                     0   \n",
       "01º D.P. CAJAMAR                         0                     0   \n",
       "01º D.P. CARAPICUIBA                     0                     0   \n",
       "01º D.P. COTIA                           0                     0   \n",
       "01º D.P. GUARUJA                         0                     0   \n",
       "01º D.P. GUARULHOS                       0                     0   \n",
       "01º D.P. ITANHAEM                        0                     0   \n",
       "01º D.P. ITAQUAQUECETUBA                 0                     0   \n",
       "\n",
       "dp_circunscricao               DM - Vargem Grande Paulista   \n",
       "dp_elaboracao                                                \n",
       "01ª DDM CENTRO                                           0  \\\n",
       "01ª DEL. SEC. CAMPINAS - SHPP                            0   \n",
       "01ª DEL.DEF.MUL. CENTRO                                  0   \n",
       "01º D.P. CAJAMAR                                         0   \n",
       "01º D.P. CARAPICUIBA                                     0   \n",
       "01º D.P. COTIA                                           0   \n",
       "01º D.P. GUARUJA                                         0   \n",
       "01º D.P. GUARULHOS                                       0   \n",
       "01º D.P. ITANHAEM                                        0   \n",
       "01º D.P. ITAQUAQUECETUBA                                 0   \n",
       "\n",
       "dp_circunscricao               DM - Vargem Grande do Sul  DM - Vera Cruz   \n",
       "dp_elaboracao                                                              \n",
       "01ª DDM CENTRO                                         0               0  \\\n",
       "01ª DEL. SEC. CAMPINAS - SHPP                          0               0   \n",
       "01ª DEL.DEF.MUL. CENTRO                                0               0   \n",
       "01º D.P. CAJAMAR                                       0               0   \n",
       "01º D.P. CARAPICUIBA                                   0               0   \n",
       "01º D.P. COTIA                                         0               0   \n",
       "01º D.P. GUARUJA                                       0               0   \n",
       "01º D.P. GUARULHOS                                     0               0   \n",
       "01º D.P. ITANHAEM                                      0               0   \n",
       "01º D.P. ITAQUAQUECETUBA                               0               0   \n",
       "\n",
       "dp_circunscricao               DM - Várzea Pta.  DM - Zacarias   \n",
       "dp_elaboracao                                                    \n",
       "01ª DDM CENTRO                                0              0  \\\n",
       "01ª DEL. SEC. CAMPINAS - SHPP                 0              0   \n",
       "01ª DEL.DEF.MUL. CENTRO                       0              0   \n",
       "01º D.P. CAJAMAR                              0              0   \n",
       "01º D.P. CARAPICUIBA                          0              0   \n",
       "01º D.P. COTIA                                0              0   \n",
       "01º D.P. GUARUJA                              0              0   \n",
       "01º D.P. GUARULHOS                            0              0   \n",
       "01º D.P. ITANHAEM                             0              0   \n",
       "01º D.P. ITAQUAQUECETUBA                      0              0   \n",
       "\n",
       "dp_circunscricao               DM - Águas de Lindóia  DM - Álvares Machado  \n",
       "dp_elaboracao                                                               \n",
       "01ª DDM CENTRO                                     0                     0  \n",
       "01ª DEL. SEC. CAMPINAS - SHPP                      0                     0  \n",
       "01ª DEL.DEF.MUL. CENTRO                            0                     0  \n",
       "01º D.P. CAJAMAR                                   0                     0  \n",
       "01º D.P. CARAPICUIBA                               0                     0  \n",
       "01º D.P. COTIA                                     0                     0  \n",
       "01º D.P. GUARUJA                                   0                     0  \n",
       "01º D.P. GUARULHOS                                 0                     0  \n",
       "01º D.P. ITANHAEM                                  0                     0  \n",
       "01º D.P. ITAQUAQUECETUBA                           0                     0  \n",
       "\n",
       "[10 rows x 492 columns]"
      ]
     },
     "execution_count": 75,
     "metadata": {},
     "output_type": "execute_result"
    }
   ],
   "source": [
    "pd.crosstab(df_2['dp_elaboracao'], df_2['dp_circunscricao']).head(10)"
   ]
  }
 ],
 "metadata": {
  "kernelspec": {
   "display_name": "Python 3 (ipykernel)",
   "language": "python",
   "name": "python3"
  },
  "language_info": {
   "codemirror_mode": {
    "name": "ipython",
    "version": 3
   },
   "file_extension": ".py",
   "mimetype": "text/x-python",
   "name": "python",
   "nbconvert_exporter": "python",
   "pygments_lexer": "ipython3",
   "version": "3.9.13"
  }
 },
 "nbformat": 4,
 "nbformat_minor": 5
}
