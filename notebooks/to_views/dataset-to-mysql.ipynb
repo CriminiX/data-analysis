{
 "cells": [
  {
   "cell_type": "code",
   "execution_count": 2,
   "metadata": {},
   "outputs": [],
   "source": [
    "from pyspark.sql.types import StructType, StructField, LongType, StringType, DoubleType, IntegerType, DateType\n",
    "\n",
    "SCHEMA = StructType([\n",
    "    StructField(\"DATAOCORRENCIA\", DateType(), True),\n",
    "    StructField(\"HORAOCORRENCIA\", StringType(), True),\n",
    "    StructField(\"PERIDOOCORRENCIA\", StringType(), True),\n",
    "    StructField(\"LOGRADOURO\", StringType(), True),\n",
    "    StructField(\"NUMERO\", StringType(), True),\n",
    "    StructField(\"BAIRRO\", StringType(), True),\n",
    "    StructField(\"CIDADE\", StringType(), True),\n",
    "    StructField(\"UF\", StringType(), True),\n",
    "    StructField(\"LATITUDE\", DoubleType(), True),\n",
    "    StructField(\"LONGITUDE\", DoubleType(), True),\n",
    "    StructField(\"DESCRICAOLOCAL\", StringType(), True),\n",
    "    StructField(\"DELEGACIA_NOME\", StringType(), True),\n",
    "    StructField(\"DELEGACIA_CIRCUNSCRICAO\", StringType(), True),\n",
    "    StructField(\"STATUS\", StringType(), True),\n",
    "    StructField(\"TIPOPESSOA\", StringType(), True),\n",
    "    StructField(\"VITIMAFATAL\", StringType(), True),\n",
    "    StructField(\"NATURALIDADE\", StringType(), True),\n",
    "    StructField(\"SEXO\", StringType(), True),\n",
    "    StructField(\"DATANASCIMENTO\", DateType(), True),\n",
    "    StructField(\"IDADE\", IntegerType(), True),\n",
    "    StructField(\"ESTADOCIVIL\", StringType(), True),\n",
    "    StructField(\"PROFISSAO\", StringType(), True),\n",
    "    StructField(\"CORCUTIS\", StringType(), True),\n",
    "    StructField(\"UF_VEICULO\", StringType(), True),\n",
    "    StructField(\"CIDADE_VEICULO\", StringType(), True),\n",
    "    StructField(\"DESCR_COR_VEICULO\", StringType(), True),\n",
    "    StructField(\"DESCR_MARCA_VEICULO\", StringType(), True),\n",
    "    StructField(\"ANO_FABRICACAO\", IntegerType(), True),\n",
    "    StructField(\"ANO_MODELO\", IntegerType(), True),\n",
    "    StructField(\"DESCR_TIPO_VEICULO\", StringType(), True),\n",
    "    StructField(\"QUANT_CELULAR\", StringType(), True),\n",
    "    StructField(\"MARCA_CELULAR\", StringType(), True),\n",
    "    StructField(\"HORAS\", IntegerType(), True),\n",
    "    StructField(\"MINUTOS\", IntegerType(), True),\n",
    "    StructField(\"ANO\", IntegerType(), True),\n",
    "    StructField(\"MES\", IntegerType(), True),\n",
    "    StructField(\"DIA_MES\", IntegerType(), True),\n",
    "    StructField(\"DIA_SEMANA\", IntegerType(), True),\n",
    "    StructField(\"DIA_ANO\", IntegerType(), True),\n",
    "    StructField(\"SEMANA_ANO\", IntegerType(), True),\n",
    "    StructField(\"MARCA_VEICULO\", StringType(), True),\n",
    "    StructField(\"MODELO_VEICULO\", StringType(), True),\n",
    "])"
   ]
  },
  {
   "cell_type": "code",
   "execution_count": 3,
   "metadata": {},
   "outputs": [],
   "source": [
    "from pyspark.sql.types import *\n",
    "from pyspark.sql.functions import col, isnan, when, split, regexp_replace, to_date, year, month, dayofmonth, dayofweek, dayofyear, weekofyear, upper, translate, trim\n",
    "import pandas as pd\n",
    "import unicodedata\n",
    "#from schema import SCHEMA\n",
    "\n",
    "from pyspark.sql import SparkSession\n",
    "import boto3"
   ]
  },
  {
   "cell_type": "code",
   "execution_count": 4,
   "metadata": {},
   "outputs": [],
   "source": [
    "# Retrieve AWS credentials from the EC2 instance metadata\n",
    "credentials = boto3.Session().get_credentials()\n",
    "\n",
    "# Configure SparkSession with S3 credentials\n",
    "spark = SparkSession.builder \\\n",
    "    .appName(\"ImportCarCleanDataToMySQL\") \\\n",
    "    .config(\"spark.hadoop.fs.s3a.access.key\", credentials.access_key) \\\n",
    "    .config(\"spark.hadoop.fs.s3a.secret.key\", credentials.secret_key) \\\n",
    "    .config(\"spark.hadoop.fs.s3a.session.token\", credentials.token) \\\n",
    "    .config(\"spark.jars.packages\", \"org.apache.hadoop:hadoop-aws:3.3.1,mysql:mysql-connector-java:8.0.17\") \\\n",
    "    .getOrCreate()"
   ]
  },
  {
   "cell_type": "code",
   "execution_count": 5,
   "metadata": {},
   "outputs": [
    {
     "data": {
      "text/plain": [
       "1601935"
      ]
     },
     "execution_count": 5,
     "metadata": {},
     "output_type": "execute_result"
    }
   ],
   "source": [
    "S3 = \"s3a://criminix-criminix-clean/car_theft/car_theft_csv\"\n",
    "\n",
    "df = spark.read.option(\"header\", \"true\").csv(S3, schema=SCHEMA)\n",
    "\n",
    "df.count()"
   ]
  },
  {
   "cell_type": "code",
   "execution_count": 7,
   "metadata": {},
   "outputs": [],
   "source": [
    "df.write \\\n",
    "  .format(\"jdbc\") \\\n",
    "  .option(\"driver\",\"com.mysql.cj.jdbc.Driver\") \\\n",
    "  .option(\"url\", \"jdbc:mysql://3.211.108.7/criminix\") \\\n",
    "  .option(\"dbtable\", \"criminix\") \\\n",
    "  .option(\"user\", \"criminix\") \\\n",
    "  .option(\"password\", \"criminix\") \\\n",
    "  .option(\"truncate\",\"true\") \\\n",
    "  .mode(\"overwrite\") \\\n",
    "  .save()"
   ]
  }
 ],
 "metadata": {
  "kernelspec": {
   "display_name": "Python 3 (ipykernel)",
   "language": "python",
   "name": "python3"
  },
  "language_info": {
   "codemirror_mode": {
    "name": "ipython",
    "version": 3
   },
   "file_extension": ".py",
   "mimetype": "text/x-python",
   "name": "python",
   "nbconvert_exporter": "python",
   "pygments_lexer": "ipython3",
   "version": "3.10.9"
  },
  "orig_nbformat": 4
 },
 "nbformat": 4,
 "nbformat_minor": 2
}
