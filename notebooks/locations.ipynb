{
 "cells": [
  {
   "cell_type": "code",
   "execution_count": 1,
   "metadata": {},
   "outputs": [],
   "source": [
    "import pandas as pd"
   ]
  },
  {
   "cell_type": "code",
   "execution_count": 2,
   "metadata": {},
   "outputs": [],
   "source": [
    "crimes = pd.read_csv(\"crimes_scored.csv\")\n",
    "neighborhood_crimes = pd.read_csv(\"neighborhood_crimes_scored.csv\")"
   ]
  },
  {
   "cell_type": "code",
   "execution_count": 3,
   "metadata": {},
   "outputs": [
    {
     "name": "stdout",
     "output_type": "stream",
     "text": [
      "<class 'pandas.core.frame.DataFrame'>\n",
      "RangeIndex: 122484 entries, 0 to 122483\n",
      "Data columns (total 16 columns):\n",
      " #   Column      Non-Null Count   Dtype  \n",
      "---  ------      --------------   -----  \n",
      " 0   cidade      122484 non-null  object \n",
      " 1   bairro      122484 non-null  object \n",
      " 2   logradouro  122484 non-null  object \n",
      " 3   estacao     122484 non-null  int64  \n",
      " 4   ano         122484 non-null  int64  \n",
      " 5   mes         122484 non-null  int64  \n",
      " 6   dia         122484 non-null  int64  \n",
      " 7   periodo     122484 non-null  int64  \n",
      " 8   densidade   122484 non-null  float64\n",
      " 9   idh         122484 non-null  float64\n",
      " 10  mes_sin     122484 non-null  float64\n",
      " 11  mes_cos     122484 non-null  float64\n",
      " 12  dia_sin     122484 non-null  float64\n",
      " 13  dia_cos     122484 non-null  float64\n",
      " 14  pontos      122484 non-null  float64\n",
      " 15  location    122484 non-null  object \n",
      "dtypes: float64(7), int64(5), object(4)\n",
      "memory usage: 15.0+ MB\n"
     ]
    }
   ],
   "source": [
    "crimes.info()"
   ]
  },
  {
   "cell_type": "code",
   "execution_count": 4,
   "metadata": {},
   "outputs": [],
   "source": [
    "crimes = crimes.assign(location_code=crimes[\"location\"].astype(\"category\").cat.codes)\n",
    "crimes = crimes.assign(neighborhood_code=crimes[\"bairro\"].astype(\"category\").cat.codes)\n",
    "crimes = crimes.assign(city_code=crimes[\"cidade\"].astype(\"category\").cat.codes)"
   ]
  },
  {
   "cell_type": "code",
   "execution_count": 5,
   "metadata": {},
   "outputs": [],
   "source": [
    "neighborhood_crimes = neighborhood_crimes.assign(neighborhood_code=neighborhood_crimes[\"bairro\"].astype(\"category\").cat.codes)\n",
    "neighborhood_crimes = neighborhood_crimes.assign(city_code=neighborhood_crimes[\"cidade\"].astype(\"category\").cat.codes)"
   ]
  },
  {
   "cell_type": "code",
   "execution_count": 6,
   "metadata": {},
   "outputs": [
    {
     "name": "stdout",
     "output_type": "stream",
     "text": [
      "<class 'pandas.core.frame.DataFrame'>\n",
      "RangeIndex: 122484 entries, 0 to 122483\n",
      "Data columns (total 19 columns):\n",
      " #   Column             Non-Null Count   Dtype  \n",
      "---  ------             --------------   -----  \n",
      " 0   cidade             122484 non-null  object \n",
      " 1   bairro             122484 non-null  object \n",
      " 2   logradouro         122484 non-null  object \n",
      " 3   estacao            122484 non-null  int64  \n",
      " 4   ano                122484 non-null  int64  \n",
      " 5   mes                122484 non-null  int64  \n",
      " 6   dia                122484 non-null  int64  \n",
      " 7   periodo            122484 non-null  int64  \n",
      " 8   densidade          122484 non-null  float64\n",
      " 9   idh                122484 non-null  float64\n",
      " 10  mes_sin            122484 non-null  float64\n",
      " 11  mes_cos            122484 non-null  float64\n",
      " 12  dia_sin            122484 non-null  float64\n",
      " 13  dia_cos            122484 non-null  float64\n",
      " 14  pontos             122484 non-null  float64\n",
      " 15  location           122484 non-null  object \n",
      " 16  location_code      122484 non-null  int32  \n",
      " 17  neighborhood_code  122484 non-null  int16  \n",
      " 18  city_code          122484 non-null  int16  \n",
      "dtypes: float64(7), int16(2), int32(1), int64(5), object(4)\n",
      "memory usage: 15.9+ MB\n"
     ]
    }
   ],
   "source": [
    "crimes.info()"
   ]
  },
  {
   "cell_type": "code",
   "execution_count": 7,
   "metadata": {},
   "outputs": [],
   "source": [
    "locations = crimes[[\"location_code\", \"cidade\", \"bairro\", \"logradouro\", \"location\", \"neighborhood_code\", \"city_code\"]].drop_duplicates()\n",
    "locations[\"bairro\"] = locations[\"bairro\"].str.split(\"|\", expand=True)[1]"
   ]
  },
  {
   "cell_type": "code",
   "execution_count": 8,
   "metadata": {},
   "outputs": [],
   "source": [
    "locations.to_csv(\"locations.csv\", index=False)\n",
    "locations.to_csv(\"../data/locations.csv\", index=False)"
   ]
  },
  {
   "cell_type": "code",
   "execution_count": 9,
   "metadata": {},
   "outputs": [],
   "source": [
    "crimes.drop(columns=[\"cidade\", \"bairro\", \"logradouro\", \"location\"])\\\n",
    "    .reindex(columns=[\"location_code\", \"neighborhood_code\", \"city_code\", \"estacao\", \"ano\", \"mes\", \"dia\", \"mes_sin\", \"mes_cos\", \"dia_sin\", \"dia_cos\",\"periodo\",\"pontos\", \"densidade\", \"idh\"])\\\n",
    "    .to_csv(\"crimes_encoded.csv\", index=False)"
   ]
  },
  {
   "cell_type": "code",
   "execution_count": 10,
   "metadata": {},
   "outputs": [],
   "source": [
    "neighborhood_crimes.drop(columns=[\"cidade\", \"bairro\", \"logradouro\"])\\\n",
    "    .reindex(columns=[\"neighborhood_code\", \"city_code\", \"estacao\", \"ano\", \"mes\", \"dia\", \"mes_sin\", \"mes_cos\", \"dia_sin\", \"dia_cos\",\"periodo\",\"pontos\", \"densidade\", \"idh\"])\\\n",
    "    .to_csv(\"neighborhood_crimes_encoded.csv\", index=False)"
   ]
  }
 ],
 "metadata": {
  "kernelspec": {
   "display_name": "base",
   "language": "python",
   "name": "python3"
  },
  "language_info": {
   "codemirror_mode": {
    "name": "ipython",
    "version": 3
   },
   "file_extension": ".py",
   "mimetype": "text/x-python",
   "name": "python",
   "nbconvert_exporter": "python",
   "pygments_lexer": "ipython3",
   "version": "3.11.3"
  },
  "orig_nbformat": 4
 },
 "nbformat": 4,
 "nbformat_minor": 2
}
