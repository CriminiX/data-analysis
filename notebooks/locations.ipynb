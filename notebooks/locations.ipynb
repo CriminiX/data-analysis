{
 "cells": [
  {
   "cell_type": "code",
   "execution_count": 1,
   "metadata": {},
   "outputs": [],
   "source": [
    "import pandas as pd"
   ]
  },
  {
   "cell_type": "code",
   "execution_count": 3,
   "metadata": {},
   "outputs": [],
   "source": [
    "crimes = pd.read_csv(\"crimes_scored.csv\")\n",
    "neighborhood_crimes = pd.read_csv(\"neighborhood_crimes_scored.csv\")"
   ]
  },
  {
   "cell_type": "code",
   "execution_count": 4,
   "metadata": {},
   "outputs": [
    {
     "name": "stdout",
     "output_type": "stream",
     "text": [
      "<class 'pandas.core.frame.DataFrame'>\n",
      "RangeIndex: 122808 entries, 0 to 122807\n",
      "Data columns (total 14 columns):\n",
      " #   Column      Non-Null Count   Dtype  \n",
      "---  ------      --------------   -----  \n",
      " 0   cidade      122808 non-null  object \n",
      " 1   bairro      122808 non-null  object \n",
      " 2   logradouro  122808 non-null  object \n",
      " 3   estacao     122808 non-null  int64  \n",
      " 4   ano         122808 non-null  int64  \n",
      " 5   mes         122808 non-null  int64  \n",
      " 6   dia         122808 non-null  int64  \n",
      " 7   periodo     122808 non-null  int64  \n",
      " 8   mes_sin     122808 non-null  float64\n",
      " 9   mes_cos     122808 non-null  float64\n",
      " 10  dia_sin     122808 non-null  float64\n",
      " 11  dia_cos     122808 non-null  float64\n",
      " 12  pontos      122808 non-null  float64\n",
      " 13  location    122808 non-null  object \n",
      "dtypes: float64(5), int64(5), object(4)\n",
      "memory usage: 13.1+ MB\n"
     ]
    }
   ],
   "source": [
    "crimes.info()"
   ]
  },
  {
   "cell_type": "code",
   "execution_count": 5,
   "metadata": {},
   "outputs": [],
   "source": [
    "crimes = crimes.assign(location_code=crimes[\"location\"].astype(\"category\").cat.codes)\n",
    "crimes = crimes.assign(neighborhood_code=crimes[\"bairro\"].astype(\"category\").cat.codes)\n",
    "crimes = crimes.assign(city_code=crimes[\"cidade\"].astype(\"category\").cat.codes)"
   ]
  },
  {
   "cell_type": "code",
   "execution_count": 6,
   "metadata": {},
   "outputs": [],
   "source": [
    "neighborhood_crimes = neighborhood_crimes.assign(neighborhood_code=neighborhood_crimes[\"bairro\"].astype(\"category\").cat.codes)\n",
    "neighborhood_crimes = neighborhood_crimes.assign(city_code=neighborhood_crimes[\"cidade\"].astype(\"category\").cat.codes)"
   ]
  },
  {
   "cell_type": "code",
   "execution_count": 7,
   "metadata": {},
   "outputs": [
    {
     "name": "stdout",
     "output_type": "stream",
     "text": [
      "<class 'pandas.core.frame.DataFrame'>\n",
      "RangeIndex: 122808 entries, 0 to 122807\n",
      "Data columns (total 17 columns):\n",
      " #   Column             Non-Null Count   Dtype  \n",
      "---  ------             --------------   -----  \n",
      " 0   cidade             122808 non-null  object \n",
      " 1   bairro             122808 non-null  object \n",
      " 2   logradouro         122808 non-null  object \n",
      " 3   estacao            122808 non-null  int64  \n",
      " 4   ano                122808 non-null  int64  \n",
      " 5   mes                122808 non-null  int64  \n",
      " 6   dia                122808 non-null  int64  \n",
      " 7   periodo            122808 non-null  int64  \n",
      " 8   mes_sin            122808 non-null  float64\n",
      " 9   mes_cos            122808 non-null  float64\n",
      " 10  dia_sin            122808 non-null  float64\n",
      " 11  dia_cos            122808 non-null  float64\n",
      " 12  pontos             122808 non-null  float64\n",
      " 13  location           122808 non-null  object \n",
      " 14  location_code      122808 non-null  int32  \n",
      " 15  neighborhood_code  122808 non-null  int16  \n",
      " 16  city_code          122808 non-null  int16  \n",
      "dtypes: float64(5), int16(2), int32(1), int64(5), object(4)\n",
      "memory usage: 14.1+ MB\n"
     ]
    }
   ],
   "source": [
    "crimes.info()"
   ]
  },
  {
   "cell_type": "code",
   "execution_count": 8,
   "metadata": {},
   "outputs": [],
   "source": [
    "locations = crimes[[\"location_code\", \"cidade\", \"bairro\", \"logradouro\", \"location\", \"neighborhood_code\", \"city_code\"]].drop_duplicates()"
   ]
  },
  {
   "cell_type": "code",
   "execution_count": 9,
   "metadata": {},
   "outputs": [],
   "source": [
    "locations.to_csv(\"locations.csv\", index=False)\n",
    "locations.to_csv(\"../data/locations.csv\", index=False)"
   ]
  },
  {
   "cell_type": "code",
   "execution_count": 10,
   "metadata": {},
   "outputs": [],
   "source": [
    "crimes.drop(columns=[\"cidade\", \"bairro\", \"logradouro\", \"location\"])\\\n",
    "    .reindex(columns=[\"location_code\", \"neighborhood_code\", \"city_code\", \"estacao\", \"ano\", \"mes\", \"dia\", \"mes_sin\", \"mes_cos\", \"dia_sin\", \"dia_cos\",\"periodo\",\"pontos\"])\\\n",
    "    .to_csv(\"crimes_encoded.csv\", index=False)"
   ]
  },
  {
   "cell_type": "code",
   "execution_count": 11,
   "metadata": {},
   "outputs": [],
   "source": [
    "neighborhood_crimes.drop(columns=[\"cidade\", \"bairro\", \"logradouro\"])\\\n",
    "    .reindex(columns=[\"neighborhood_code\", \"city_code\", \"estacao\", \"ano\", \"mes\", \"dia\", \"mes_sin\", \"mes_cos\", \"dia_sin\", \"dia_cos\",\"periodo\",\"pontos\"])\\\n",
    "    .to_csv(\"neighborhood_crimes_encoded.csv\", index=False)"
   ]
  }
 ],
 "metadata": {
  "kernelspec": {
   "display_name": "base",
   "language": "python",
   "name": "python3"
  },
  "language_info": {
   "codemirror_mode": {
    "name": "ipython",
    "version": 3
   },
   "file_extension": ".py",
   "mimetype": "text/x-python",
   "name": "python",
   "nbconvert_exporter": "python",
   "pygments_lexer": "ipython3",
   "version": "3.10.10"
  },
  "orig_nbformat": 4
 },
 "nbformat": 4,
 "nbformat_minor": 2
}
