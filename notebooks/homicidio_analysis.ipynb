{
 "cells": [
  {
   "cell_type": "code",
   "execution_count": 1,
   "id": "baae26c1-9b16-481a-8388-8cffc9127641",
   "metadata": {
    "tags": []
   },
   "outputs": [],
   "source": [
    "import pandas as pd\n",
    "import seaborn as sns\n",
    "import numpy as np\n",
    "import matplotlib.pyplot as plt\n",
    "\n",
    "\n",
    "# Configurando o max_columns no pandas\n",
    "pd.set_option('display.max_columns', 30)\n",
    "pd.set_option('display.max_rows', None)"
   ]
  },
  {
   "cell_type": "markdown",
   "id": "71cc8156-497c-409c-85a2-5ab6f5663bbc",
   "metadata": {},
   "source": [
    "### Analysis de homicídio\n",
    "Os dados foram extraídos da Secretaria de Segurança de São Paulo [SSP](http://www.ssp.sp.gov.br/transparenciassp/Consulta.aspx) no perído de 2017-2022"
   ]
  },
  {
   "cell_type": "code",
   "execution_count": 2,
   "id": "34cc799f-6afb-47d9-b2ce-c5e6e3e9c743",
   "metadata": {
    "tags": []
   },
   "outputs": [
    {
     "name": "stderr",
     "output_type": "stream",
     "text": [
      "C:\\Users\\gabriel\\AppData\\Local\\Programs\\Python\\Python39\\lib\\site-packages\\openpyxl\\worksheet\\_reader.py:329: UserWarning: Data Validation extension is not supported and will be removed\n",
      "  warn(msg)\n"
     ]
    }
   ],
   "source": [
    "# Realizando a leitura para cada aba da planilha disponibilizada pela SSP\n",
    "df_2017 = pd.read_excel(\"C:\\\\Users\\\\gabriel\\\\Desktop\\\\analysis\\\\Dados Homicidios\\\\Homicidio_2017_2022.xlsx\", sheet_name='2017')\n",
    "df_2018 = pd.read_excel(\"C:\\\\Users\\\\gabriel\\\\Desktop\\\\analysis\\\\Dados Homicidios\\\\Homicidio_2017_2022.xlsx\", sheet_name='2018')\n",
    "df_2019 = pd.read_excel(\"C:\\\\Users\\\\gabriel\\\\Desktop\\\\analysis\\\\Dados Homicidios\\\\Homicidio_2017_2022.xlsx\", sheet_name='2019')\n",
    "df_2020 = pd.read_excel(\"C:\\\\Users\\\\gabriel\\\\Desktop\\\\analysis\\\\Dados Homicidios\\\\Homicidio_2017_2022.xlsx\", sheet_name='2020')\n",
    "df_2021 = pd.read_excel(\"C:\\\\Users\\\\gabriel\\\\Desktop\\\\analysis\\\\Dados Homicidios\\\\Homicidio_2017_2022.xlsx\", sheet_name='2021')\n",
    "df_2022 = pd.read_excel(\"C:\\\\Users\\\\gabriel\\\\Desktop\\\\analysis\\\\Dados Homicidios\\\\Homicidio_2017_2022.xlsx\", sheet_name='2022')\n"
   ]
  },
  {
   "cell_type": "code",
   "execution_count": 3,
   "id": "893880e7-823e-4c58-9ad8-12a964e106fc",
   "metadata": {
    "tags": []
   },
   "outputs": [],
   "source": [
    "df = pd.DataFrame()\n",
    "df = pd.concat([df, df_2017])\n",
    "df = pd.concat([df, df_2018])\n",
    "df = pd.concat([df, df_2019])\n",
    "df = pd.concat([df, df_2020])\n",
    "df = pd.concat([df, df_2021])\n",
    "df = pd.concat([df, df_2022])"
   ]
  },
  {
   "cell_type": "code",
   "execution_count": 4,
   "id": "5a27e7cb-72c1-4dd7-93fb-41bd09e23dee",
   "metadata": {
    "tags": []
   },
   "outputs": [
    {
     "data": {
      "text/html": [
       "<div>\n",
       "<style scoped>\n",
       "    .dataframe tbody tr th:only-of-type {\n",
       "        vertical-align: middle;\n",
       "    }\n",
       "\n",
       "    .dataframe tbody tr th {\n",
       "        vertical-align: top;\n",
       "    }\n",
       "\n",
       "    .dataframe thead th {\n",
       "        text-align: right;\n",
       "    }\n",
       "</style>\n",
       "<table border=\"1\" class=\"dataframe\">\n",
       "  <thead>\n",
       "    <tr style=\"text-align: right;\">\n",
       "      <th></th>\n",
       "      <th>DEPARTAMENTO_CIRCUNSCRICAO</th>\n",
       "      <th>SECCIONAL_CIRCUNSCRICAO</th>\n",
       "      <th>MUNICIPIO_CIRCUNSCRICAO</th>\n",
       "      <th>DP_CIRCUNSCRICAO</th>\n",
       "      <th>HD</th>\n",
       "      <th>Nº DE VÍT HD</th>\n",
       "      <th>ID_DELEGACIA</th>\n",
       "      <th>MÊS ESTATISTICA</th>\n",
       "      <th>ANO ESTATISTICA</th>\n",
       "      <th>DATAHORA_REGISTRO_BO</th>\n",
       "      <th>NUM_BO</th>\n",
       "      <th>ANO_BO</th>\n",
       "      <th>MUNICIPIO_ELABORACAO</th>\n",
       "      <th>DP_ELABORACAO</th>\n",
       "      <th>SEC_ELABORACAO</th>\n",
       "      <th>DEP_ELABORACAO</th>\n",
       "      <th>DATA_FATO</th>\n",
       "      <th>HORA_FATO</th>\n",
       "      <th>DESC_TIPOLOCAL</th>\n",
       "      <th>LOGRADOURO</th>\n",
       "      <th>NUMERO_LOGRADOURO</th>\n",
       "      <th>LATITUDE</th>\n",
       "      <th>LONGITUDE</th>\n",
       "      <th>TIPO_PESSOA</th>\n",
       "      <th>SEXO_PESSOA</th>\n",
       "      <th>IDADE_PESSOA</th>\n",
       "      <th>DATA_NASCIMENTO_PESSOA</th>\n",
       "      <th>COR_PELE</th>\n",
       "      <th>PROFISSAO</th>\n",
       "      <th>NATUREZA_APURADA</th>\n",
       "    </tr>\n",
       "  </thead>\n",
       "  <tbody>\n",
       "    <tr>\n",
       "      <th>0</th>\n",
       "      <td>DECAP</td>\n",
       "      <td>1ª SEC</td>\n",
       "      <td>São Paulo</td>\n",
       "      <td>002 DP - Bom Retiro</td>\n",
       "      <td>1.0</td>\n",
       "      <td>1</td>\n",
       "      <td>10102</td>\n",
       "      <td>1</td>\n",
       "      <td>2017</td>\n",
       "      <td>2017-01-21</td>\n",
       "      <td>440</td>\n",
       "      <td>2017</td>\n",
       "      <td>S.PAULO</td>\n",
       "      <td>02º D.P. BOM RETIRO</td>\n",
       "      <td>DEL.SEC.1º CENTRO</td>\n",
       "      <td>DECAP</td>\n",
       "      <td>2017-01-21</td>\n",
       "      <td>17:15:00</td>\n",
       "      <td>Via pública</td>\n",
       "      <td>PRAÇA DA LUZ</td>\n",
       "      <td>1.0</td>\n",
       "      <td>-23.535135</td>\n",
       "      <td>-46.633779</td>\n",
       "      <td>Vítima</td>\n",
       "      <td>Masculino</td>\n",
       "      <td>NaN</td>\n",
       "      <td>NaT</td>\n",
       "      <td>Parda</td>\n",
       "      <td>NaN</td>\n",
       "      <td>HOMICÍDIO DOLOSO</td>\n",
       "    </tr>\n",
       "    <tr>\n",
       "      <th>1</th>\n",
       "      <td>DECAP</td>\n",
       "      <td>1ª SEC</td>\n",
       "      <td>São Paulo</td>\n",
       "      <td>012 DP - Pari</td>\n",
       "      <td>1.0</td>\n",
       "      <td>1</td>\n",
       "      <td>10108</td>\n",
       "      <td>1</td>\n",
       "      <td>2017</td>\n",
       "      <td>2017-01-24</td>\n",
       "      <td>489</td>\n",
       "      <td>2017</td>\n",
       "      <td>S.PAULO</td>\n",
       "      <td>08º D.P. BRAS</td>\n",
       "      <td>DEL.SEC.1º CENTRO</td>\n",
       "      <td>DECAP</td>\n",
       "      <td>2017-01-24</td>\n",
       "      <td>16:32:00</td>\n",
       "      <td>Via pública</td>\n",
       "      <td>RUA JOAQUIM CARLOS</td>\n",
       "      <td>1379.0</td>\n",
       "      <td>-23.524742</td>\n",
       "      <td>-46.608382</td>\n",
       "      <td>Vítima</td>\n",
       "      <td>Masculino</td>\n",
       "      <td>NaN</td>\n",
       "      <td>NaT</td>\n",
       "      <td>Preta</td>\n",
       "      <td>NaN</td>\n",
       "      <td>HOMICÍDIO DOLOSO</td>\n",
       "    </tr>\n",
       "    <tr>\n",
       "      <th>2</th>\n",
       "      <td>DECAP</td>\n",
       "      <td>2ª SEC</td>\n",
       "      <td>São Paulo</td>\n",
       "      <td>035 DP - Jabaquara</td>\n",
       "      <td>1.0</td>\n",
       "      <td>1</td>\n",
       "      <td>10216</td>\n",
       "      <td>1</td>\n",
       "      <td>2017</td>\n",
       "      <td>2017-01-15</td>\n",
       "      <td>470</td>\n",
       "      <td>2017</td>\n",
       "      <td>S.PAULO</td>\n",
       "      <td>16º D.P. VILA CLEMENTINO</td>\n",
       "      <td>DEL.SEC.2º SUL</td>\n",
       "      <td>DECAP</td>\n",
       "      <td>2017-01-15</td>\n",
       "      <td>01:14:00</td>\n",
       "      <td>Via pública</td>\n",
       "      <td>TRAVESSA JUPATIS</td>\n",
       "      <td>110.0</td>\n",
       "      <td>-23.652974</td>\n",
       "      <td>-46.649025</td>\n",
       "      <td>Vítima</td>\n",
       "      <td>Masculino</td>\n",
       "      <td>33.0</td>\n",
       "      <td>1983-09-05</td>\n",
       "      <td>Parda</td>\n",
       "      <td>DESEMPREGADO</td>\n",
       "      <td>HOMICÍDIO DOLOSO</td>\n",
       "    </tr>\n",
       "    <tr>\n",
       "      <th>3</th>\n",
       "      <td>DECAP</td>\n",
       "      <td>2ª SEC</td>\n",
       "      <td>São Paulo</td>\n",
       "      <td>097 DP - Americanópolis</td>\n",
       "      <td>1.0</td>\n",
       "      <td>1</td>\n",
       "      <td>10226</td>\n",
       "      <td>1</td>\n",
       "      <td>2017</td>\n",
       "      <td>2017-01-01</td>\n",
       "      <td>19</td>\n",
       "      <td>2017</td>\n",
       "      <td>S.PAULO</td>\n",
       "      <td>26º D.P. SACOMA</td>\n",
       "      <td>DEL.SEC.2º SUL</td>\n",
       "      <td>DECAP</td>\n",
       "      <td>2017-01-01</td>\n",
       "      <td>16:19:00</td>\n",
       "      <td>Residência</td>\n",
       "      <td>DA VEDAÇÃO DA DIVULGAÇÃO DOS DADOS RELATIVOS</td>\n",
       "      <td>NaN</td>\n",
       "      <td>NaN</td>\n",
       "      <td>NaN</td>\n",
       "      <td>Vítima</td>\n",
       "      <td>Feminino</td>\n",
       "      <td>61.0</td>\n",
       "      <td>1955-11-06</td>\n",
       "      <td>Parda</td>\n",
       "      <td>APOSENTADO(A)</td>\n",
       "      <td>HOMICÍDIO DOLOSO</td>\n",
       "    </tr>\n",
       "    <tr>\n",
       "      <th>4</th>\n",
       "      <td>DECAP</td>\n",
       "      <td>3ª SEC</td>\n",
       "      <td>São Paulo</td>\n",
       "      <td>034 DP - Vila Sonia</td>\n",
       "      <td>1.0</td>\n",
       "      <td>1</td>\n",
       "      <td>10356</td>\n",
       "      <td>1</td>\n",
       "      <td>2017</td>\n",
       "      <td>2017-01-01</td>\n",
       "      <td>2</td>\n",
       "      <td>2017</td>\n",
       "      <td>S.PAULO</td>\n",
       "      <td>89º D.P. JARDIM TABOAO</td>\n",
       "      <td>DEL.SEC.3º OESTE</td>\n",
       "      <td>DECAP</td>\n",
       "      <td>2017-01-01</td>\n",
       "      <td>00:37:00</td>\n",
       "      <td>Residência</td>\n",
       "      <td>DA VEDAÇÃO DA DIVULGAÇÃO DOS DADOS RELATIVOS</td>\n",
       "      <td>NaN</td>\n",
       "      <td>NaN</td>\n",
       "      <td>NaN</td>\n",
       "      <td>Autor/Vitima</td>\n",
       "      <td>Masculino</td>\n",
       "      <td>19.0</td>\n",
       "      <td>1997-01-21</td>\n",
       "      <td>Parda</td>\n",
       "      <td>SEM PROFISSAO DEFINIDA</td>\n",
       "      <td>HOMICÍDIO DOLOSO</td>\n",
       "    </tr>\n",
       "  </tbody>\n",
       "</table>\n",
       "</div>"
      ],
      "text/plain": [
       "  DEPARTAMENTO_CIRCUNSCRICAO SECCIONAL_CIRCUNSCRICAO MUNICIPIO_CIRCUNSCRICAO   \n",
       "0                      DECAP                  1ª SEC               São Paulo  \\\n",
       "1                      DECAP                  1ª SEC               São Paulo   \n",
       "2                      DECAP                  2ª SEC               São Paulo   \n",
       "3                      DECAP                  2ª SEC               São Paulo   \n",
       "4                      DECAP                  3ª SEC               São Paulo   \n",
       "\n",
       "         DP_CIRCUNSCRICAO    HD  Nº DE VÍT HD  ID_DELEGACIA  MÊS ESTATISTICA   \n",
       "0      002 DP - Bom Retiro  1.0             1         10102                1  \\\n",
       "1            012 DP - Pari  1.0             1         10108                1   \n",
       "2       035 DP - Jabaquara  1.0             1         10216                1   \n",
       "3  097 DP - Americanópolis  1.0             1         10226                1   \n",
       "4      034 DP - Vila Sonia  1.0             1         10356                1   \n",
       "\n",
       "   ANO ESTATISTICA DATAHORA_REGISTRO_BO NUM_BO  ANO_BO MUNICIPIO_ELABORACAO   \n",
       "0             2017           2017-01-21    440    2017              S.PAULO  \\\n",
       "1             2017           2017-01-24    489    2017              S.PAULO   \n",
       "2             2017           2017-01-15    470    2017              S.PAULO   \n",
       "3             2017           2017-01-01     19    2017              S.PAULO   \n",
       "4             2017           2017-01-01      2    2017              S.PAULO   \n",
       "\n",
       "              DP_ELABORACAO     SEC_ELABORACAO DEP_ELABORACAO  DATA_FATO   \n",
       "0       02º D.P. BOM RETIRO  DEL.SEC.1º CENTRO          DECAP 2017-01-21  \\\n",
       "1             08º D.P. BRAS  DEL.SEC.1º CENTRO          DECAP 2017-01-24   \n",
       "2  16º D.P. VILA CLEMENTINO     DEL.SEC.2º SUL          DECAP 2017-01-15   \n",
       "3           26º D.P. SACOMA     DEL.SEC.2º SUL          DECAP 2017-01-01   \n",
       "4    89º D.P. JARDIM TABOAO   DEL.SEC.3º OESTE          DECAP 2017-01-01   \n",
       "\n",
       "  HORA_FATO DESC_TIPOLOCAL                                     LOGRADOURO   \n",
       "0  17:15:00    Via pública                                   PRAÇA DA LUZ  \\\n",
       "1  16:32:00    Via pública                             RUA JOAQUIM CARLOS   \n",
       "2  01:14:00    Via pública                               TRAVESSA JUPATIS   \n",
       "3  16:19:00     Residência  DA VEDAÇÃO DA DIVULGAÇÃO DOS DADOS RELATIVOS    \n",
       "4  00:37:00     Residência  DA VEDAÇÃO DA DIVULGAÇÃO DOS DADOS RELATIVOS    \n",
       "\n",
       "  NUMERO_LOGRADOURO   LATITUDE  LONGITUDE   TIPO_PESSOA SEXO_PESSOA   \n",
       "0               1.0 -23.535135 -46.633779        Vítima   Masculino  \\\n",
       "1            1379.0 -23.524742 -46.608382        Vítima   Masculino   \n",
       "2             110.0 -23.652974 -46.649025        Vítima   Masculino   \n",
       "3               NaN        NaN        NaN        Vítima    Feminino   \n",
       "4               NaN        NaN        NaN  Autor/Vitima   Masculino   \n",
       "\n",
       "  IDADE_PESSOA DATA_NASCIMENTO_PESSOA COR_PELE               PROFISSAO   \n",
       "0          NaN                    NaT    Parda                     NaN  \\\n",
       "1          NaN                    NaT    Preta                     NaN   \n",
       "2         33.0             1983-09-05    Parda            DESEMPREGADO   \n",
       "3         61.0             1955-11-06    Parda           APOSENTADO(A)   \n",
       "4         19.0             1997-01-21    Parda  SEM PROFISSAO DEFINIDA   \n",
       "\n",
       "   NATUREZA_APURADA  \n",
       "0  HOMICÍDIO DOLOSO  \n",
       "1  HOMICÍDIO DOLOSO  \n",
       "2  HOMICÍDIO DOLOSO  \n",
       "3  HOMICÍDIO DOLOSO  \n",
       "4  HOMICÍDIO DOLOSO  "
      ]
     },
     "execution_count": 4,
     "metadata": {},
     "output_type": "execute_result"
    }
   ],
   "source": [
    "df.head()"
   ]
  },
  {
   "cell_type": "code",
   "execution_count": 5,
   "id": "939da1b6-6b35-46ea-83b7-9e0dabd01f42",
   "metadata": {
    "tags": []
   },
   "outputs": [
    {
     "data": {
      "text/html": [
       "<div>\n",
       "<style scoped>\n",
       "    .dataframe tbody tr th:only-of-type {\n",
       "        vertical-align: middle;\n",
       "    }\n",
       "\n",
       "    .dataframe tbody tr th {\n",
       "        vertical-align: top;\n",
       "    }\n",
       "\n",
       "    .dataframe thead th {\n",
       "        text-align: right;\n",
       "    }\n",
       "</style>\n",
       "<table border=\"1\" class=\"dataframe\">\n",
       "  <thead>\n",
       "    <tr style=\"text-align: right;\">\n",
       "      <th></th>\n",
       "      <th>DEPARTAMENTO_CIRCUNSCRICAO</th>\n",
       "      <th>SECCIONAL_CIRCUNSCRICAO</th>\n",
       "      <th>MUNICIPIO_CIRCUNSCRICAO</th>\n",
       "      <th>DP_CIRCUNSCRICAO</th>\n",
       "      <th>HD</th>\n",
       "      <th>Nº DE VÍT HD</th>\n",
       "      <th>ID_DELEGACIA</th>\n",
       "      <th>MÊS ESTATISTICA</th>\n",
       "      <th>ANO ESTATISTICA</th>\n",
       "      <th>DATAHORA_REGISTRO_BO</th>\n",
       "      <th>NUM_BO</th>\n",
       "      <th>ANO_BO</th>\n",
       "      <th>MUNICIPIO_ELABORACAO</th>\n",
       "      <th>DP_ELABORACAO</th>\n",
       "      <th>SEC_ELABORACAO</th>\n",
       "      <th>DEP_ELABORACAO</th>\n",
       "      <th>DATA_FATO</th>\n",
       "      <th>HORA_FATO</th>\n",
       "      <th>DESC_TIPOLOCAL</th>\n",
       "      <th>LOGRADOURO</th>\n",
       "      <th>NUMERO_LOGRADOURO</th>\n",
       "      <th>LATITUDE</th>\n",
       "      <th>LONGITUDE</th>\n",
       "      <th>TIPO_PESSOA</th>\n",
       "      <th>SEXO_PESSOA</th>\n",
       "      <th>IDADE_PESSOA</th>\n",
       "      <th>DATA_NASCIMENTO_PESSOA</th>\n",
       "      <th>COR_PELE</th>\n",
       "      <th>PROFISSAO</th>\n",
       "      <th>NATUREZA_APURADA</th>\n",
       "    </tr>\n",
       "  </thead>\n",
       "  <tbody>\n",
       "    <tr>\n",
       "      <th>3039</th>\n",
       "      <td>DEMACRO</td>\n",
       "      <td>SEC Taboão da Serra</td>\n",
       "      <td>Itapecerica da Serra</td>\n",
       "      <td>DM - Itapecerica da Serra</td>\n",
       "      <td>1.0</td>\n",
       "      <td>1</td>\n",
       "      <td>30406</td>\n",
       "      <td>12</td>\n",
       "      <td>2022</td>\n",
       "      <td>2022-12-10</td>\n",
       "      <td>4295</td>\n",
       "      <td>2022</td>\n",
       "      <td>ITAPECERICA DA SERRA</td>\n",
       "      <td>DEL.POL.ITAPECERICA DA SERRA</td>\n",
       "      <td>DEL.SEC.TABOÃO DA SERRA</td>\n",
       "      <td>DEMACRO</td>\n",
       "      <td>2022-12-09</td>\n",
       "      <td>22:10:00</td>\n",
       "      <td>Via pública</td>\n",
       "      <td>Rodovia Prefeito Bento Rotger Domingues</td>\n",
       "      <td>2305.0</td>\n",
       "      <td>-23.750834</td>\n",
       "      <td>-46.843815</td>\n",
       "      <td>Autor/Vitima</td>\n",
       "      <td>Masculino</td>\n",
       "      <td>23</td>\n",
       "      <td>1999-07-15</td>\n",
       "      <td>Parda</td>\n",
       "      <td>AUTONOMO(A)</td>\n",
       "      <td>HOMICÍDIO DOLOSO</td>\n",
       "    </tr>\n",
       "    <tr>\n",
       "      <th>3040</th>\n",
       "      <td>DEMACRO</td>\n",
       "      <td>SEC Taboão da Serra</td>\n",
       "      <td>Itapecerica da Serra</td>\n",
       "      <td>DM - Itapecerica da Serra</td>\n",
       "      <td>1.0</td>\n",
       "      <td>1</td>\n",
       "      <td>30406</td>\n",
       "      <td>12</td>\n",
       "      <td>2022</td>\n",
       "      <td>2022-12-18</td>\n",
       "      <td>4399</td>\n",
       "      <td>2022</td>\n",
       "      <td>ITAPECERICA DA SERRA</td>\n",
       "      <td>DEL.POL.ITAPECERICA DA SERRA</td>\n",
       "      <td>DEL.SEC.TABOÃO DA SERRA</td>\n",
       "      <td>DEMACRO</td>\n",
       "      <td>2022-12-17</td>\n",
       "      <td>21:39:00</td>\n",
       "      <td>Via pública</td>\n",
       "      <td>RUA TAMBE</td>\n",
       "      <td>203.0</td>\n",
       "      <td>-23.687628</td>\n",
       "      <td>-46.857262</td>\n",
       "      <td>Vítima</td>\n",
       "      <td>Masculino</td>\n",
       "      <td>60</td>\n",
       "      <td>1962-03-10</td>\n",
       "      <td>Branca</td>\n",
       "      <td>NaN</td>\n",
       "      <td>HOMICÍDIO DOLOSO</td>\n",
       "    </tr>\n",
       "    <tr>\n",
       "      <th>3041</th>\n",
       "      <td>DEMACRO</td>\n",
       "      <td>SEC Taboão da Serra</td>\n",
       "      <td>Taboão da Serra</td>\n",
       "      <td>001 DP - Taboão da Serra</td>\n",
       "      <td>1.0</td>\n",
       "      <td>1</td>\n",
       "      <td>30614</td>\n",
       "      <td>12</td>\n",
       "      <td>2022</td>\n",
       "      <td>2022-12-15</td>\n",
       "      <td>3921</td>\n",
       "      <td>2022</td>\n",
       "      <td>TABOAO DA SERRA</td>\n",
       "      <td>01º D.P. TABOÃO DA SERRA</td>\n",
       "      <td>DEL.SEC.TABOÃO DA SERRA</td>\n",
       "      <td>DEMACRO</td>\n",
       "      <td>2022-12-14</td>\n",
       "      <td>23:53:00</td>\n",
       "      <td>Residência</td>\n",
       "      <td>DA VEDAÇÃO DA DIVULGAÇÃO DOS DADOS RELATIVOS</td>\n",
       "      <td>NaN</td>\n",
       "      <td>NaN</td>\n",
       "      <td>NaN</td>\n",
       "      <td>Vítima</td>\n",
       "      <td>Masculino</td>\n",
       "      <td>30</td>\n",
       "      <td>1992-10-05</td>\n",
       "      <td>Parda</td>\n",
       "      <td>PEDREIRO</td>\n",
       "      <td>HOMICÍDIO DOLOSO</td>\n",
       "    </tr>\n",
       "    <tr>\n",
       "      <th>3042</th>\n",
       "      <td>DEMACRO</td>\n",
       "      <td>SEC Taboão da Serra</td>\n",
       "      <td>Taboão da Serra</td>\n",
       "      <td>002 DP - Taboão da Serra</td>\n",
       "      <td>1.0</td>\n",
       "      <td>1</td>\n",
       "      <td>30614</td>\n",
       "      <td>12</td>\n",
       "      <td>2022</td>\n",
       "      <td>2022-12-22</td>\n",
       "      <td>4014</td>\n",
       "      <td>2022</td>\n",
       "      <td>TABOAO DA SERRA</td>\n",
       "      <td>01º D.P. TABOÃO DA SERRA</td>\n",
       "      <td>DEL.SEC.TABOÃO DA SERRA</td>\n",
       "      <td>DEMACRO</td>\n",
       "      <td>2022-12-21</td>\n",
       "      <td>17:32:00</td>\n",
       "      <td>Via pública</td>\n",
       "      <td>RUA VINTE E CINCO DE JANEIRO</td>\n",
       "      <td>100.0</td>\n",
       "      <td>-23.636569</td>\n",
       "      <td>-46.796648</td>\n",
       "      <td>Vítima</td>\n",
       "      <td>Masculino</td>\n",
       "      <td>54</td>\n",
       "      <td>1968-04-02</td>\n",
       "      <td>Preta</td>\n",
       "      <td>POLICIAL MILITAR</td>\n",
       "      <td>HOMICÍDIO DOLOSO</td>\n",
       "    </tr>\n",
       "    <tr>\n",
       "      <th>3043</th>\n",
       "      <td>DEMACRO</td>\n",
       "      <td>SEC Taboão da Serra</td>\n",
       "      <td>Taboão da Serra</td>\n",
       "      <td>002 DP - Taboão da Serra</td>\n",
       "      <td>1.0</td>\n",
       "      <td>1</td>\n",
       "      <td>30614</td>\n",
       "      <td>12</td>\n",
       "      <td>2022</td>\n",
       "      <td>2022-12-24</td>\n",
       "      <td>4048</td>\n",
       "      <td>2022</td>\n",
       "      <td>TABOAO DA SERRA</td>\n",
       "      <td>01º D.P. TABOÃO DA SERRA</td>\n",
       "      <td>DEL.SEC.TABOÃO DA SERRA</td>\n",
       "      <td>DEMACRO</td>\n",
       "      <td>2022-12-23</td>\n",
       "      <td>23:48:00</td>\n",
       "      <td>Via pública</td>\n",
       "      <td>ESTRADA KIZAEMON TAKEUTI</td>\n",
       "      <td>749.0</td>\n",
       "      <td>-23.633967</td>\n",
       "      <td>-46.783963</td>\n",
       "      <td>Vítima</td>\n",
       "      <td>Masculino</td>\n",
       "      <td>45</td>\n",
       "      <td>1977-05-18</td>\n",
       "      <td>Branca</td>\n",
       "      <td>OUTROS</td>\n",
       "      <td>HOMICÍDIO DOLOSO</td>\n",
       "    </tr>\n",
       "  </tbody>\n",
       "</table>\n",
       "</div>"
      ],
      "text/plain": [
       "     DEPARTAMENTO_CIRCUNSCRICAO SECCIONAL_CIRCUNSCRICAO   \n",
       "3039                    DEMACRO     SEC Taboão da Serra  \\\n",
       "3040                    DEMACRO     SEC Taboão da Serra   \n",
       "3041                    DEMACRO     SEC Taboão da Serra   \n",
       "3042                    DEMACRO     SEC Taboão da Serra   \n",
       "3043                    DEMACRO     SEC Taboão da Serra   \n",
       "\n",
       "     MUNICIPIO_CIRCUNSCRICAO          DP_CIRCUNSCRICAO    HD  Nº DE VÍT HD   \n",
       "3039    Itapecerica da Serra  DM - Itapecerica da Serra  1.0             1  \\\n",
       "3040    Itapecerica da Serra  DM - Itapecerica da Serra  1.0             1   \n",
       "3041         Taboão da Serra   001 DP - Taboão da Serra  1.0             1   \n",
       "3042         Taboão da Serra   002 DP - Taboão da Serra  1.0             1   \n",
       "3043         Taboão da Serra   002 DP - Taboão da Serra  1.0             1   \n",
       "\n",
       "      ID_DELEGACIA  MÊS ESTATISTICA  ANO ESTATISTICA DATAHORA_REGISTRO_BO   \n",
       "3039         30406               12             2022           2022-12-10  \\\n",
       "3040         30406               12             2022           2022-12-18   \n",
       "3041         30614               12             2022           2022-12-15   \n",
       "3042         30614               12             2022           2022-12-22   \n",
       "3043         30614               12             2022           2022-12-24   \n",
       "\n",
       "     NUM_BO  ANO_BO  MUNICIPIO_ELABORACAO                 DP_ELABORACAO   \n",
       "3039   4295    2022  ITAPECERICA DA SERRA  DEL.POL.ITAPECERICA DA SERRA  \\\n",
       "3040   4399    2022  ITAPECERICA DA SERRA  DEL.POL.ITAPECERICA DA SERRA   \n",
       "3041   3921    2022       TABOAO DA SERRA      01º D.P. TABOÃO DA SERRA   \n",
       "3042   4014    2022       TABOAO DA SERRA      01º D.P. TABOÃO DA SERRA   \n",
       "3043   4048    2022       TABOAO DA SERRA      01º D.P. TABOÃO DA SERRA   \n",
       "\n",
       "               SEC_ELABORACAO DEP_ELABORACAO  DATA_FATO HORA_FATO   \n",
       "3039  DEL.SEC.TABOÃO DA SERRA        DEMACRO 2022-12-09  22:10:00  \\\n",
       "3040  DEL.SEC.TABOÃO DA SERRA        DEMACRO 2022-12-17  21:39:00   \n",
       "3041  DEL.SEC.TABOÃO DA SERRA        DEMACRO 2022-12-14  23:53:00   \n",
       "3042  DEL.SEC.TABOÃO DA SERRA        DEMACRO 2022-12-21  17:32:00   \n",
       "3043  DEL.SEC.TABOÃO DA SERRA        DEMACRO 2022-12-23  23:48:00   \n",
       "\n",
       "     DESC_TIPOLOCAL                                     LOGRADOURO   \n",
       "3039    Via pública        Rodovia Prefeito Bento Rotger Domingues  \\\n",
       "3040    Via pública                                      RUA TAMBE   \n",
       "3041     Residência  DA VEDAÇÃO DA DIVULGAÇÃO DOS DADOS RELATIVOS    \n",
       "3042    Via pública                   RUA VINTE E CINCO DE JANEIRO   \n",
       "3043    Via pública                       ESTRADA KIZAEMON TAKEUTI   \n",
       "\n",
       "     NUMERO_LOGRADOURO   LATITUDE  LONGITUDE   TIPO_PESSOA SEXO_PESSOA   \n",
       "3039            2305.0 -23.750834 -46.843815  Autor/Vitima   Masculino  \\\n",
       "3040             203.0 -23.687628 -46.857262        Vítima   Masculino   \n",
       "3041               NaN        NaN        NaN        Vítima   Masculino   \n",
       "3042             100.0 -23.636569 -46.796648        Vítima   Masculino   \n",
       "3043             749.0 -23.633967 -46.783963        Vítima   Masculino   \n",
       "\n",
       "     IDADE_PESSOA DATA_NASCIMENTO_PESSOA COR_PELE         PROFISSAO   \n",
       "3039           23             1999-07-15    Parda       AUTONOMO(A)  \\\n",
       "3040           60             1962-03-10   Branca               NaN   \n",
       "3041           30             1992-10-05    Parda          PEDREIRO   \n",
       "3042           54             1968-04-02    Preta  POLICIAL MILITAR   \n",
       "3043           45             1977-05-18   Branca            OUTROS   \n",
       "\n",
       "      NATUREZA_APURADA  \n",
       "3039  HOMICÍDIO DOLOSO  \n",
       "3040  HOMICÍDIO DOLOSO  \n",
       "3041  HOMICÍDIO DOLOSO  \n",
       "3042  HOMICÍDIO DOLOSO  \n",
       "3043  HOMICÍDIO DOLOSO  "
      ]
     },
     "execution_count": 5,
     "metadata": {},
     "output_type": "execute_result"
    }
   ],
   "source": [
    "df.tail()"
   ]
  },
  {
   "cell_type": "code",
   "execution_count": 6,
   "id": "770dca7c-aebc-447e-a66b-4c92b6795c4b",
   "metadata": {
    "tags": []
   },
   "outputs": [
    {
     "data": {
      "text/plain": [
       "(18445, 30)"
      ]
     },
     "execution_count": 6,
     "metadata": {},
     "output_type": "execute_result"
    }
   ],
   "source": [
    "df.shape"
   ]
  },
  {
   "cell_type": "code",
   "execution_count": 7,
   "id": "26733178-526c-42fe-8670-4fffda5a4bdf",
   "metadata": {
    "tags": []
   },
   "outputs": [
    {
     "name": "stdout",
     "output_type": "stream",
     "text": [
      "<class 'pandas.core.frame.DataFrame'>\n",
      "Index: 18445 entries, 0 to 3043\n",
      "Data columns (total 30 columns):\n",
      " #   Column                      Non-Null Count  Dtype         \n",
      "---  ------                      --------------  -----         \n",
      " 0   DEPARTAMENTO_CIRCUNSCRICAO  18445 non-null  object        \n",
      " 1   SECCIONAL_CIRCUNSCRICAO     18445 non-null  object        \n",
      " 2   MUNICIPIO_CIRCUNSCRICAO     18445 non-null  object        \n",
      " 3   DP_CIRCUNSCRICAO            18445 non-null  object        \n",
      " 4   HD                          17536 non-null  float64       \n",
      " 5   Nº DE VÍT HD                18445 non-null  int64         \n",
      " 6   ID_DELEGACIA                18445 non-null  int64         \n",
      " 7   MÊS ESTATISTICA             18445 non-null  int64         \n",
      " 8   ANO ESTATISTICA             18445 non-null  int64         \n",
      " 9   DATAHORA_REGISTRO_BO        18445 non-null  datetime64[ns]\n",
      " 10  NUM_BO                      18445 non-null  object        \n",
      " 11  ANO_BO                      18445 non-null  int64         \n",
      " 12  MUNICIPIO_ELABORACAO        18445 non-null  object        \n",
      " 13  DP_ELABORACAO               18445 non-null  object        \n",
      " 14  SEC_ELABORACAO              18445 non-null  object        \n",
      " 15  DEP_ELABORACAO              18445 non-null  object        \n",
      " 16  DATA_FATO                   18445 non-null  datetime64[ns]\n",
      " 17  HORA_FATO                   18445 non-null  object        \n",
      " 18  DESC_TIPOLOCAL              18439 non-null  object        \n",
      " 19  LOGRADOURO                  18445 non-null  object        \n",
      " 20  NUMERO_LOGRADOURO           14160 non-null  object        \n",
      " 21  LATITUDE                    13284 non-null  float64       \n",
      " 22  LONGITUDE                   13285 non-null  float64       \n",
      " 23  TIPO_PESSOA                 18445 non-null  object        \n",
      " 24  SEXO_PESSOA                 18445 non-null  object        \n",
      " 25  IDADE_PESSOA                16416 non-null  object        \n",
      " 26  DATA_NASCIMENTO_PESSOA      16240 non-null  datetime64[ns]\n",
      " 27  COR_PELE                    18442 non-null  object        \n",
      " 28  PROFISSAO                   10981 non-null  object        \n",
      " 29  NATUREZA_APURADA            18445 non-null  object        \n",
      "dtypes: datetime64[ns](3), float64(3), int64(5), object(19)\n",
      "memory usage: 4.4+ MB\n"
     ]
    }
   ],
   "source": [
    "df.info()"
   ]
  },
  {
   "cell_type": "code",
   "execution_count": 8,
   "id": "83399c85-aa5b-4652-a5bd-f123d14510cf",
   "metadata": {
    "tags": []
   },
   "outputs": [
    {
     "data": {
      "text/html": [
       "<div>\n",
       "<style scoped>\n",
       "    .dataframe tbody tr th:only-of-type {\n",
       "        vertical-align: middle;\n",
       "    }\n",
       "\n",
       "    .dataframe tbody tr th {\n",
       "        vertical-align: top;\n",
       "    }\n",
       "\n",
       "    .dataframe thead th {\n",
       "        text-align: right;\n",
       "    }\n",
       "</style>\n",
       "<table border=\"1\" class=\"dataframe\">\n",
       "  <thead>\n",
       "    <tr style=\"text-align: right;\">\n",
       "      <th></th>\n",
       "      <th>HD</th>\n",
       "      <th>Nº DE VÍT HD</th>\n",
       "      <th>ID_DELEGACIA</th>\n",
       "      <th>MÊS ESTATISTICA</th>\n",
       "      <th>ANO ESTATISTICA</th>\n",
       "      <th>DATAHORA_REGISTRO_BO</th>\n",
       "      <th>ANO_BO</th>\n",
       "      <th>DATA_FATO</th>\n",
       "      <th>LATITUDE</th>\n",
       "      <th>LONGITUDE</th>\n",
       "      <th>DATA_NASCIMENTO_PESSOA</th>\n",
       "    </tr>\n",
       "  </thead>\n",
       "  <tbody>\n",
       "    <tr>\n",
       "      <th>count</th>\n",
       "      <td>17536.0</td>\n",
       "      <td>18445.0</td>\n",
       "      <td>18445.000000</td>\n",
       "      <td>18445.000000</td>\n",
       "      <td>18445.000000</td>\n",
       "      <td>18445</td>\n",
       "      <td>18445.000000</td>\n",
       "      <td>18445</td>\n",
       "      <td>13284.000000</td>\n",
       "      <td>13285.000000</td>\n",
       "      <td>16240</td>\n",
       "    </tr>\n",
       "    <tr>\n",
       "      <th>mean</th>\n",
       "      <td>1.0</td>\n",
       "      <td>1.0</td>\n",
       "      <td>69387.838601</td>\n",
       "      <td>6.493413</td>\n",
       "      <td>2019.420168</td>\n",
       "      <td>2019-12-02 00:34:13.390094336</td>\n",
       "      <td>2019.421361</td>\n",
       "      <td>2019-12-01 09:16:14.898346496</td>\n",
       "      <td>-23.064318</td>\n",
       "      <td>-47.043922</td>\n",
       "      <td>1984-02-15 00:26:57.339901504</td>\n",
       "    </tr>\n",
       "    <tr>\n",
       "      <th>min</th>\n",
       "      <td>1.0</td>\n",
       "      <td>1.0</td>\n",
       "      <td>10004.000000</td>\n",
       "      <td>1.000000</td>\n",
       "      <td>2017.000000</td>\n",
       "      <td>2017-01-01 00:00:00</td>\n",
       "      <td>2017.000000</td>\n",
       "      <td>2016-01-19 00:00:00</td>\n",
       "      <td>-25.013276</td>\n",
       "      <td>-52.946693</td>\n",
       "      <td>1900-01-04 00:00:00</td>\n",
       "    </tr>\n",
       "    <tr>\n",
       "      <th>25%</th>\n",
       "      <td>1.0</td>\n",
       "      <td>1.0</td>\n",
       "      <td>30204.000000</td>\n",
       "      <td>3.000000</td>\n",
       "      <td>2018.000000</td>\n",
       "      <td>2018-05-06 00:00:00</td>\n",
       "      <td>2018.000000</td>\n",
       "      <td>2018-05-05 00:00:00</td>\n",
       "      <td>-23.613530</td>\n",
       "      <td>-47.317517</td>\n",
       "      <td>1976-04-06 18:00:00</td>\n",
       "    </tr>\n",
       "    <tr>\n",
       "      <th>50%</th>\n",
       "      <td>1.0</td>\n",
       "      <td>1.0</td>\n",
       "      <td>60050.000000</td>\n",
       "      <td>6.000000</td>\n",
       "      <td>2019.000000</td>\n",
       "      <td>2019-12-04 00:00:00</td>\n",
       "      <td>2019.000000</td>\n",
       "      <td>2019-12-03 00:00:00</td>\n",
       "      <td>-23.453261</td>\n",
       "      <td>-46.754598</td>\n",
       "      <td>1985-09-12 12:00:00</td>\n",
       "    </tr>\n",
       "    <tr>\n",
       "      <th>75%</th>\n",
       "      <td>1.0</td>\n",
       "      <td>1.0</td>\n",
       "      <td>100911.000000</td>\n",
       "      <td>10.000000</td>\n",
       "      <td>2021.000000</td>\n",
       "      <td>2021-06-01 00:00:00</td>\n",
       "      <td>2021.000000</td>\n",
       "      <td>2021-05-31 00:00:00</td>\n",
       "      <td>-22.799955</td>\n",
       "      <td>-46.476308</td>\n",
       "      <td>1994-05-26 12:00:00</td>\n",
       "    </tr>\n",
       "    <tr>\n",
       "      <th>max</th>\n",
       "      <td>1.0</td>\n",
       "      <td>1.0</td>\n",
       "      <td>900593.000000</td>\n",
       "      <td>12.000000</td>\n",
       "      <td>2022.000000</td>\n",
       "      <td>2023-01-01 00:00:00</td>\n",
       "      <td>2023.000000</td>\n",
       "      <td>2022-12-31 00:00:00</td>\n",
       "      <td>0.000000</td>\n",
       "      <td>0.000000</td>\n",
       "      <td>2022-05-07 00:00:00</td>\n",
       "    </tr>\n",
       "    <tr>\n",
       "      <th>std</th>\n",
       "      <td>0.0</td>\n",
       "      <td>0.0</td>\n",
       "      <td>75779.164810</td>\n",
       "      <td>3.535491</td>\n",
       "      <td>1.737609</td>\n",
       "      <td>NaN</td>\n",
       "      <td>1.739566</td>\n",
       "      <td>NaN</td>\n",
       "      <td>0.885189</td>\n",
       "      <td>1.291568</td>\n",
       "      <td>NaN</td>\n",
       "    </tr>\n",
       "  </tbody>\n",
       "</table>\n",
       "</div>"
      ],
      "text/plain": [
       "            HD  Nº DE VÍT HD   ID_DELEGACIA  MÊS ESTATISTICA  ANO ESTATISTICA   \n",
       "count  17536.0       18445.0   18445.000000     18445.000000     18445.000000  \\\n",
       "mean       1.0           1.0   69387.838601         6.493413      2019.420168   \n",
       "min        1.0           1.0   10004.000000         1.000000      2017.000000   \n",
       "25%        1.0           1.0   30204.000000         3.000000      2018.000000   \n",
       "50%        1.0           1.0   60050.000000         6.000000      2019.000000   \n",
       "75%        1.0           1.0  100911.000000        10.000000      2021.000000   \n",
       "max        1.0           1.0  900593.000000        12.000000      2022.000000   \n",
       "std        0.0           0.0   75779.164810         3.535491         1.737609   \n",
       "\n",
       "                DATAHORA_REGISTRO_BO        ANO_BO   \n",
       "count                          18445  18445.000000  \\\n",
       "mean   2019-12-02 00:34:13.390094336   2019.421361   \n",
       "min              2017-01-01 00:00:00   2017.000000   \n",
       "25%              2018-05-06 00:00:00   2018.000000   \n",
       "50%              2019-12-04 00:00:00   2019.000000   \n",
       "75%              2021-06-01 00:00:00   2021.000000   \n",
       "max              2023-01-01 00:00:00   2023.000000   \n",
       "std                              NaN      1.739566   \n",
       "\n",
       "                           DATA_FATO      LATITUDE     LONGITUDE   \n",
       "count                          18445  13284.000000  13285.000000  \\\n",
       "mean   2019-12-01 09:16:14.898346496    -23.064318    -47.043922   \n",
       "min              2016-01-19 00:00:00    -25.013276    -52.946693   \n",
       "25%              2018-05-05 00:00:00    -23.613530    -47.317517   \n",
       "50%              2019-12-03 00:00:00    -23.453261    -46.754598   \n",
       "75%              2021-05-31 00:00:00    -22.799955    -46.476308   \n",
       "max              2022-12-31 00:00:00      0.000000      0.000000   \n",
       "std                              NaN      0.885189      1.291568   \n",
       "\n",
       "              DATA_NASCIMENTO_PESSOA  \n",
       "count                          16240  \n",
       "mean   1984-02-15 00:26:57.339901504  \n",
       "min              1900-01-04 00:00:00  \n",
       "25%              1976-04-06 18:00:00  \n",
       "50%              1985-09-12 12:00:00  \n",
       "75%              1994-05-26 12:00:00  \n",
       "max              2022-05-07 00:00:00  \n",
       "std                              NaN  "
      ]
     },
     "execution_count": 8,
     "metadata": {},
     "output_type": "execute_result"
    }
   ],
   "source": [
    "df.describe()"
   ]
  },
  {
   "cell_type": "markdown",
   "id": "4a22f7a0-2a76-48e3-8a6a-5e60977fbf5f",
   "metadata": {
    "tags": []
   },
   "source": [
    "#### Selecionando apenas colunas que podem gerar insights "
   ]
  },
  {
   "cell_type": "code",
   "execution_count": 9,
   "id": "f4c944c7-e9ef-49fa-8e6f-688a856d33aa",
   "metadata": {
    "tags": []
   },
   "outputs": [],
   "source": [
    "# Selecionando apenas colunas que podem gerar insights \n",
    "df_2 = df[['DEPARTAMENTO_CIRCUNSCRICAO', 'SECCIONAL_CIRCUNSCRICAO', 'MUNICIPIO_CIRCUNSCRICAO', 'DP_CIRCUNSCRICAO ', 'MÊS ESTATISTICA', 'ANO ESTATISTICA', 'MUNICIPIO_ELABORACAO', 'DP_ELABORACAO', 'SEC_ELABORACAO', 'DESC_TIPOLOCAL', 'LOGRADOURO', 'NUMERO_LOGRADOURO', 'LATITUDE', 'LONGITUDE', 'TIPO_PESSOA', 'SEXO_PESSOA', 'IDADE_PESSOA', 'DATA_NASCIMENTO_PESSOA', 'COR_PELE', 'PROFISSAO', 'NATUREZA_APURADA']]"
   ]
  },
  {
   "cell_type": "markdown",
   "id": "6a14c694-c239-4e5f-bb71-279753abb1ac",
   "metadata": {},
   "source": [
    "##### Renomeando as colunas"
   ]
  },
  {
   "cell_type": "code",
   "execution_count": 10,
   "id": "c0a4ffc6-3e25-4eb9-9c62-3636f4aa3e96",
   "metadata": {},
   "outputs": [],
   "source": [
    "df_2 = df_2.rename(columns={'DEPARTAMENTO_CIRCUNSCRICAO': 'departamento_circunscricao', 'SECCIONAL_CIRCUNSCRICAO': 'seccional_circunscricao', 'MUNICIPIO_CIRCUNSCRICAO': 'municipio_circunscricao', 'DP_CIRCUNSCRICAO ': 'dp_circunscricao', 'MÊS ESTATISTICA': 'mes_estatistica', 'ANO ESTATISTICA': 'ano_estatistica', 'MUNICIPIO_ELABORACAO': 'municipio_elaboracao', 'DP_ELABORACAO': 'dp_elaboracao', 'SEC_ELABORACAO': 'sec_elaboracao', 'DESC_TIPOLOCAL': 'desc_tipo_local', 'LOGRADOURO': 'logradouro', 'NUMERO_LOGRADOURO': 'num_logradouro', 'LATITUDE': 'latitude', 'LONGITUDE': 'longitude', 'TIPO_PESSOA': 'tp_pessoa', 'SEXO_PESSOA': 'sexo_pessoa', 'IDADE_PESSOA': 'idade_pessoa', 'DATA_NASCIMENTO_PESSOA': 'dt_nascimento_pessoa', 'COR_PELE': 'cor_pele', 'PROFISSAO': 'profissao', 'NATUREZA_APURADA': 'natureza_apurada'})"
   ]
  },
  {
   "cell_type": "code",
   "execution_count": 11,
   "id": "20ab4629-c3ed-4c94-b17a-095d6651befc",
   "metadata": {
    "tags": []
   },
   "outputs": [
    {
     "data": {
      "text/plain": [
       "Index(['departamento_circunscricao', 'seccional_circunscricao',\n",
       "       'municipio_circunscricao', 'dp_circunscricao', 'mes_estatistica',\n",
       "       'ano_estatistica', 'municipio_elaboracao', 'dp_elaboracao',\n",
       "       'sec_elaboracao', 'desc_tipo_local', 'logradouro', 'num_logradouro',\n",
       "       'latitude', 'longitude', 'tp_pessoa', 'sexo_pessoa', 'idade_pessoa',\n",
       "       'dt_nascimento_pessoa', 'cor_pele', 'profissao', 'natureza_apurada'],\n",
       "      dtype='object')"
      ]
     },
     "execution_count": 11,
     "metadata": {},
     "output_type": "execute_result"
    }
   ],
   "source": [
    "df_2.columns"
   ]
  },
  {
   "cell_type": "markdown",
   "id": "a830abc2-9e1d-4e87-813d-8ea381e6b2de",
   "metadata": {
    "tags": []
   },
   "source": [
    "#### Colunas com campos não preenchidos"
   ]
  },
  {
   "cell_type": "code",
   "execution_count": 12,
   "id": "fdbe70fc-ecaa-43fb-b5dc-4b21b1eac686",
   "metadata": {
    "tags": []
   },
   "outputs": [
    {
     "data": {
      "text/plain": [
       "<Axes: >"
      ]
     },
     "execution_count": 12,
     "metadata": {},
     "output_type": "execute_result"
    },
    {
     "data": {
      "image/png": "[encoded data removed]",
      "text/plain": [
       "<Figure size 500x500 with 1 Axes>"
      ]
     },
     "metadata": {},
     "output_type": "display_data"
    }
   ],
   "source": [
    "percent_missing = df_2.isnull().sum() * 100 / len(df_2)\n",
    "qtde_registros_missing = df_2.isnull().sum()\n",
    "missing_values =  pd.DataFrame({'percent_missing': percent_missing})\n",
    "missing_values.sort_values(by='percent_missing').plot(kind='barh', figsize=(5, 5))"
   ]
  },
  {
   "cell_type": "markdown",
   "id": "e16953b7-6ba9-42da-aece-1fb8b88216a1",
   "metadata": {},
   "source": [
    "### Analisando as variáveis"
   ]
  },
  {
   "cell_type": "markdown",
   "id": "78ee93e8-01fe-48e3-aad3-1f60179d02a4",
   "metadata": {},
   "source": [
    "### Profissão\n",
    "A variável descreve a profissão da vítima catalogada na hora do cadastramento do BO\n",
    "##### Tratamentos\n",
    "1. Valores cadastrados de formas deferentes (Via pública => via publica..)\n",
    "##### Comentários\n",
    "- Esta columna possui cerca de 40% do total da base em valores NULLS, porém podemos utilizar técnica de preenchimento de most_frequent.\n",
    "- A coluna possui um grande preenchimento como \"Não Informada\""
   ]
  },
  {
   "cell_type": "code",
   "execution_count": 13,
   "id": "9d74b6b6",
   "metadata": {},
   "outputs": [
    {
     "data": {
      "text/plain": [
       "count             10981\n",
       "unique              418\n",
       "top       NAO INFORMADA\n",
       "freq               1126\n",
       "Name: profissao, dtype: object"
      ]
     },
     "execution_count": 13,
     "metadata": {},
     "output_type": "execute_result"
    }
   ],
   "source": [
    "df_2['profissao'].describe()"
   ]
  },
  {
   "cell_type": "code",
   "execution_count": 14,
   "id": "6580fc2a",
   "metadata": {},
   "outputs": [
    {
     "data": {
      "text/plain": [
       "profissao\n",
       "False    10981\n",
       "True      7464\n",
       "Name: count, dtype: int64"
      ]
     },
     "execution_count": 14,
     "metadata": {},
     "output_type": "execute_result"
    }
   ],
   "source": [
    "df_2['profissao'].isna().value_counts()"
   ]
  },
  {
   "cell_type": "code",
   "execution_count": 15,
   "id": "10dee8a5-8f82-4e94-82d4-83f5ce2ee38b",
   "metadata": {
    "tags": []
   },
   "outputs": [
    {
     "data": {
      "text/plain": [
       "<Axes: ylabel='profissao'>"
      ]
     },
     "execution_count": 15,
     "metadata": {},
     "output_type": "execute_result"
    },
    {
     "data": {
      "image/png": "[encoded data removed]",
      "text/plain": [
       "<Figure size 640x480 with 1 Axes>"
      ]
     },
     "metadata": {},
     "output_type": "display_data"
    }
   ],
   "source": [
    "df_2['profissao'].value_counts().head(10).sort_values(ascending=False).plot(kind='barh')"
   ]
  },
  {
   "cell_type": "markdown",
   "id": "8ea6fc5b",
   "metadata": {},
   "source": [
    "### Data de nascimento da vítima\n",
    "A variável descreve a data de nascimento da vítima\n",
    "\n",
    "#### Comentários\n",
    "1. Existem indivíduos com data de nascimento porém com idade não preenchida"
   ]
  },
  {
   "cell_type": "code",
   "execution_count": 16,
   "id": "48cf5c72",
   "metadata": {},
   "outputs": [
    {
     "data": {
      "text/plain": [
       "count                            16240\n",
       "mean     1984-02-15 00:26:57.339901504\n",
       "min                1900-01-04 00:00:00\n",
       "25%                1976-04-06 18:00:00\n",
       "50%                1985-09-12 12:00:00\n",
       "75%                1994-05-26 12:00:00\n",
       "max                2022-05-07 00:00:00\n",
       "Name: dt_nascimento_pessoa, dtype: object"
      ]
     },
     "execution_count": 16,
     "metadata": {},
     "output_type": "execute_result"
    }
   ],
   "source": [
    "df_2['dt_nascimento_pessoa'].describe()"
   ]
  },
  {
   "cell_type": "code",
   "execution_count": 17,
   "id": "c10da0e0",
   "metadata": {},
   "outputs": [
    {
     "data": {
      "text/plain": [
       "dt_nascimento_pessoa\n",
       "False    16240\n",
       "True      2205\n",
       "Name: count, dtype: int64"
      ]
     },
     "execution_count": 17,
     "metadata": {},
     "output_type": "execute_result"
    }
   ],
   "source": [
    "df_2['dt_nascimento_pessoa'].isna().value_counts()"
   ]
  },
  {
   "cell_type": "code",
   "execution_count": 72,
   "id": "53aa9744",
   "metadata": {
    "scrolled": false
   },
   "outputs": [
    {
     "data": {
      "text/html": [
       "<div>\n",
       "<style scoped>\n",
       "    .dataframe tbody tr th:only-of-type {\n",
       "        vertical-align: middle;\n",
       "    }\n",
       "\n",
       "    .dataframe tbody tr th {\n",
       "        vertical-align: top;\n",
       "    }\n",
       "\n",
       "    .dataframe thead th {\n",
       "        text-align: right;\n",
       "    }\n",
       "</style>\n",
       "<table border=\"1\" class=\"dataframe\">\n",
       "  <thead>\n",
       "    <tr style=\"text-align: right;\">\n",
       "      <th></th>\n",
       "      <th>departamento_circunscricao</th>\n",
       "      <th>seccional_circunscricao</th>\n",
       "      <th>municipio_circunscricao</th>\n",
       "      <th>dp_circunscricao</th>\n",
       "      <th>mes_estatistica</th>\n",
       "      <th>ano_estatistica</th>\n",
       "      <th>municipio_elaboracao</th>\n",
       "      <th>dp_elaboracao</th>\n",
       "      <th>sec_elaboracao</th>\n",
       "      <th>desc_tipo_local</th>\n",
       "      <th>logradouro</th>\n",
       "      <th>num_logradouro</th>\n",
       "      <th>latitude</th>\n",
       "      <th>longitude</th>\n",
       "      <th>tp_pessoa</th>\n",
       "      <th>sexo_pessoa</th>\n",
       "      <th>idade_pessoa</th>\n",
       "      <th>dt_nascimento_pessoa</th>\n",
       "      <th>cor_pele</th>\n",
       "      <th>profissao</th>\n",
       "      <th>natureza_apurada</th>\n",
       "    </tr>\n",
       "  </thead>\n",
       "  <tbody>\n",
       "    <tr>\n",
       "      <th>25</th>\n",
       "      <td>DECAP</td>\n",
       "      <td>5ª SEC</td>\n",
       "      <td>São Paulo</td>\n",
       "      <td>057 DP - Parque da Moóca</td>\n",
       "      <td>1</td>\n",
       "      <td>2017</td>\n",
       "      <td>S.PAULO</td>\n",
       "      <td>56º D.P. VILA ALPINA</td>\n",
       "      <td>DEL.SEC.5º LESTE</td>\n",
       "      <td>Via pública</td>\n",
       "      <td>RUA GUAPEVA</td>\n",
       "      <td>242.0</td>\n",
       "      <td>-23.552997</td>\n",
       "      <td>-46.577377</td>\n",
       "      <td>Vítima</td>\n",
       "      <td>Masculino</td>\n",
       "      <td>50.0</td>\n",
       "      <td>NaT</td>\n",
       "      <td>Branca</td>\n",
       "      <td>NaN</td>\n",
       "      <td>HOMICÍDIO DOLOSO</td>\n",
       "    </tr>\n",
       "    <tr>\n",
       "      <th>257</th>\n",
       "      <td>DEMACRO</td>\n",
       "      <td>SEC Guarulhos</td>\n",
       "      <td>Guarulhos</td>\n",
       "      <td>006 DP - Guarulhos</td>\n",
       "      <td>1</td>\n",
       "      <td>2017</td>\n",
       "      <td>GUARULHOS</td>\n",
       "      <td>06º D.P. GUARULHOS</td>\n",
       "      <td>DEL.SEC.GUARULHOS</td>\n",
       "      <td>Area não ocupada</td>\n",
       "      <td>RUA DOREZOPOLIS</td>\n",
       "      <td>472.0</td>\n",
       "      <td>-23.443983</td>\n",
       "      <td>-46.526266</td>\n",
       "      <td>Vítima</td>\n",
       "      <td>Masculino</td>\n",
       "      <td>30.0</td>\n",
       "      <td>NaT</td>\n",
       "      <td>Parda</td>\n",
       "      <td>NaN</td>\n",
       "      <td>HOMICÍDIO DOLOSO</td>\n",
       "    </tr>\n",
       "    <tr>\n",
       "      <th>274</th>\n",
       "      <td>DEMACRO</td>\n",
       "      <td>SEC Mogi das Cruzes</td>\n",
       "      <td>Mogi das Cruzes</td>\n",
       "      <td>001 DP - Mogi das Cruzes</td>\n",
       "      <td>1</td>\n",
       "      <td>2017</td>\n",
       "      <td>MOGI DAS CRUZES</td>\n",
       "      <td>01º D.P. MOGI DAS CRUZES</td>\n",
       "      <td>DEL.SEC.MOGI DAS CRUZES</td>\n",
       "      <td>Via pública</td>\n",
       "      <td>RUA DESEMBARGADOR FRANCISCO FERREIRA</td>\n",
       "      <td>604.0</td>\n",
       "      <td>-23.534731</td>\n",
       "      <td>-46.168957</td>\n",
       "      <td>Vítima</td>\n",
       "      <td>Masculino</td>\n",
       "      <td>30.0</td>\n",
       "      <td>NaT</td>\n",
       "      <td>Branca</td>\n",
       "      <td>NaN</td>\n",
       "      <td>HOMICÍDIO DOLOSO</td>\n",
       "    </tr>\n",
       "    <tr>\n",
       "      <th>303</th>\n",
       "      <td>DEMACRO</td>\n",
       "      <td>SEC Taboão da Serra</td>\n",
       "      <td>Embu das Artes</td>\n",
       "      <td>DM - Embú</td>\n",
       "      <td>1</td>\n",
       "      <td>2017</td>\n",
       "      <td>EMBU DAS ARTES</td>\n",
       "      <td>DEL.POL.EMBU DAS ARTES</td>\n",
       "      <td>DEL.SEC.TABOÃO DA SERRA</td>\n",
       "      <td>Via pública</td>\n",
       "      <td>ESTRADA CAPUAVA</td>\n",
       "      <td>0.0</td>\n",
       "      <td>-23.626569</td>\n",
       "      <td>-46.866454</td>\n",
       "      <td>Vítima</td>\n",
       "      <td>Masculino</td>\n",
       "      <td>28.0</td>\n",
       "      <td>NaT</td>\n",
       "      <td>Branca</td>\n",
       "      <td>NaN</td>\n",
       "      <td>HOMICÍDIO DOLOSO</td>\n",
       "    </tr>\n",
       "    <tr>\n",
       "      <th>311</th>\n",
       "      <td>DECAP</td>\n",
       "      <td>1ª SEC</td>\n",
       "      <td>São Paulo</td>\n",
       "      <td>001 DP - Sé</td>\n",
       "      <td>2</td>\n",
       "      <td>2017</td>\n",
       "      <td>S.PAULO</td>\n",
       "      <td>08º D.P. BRAS</td>\n",
       "      <td>DEL.SEC.1º CENTRO</td>\n",
       "      <td>Via pública</td>\n",
       "      <td>RUA VINTE E CINCO DE MARCO</td>\n",
       "      <td>197.0</td>\n",
       "      <td>-23.547868</td>\n",
       "      <td>-46.630899</td>\n",
       "      <td>Vítima</td>\n",
       "      <td>Masculino</td>\n",
       "      <td>40.0</td>\n",
       "      <td>NaT</td>\n",
       "      <td>Preta</td>\n",
       "      <td>NaN</td>\n",
       "      <td>HOMICÍDIO DOLOSO</td>\n",
       "    </tr>\n",
       "  </tbody>\n",
       "</table>\n",
       "</div>"
      ],
      "text/plain": [
       "    departamento_circunscricao seccional_circunscricao   \n",
       "25                       DECAP                  5ª SEC  \\\n",
       "257                    DEMACRO           SEC Guarulhos   \n",
       "274                    DEMACRO     SEC Mogi das Cruzes   \n",
       "303                    DEMACRO     SEC Taboão da Serra   \n",
       "311                      DECAP                  1ª SEC   \n",
       "\n",
       "    municipio_circunscricao          dp_circunscricao  mes_estatistica   \n",
       "25                São Paulo  057 DP - Parque da Moóca                1  \\\n",
       "257               Guarulhos        006 DP - Guarulhos                1   \n",
       "274         Mogi das Cruzes  001 DP - Mogi das Cruzes                1   \n",
       "303          Embu das Artes                 DM - Embú                1   \n",
       "311               São Paulo               001 DP - Sé                2   \n",
       "\n",
       "     ano_estatistica municipio_elaboracao             dp_elaboracao   \n",
       "25              2017              S.PAULO      56º D.P. VILA ALPINA  \\\n",
       "257             2017            GUARULHOS        06º D.P. GUARULHOS   \n",
       "274             2017      MOGI DAS CRUZES  01º D.P. MOGI DAS CRUZES   \n",
       "303             2017       EMBU DAS ARTES    DEL.POL.EMBU DAS ARTES   \n",
       "311             2017              S.PAULO             08º D.P. BRAS   \n",
       "\n",
       "              sec_elaboracao   desc_tipo_local   \n",
       "25          DEL.SEC.5º LESTE       Via pública  \\\n",
       "257        DEL.SEC.GUARULHOS  Area não ocupada   \n",
       "274  DEL.SEC.MOGI DAS CRUZES       Via pública   \n",
       "303  DEL.SEC.TABOÃO DA SERRA       Via pública   \n",
       "311        DEL.SEC.1º CENTRO       Via pública   \n",
       "\n",
       "                               logradouro num_logradouro   latitude   \n",
       "25                            RUA GUAPEVA          242.0 -23.552997  \\\n",
       "257                       RUA DOREZOPOLIS          472.0 -23.443983   \n",
       "274  RUA DESEMBARGADOR FRANCISCO FERREIRA          604.0 -23.534731   \n",
       "303                       ESTRADA CAPUAVA            0.0 -23.626569   \n",
       "311            RUA VINTE E CINCO DE MARCO          197.0 -23.547868   \n",
       "\n",
       "     longitude tp_pessoa sexo_pessoa idade_pessoa dt_nascimento_pessoa   \n",
       "25  -46.577377    Vítima   Masculino         50.0                  NaT  \\\n",
       "257 -46.526266    Vítima   Masculino         30.0                  NaT   \n",
       "274 -46.168957    Vítima   Masculino         30.0                  NaT   \n",
       "303 -46.866454    Vítima   Masculino         28.0                  NaT   \n",
       "311 -46.630899    Vítima   Masculino         40.0                  NaT   \n",
       "\n",
       "    cor_pele profissao  natureza_apurada  \n",
       "25    Branca       NaN  HOMICÍDIO DOLOSO  \n",
       "257    Parda       NaN  HOMICÍDIO DOLOSO  \n",
       "274   Branca       NaN  HOMICÍDIO DOLOSO  \n",
       "303   Branca       NaN  HOMICÍDIO DOLOSO  \n",
       "311    Preta       NaN  HOMICÍDIO DOLOSO  "
      ]
     },
     "execution_count": 72,
     "metadata": {},
     "output_type": "execute_result"
    }
   ],
   "source": [
    "df_2[(df_2['dt_nascimento_pessoa'].isna()) & (df_2['idade_pessoa'].notna())].head()"
   ]
  },
  {
   "cell_type": "code",
   "execution_count": 19,
   "id": "f1a99cbd",
   "metadata": {},
   "outputs": [
    {
     "name": "stdout",
     "output_type": "stream",
     "text": [
      "Casos com data de nascimento não preenchida mas com idade: 178\n"
     ]
    }
   ],
   "source": [
    "print('Casos com data de nascimento não preenchida mas com idade: '+str(len(df_2[(df_2['dt_nascimento_pessoa'].isna()) & (df_2['idade_pessoa'].notna())])))"
   ]
  },
  {
   "cell_type": "code",
   "execution_count": 20,
   "id": "2e6e5366",
   "metadata": {},
   "outputs": [
    {
     "data": {
      "text/html": [
       "<div>\n",
       "<style scoped>\n",
       "    .dataframe tbody tr th:only-of-type {\n",
       "        vertical-align: middle;\n",
       "    }\n",
       "\n",
       "    .dataframe tbody tr th {\n",
       "        vertical-align: top;\n",
       "    }\n",
       "\n",
       "    .dataframe thead th {\n",
       "        text-align: right;\n",
       "    }\n",
       "</style>\n",
       "<table border=\"1\" class=\"dataframe\">\n",
       "  <thead>\n",
       "    <tr style=\"text-align: right;\">\n",
       "      <th></th>\n",
       "      <th>departamento_circunscricao</th>\n",
       "      <th>seccional_circunscricao</th>\n",
       "      <th>municipio_circunscricao</th>\n",
       "      <th>dp_circunscricao</th>\n",
       "      <th>mes_estatistica</th>\n",
       "      <th>ano_estatistica</th>\n",
       "      <th>municipio_elaboracao</th>\n",
       "      <th>dp_elaboracao</th>\n",
       "      <th>sec_elaboracao</th>\n",
       "      <th>desc_tipo_local</th>\n",
       "      <th>logradouro</th>\n",
       "      <th>num_logradouro</th>\n",
       "      <th>latitude</th>\n",
       "      <th>longitude</th>\n",
       "      <th>tp_pessoa</th>\n",
       "      <th>sexo_pessoa</th>\n",
       "      <th>idade_pessoa</th>\n",
       "      <th>dt_nascimento_pessoa</th>\n",
       "      <th>cor_pele</th>\n",
       "      <th>profissao</th>\n",
       "      <th>natureza_apurada</th>\n",
       "    </tr>\n",
       "  </thead>\n",
       "  <tbody>\n",
       "    <tr>\n",
       "      <th>2467</th>\n",
       "      <td>DEMACRO</td>\n",
       "      <td>SEC Santo André</td>\n",
       "      <td>Santo André</td>\n",
       "      <td>006 DP - Santo André</td>\n",
       "      <td>10</td>\n",
       "      <td>2020</td>\n",
       "      <td>S.ANDRE</td>\n",
       "      <td>SETOR HOM.SEC. SANTO ANDRE</td>\n",
       "      <td>DEL.SEC.SANTO ANDRÉ</td>\n",
       "      <td>Area não ocupada</td>\n",
       "      <td>RUA crejua</td>\n",
       "      <td>5.0</td>\n",
       "      <td>-23.724962</td>\n",
       "      <td>-46.4948</td>\n",
       "      <td>Vítima</td>\n",
       "      <td>Feminino</td>\n",
       "      <td>NaN</td>\n",
       "      <td>1900-01-04</td>\n",
       "      <td>Ignorada</td>\n",
       "      <td>NaN</td>\n",
       "      <td>HOMICÍDIO DOLOSO</td>\n",
       "    </tr>\n",
       "    <tr>\n",
       "      <th>1144</th>\n",
       "      <td>DEINTER 3</td>\n",
       "      <td>SEC Sertãozinho</td>\n",
       "      <td>Pontal</td>\n",
       "      <td>DM - Pontal</td>\n",
       "      <td>5</td>\n",
       "      <td>2021</td>\n",
       "      <td>PONTAL</td>\n",
       "      <td>DEL.SEC.SERTÃOZINHO PLANTÃO</td>\n",
       "      <td>DEL.SEC.SERTÃOZINHO</td>\n",
       "      <td>Via pública</td>\n",
       "      <td>RUA liverato manopeli</td>\n",
       "      <td>177.0</td>\n",
       "      <td>NaN</td>\n",
       "      <td>NaN</td>\n",
       "      <td>Vítima</td>\n",
       "      <td>Masculino</td>\n",
       "      <td>NaN</td>\n",
       "      <td>1985-11-17</td>\n",
       "      <td>Parda</td>\n",
       "      <td>NaN</td>\n",
       "      <td>HOMICÍDIO DOLOSO</td>\n",
       "    </tr>\n",
       "  </tbody>\n",
       "</table>\n",
       "</div>"
      ],
      "text/plain": [
       "     departamento_circunscricao seccional_circunscricao   \n",
       "2467                    DEMACRO         SEC Santo André  \\\n",
       "1144                  DEINTER 3         SEC Sertãozinho   \n",
       "\n",
       "     municipio_circunscricao      dp_circunscricao  mes_estatistica   \n",
       "2467             Santo André  006 DP - Santo André               10  \\\n",
       "1144                  Pontal           DM - Pontal                5   \n",
       "\n",
       "      ano_estatistica municipio_elaboracao                dp_elaboracao   \n",
       "2467             2020              S.ANDRE   SETOR HOM.SEC. SANTO ANDRE  \\\n",
       "1144             2021               PONTAL  DEL.SEC.SERTÃOZINHO PLANTÃO   \n",
       "\n",
       "           sec_elaboracao   desc_tipo_local             logradouro   \n",
       "2467  DEL.SEC.SANTO ANDRÉ  Area não ocupada             RUA crejua  \\\n",
       "1144  DEL.SEC.SERTÃOZINHO       Via pública  RUA liverato manopeli   \n",
       "\n",
       "     num_logradouro   latitude  longitude tp_pessoa sexo_pessoa idade_pessoa   \n",
       "2467            5.0 -23.724962   -46.4948    Vítima    Feminino          NaN  \\\n",
       "1144          177.0        NaN        NaN    Vítima   Masculino          NaN   \n",
       "\n",
       "     dt_nascimento_pessoa  cor_pele profissao  natureza_apurada  \n",
       "2467           1900-01-04  Ignorada       NaN  HOMICÍDIO DOLOSO  \n",
       "1144           1985-11-17     Parda       NaN  HOMICÍDIO DOLOSO  "
      ]
     },
     "execution_count": 20,
     "metadata": {},
     "output_type": "execute_result"
    }
   ],
   "source": [
    "df_2[(df_2['dt_nascimento_pessoa'].notna()) & (df_2['idade_pessoa'].isna())].head(5)"
   ]
  },
  {
   "cell_type": "code",
   "execution_count": 21,
   "id": "7ff33c30",
   "metadata": {},
   "outputs": [
    {
     "name": "stdout",
     "output_type": "stream",
     "text": [
      "Casos com data de nascimento preenchida mas sem idade: 2\n"
     ]
    }
   ],
   "source": [
    "print('Casos com data de nascimento preenchida mas sem idade: '+str(len(df_2[(df_2['dt_nascimento_pessoa'].notna()) & (df_2['idade_pessoa'].isna())])))"
   ]
  },
  {
   "cell_type": "markdown",
   "id": "3c06bf77",
   "metadata": {},
   "source": [
    "### Idade da vítima\n",
    "A variável descreve idade da vítima"
   ]
  },
  {
   "cell_type": "code",
   "execution_count": 22,
   "id": "50df3efa",
   "metadata": {},
   "outputs": [
    {
     "data": {
      "text/plain": [
       "count     16416.0\n",
       "unique       98.0\n",
       "top          36.0\n",
       "freq        513.0\n",
       "Name: idade_pessoa, dtype: float64"
      ]
     },
     "execution_count": 22,
     "metadata": {},
     "output_type": "execute_result"
    }
   ],
   "source": [
    "df_2['idade_pessoa'].describe()"
   ]
  },
  {
   "cell_type": "code",
   "execution_count": 23,
   "id": "3dc1fb25",
   "metadata": {},
   "outputs": [
    {
     "data": {
      "text/plain": [
       "idade_pessoa\n",
       "False    16416\n",
       "True      2029\n",
       "Name: count, dtype: int64"
      ]
     },
     "execution_count": 23,
     "metadata": {},
     "output_type": "execute_result"
    }
   ],
   "source": [
    "df_2['idade_pessoa'].isna().value_counts()"
   ]
  },
  {
   "cell_type": "code",
   "execution_count": 24,
   "id": "d12ae12a",
   "metadata": {},
   "outputs": [],
   "source": [
    "df_idade_notna = df_2[(df_2['idade_pessoa'].notna()) & (df_2['idade_pessoa'] != 'NULL ')]"
   ]
  },
  {
   "cell_type": "code",
   "execution_count": 25,
   "id": "546572f7",
   "metadata": {
    "scrolled": false
   },
   "outputs": [
    {
     "data": {
      "text/plain": [
       "<Axes: xlabel='idade_pessoa', ylabel='Count'>"
      ]
     },
     "execution_count": 25,
     "metadata": {},
     "output_type": "execute_result"
    },
    {
     "data": {
      "image/png": "[encoded data removed]",
      "text/plain": [
       "<Figure size 640x480 with 1 Axes>"
      ]
     },
     "metadata": {},
     "output_type": "display_data"
    }
   ],
   "source": [
    "sns.histplot(df_idade_notna['idade_pessoa'], bins=10)"
   ]
  },
  {
   "cell_type": "markdown",
   "id": "0abfd632",
   "metadata": {},
   "source": [
    "### Cor da vítima\n",
    "A variável descreve a cor da vítime do crime de homicídio\n",
    "##### Tratamentos\n",
    "1. Valores cadastrados de formas deferentes (Preta => preta)\n",
    "##### Comentários\n",
    "- A variável possui uma grande volumetria em Via pública\n",
    "- Alto preenchimento da coluna, apenas 6 linhas com NULLs"
   ]
  },
  {
   "cell_type": "code",
   "execution_count": 26,
   "id": "b30afb04",
   "metadata": {},
   "outputs": [
    {
     "name": "stderr",
     "output_type": "stream",
     "text": [
      "C:\\Users\\gabriel\\AppData\\Local\\Temp\\ipykernel_2348\\2618161973.py:2: SettingWithCopyWarning: \n",
      "A value is trying to be set on a copy of a slice from a DataFrame\n",
      "\n",
      "See the caveats in the documentation: https://pandas.pydata.org/pandas-docs/stable/user_guide/indexing.html#returning-a-view-versus-a-copy\n",
      "  df_2['cor_pele'].loc[df_2['cor_pele'].str.contains(\"pre\")==True] = 'Preta'\n"
     ]
    }
   ],
   "source": [
    "## Tratrando coluna \n",
    "df_2['cor_pele'].loc[df_2['cor_pele'].str.contains(\"pre\")==True] = 'Preta'"
   ]
  },
  {
   "cell_type": "code",
   "execution_count": 27,
   "id": "868449fb",
   "metadata": {},
   "outputs": [
    {
     "data": {
      "text/plain": [
       "count      18442\n",
       "unique         7\n",
       "top       Branca\n",
       "freq        8504\n",
       "Name: cor_pele, dtype: object"
      ]
     },
     "execution_count": 27,
     "metadata": {},
     "output_type": "execute_result"
    }
   ],
   "source": [
    "df_2['cor_pele'].describe()"
   ]
  },
  {
   "cell_type": "code",
   "execution_count": 28,
   "id": "7980b3c8",
   "metadata": {},
   "outputs": [
    {
     "data": {
      "text/plain": [
       "cor_pele\n",
       "False    18442\n",
       "True         3\n",
       "Name: count, dtype: int64"
      ]
     },
     "execution_count": 28,
     "metadata": {},
     "output_type": "execute_result"
    }
   ],
   "source": [
    "# Valores NULLS\n",
    "df_2['cor_pele'].isna().value_counts()"
   ]
  },
  {
   "cell_type": "code",
   "execution_count": 29,
   "id": "70431957-d9d3-46b4-9300-198876496e2f",
   "metadata": {
    "scrolled": true
   },
   "outputs": [
    {
     "data": {
      "text/plain": [
       "cor_pele\n",
       "Branca      8504\n",
       "Parda       7714\n",
       "Preta       1580\n",
       "Ignorada     493\n",
       "Outros       111\n",
       "Amarela       36\n",
       "Vermelha       4\n",
       "Name: count, dtype: int64"
      ]
     },
     "execution_count": 29,
     "metadata": {},
     "output_type": "execute_result"
    }
   ],
   "source": [
    "# Quantidade por valor\n",
    "df_2['cor_pele'].value_counts()"
   ]
  },
  {
   "cell_type": "markdown",
   "id": "9d5c3602",
   "metadata": {},
   "source": [
    "### Tipo da pessoa\n",
    "A variável descreve a cor da vítime do crime de homicídio\n",
    "##### Tratamentos\n",
    "1. Valores cadastrados de formas deferentes (Vitíma => 'Vitima  ')"
   ]
  },
  {
   "cell_type": "code",
   "execution_count": 30,
   "id": "a64c28d4",
   "metadata": {},
   "outputs": [
    {
     "data": {
      "text/plain": [
       "count      18445\n",
       "unique        16\n",
       "top       Vítima\n",
       "freq       17812\n",
       "Name: tp_pessoa, dtype: object"
      ]
     },
     "execution_count": 30,
     "metadata": {},
     "output_type": "execute_result"
    }
   ],
   "source": [
    "df_2['tp_pessoa'].describe()"
   ]
  },
  {
   "cell_type": "code",
   "execution_count": 31,
   "id": "216cf443",
   "metadata": {},
   "outputs": [
    {
     "data": {
      "text/plain": [
       "tp_pessoa\n",
       "False    18445\n",
       "Name: count, dtype: int64"
      ]
     },
     "execution_count": 31,
     "metadata": {},
     "output_type": "execute_result"
    }
   ],
   "source": [
    "df_2['tp_pessoa'].isna().value_counts()"
   ]
  },
  {
   "cell_type": "code",
   "execution_count": 32,
   "id": "aa014a4d",
   "metadata": {},
   "outputs": [
    {
     "data": {
      "text/plain": [
       "tp_pessoa\n",
       "Vítima                  17812\n",
       "Autor/Vitima              531\n",
       "Encontro de Cadáver        32\n",
       "Adolescente Inf/Vit        26\n",
       "Desaparecido               10\n",
       "Indiciado                   9\n",
       "Encontrado                  8\n",
       "Vítima                      4\n",
       "Autor                       3\n",
       "Adolescente                 2\n",
       "Adolescente infrator        2\n",
       "vítima                      2\n",
       "Vítima de Suicídio          1\n",
       "Criança                     1\n",
       "Partes                      1\n",
       "Investigado                 1\n",
       "Name: count, dtype: int64"
      ]
     },
     "execution_count": 32,
     "metadata": {},
     "output_type": "execute_result"
    }
   ],
   "source": [
    "df_2['tp_pessoa'].value_counts()"
   ]
  },
  {
   "cell_type": "code",
   "execution_count": 33,
   "id": "e4901b14",
   "metadata": {},
   "outputs": [
    {
     "data": {
      "text/plain": [
       "<Axes: ylabel='tp_pessoa'>"
      ]
     },
     "execution_count": 33,
     "metadata": {},
     "output_type": "execute_result"
    },
    {
     "data": {
      "image/png": "[encoded data removed]",
      "text/plain": [
       "<Figure size 640x480 with 1 Axes>"
      ]
     },
     "metadata": {},
     "output_type": "display_data"
    }
   ],
   "source": [
    "df_2['tp_pessoa'].value_counts().head(10).sort_values(ascending=False).plot(kind='barh')"
   ]
  },
  {
   "cell_type": "markdown",
   "id": "3c088d14",
   "metadata": {},
   "source": [
    "### Natureza Apurada\n",
    "A variável descreve a natureza do crime, sendo a base de homicídios temos apenas essa opção"
   ]
  },
  {
   "cell_type": "code",
   "execution_count": 34,
   "id": "5a57f756",
   "metadata": {},
   "outputs": [
    {
     "data": {
      "text/plain": [
       "natureza_apurada\n",
       "HOMICÍDIO DOLOSO    18445\n",
       "Name: count, dtype: int64"
      ]
     },
     "execution_count": 34,
     "metadata": {},
     "output_type": "execute_result"
    }
   ],
   "source": [
    "df_2['natureza_apurada'].value_counts()"
   ]
  },
  {
   "cell_type": "markdown",
   "id": "1ffa5f8e",
   "metadata": {},
   "source": [
    "### Ano estatística\n",
    "A variável descreve o ano dos fatos ocorridos"
   ]
  },
  {
   "cell_type": "code",
   "execution_count": 35,
   "id": "b50eae3e",
   "metadata": {},
   "outputs": [
    {
     "data": {
      "text/plain": [
       "<Axes: xlabel='ano_estatistica'>"
      ]
     },
     "execution_count": 35,
     "metadata": {},
     "output_type": "execute_result"
    },
    {
     "data": {
      "image/png": "[encoded data removed]",
      "text/plain": [
       "<Figure size 640x480 with 1 Axes>"
      ]
     },
     "metadata": {},
     "output_type": "display_data"
    }
   ],
   "source": [
    "df_ordenado_anomes = df_2.sort_values('ano_estatistica',key=lambda x: pd.to_datetime(x, format='%Y'))\n",
    "df_ordenado_anomes.groupby('ano_estatistica').size().plot(kind='bar')"
   ]
  },
  {
   "cell_type": "markdown",
   "id": "7c70eae7",
   "metadata": {},
   "source": [
    "### Mês estatística\n",
    "A variável descreve o mês em formato numérico dos fatos ocorridos"
   ]
  },
  {
   "cell_type": "code",
   "execution_count": 36,
   "id": "02844170",
   "metadata": {},
   "outputs": [
    {
     "data": {
      "text/plain": [
       "count    18445.000000\n",
       "mean         6.493413\n",
       "std          3.535491\n",
       "min          1.000000\n",
       "25%          3.000000\n",
       "50%          6.000000\n",
       "75%         10.000000\n",
       "max         12.000000\n",
       "Name: mes_estatistica, dtype: float64"
      ]
     },
     "execution_count": 36,
     "metadata": {},
     "output_type": "execute_result"
    }
   ],
   "source": [
    "df_2['mes_estatistica'].describe()"
   ]
  },
  {
   "cell_type": "code",
   "execution_count": 37,
   "id": "443023c8",
   "metadata": {},
   "outputs": [
    {
     "data": {
      "text/plain": [
       "mes_estatistica\n",
       "False    18445\n",
       "Name: count, dtype: int64"
      ]
     },
     "execution_count": 37,
     "metadata": {},
     "output_type": "execute_result"
    }
   ],
   "source": [
    "df_2['mes_estatistica'].isna().value_counts()"
   ]
  },
  {
   "cell_type": "code",
   "execution_count": 38,
   "id": "6370770d",
   "metadata": {},
   "outputs": [
    {
     "data": {
      "text/html": [
       "<div>\n",
       "<style scoped>\n",
       "    .dataframe tbody tr th:only-of-type {\n",
       "        vertical-align: middle;\n",
       "    }\n",
       "\n",
       "    .dataframe tbody tr th {\n",
       "        vertical-align: top;\n",
       "    }\n",
       "\n",
       "    .dataframe thead th {\n",
       "        text-align: right;\n",
       "    }\n",
       "</style>\n",
       "<table border=\"1\" class=\"dataframe\">\n",
       "  <thead>\n",
       "    <tr style=\"text-align: right;\">\n",
       "      <th>mes_estatistica</th>\n",
       "      <th>1</th>\n",
       "      <th>2</th>\n",
       "      <th>3</th>\n",
       "      <th>4</th>\n",
       "      <th>5</th>\n",
       "      <th>6</th>\n",
       "      <th>7</th>\n",
       "      <th>8</th>\n",
       "      <th>9</th>\n",
       "      <th>10</th>\n",
       "      <th>11</th>\n",
       "      <th>12</th>\n",
       "    </tr>\n",
       "    <tr>\n",
       "      <th>ano_estatistica</th>\n",
       "      <th></th>\n",
       "      <th></th>\n",
       "      <th></th>\n",
       "      <th></th>\n",
       "      <th></th>\n",
       "      <th></th>\n",
       "      <th></th>\n",
       "      <th></th>\n",
       "      <th></th>\n",
       "      <th></th>\n",
       "      <th></th>\n",
       "      <th></th>\n",
       "    </tr>\n",
       "  </thead>\n",
       "  <tbody>\n",
       "    <tr>\n",
       "      <th>2017</th>\n",
       "      <td>310</td>\n",
       "      <td>312</td>\n",
       "      <td>320</td>\n",
       "      <td>303</td>\n",
       "      <td>273</td>\n",
       "      <td>258</td>\n",
       "      <td>283</td>\n",
       "      <td>265</td>\n",
       "      <td>272</td>\n",
       "      <td>268</td>\n",
       "      <td>294</td>\n",
       "      <td>346</td>\n",
       "    </tr>\n",
       "    <tr>\n",
       "      <th>2018</th>\n",
       "      <td>277</td>\n",
       "      <td>246</td>\n",
       "      <td>281</td>\n",
       "      <td>271</td>\n",
       "      <td>248</td>\n",
       "      <td>247</td>\n",
       "      <td>261</td>\n",
       "      <td>233</td>\n",
       "      <td>232</td>\n",
       "      <td>264</td>\n",
       "      <td>257</td>\n",
       "      <td>289</td>\n",
       "    </tr>\n",
       "    <tr>\n",
       "      <th>2019</th>\n",
       "      <td>284</td>\n",
       "      <td>219</td>\n",
       "      <td>255</td>\n",
       "      <td>262</td>\n",
       "      <td>223</td>\n",
       "      <td>222</td>\n",
       "      <td>193</td>\n",
       "      <td>210</td>\n",
       "      <td>212</td>\n",
       "      <td>261</td>\n",
       "      <td>255</td>\n",
       "      <td>310</td>\n",
       "    </tr>\n",
       "    <tr>\n",
       "      <th>2020</th>\n",
       "      <td>277</td>\n",
       "      <td>218</td>\n",
       "      <td>297</td>\n",
       "      <td>272</td>\n",
       "      <td>236</td>\n",
       "      <td>222</td>\n",
       "      <td>223</td>\n",
       "      <td>225</td>\n",
       "      <td>248</td>\n",
       "      <td>256</td>\n",
       "      <td>277</td>\n",
       "      <td>287</td>\n",
       "    </tr>\n",
       "    <tr>\n",
       "      <th>2021</th>\n",
       "      <td>295</td>\n",
       "      <td>239</td>\n",
       "      <td>249</td>\n",
       "      <td>229</td>\n",
       "      <td>267</td>\n",
       "      <td>207</td>\n",
       "      <td>215</td>\n",
       "      <td>235</td>\n",
       "      <td>243</td>\n",
       "      <td>229</td>\n",
       "      <td>225</td>\n",
       "      <td>214</td>\n",
       "    </tr>\n",
       "    <tr>\n",
       "      <th>2022</th>\n",
       "      <td>250</td>\n",
       "      <td>246</td>\n",
       "      <td>246</td>\n",
       "      <td>237</td>\n",
       "      <td>240</td>\n",
       "      <td>235</td>\n",
       "      <td>274</td>\n",
       "      <td>240</td>\n",
       "      <td>270</td>\n",
       "      <td>283</td>\n",
       "      <td>229</td>\n",
       "      <td>294</td>\n",
       "    </tr>\n",
       "  </tbody>\n",
       "</table>\n",
       "</div>"
      ],
      "text/plain": [
       "mes_estatistica   1    2    3    4    5    6    7    8    9    10   11   12\n",
       "ano_estatistica                                                            \n",
       "2017             310  312  320  303  273  258  283  265  272  268  294  346\n",
       "2018             277  246  281  271  248  247  261  233  232  264  257  289\n",
       "2019             284  219  255  262  223  222  193  210  212  261  255  310\n",
       "2020             277  218  297  272  236  222  223  225  248  256  277  287\n",
       "2021             295  239  249  229  267  207  215  235  243  229  225  214\n",
       "2022             250  246  246  237  240  235  274  240  270  283  229  294"
      ]
     },
     "execution_count": 38,
     "metadata": {},
     "output_type": "execute_result"
    }
   ],
   "source": [
    "## Observando o mês x ano que mais ocorreram homicídios\n",
    "pd.crosstab(df_2['ano_estatistica'], df_2['mes_estatistica'])"
   ]
  },
  {
   "cell_type": "markdown",
   "id": "41329959",
   "metadata": {},
   "source": [
    "### Seccional Circunscricao\n",
    "A variável descreve a delegacia responsável pela investigação do crime\n",
    "#### Tratamentos\n",
    "1. Possívelmente retirar espaços em ltrim() e rtrim()"
   ]
  },
  {
   "cell_type": "code",
   "execution_count": 39,
   "id": "d4d6f335",
   "metadata": {},
   "outputs": [
    {
     "data": {
      "text/plain": [
       "count      18445\n",
       "unique        71\n",
       "top       6ª SEC\n",
       "freq        1044\n",
       "Name: seccional_circunscricao, dtype: object"
      ]
     },
     "execution_count": 39,
     "metadata": {},
     "output_type": "execute_result"
    }
   ],
   "source": [
    "df_2['seccional_circunscricao'].describe()"
   ]
  },
  {
   "cell_type": "code",
   "execution_count": 40,
   "id": "fad3ad20",
   "metadata": {},
   "outputs": [
    {
     "data": {
      "text/plain": [
       "seccional_circunscricao\n",
       "False    18445\n",
       "Name: count, dtype: int64"
      ]
     },
     "execution_count": 40,
     "metadata": {},
     "output_type": "execute_result"
    }
   ],
   "source": [
    "df_2['seccional_circunscricao'].isna().value_counts()"
   ]
  },
  {
   "cell_type": "code",
   "execution_count": 41,
   "id": "7ca511f9",
   "metadata": {},
   "outputs": [
    {
     "data": {
      "text/plain": [
       "seccional_circunscricao\n",
       "6ª SEC                   1044\n",
       "SEC Carapicuíba           763\n",
       "SEC Sorocaba              720\n",
       "4ª SEC                    713\n",
       "SEC Mogi das Cruzes       632\n",
       "3ª SEC                    615\n",
       "SEC Guarulhos             614\n",
       "2ª Seccional Campinas     599\n",
       "SEC Americana             560\n",
       "8ª SEC                    556\n",
       "SEC Santo André           501\n",
       "SEC Santos                493\n",
       "SEC Taboão da Serra       479\n",
       "SEC Taubaté               475\n",
       "7ª SEC                    452\n",
       "Name: count, dtype: int64"
      ]
     },
     "execution_count": 41,
     "metadata": {},
     "output_type": "execute_result"
    }
   ],
   "source": [
    "df_2['seccional_circunscricao'].value_counts().head(15)"
   ]
  },
  {
   "cell_type": "code",
   "execution_count": 42,
   "id": "b2fe72eb",
   "metadata": {},
   "outputs": [
    {
     "data": {
      "text/plain": [
       "<Axes: ylabel='count'>"
      ]
     },
     "execution_count": 42,
     "metadata": {},
     "output_type": "execute_result"
    },
    {
     "data": {
      "image/png": "[encoded data removed]",
      "text/plain": [
       "<Figure size 640x480 with 1 Axes>"
      ]
     },
     "metadata": {},
     "output_type": "display_data"
    }
   ],
   "source": [
    "df_2['seccional_circunscricao'].value_counts().head(7).sort_values(ascending=False).plot.pie()"
   ]
  },
  {
   "cell_type": "markdown",
   "id": "33b146ef",
   "metadata": {},
   "source": [
    "### Municipio Circunscricao\n",
    "A variável descreve o municipio onde está localizado a Delegacia de polícia responsável pela investigação do crime\n",
    "##### Tratamentos\n",
    "1. Possívelmente retirar espaços em ltrim() e rtrim()"
   ]
  },
  {
   "cell_type": "code",
   "execution_count": 43,
   "id": "51ef363d",
   "metadata": {},
   "outputs": [
    {
     "data": {
      "text/plain": [
       "count         18445\n",
       "unique          572\n",
       "top       São Paulo\n",
       "freq           4080\n",
       "Name: municipio_circunscricao, dtype: object"
      ]
     },
     "execution_count": 43,
     "metadata": {},
     "output_type": "execute_result"
    }
   ],
   "source": [
    "df_2['municipio_circunscricao'].describe()"
   ]
  },
  {
   "cell_type": "code",
   "execution_count": 44,
   "id": "6b97c2e6",
   "metadata": {},
   "outputs": [
    {
     "data": {
      "text/plain": [
       "municipio_circunscricao\n",
       "False    18445\n",
       "Name: count, dtype: int64"
      ]
     },
     "execution_count": 44,
     "metadata": {},
     "output_type": "execute_result"
    }
   ],
   "source": [
    "df_2['municipio_circunscricao'].isna().value_counts()"
   ]
  },
  {
   "cell_type": "code",
   "execution_count": 45,
   "id": "0d6359c8",
   "metadata": {
    "scrolled": false
   },
   "outputs": [
    {
     "data": {
      "text/plain": [
       "municipio_circunscricao\n",
       "São Paulo                4080\n",
       "Campinas                  798\n",
       "Guarulhos                 543\n",
       "Sorocaba                  294\n",
       "Osasco                    293\n",
       "Ribeirão Preto            285\n",
       "São Bernardo do Campo     263\n",
       "São José dos Campos       262\n",
       "Santo André               246\n",
       "Taubaté                   240\n",
       "São José do Rio Preto     199\n",
       "Mauá                      198\n",
       "Itaquaquecetuba           195\n",
       "Carapicuíba               189\n",
       "Jacareí                   177\n",
       "Name: count, dtype: int64"
      ]
     },
     "execution_count": 45,
     "metadata": {},
     "output_type": "execute_result"
    }
   ],
   "source": [
    "df_2['municipio_circunscricao'].value_counts().head(15)"
   ]
  },
  {
   "cell_type": "markdown",
   "id": "a4ac8467",
   "metadata": {},
   "source": [
    "### DP Circunscricao\n",
    "A variável descrive a delegacia de policia responsável pela investigação do crime\n",
    "##### Tratamentos\n",
    "1. Possívelmente retirar espaços em ltrim() e rtrim()"
   ]
  },
  {
   "cell_type": "code",
   "execution_count": 46,
   "id": "5b5263df",
   "metadata": {},
   "outputs": [
    {
     "data": {
      "text/plain": [
       "count                 18445\n",
       "unique                  964\n",
       "top       009 DP - Campinas\n",
       "freq                    224\n",
       "Name: dp_circunscricao, dtype: object"
      ]
     },
     "execution_count": 46,
     "metadata": {},
     "output_type": "execute_result"
    }
   ],
   "source": [
    "df_2['dp_circunscricao'].describe()"
   ]
  },
  {
   "cell_type": "code",
   "execution_count": 47,
   "id": "82ca8e89",
   "metadata": {},
   "outputs": [
    {
     "data": {
      "text/plain": [
       "dp_circunscricao\n",
       "False    18445\n",
       "Name: count, dtype: int64"
      ]
     },
     "execution_count": 47,
     "metadata": {},
     "output_type": "execute_result"
    }
   ],
   "source": [
    "df_2['dp_circunscricao'].isna().value_counts()"
   ]
  },
  {
   "cell_type": "code",
   "execution_count": 48,
   "id": "24c6e928",
   "metadata": {},
   "outputs": [
    {
     "data": {
      "text/plain": [
       "dp_circunscricao\n",
       "009 DP - Campinas                224\n",
       "011 DP - Campinas                190\n",
       "100 DP - Jardim Herculano        181\n",
       "DM - Itapevi                     173\n",
       "047 DP - Capão Redondo           167\n",
       "037 DP - Campo Limpo             159\n",
       "025 DP - Parelheiros             150\n",
       "073 DP - Jaçanã                  142\n",
       "007 DP - Guarulhos               137\n",
       "003 DP - Taubaté                 118\n",
       "006 DP - Santo André             116\n",
       "092 DP - Parque Santo Antônio    115\n",
       "DM - Itaquaquecetuba             114\n",
       "004 DP - Guarulhos               111\n",
       "046 DP - Perus                   110\n",
       "Name: count, dtype: int64"
      ]
     },
     "execution_count": 48,
     "metadata": {},
     "output_type": "execute_result"
    }
   ],
   "source": [
    "df_2['dp_circunscricao'].value_counts().head(15)"
   ]
  },
  {
   "cell_type": "markdown",
   "id": "48495df3",
   "metadata": {},
   "source": [
    "### Departamento Circunscricao\n",
    "A variável descreve o departamento responsável pela investigação do crime"
   ]
  },
  {
   "cell_type": "code",
   "execution_count": 49,
   "id": "d1136e61",
   "metadata": {},
   "outputs": [
    {
     "data": {
      "text/plain": [
       "count     18445\n",
       "unique       12\n",
       "top       DECAP\n",
       "freq       4080\n",
       "Name: departamento_circunscricao, dtype: object"
      ]
     },
     "execution_count": 49,
     "metadata": {},
     "output_type": "execute_result"
    }
   ],
   "source": [
    "df_2['departamento_circunscricao'].describe()"
   ]
  },
  {
   "cell_type": "code",
   "execution_count": 50,
   "id": "6c932ed6",
   "metadata": {},
   "outputs": [
    {
     "data": {
      "text/plain": [
       "departamento_circunscricao\n",
       "False    18445\n",
       "Name: count, dtype: int64"
      ]
     },
     "execution_count": 50,
     "metadata": {},
     "output_type": "execute_result"
    }
   ],
   "source": [
    "df_2['departamento_circunscricao'].isna().value_counts()"
   ]
  },
  {
   "cell_type": "code",
   "execution_count": 51,
   "id": "99bbb221",
   "metadata": {},
   "outputs": [
    {
     "data": {
      "text/plain": [
       "departamento_circunscricao\n",
       "DECAP         4080\n",
       "DEMACRO       4021\n",
       "DEINTER 1     2017\n",
       "DEINTER 2     1547\n",
       "DEINTER 3     1405\n",
       "DEINTER 9     1321\n",
       "DEINTER 7     1142\n",
       "DEINTER 6      953\n",
       "DEINTER 4      635\n",
       "DEINTER 5      540\n",
       "DEINTER 10     426\n",
       "DEINTER 8      358\n",
       "Name: count, dtype: int64"
      ]
     },
     "execution_count": 51,
     "metadata": {},
     "output_type": "execute_result"
    }
   ],
   "source": [
    "df_2['departamento_circunscricao'].value_counts()"
   ]
  },
  {
   "cell_type": "markdown",
   "id": "f6bd58fb",
   "metadata": {},
   "source": [
    "### Logradouro\n",
    "A variável descreve o logradouro onde ocorreu crime de homicídio \n",
    "##### Tratamentos\n",
    "1. Possívelmente retirar espaços em ltrim() e rtrim()\n",
    "\n",
    "##### Comentários\n",
    "A variável possui valores aparentetemente com cadastramento errado como por exemplo: DA VEDAÇÃO DA DIVULGAÇÃO DOS DADOS RELATIVOS"
   ]
  },
  {
   "cell_type": "code",
   "execution_count": 52,
   "id": "015e3d32",
   "metadata": {},
   "outputs": [
    {
     "data": {
      "text/plain": [
       "count                                             18445\n",
       "unique                                            10545\n",
       "top       DA VEDAÇÃO DA DIVULGAÇÃO DOS DADOS RELATIVOS \n",
       "freq                                               4262\n",
       "Name: logradouro, dtype: object"
      ]
     },
     "execution_count": 52,
     "metadata": {},
     "output_type": "execute_result"
    }
   ],
   "source": [
    "df_2['logradouro'].describe()"
   ]
  },
  {
   "cell_type": "code",
   "execution_count": 53,
   "id": "52f92495",
   "metadata": {},
   "outputs": [
    {
     "data": {
      "text/plain": [
       "logradouro\n",
       "False    18445\n",
       "Name: count, dtype: int64"
      ]
     },
     "execution_count": 53,
     "metadata": {},
     "output_type": "execute_result"
    }
   ],
   "source": [
    "df_2['logradouro'].isna().value_counts()"
   ]
  },
  {
   "cell_type": "code",
   "execution_count": 54,
   "id": "9bd694d2",
   "metadata": {
    "scrolled": false
   },
   "outputs": [
    {
     "data": {
      "text/plain": [
       "logradouro\n",
       "DA VEDAÇÃO DA DIVULGAÇÃO DOS DADOS RELATIVOS     4262\n",
       "ESTRADA MUNICIPAL                                  26\n",
       "ESTRADA DE ITAPECERICA                             22\n",
       "RODOVIA SP 055                                     21\n",
       "AVENIDA BRASIL                                     21\n",
       "AVENIDA TIRADENTES                                 21\n",
       "RODOVIA SP 270                                     20\n",
       "RODOVIA BR 381                                     20\n",
       "RODOVIA BR 116                                     19\n",
       "RUA DO RETIRO                                      17\n",
       "AVENIDA CORONEL SEZEFREDO FAGUNDES                 16\n",
       "RUA UM                                             15\n",
       "RUA GERVASIO LEITE REBELO                          15\n",
       "RODOVIA PRESIDENTE DUTRA (BR 116)                  15\n",
       "RUA DOIS                                           14\n",
       "ESTRADA GUARULHOS-NAZARÉ                           14\n",
       "RUA RIO DE JANEIRO                                 13\n",
       "RODOVIA SP 160                                     13\n",
       "AVENIDA SAPOPEMBA                                  13\n",
       "RUA SETE DE SETEMBRO                               12\n",
       "Name: count, dtype: int64"
      ]
     },
     "execution_count": 54,
     "metadata": {},
     "output_type": "execute_result"
    }
   ],
   "source": [
    "df_2['logradouro'].value_counts().head(20)"
   ]
  },
  {
   "cell_type": "markdown",
   "id": "9d2ec99f",
   "metadata": {},
   "source": [
    "### Número do Logradouro\n",
    "Variável contendo o número do logradouro onde ocorreu crime de homicídio \n",
    "\n",
    "\n",
    "\n",
    "##### Comentários\n",
    "Existem números como \"9999.0\" que podem ser considerados com \"faltantes\""
   ]
  },
  {
   "cell_type": "code",
   "execution_count": 55,
   "id": "f4d9f290",
   "metadata": {},
   "outputs": [
    {
     "data": {
      "text/plain": [
       "count     14160.0\n",
       "unique     2063.0\n",
       "top           1.0\n",
       "freq       1698.0\n",
       "Name: num_logradouro, dtype: float64"
      ]
     },
     "execution_count": 55,
     "metadata": {},
     "output_type": "execute_result"
    }
   ],
   "source": [
    "df_2['num_logradouro'].describe()"
   ]
  },
  {
   "cell_type": "code",
   "execution_count": 56,
   "id": "5ffcc6b9",
   "metadata": {},
   "outputs": [
    {
     "data": {
      "text/plain": [
       "num_logradouro\n",
       "False    14160\n",
       "True      4285\n",
       "Name: count, dtype: int64"
      ]
     },
     "execution_count": 56,
     "metadata": {},
     "output_type": "execute_result"
    }
   ],
   "source": [
    "df_2['num_logradouro'].isna().value_counts()"
   ]
  },
  {
   "cell_type": "code",
   "execution_count": 57,
   "id": "35c0eac4",
   "metadata": {},
   "outputs": [
    {
     "data": {
      "text/plain": [
       "num_logradouro\n",
       "1.0        1698\n",
       "0.0        1134\n",
       "100.0       527\n",
       "10.0        378\n",
       "1000.0       91\n",
       "200.0        88\n",
       "50.0         85\n",
       "15.0         80\n",
       "2.0          66\n",
       "20.0         65\n",
       "99999.0      63\n",
       "12.0         57\n",
       "5.0          57\n",
       "300.0        55\n",
       "40.0         55\n",
       "500.0        51\n",
       "150.0        51\n",
       "80.0         47\n",
       "3.0          47\n",
       "30.0         47\n",
       "Name: count, dtype: int64"
      ]
     },
     "execution_count": 57,
     "metadata": {},
     "output_type": "execute_result"
    }
   ],
   "source": [
    "df_2['num_logradouro'].value_counts().head(20)"
   ]
  },
  {
   "cell_type": "markdown",
   "id": "526d47ba",
   "metadata": {},
   "source": [
    "### Descrição do tipo local\n",
    "A variável descreve o local do crime ocorrido\n",
    "##### Tratamentos\n",
    "1. Valores cadastrados de formas deferentes (Via pública => via publica..)\n",
    "2. Possívelmente retirar espaços em ltrim() e rtrim()\n",
    "##### Comentários\n",
    "A variável possui uma grande volumetria em Via pública e cerca de 6 linhas nulas"
   ]
  },
  {
   "cell_type": "code",
   "execution_count": 58,
   "id": "c5c7b340",
   "metadata": {},
   "outputs": [
    {
     "data": {
      "text/plain": [
       "count           18439\n",
       "unique             34\n",
       "top       Via pública\n",
       "freq            10223\n",
       "Name: desc_tipo_local, dtype: object"
      ]
     },
     "execution_count": 58,
     "metadata": {},
     "output_type": "execute_result"
    }
   ],
   "source": [
    "df_2['desc_tipo_local'].describe()"
   ]
  },
  {
   "cell_type": "code",
   "execution_count": 59,
   "id": "4791d75f",
   "metadata": {},
   "outputs": [
    {
     "data": {
      "text/plain": [
       "desc_tipo_local\n",
       "False    18439\n",
       "True         6\n",
       "Name: count, dtype: int64"
      ]
     },
     "execution_count": 59,
     "metadata": {},
     "output_type": "execute_result"
    }
   ],
   "source": [
    "df_2['desc_tipo_local'].isna().value_counts()"
   ]
  },
  {
   "cell_type": "code",
   "execution_count": 60,
   "id": "e47550f7",
   "metadata": {},
   "outputs": [
    {
     "data": {
      "text/plain": [
       "desc_tipo_local\n",
       "Via pública                                 10223\n",
       "Residência                                   3873\n",
       "Area não ocupada                              953\n",
       "Unidade rural                                 712\n",
       "Comércio e serviços                           542\n",
       "Saúde                                         496\n",
       "Restaurante e afins                           483\n",
       "Rodovia/Estrada                               311\n",
       "Lazer e recreação                             172\n",
       "Condominio Residencial                        153\n",
       "Favela                                         85\n",
       "Serviços e bens públicos                       63\n",
       "Hospedagem                                     58\n",
       "Estabelecimento prisional                      54\n",
       "Terminal/Estação                               45\n",
       "Repartição Pública                             30\n",
       "Estrada de ferro                               27\n",
       "Centro Comerc./Empresarial                     27\n",
       "Templo e afins                                 26\n",
       "Local clandestino/ilegal                       24\n",
       "Estabelecimento de ensino                      22\n",
       "Escritório                                     17\n",
       "Estabelecimento industrial                     12\n",
       "Condominio Comercial                            8\n",
       "Entidade assistencial                           8\n",
       "Shopping Center                                 3\n",
       "Garagem ou abrigo de residência                 3\n",
       "Estabelecimento bancário                        2\n",
       "Via Pública                                     2\n",
       "Sindicato                                       1\n",
       "Templo e Afins                                  1\n",
       "Via pública                                     1\n",
       "Estacionamento particular                       1\n",
       "Unidade rural                                   1\n",
       "Name: count, dtype: int64"
      ]
     },
     "execution_count": 60,
     "metadata": {},
     "output_type": "execute_result"
    }
   ],
   "source": [
    "df_2['desc_tipo_local'].value_counts()"
   ]
  },
  {
   "cell_type": "code",
   "execution_count": 61,
   "id": "87bc9e41",
   "metadata": {},
   "outputs": [
    {
     "name": "stderr",
     "output_type": "stream",
     "text": [
      "C:\\Users\\gabriel\\AppData\\Local\\Temp\\ipykernel_2348\\2806489551.py:2: SettingWithCopyWarning: \n",
      "A value is trying to be set on a copy of a slice from a DataFrame\n",
      "\n",
      "See the caveats in the documentation: https://pandas.pydata.org/pandas-docs/stable/user_guide/indexing.html#returning-a-view-versus-a-copy\n",
      "  df_2['desc_tipo_local'].loc[df_2['desc_tipo_local'].str.contains(\"Via p\")==True] = 'Via pública'\n"
     ]
    }
   ],
   "source": [
    "## Tratrando coluna \n",
    "df_2['desc_tipo_local'].loc[df_2['desc_tipo_local'].str.contains(\"Via p\")==True] = 'Via pública'"
   ]
  },
  {
   "cell_type": "code",
   "execution_count": 62,
   "id": "12b63c2d",
   "metadata": {},
   "outputs": [
    {
     "data": {
      "text/plain": [
       "<Axes: ylabel='count'>"
      ]
     },
     "execution_count": 62,
     "metadata": {},
     "output_type": "execute_result"
    },
    {
     "data": {
      "image/png": "[encoded data removed]",
      "text/plain": [
       "<Figure size 640x480 with 1 Axes>"
      ]
     },
     "metadata": {},
     "output_type": "display_data"
    }
   ],
   "source": [
    "df_2['desc_tipo_local'].value_counts().head(5).sort_values(ascending=False).plot.pie()"
   ]
  },
  {
   "cell_type": "markdown",
   "id": "e434bd8a",
   "metadata": {},
   "source": [
    "### Latitude e Longitude\n",
    "A Latitude e Longitude do endereço onde ocorreu o crime\n",
    "\n",
    "##### Comentários\n",
    "A maior ocorrencia de crimes de homiícios está concentrado na capital de são paulo"
   ]
  },
  {
   "cell_type": "code",
   "execution_count": 63,
   "id": "f0e82906",
   "metadata": {},
   "outputs": [
    {
     "data": {
      "text/html": [
       "<div>\n",
       "<style scoped>\n",
       "    .dataframe tbody tr th:only-of-type {\n",
       "        vertical-align: middle;\n",
       "    }\n",
       "\n",
       "    .dataframe tbody tr th {\n",
       "        vertical-align: top;\n",
       "    }\n",
       "\n",
       "    .dataframe thead th {\n",
       "        text-align: right;\n",
       "    }\n",
       "</style>\n",
       "<table border=\"1\" class=\"dataframe\">\n",
       "  <thead>\n",
       "    <tr style=\"text-align: right;\">\n",
       "      <th></th>\n",
       "      <th>latitude</th>\n",
       "      <th>longitude</th>\n",
       "    </tr>\n",
       "  </thead>\n",
       "  <tbody>\n",
       "    <tr>\n",
       "      <th>count</th>\n",
       "      <td>13284.000000</td>\n",
       "      <td>13285.000000</td>\n",
       "    </tr>\n",
       "    <tr>\n",
       "      <th>mean</th>\n",
       "      <td>-23.064318</td>\n",
       "      <td>-47.043922</td>\n",
       "    </tr>\n",
       "    <tr>\n",
       "      <th>std</th>\n",
       "      <td>0.885189</td>\n",
       "      <td>1.291568</td>\n",
       "    </tr>\n",
       "    <tr>\n",
       "      <th>min</th>\n",
       "      <td>-25.013276</td>\n",
       "      <td>-52.946693</td>\n",
       "    </tr>\n",
       "    <tr>\n",
       "      <th>25%</th>\n",
       "      <td>-23.613530</td>\n",
       "      <td>-47.317517</td>\n",
       "    </tr>\n",
       "    <tr>\n",
       "      <th>50%</th>\n",
       "      <td>-23.453261</td>\n",
       "      <td>-46.754598</td>\n",
       "    </tr>\n",
       "    <tr>\n",
       "      <th>75%</th>\n",
       "      <td>-22.799955</td>\n",
       "      <td>-46.476308</td>\n",
       "    </tr>\n",
       "    <tr>\n",
       "      <th>max</th>\n",
       "      <td>0.000000</td>\n",
       "      <td>0.000000</td>\n",
       "    </tr>\n",
       "  </tbody>\n",
       "</table>\n",
       "</div>"
      ],
      "text/plain": [
       "           latitude     longitude\n",
       "count  13284.000000  13285.000000\n",
       "mean     -23.064318    -47.043922\n",
       "std        0.885189      1.291568\n",
       "min      -25.013276    -52.946693\n",
       "25%      -23.613530    -47.317517\n",
       "50%      -23.453261    -46.754598\n",
       "75%      -22.799955    -46.476308\n",
       "max        0.000000      0.000000"
      ]
     },
     "execution_count": 63,
     "metadata": {},
     "output_type": "execute_result"
    }
   ],
   "source": [
    "df_2[['latitude','longitude']].describe()"
   ]
  },
  {
   "cell_type": "code",
   "execution_count": 64,
   "id": "059f1515",
   "metadata": {},
   "outputs": [
    {
     "data": {
      "text/plain": [
       "<Axes: xlabel='longitude', ylabel='latitude'>"
      ]
     },
     "execution_count": 64,
     "metadata": {},
     "output_type": "execute_result"
    },
    {
     "data": {
      "image/png": "[encoded data removed]",
      "text/plain": [
       "<Figure size 640x480 with 1 Axes>"
      ]
     },
     "metadata": {},
     "output_type": "display_data"
    }
   ],
   "source": [
    "sns.scatterplot(x = df_2['longitude'], y=df_2['latitude'])"
   ]
  },
  {
   "cell_type": "code",
   "execution_count": 65,
   "id": "8be236f3",
   "metadata": {},
   "outputs": [],
   "source": [
    "df_2_sem_outlier = df_2[(df_2['longitude'] != 0) & (df_2['latitude'] != 0)]"
   ]
  },
  {
   "cell_type": "code",
   "execution_count": 66,
   "id": "b8d37b00",
   "metadata": {},
   "outputs": [
    {
     "data": {
      "text/plain": [
       "<Axes: xlabel='longitude', ylabel='latitude'>"
      ]
     },
     "execution_count": 66,
     "metadata": {},
     "output_type": "execute_result"
    },
    {
     "data": {
      "image/png": "[encoded data removed]",
      "text/plain": [
       "<Figure size 640x480 with 1 Axes>"
      ]
     },
     "metadata": {},
     "output_type": "display_data"
    }
   ],
   "source": [
    "sns.scatterplot(x = df_2_sem_outlier['longitude'], y = df_2_sem_outlier['latitude'])"
   ]
  },
  {
   "cell_type": "markdown",
   "id": "c8db705e",
   "metadata": {},
   "source": [
    "### DP da Elaboração\n",
    "Delegacia de policia responsável pela elaboração do B.O do crime\n",
    "\n",
    "##### Comentários\n",
    "1. O Municipio, secretaria, departamento e dp são as mesmas que são emitidas o BO (circunscricao)"
   ]
  },
  {
   "cell_type": "code",
   "execution_count": 67,
   "id": "4df70044",
   "metadata": {},
   "outputs": [
    {
     "data": {
      "text/plain": [
       "count                    18445\n",
       "unique                     984\n",
       "top       DHPP DIV. HOMICIDIOS\n",
       "freq                       514\n",
       "Name: dp_elaboracao, dtype: object"
      ]
     },
     "execution_count": 67,
     "metadata": {},
     "output_type": "execute_result"
    }
   ],
   "source": [
    "df_2['dp_elaboracao'].describe()"
   ]
  },
  {
   "cell_type": "code",
   "execution_count": 68,
   "id": "858ce389",
   "metadata": {},
   "outputs": [
    {
     "data": {
      "text/plain": [
       "dp_elaboracao\n",
       "False    18445\n",
       "Name: count, dtype: int64"
      ]
     },
     "execution_count": 68,
     "metadata": {},
     "output_type": "execute_result"
    }
   ],
   "source": [
    "df_2['dp_elaboracao'].isna().value_counts()"
   ]
  },
  {
   "cell_type": "code",
   "execution_count": 69,
   "id": "cc13c274",
   "metadata": {
    "scrolled": false
   },
   "outputs": [
    {
     "data": {
      "text/plain": [
       "<Axes: ylabel='dp_elaboracao'>"
      ]
     },
     "execution_count": 69,
     "metadata": {},
     "output_type": "execute_result"
    },
    {
     "data": {
      "image/png": "[encoded data removed]",
      "text/plain": [
       "<Figure size 640x480 with 1 Axes>"
      ]
     },
     "metadata": {},
     "output_type": "display_data"
    }
   ],
   "source": [
    "df_2['dp_elaboracao'].value_counts().head(5).sort_values(ascending=False).plot(kind='barh')"
   ]
  },
  {
   "cell_type": "code",
   "execution_count": 70,
   "id": "4ee42e61",
   "metadata": {},
   "outputs": [
    {
     "data": {
      "text/html": [
       "<div>\n",
       "<style scoped>\n",
       "    .dataframe tbody tr th:only-of-type {\n",
       "        vertical-align: middle;\n",
       "    }\n",
       "\n",
       "    .dataframe tbody tr th {\n",
       "        vertical-align: top;\n",
       "    }\n",
       "\n",
       "    .dataframe thead th {\n",
       "        text-align: right;\n",
       "    }\n",
       "</style>\n",
       "<table border=\"1\" class=\"dataframe\">\n",
       "  <thead>\n",
       "    <tr style=\"text-align: right;\">\n",
       "      <th>dp_circunscricao</th>\n",
       "      <th>001 DP - Adamantina</th>\n",
       "      <th>001 DP - Americana</th>\n",
       "      <th>001 DP - Amparo</th>\n",
       "      <th>001 DP - Andradina</th>\n",
       "      <th>001 DP - Araraquara</th>\n",
       "      <th>001 DP - Araras</th>\n",
       "      <th>001 DP - Araçatuba</th>\n",
       "      <th>001 DP - Assis</th>\n",
       "      <th>001 DP - Atibaia</th>\n",
       "      <th>001 DP - Avaré</th>\n",
       "      <th>001 DP - Barretos</th>\n",
       "      <th>001 DP - Barueri</th>\n",
       "      <th>001 DP - Batatais</th>\n",
       "      <th>001 DP - Bauru</th>\n",
       "      <th>001 DP - Bebedouro</th>\n",
       "      <th>...</th>\n",
       "      <th>DM - Valinhos</th>\n",
       "      <th>DM - Valparaiso</th>\n",
       "      <th>DM - Vargem</th>\n",
       "      <th>DM - Vargem Grande Paulista</th>\n",
       "      <th>DM - Vargem Grande do Sul</th>\n",
       "      <th>DM - Vera Cruz</th>\n",
       "      <th>DM - Vinhedo</th>\n",
       "      <th>DM - Viradouro</th>\n",
       "      <th>DM - Vista Alegre/Alto</th>\n",
       "      <th>DM - Votorantim</th>\n",
       "      <th>DM - Várzea Pta.</th>\n",
       "      <th>DM - Zacarias</th>\n",
       "      <th>DM - Águas de Lindóia</th>\n",
       "      <th>DM - Álvares Machado</th>\n",
       "      <th>Delegacia Aeroporto Int. SP - Guarulhos</th>\n",
       "    </tr>\n",
       "    <tr>\n",
       "      <th>dp_elaboracao</th>\n",
       "      <th></th>\n",
       "      <th></th>\n",
       "      <th></th>\n",
       "      <th></th>\n",
       "      <th></th>\n",
       "      <th></th>\n",
       "      <th></th>\n",
       "      <th></th>\n",
       "      <th></th>\n",
       "      <th></th>\n",
       "      <th></th>\n",
       "      <th></th>\n",
       "      <th></th>\n",
       "      <th></th>\n",
       "      <th></th>\n",
       "      <th></th>\n",
       "      <th></th>\n",
       "      <th></th>\n",
       "      <th></th>\n",
       "      <th></th>\n",
       "      <th></th>\n",
       "      <th></th>\n",
       "      <th></th>\n",
       "      <th></th>\n",
       "      <th></th>\n",
       "      <th></th>\n",
       "      <th></th>\n",
       "      <th></th>\n",
       "      <th></th>\n",
       "      <th></th>\n",
       "      <th></th>\n",
       "    </tr>\n",
       "  </thead>\n",
       "  <tbody>\n",
       "    <tr>\n",
       "      <th>01ª DDM CENTRO</th>\n",
       "      <td>0</td>\n",
       "      <td>0</td>\n",
       "      <td>0</td>\n",
       "      <td>0</td>\n",
       "      <td>0</td>\n",
       "      <td>0</td>\n",
       "      <td>0</td>\n",
       "      <td>0</td>\n",
       "      <td>0</td>\n",
       "      <td>0</td>\n",
       "      <td>0</td>\n",
       "      <td>0</td>\n",
       "      <td>0</td>\n",
       "      <td>0</td>\n",
       "      <td>0</td>\n",
       "      <td>...</td>\n",
       "      <td>0</td>\n",
       "      <td>0</td>\n",
       "      <td>0</td>\n",
       "      <td>0</td>\n",
       "      <td>0</td>\n",
       "      <td>0</td>\n",
       "      <td>0</td>\n",
       "      <td>0</td>\n",
       "      <td>0</td>\n",
       "      <td>0</td>\n",
       "      <td>0</td>\n",
       "      <td>0</td>\n",
       "      <td>0</td>\n",
       "      <td>0</td>\n",
       "      <td>0</td>\n",
       "    </tr>\n",
       "    <tr>\n",
       "      <th>01ª DEL. SEC. CAMPINAS - SHPP</th>\n",
       "      <td>0</td>\n",
       "      <td>0</td>\n",
       "      <td>0</td>\n",
       "      <td>0</td>\n",
       "      <td>0</td>\n",
       "      <td>0</td>\n",
       "      <td>0</td>\n",
       "      <td>0</td>\n",
       "      <td>0</td>\n",
       "      <td>0</td>\n",
       "      <td>0</td>\n",
       "      <td>0</td>\n",
       "      <td>0</td>\n",
       "      <td>0</td>\n",
       "      <td>0</td>\n",
       "      <td>...</td>\n",
       "      <td>0</td>\n",
       "      <td>0</td>\n",
       "      <td>0</td>\n",
       "      <td>0</td>\n",
       "      <td>0</td>\n",
       "      <td>0</td>\n",
       "      <td>0</td>\n",
       "      <td>0</td>\n",
       "      <td>0</td>\n",
       "      <td>0</td>\n",
       "      <td>0</td>\n",
       "      <td>0</td>\n",
       "      <td>0</td>\n",
       "      <td>0</td>\n",
       "      <td>0</td>\n",
       "    </tr>\n",
       "    <tr>\n",
       "      <th>01º D.P. AMERICANA</th>\n",
       "      <td>0</td>\n",
       "      <td>3</td>\n",
       "      <td>0</td>\n",
       "      <td>0</td>\n",
       "      <td>0</td>\n",
       "      <td>0</td>\n",
       "      <td>0</td>\n",
       "      <td>0</td>\n",
       "      <td>0</td>\n",
       "      <td>0</td>\n",
       "      <td>0</td>\n",
       "      <td>0</td>\n",
       "      <td>0</td>\n",
       "      <td>0</td>\n",
       "      <td>0</td>\n",
       "      <td>...</td>\n",
       "      <td>0</td>\n",
       "      <td>0</td>\n",
       "      <td>0</td>\n",
       "      <td>0</td>\n",
       "      <td>0</td>\n",
       "      <td>0</td>\n",
       "      <td>0</td>\n",
       "      <td>0</td>\n",
       "      <td>0</td>\n",
       "      <td>0</td>\n",
       "      <td>0</td>\n",
       "      <td>0</td>\n",
       "      <td>0</td>\n",
       "      <td>0</td>\n",
       "      <td>0</td>\n",
       "    </tr>\n",
       "    <tr>\n",
       "      <th>01º D.P. ANDRADINA</th>\n",
       "      <td>0</td>\n",
       "      <td>0</td>\n",
       "      <td>0</td>\n",
       "      <td>4</td>\n",
       "      <td>0</td>\n",
       "      <td>0</td>\n",
       "      <td>0</td>\n",
       "      <td>0</td>\n",
       "      <td>0</td>\n",
       "      <td>0</td>\n",
       "      <td>0</td>\n",
       "      <td>0</td>\n",
       "      <td>0</td>\n",
       "      <td>0</td>\n",
       "      <td>0</td>\n",
       "      <td>...</td>\n",
       "      <td>0</td>\n",
       "      <td>0</td>\n",
       "      <td>0</td>\n",
       "      <td>0</td>\n",
       "      <td>0</td>\n",
       "      <td>0</td>\n",
       "      <td>0</td>\n",
       "      <td>0</td>\n",
       "      <td>0</td>\n",
       "      <td>0</td>\n",
       "      <td>0</td>\n",
       "      <td>0</td>\n",
       "      <td>0</td>\n",
       "      <td>0</td>\n",
       "      <td>0</td>\n",
       "    </tr>\n",
       "    <tr>\n",
       "      <th>01º D.P. ARARAQUARA</th>\n",
       "      <td>0</td>\n",
       "      <td>0</td>\n",
       "      <td>0</td>\n",
       "      <td>0</td>\n",
       "      <td>1</td>\n",
       "      <td>0</td>\n",
       "      <td>0</td>\n",
       "      <td>0</td>\n",
       "      <td>0</td>\n",
       "      <td>0</td>\n",
       "      <td>0</td>\n",
       "      <td>0</td>\n",
       "      <td>0</td>\n",
       "      <td>0</td>\n",
       "      <td>0</td>\n",
       "      <td>...</td>\n",
       "      <td>0</td>\n",
       "      <td>0</td>\n",
       "      <td>0</td>\n",
       "      <td>0</td>\n",
       "      <td>0</td>\n",
       "      <td>0</td>\n",
       "      <td>0</td>\n",
       "      <td>0</td>\n",
       "      <td>0</td>\n",
       "      <td>0</td>\n",
       "      <td>0</td>\n",
       "      <td>0</td>\n",
       "      <td>0</td>\n",
       "      <td>0</td>\n",
       "      <td>0</td>\n",
       "    </tr>\n",
       "    <tr>\n",
       "      <th>01º D.P. BARUERI</th>\n",
       "      <td>0</td>\n",
       "      <td>0</td>\n",
       "      <td>0</td>\n",
       "      <td>0</td>\n",
       "      <td>0</td>\n",
       "      <td>0</td>\n",
       "      <td>0</td>\n",
       "      <td>0</td>\n",
       "      <td>0</td>\n",
       "      <td>0</td>\n",
       "      <td>0</td>\n",
       "      <td>8</td>\n",
       "      <td>0</td>\n",
       "      <td>0</td>\n",
       "      <td>0</td>\n",
       "      <td>...</td>\n",
       "      <td>0</td>\n",
       "      <td>0</td>\n",
       "      <td>0</td>\n",
       "      <td>0</td>\n",
       "      <td>0</td>\n",
       "      <td>0</td>\n",
       "      <td>0</td>\n",
       "      <td>0</td>\n",
       "      <td>0</td>\n",
       "      <td>0</td>\n",
       "      <td>0</td>\n",
       "      <td>0</td>\n",
       "      <td>0</td>\n",
       "      <td>0</td>\n",
       "      <td>0</td>\n",
       "    </tr>\n",
       "    <tr>\n",
       "      <th>01º D.P. BIRIGUI</th>\n",
       "      <td>0</td>\n",
       "      <td>0</td>\n",
       "      <td>0</td>\n",
       "      <td>0</td>\n",
       "      <td>0</td>\n",
       "      <td>0</td>\n",
       "      <td>0</td>\n",
       "      <td>0</td>\n",
       "      <td>0</td>\n",
       "      <td>0</td>\n",
       "      <td>0</td>\n",
       "      <td>0</td>\n",
       "      <td>0</td>\n",
       "      <td>0</td>\n",
       "      <td>0</td>\n",
       "      <td>...</td>\n",
       "      <td>0</td>\n",
       "      <td>0</td>\n",
       "      <td>0</td>\n",
       "      <td>0</td>\n",
       "      <td>0</td>\n",
       "      <td>0</td>\n",
       "      <td>0</td>\n",
       "      <td>0</td>\n",
       "      <td>0</td>\n",
       "      <td>0</td>\n",
       "      <td>0</td>\n",
       "      <td>0</td>\n",
       "      <td>0</td>\n",
       "      <td>0</td>\n",
       "      <td>0</td>\n",
       "    </tr>\n",
       "    <tr>\n",
       "      <th>01º D.P. BOTUCATU</th>\n",
       "      <td>0</td>\n",
       "      <td>0</td>\n",
       "      <td>0</td>\n",
       "      <td>0</td>\n",
       "      <td>0</td>\n",
       "      <td>0</td>\n",
       "      <td>0</td>\n",
       "      <td>0</td>\n",
       "      <td>0</td>\n",
       "      <td>0</td>\n",
       "      <td>0</td>\n",
       "      <td>0</td>\n",
       "      <td>0</td>\n",
       "      <td>0</td>\n",
       "      <td>0</td>\n",
       "      <td>...</td>\n",
       "      <td>0</td>\n",
       "      <td>0</td>\n",
       "      <td>0</td>\n",
       "      <td>0</td>\n",
       "      <td>0</td>\n",
       "      <td>0</td>\n",
       "      <td>0</td>\n",
       "      <td>0</td>\n",
       "      <td>0</td>\n",
       "      <td>0</td>\n",
       "      <td>0</td>\n",
       "      <td>0</td>\n",
       "      <td>0</td>\n",
       "      <td>0</td>\n",
       "      <td>0</td>\n",
       "    </tr>\n",
       "    <tr>\n",
       "      <th>01º D.P. CABREÚVA</th>\n",
       "      <td>0</td>\n",
       "      <td>0</td>\n",
       "      <td>0</td>\n",
       "      <td>0</td>\n",
       "      <td>0</td>\n",
       "      <td>0</td>\n",
       "      <td>0</td>\n",
       "      <td>0</td>\n",
       "      <td>0</td>\n",
       "      <td>0</td>\n",
       "      <td>0</td>\n",
       "      <td>0</td>\n",
       "      <td>0</td>\n",
       "      <td>0</td>\n",
       "      <td>0</td>\n",
       "      <td>...</td>\n",
       "      <td>0</td>\n",
       "      <td>0</td>\n",
       "      <td>0</td>\n",
       "      <td>0</td>\n",
       "      <td>0</td>\n",
       "      <td>0</td>\n",
       "      <td>0</td>\n",
       "      <td>0</td>\n",
       "      <td>0</td>\n",
       "      <td>0</td>\n",
       "      <td>0</td>\n",
       "      <td>0</td>\n",
       "      <td>0</td>\n",
       "      <td>0</td>\n",
       "      <td>0</td>\n",
       "    </tr>\n",
       "    <tr>\n",
       "      <th>01º D.P. CAIEIRAS</th>\n",
       "      <td>0</td>\n",
       "      <td>0</td>\n",
       "      <td>0</td>\n",
       "      <td>0</td>\n",
       "      <td>0</td>\n",
       "      <td>0</td>\n",
       "      <td>0</td>\n",
       "      <td>0</td>\n",
       "      <td>0</td>\n",
       "      <td>0</td>\n",
       "      <td>0</td>\n",
       "      <td>0</td>\n",
       "      <td>0</td>\n",
       "      <td>0</td>\n",
       "      <td>0</td>\n",
       "      <td>...</td>\n",
       "      <td>0</td>\n",
       "      <td>0</td>\n",
       "      <td>0</td>\n",
       "      <td>0</td>\n",
       "      <td>0</td>\n",
       "      <td>0</td>\n",
       "      <td>0</td>\n",
       "      <td>0</td>\n",
       "      <td>0</td>\n",
       "      <td>0</td>\n",
       "      <td>0</td>\n",
       "      <td>0</td>\n",
       "      <td>0</td>\n",
       "      <td>0</td>\n",
       "      <td>0</td>\n",
       "    </tr>\n",
       "  </tbody>\n",
       "</table>\n",
       "<p>10 rows × 964 columns</p>\n",
       "</div>"
      ],
      "text/plain": [
       "dp_circunscricao               001 DP - Adamantina  001 DP - Americana   \n",
       "dp_elaboracao                                                            \n",
       "01ª DDM CENTRO                                   0                   0  \\\n",
       "01ª DEL. SEC. CAMPINAS - SHPP                    0                   0   \n",
       "01º D.P. AMERICANA                               0                   3   \n",
       "01º D.P. ANDRADINA                               0                   0   \n",
       "01º D.P. ARARAQUARA                              0                   0   \n",
       "01º D.P. BARUERI                                 0                   0   \n",
       "01º D.P. BIRIGUI                                 0                   0   \n",
       "01º D.P. BOTUCATU                                0                   0   \n",
       "01º D.P. CABREÚVA                                0                   0   \n",
       "01º D.P. CAIEIRAS                                0                   0   \n",
       "\n",
       "dp_circunscricao               001 DP - Amparo  001 DP - Andradina   \n",
       "dp_elaboracao                                                        \n",
       "01ª DDM CENTRO                               0                   0  \\\n",
       "01ª DEL. SEC. CAMPINAS - SHPP                0                   0   \n",
       "01º D.P. AMERICANA                           0                   0   \n",
       "01º D.P. ANDRADINA                           0                   4   \n",
       "01º D.P. ARARAQUARA                          0                   0   \n",
       "01º D.P. BARUERI                             0                   0   \n",
       "01º D.P. BIRIGUI                             0                   0   \n",
       "01º D.P. BOTUCATU                            0                   0   \n",
       "01º D.P. CABREÚVA                            0                   0   \n",
       "01º D.P. CAIEIRAS                            0                   0   \n",
       "\n",
       "dp_circunscricao               001 DP - Araraquara  001 DP - Araras   \n",
       "dp_elaboracao                                                         \n",
       "01ª DDM CENTRO                                   0                0  \\\n",
       "01ª DEL. SEC. CAMPINAS - SHPP                    0                0   \n",
       "01º D.P. AMERICANA                               0                0   \n",
       "01º D.P. ANDRADINA                               0                0   \n",
       "01º D.P. ARARAQUARA                              1                0   \n",
       "01º D.P. BARUERI                                 0                0   \n",
       "01º D.P. BIRIGUI                                 0                0   \n",
       "01º D.P. BOTUCATU                                0                0   \n",
       "01º D.P. CABREÚVA                                0                0   \n",
       "01º D.P. CAIEIRAS                                0                0   \n",
       "\n",
       "dp_circunscricao               001 DP - Araçatuba  001 DP - Assis   \n",
       "dp_elaboracao                                                       \n",
       "01ª DDM CENTRO                                  0               0  \\\n",
       "01ª DEL. SEC. CAMPINAS - SHPP                   0               0   \n",
       "01º D.P. AMERICANA                              0               0   \n",
       "01º D.P. ANDRADINA                              0               0   \n",
       "01º D.P. ARARAQUARA                             0               0   \n",
       "01º D.P. BARUERI                                0               0   \n",
       "01º D.P. BIRIGUI                                0               0   \n",
       "01º D.P. BOTUCATU                               0               0   \n",
       "01º D.P. CABREÚVA                               0               0   \n",
       "01º D.P. CAIEIRAS                               0               0   \n",
       "\n",
       "dp_circunscricao               001 DP - Atibaia  001 DP - Avaré   \n",
       "dp_elaboracao                                                     \n",
       "01ª DDM CENTRO                                0               0  \\\n",
       "01ª DEL. SEC. CAMPINAS - SHPP                 0               0   \n",
       "01º D.P. AMERICANA                            0               0   \n",
       "01º D.P. ANDRADINA                            0               0   \n",
       "01º D.P. ARARAQUARA                           0               0   \n",
       "01º D.P. BARUERI                              0               0   \n",
       "01º D.P. BIRIGUI                              0               0   \n",
       "01º D.P. BOTUCATU                             0               0   \n",
       "01º D.P. CABREÚVA                             0               0   \n",
       "01º D.P. CAIEIRAS                             0               0   \n",
       "\n",
       "dp_circunscricao               001 DP - Barretos  001 DP - Barueri   \n",
       "dp_elaboracao                                                        \n",
       "01ª DDM CENTRO                                 0                 0  \\\n",
       "01ª DEL. SEC. CAMPINAS - SHPP                  0                 0   \n",
       "01º D.P. AMERICANA                             0                 0   \n",
       "01º D.P. ANDRADINA                             0                 0   \n",
       "01º D.P. ARARAQUARA                            0                 0   \n",
       "01º D.P. BARUERI                               0                 8   \n",
       "01º D.P. BIRIGUI                               0                 0   \n",
       "01º D.P. BOTUCATU                              0                 0   \n",
       "01º D.P. CABREÚVA                              0                 0   \n",
       "01º D.P. CAIEIRAS                              0                 0   \n",
       "\n",
       "dp_circunscricao               001 DP - Batatais  001 DP - Bauru   \n",
       "dp_elaboracao                                                      \n",
       "01ª DDM CENTRO                                 0               0  \\\n",
       "01ª DEL. SEC. CAMPINAS - SHPP                  0               0   \n",
       "01º D.P. AMERICANA                             0               0   \n",
       "01º D.P. ANDRADINA                             0               0   \n",
       "01º D.P. ARARAQUARA                            0               0   \n",
       "01º D.P. BARUERI                               0               0   \n",
       "01º D.P. BIRIGUI                               0               0   \n",
       "01º D.P. BOTUCATU                              0               0   \n",
       "01º D.P. CABREÚVA                              0               0   \n",
       "01º D.P. CAIEIRAS                              0               0   \n",
       "\n",
       "dp_circunscricao               001 DP - Bebedouro  ...  DM - Valinhos   \n",
       "dp_elaboracao                                      ...                  \n",
       "01ª DDM CENTRO                                  0  ...              0  \\\n",
       "01ª DEL. SEC. CAMPINAS - SHPP                   0  ...              0   \n",
       "01º D.P. AMERICANA                              0  ...              0   \n",
       "01º D.P. ANDRADINA                              0  ...              0   \n",
       "01º D.P. ARARAQUARA                             0  ...              0   \n",
       "01º D.P. BARUERI                                0  ...              0   \n",
       "01º D.P. BIRIGUI                                0  ...              0   \n",
       "01º D.P. BOTUCATU                               0  ...              0   \n",
       "01º D.P. CABREÚVA                               0  ...              0   \n",
       "01º D.P. CAIEIRAS                               0  ...              0   \n",
       "\n",
       "dp_circunscricao               DM - Valparaiso  DM - Vargem   \n",
       "dp_elaboracao                                                 \n",
       "01ª DDM CENTRO                               0            0  \\\n",
       "01ª DEL. SEC. CAMPINAS - SHPP                0            0   \n",
       "01º D.P. AMERICANA                           0            0   \n",
       "01º D.P. ANDRADINA                           0            0   \n",
       "01º D.P. ARARAQUARA                          0            0   \n",
       "01º D.P. BARUERI                             0            0   \n",
       "01º D.P. BIRIGUI                             0            0   \n",
       "01º D.P. BOTUCATU                            0            0   \n",
       "01º D.P. CABREÚVA                            0            0   \n",
       "01º D.P. CAIEIRAS                            0            0   \n",
       "\n",
       "dp_circunscricao               DM - Vargem Grande Paulista   \n",
       "dp_elaboracao                                                \n",
       "01ª DDM CENTRO                                           0  \\\n",
       "01ª DEL. SEC. CAMPINAS - SHPP                            0   \n",
       "01º D.P. AMERICANA                                       0   \n",
       "01º D.P. ANDRADINA                                       0   \n",
       "01º D.P. ARARAQUARA                                      0   \n",
       "01º D.P. BARUERI                                         0   \n",
       "01º D.P. BIRIGUI                                         0   \n",
       "01º D.P. BOTUCATU                                        0   \n",
       "01º D.P. CABREÚVA                                        0   \n",
       "01º D.P. CAIEIRAS                                        0   \n",
       "\n",
       "dp_circunscricao               DM - Vargem Grande do Sul  DM - Vera Cruz   \n",
       "dp_elaboracao                                                              \n",
       "01ª DDM CENTRO                                         0               0  \\\n",
       "01ª DEL. SEC. CAMPINAS - SHPP                          0               0   \n",
       "01º D.P. AMERICANA                                     0               0   \n",
       "01º D.P. ANDRADINA                                     0               0   \n",
       "01º D.P. ARARAQUARA                                    0               0   \n",
       "01º D.P. BARUERI                                       0               0   \n",
       "01º D.P. BIRIGUI                                       0               0   \n",
       "01º D.P. BOTUCATU                                      0               0   \n",
       "01º D.P. CABREÚVA                                      0               0   \n",
       "01º D.P. CAIEIRAS                                      0               0   \n",
       "\n",
       "dp_circunscricao               DM - Vinhedo  DM - Viradouro   \n",
       "dp_elaboracao                                                 \n",
       "01ª DDM CENTRO                            0               0  \\\n",
       "01ª DEL. SEC. CAMPINAS - SHPP             0               0   \n",
       "01º D.P. AMERICANA                        0               0   \n",
       "01º D.P. ANDRADINA                        0               0   \n",
       "01º D.P. ARARAQUARA                       0               0   \n",
       "01º D.P. BARUERI                          0               0   \n",
       "01º D.P. BIRIGUI                          0               0   \n",
       "01º D.P. BOTUCATU                         0               0   \n",
       "01º D.P. CABREÚVA                         0               0   \n",
       "01º D.P. CAIEIRAS                         0               0   \n",
       "\n",
       "dp_circunscricao               DM - Vista Alegre/Alto  DM - Votorantim   \n",
       "dp_elaboracao                                                            \n",
       "01ª DDM CENTRO                                      0                0  \\\n",
       "01ª DEL. SEC. CAMPINAS - SHPP                       0                0   \n",
       "01º D.P. AMERICANA                                  0                0   \n",
       "01º D.P. ANDRADINA                                  0                0   \n",
       "01º D.P. ARARAQUARA                                 0                0   \n",
       "01º D.P. BARUERI                                    0                0   \n",
       "01º D.P. BIRIGUI                                    0                0   \n",
       "01º D.P. BOTUCATU                                   0                0   \n",
       "01º D.P. CABREÚVA                                   0                0   \n",
       "01º D.P. CAIEIRAS                                   0                0   \n",
       "\n",
       "dp_circunscricao               DM - Várzea Pta.  DM - Zacarias   \n",
       "dp_elaboracao                                                    \n",
       "01ª DDM CENTRO                                0              0  \\\n",
       "01ª DEL. SEC. CAMPINAS - SHPP                 0              0   \n",
       "01º D.P. AMERICANA                            0              0   \n",
       "01º D.P. ANDRADINA                            0              0   \n",
       "01º D.P. ARARAQUARA                           0              0   \n",
       "01º D.P. BARUERI                              0              0   \n",
       "01º D.P. BIRIGUI                              0              0   \n",
       "01º D.P. BOTUCATU                             0              0   \n",
       "01º D.P. CABREÚVA                             0              0   \n",
       "01º D.P. CAIEIRAS                             0              0   \n",
       "\n",
       "dp_circunscricao               DM - Águas de Lindóia  DM - Álvares Machado   \n",
       "dp_elaboracao                                                                \n",
       "01ª DDM CENTRO                                     0                     0  \\\n",
       "01ª DEL. SEC. CAMPINAS - SHPP                      0                     0   \n",
       "01º D.P. AMERICANA                                 0                     0   \n",
       "01º D.P. ANDRADINA                                 0                     0   \n",
       "01º D.P. ARARAQUARA                                0                     0   \n",
       "01º D.P. BARUERI                                   0                     0   \n",
       "01º D.P. BIRIGUI                                   0                     0   \n",
       "01º D.P. BOTUCATU                                  0                     0   \n",
       "01º D.P. CABREÚVA                                  0                     0   \n",
       "01º D.P. CAIEIRAS                                  0                     0   \n",
       "\n",
       "dp_circunscricao               Delegacia Aeroporto Int. SP - Guarulhos  \n",
       "dp_elaboracao                                                           \n",
       "01ª DDM CENTRO                                                       0  \n",
       "01ª DEL. SEC. CAMPINAS - SHPP                                        0  \n",
       "01º D.P. AMERICANA                                                   0  \n",
       "01º D.P. ANDRADINA                                                   0  \n",
       "01º D.P. ARARAQUARA                                                  0  \n",
       "01º D.P. BARUERI                                                     0  \n",
       "01º D.P. BIRIGUI                                                     0  \n",
       "01º D.P. BOTUCATU                                                    0  \n",
       "01º D.P. CABREÚVA                                                    0  \n",
       "01º D.P. CAIEIRAS                                                    0  \n",
       "\n",
       "[10 rows x 964 columns]"
      ]
     },
     "execution_count": 70,
     "metadata": {},
     "output_type": "execute_result"
    }
   ],
   "source": [
    "pd.crosstab(df_2['dp_elaboracao'], df_2['dp_circunscricao']).head(10)"
   ]
  }
 ],
 "metadata": {
  "kernelspec": {
   "display_name": "Python 3 (ipykernel)",
   "language": "python",
   "name": "python3"
  },
  "language_info": {
   "codemirror_mode": {
    "name": "ipython",
    "version": 3
   },
   "file_extension": ".py",
   "mimetype": "text/x-python",
   "name": "python",
   "nbconvert_exporter": "python",
   "pygments_lexer": "ipython3",
   "version": "3.9.13"
  }
 },
 "nbformat": 4,
 "nbformat_minor": 5
}
