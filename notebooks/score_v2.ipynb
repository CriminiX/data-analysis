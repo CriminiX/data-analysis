{
 "cells": [
  {
   "cell_type": "code",
   "execution_count": 181,
   "metadata": {},
   "outputs": [],
   "source": [
    "import pandas as pd\n",
    "from datetime import date, timedelta\n",
    "import matplotlib.pyplot as plt\n",
    "from tensorflow import keras as k\n",
    "import numpy as np"
   ]
  },
  {
   "cell_type": "code",
   "execution_count": 182,
   "metadata": {},
   "outputs": [],
   "source": [
    "#crimes = pd.read_csv(\"crimes_encoded.csv\")\n",
    "crimes = pd.read_csv(\"neighborhood_crimes_encoded.csv\")"
   ]
  },
  {
   "cell_type": "code",
   "execution_count": 183,
   "metadata": {},
   "outputs": [
    {
     "data": {
      "text/html": [
       "<div>\n",
       "<style scoped>\n",
       "    .dataframe tbody tr th:only-of-type {\n",
       "        vertical-align: middle;\n",
       "    }\n",
       "\n",
       "    .dataframe tbody tr th {\n",
       "        vertical-align: top;\n",
       "    }\n",
       "\n",
       "    .dataframe thead th {\n",
       "        text-align: right;\n",
       "    }\n",
       "</style>\n",
       "<table border=\"1\" class=\"dataframe\">\n",
       "  <thead>\n",
       "    <tr style=\"text-align: right;\">\n",
       "      <th></th>\n",
       "      <th>neighborhood_code</th>\n",
       "      <th>city_code</th>\n",
       "      <th>estacao</th>\n",
       "      <th>ano</th>\n",
       "      <th>mes</th>\n",
       "      <th>dia</th>\n",
       "      <th>mes_sin</th>\n",
       "      <th>mes_cos</th>\n",
       "      <th>dia_sin</th>\n",
       "      <th>dia_cos</th>\n",
       "      <th>periodo</th>\n",
       "      <th>pontos</th>\n",
       "    </tr>\n",
       "  </thead>\n",
       "  <tbody>\n",
       "    <tr>\n",
       "      <th>0</th>\n",
       "      <td>5215</td>\n",
       "      <td>202</td>\n",
       "      <td>1</td>\n",
       "      <td>2020</td>\n",
       "      <td>1</td>\n",
       "      <td>1</td>\n",
       "      <td>0.5</td>\n",
       "      <td>0.866025</td>\n",
       "      <td>0.207912</td>\n",
       "      <td>0.978148</td>\n",
       "      <td>0</td>\n",
       "      <td>108011.0</td>\n",
       "    </tr>\n",
       "    <tr>\n",
       "      <th>1</th>\n",
       "      <td>683</td>\n",
       "      <td>43</td>\n",
       "      <td>1</td>\n",
       "      <td>2020</td>\n",
       "      <td>1</td>\n",
       "      <td>1</td>\n",
       "      <td>0.5</td>\n",
       "      <td>0.866025</td>\n",
       "      <td>0.207912</td>\n",
       "      <td>0.978148</td>\n",
       "      <td>0</td>\n",
       "      <td>107530.0</td>\n",
       "    </tr>\n",
       "    <tr>\n",
       "      <th>2</th>\n",
       "      <td>2837</td>\n",
       "      <td>43</td>\n",
       "      <td>1</td>\n",
       "      <td>2020</td>\n",
       "      <td>1</td>\n",
       "      <td>1</td>\n",
       "      <td>0.5</td>\n",
       "      <td>0.866025</td>\n",
       "      <td>0.207912</td>\n",
       "      <td>0.978148</td>\n",
       "      <td>0</td>\n",
       "      <td>107529.0</td>\n",
       "    </tr>\n",
       "    <tr>\n",
       "      <th>3</th>\n",
       "      <td>4848</td>\n",
       "      <td>305</td>\n",
       "      <td>1</td>\n",
       "      <td>2020</td>\n",
       "      <td>1</td>\n",
       "      <td>1</td>\n",
       "      <td>0.5</td>\n",
       "      <td>0.866025</td>\n",
       "      <td>0.207912</td>\n",
       "      <td>0.978148</td>\n",
       "      <td>0</td>\n",
       "      <td>108027.0</td>\n",
       "    </tr>\n",
       "    <tr>\n",
       "      <th>4</th>\n",
       "      <td>4848</td>\n",
       "      <td>305</td>\n",
       "      <td>1</td>\n",
       "      <td>2020</td>\n",
       "      <td>1</td>\n",
       "      <td>1</td>\n",
       "      <td>0.5</td>\n",
       "      <td>0.866025</td>\n",
       "      <td>0.207912</td>\n",
       "      <td>0.978148</td>\n",
       "      <td>0</td>\n",
       "      <td>108027.0</td>\n",
       "    </tr>\n",
       "  </tbody>\n",
       "</table>\n",
       "</div>"
      ],
      "text/plain": [
       "   neighborhood_code  city_code  estacao   ano  mes  dia  mes_sin   mes_cos  \\\n",
       "0               5215        202        1  2020    1    1      0.5  0.866025   \n",
       "1                683         43        1  2020    1    1      0.5  0.866025   \n",
       "2               2837         43        1  2020    1    1      0.5  0.866025   \n",
       "3               4848        305        1  2020    1    1      0.5  0.866025   \n",
       "4               4848        305        1  2020    1    1      0.5  0.866025   \n",
       "\n",
       "    dia_sin   dia_cos  periodo    pontos  \n",
       "0  0.207912  0.978148        0  108011.0  \n",
       "1  0.207912  0.978148        0  107530.0  \n",
       "2  0.207912  0.978148        0  107529.0  \n",
       "3  0.207912  0.978148        0  108027.0  \n",
       "4  0.207912  0.978148        0  108027.0  "
      ]
     },
     "execution_count": 183,
     "metadata": {},
     "output_type": "execute_result"
    }
   ],
   "source": [
    "crimes.head()"
   ]
  },
  {
   "cell_type": "code",
   "execution_count": 184,
   "metadata": {},
   "outputs": [
    {
     "data": {
      "text/plain": [
       "<AxesSubplot:>"
      ]
     },
     "execution_count": 184,
     "metadata": {},
     "output_type": "execute_result"
    },
    {
     "data": {
      "image/png": "[encoded data removed]",
      "text/plain": [
       "<Figure size 640x480 with 1 Axes>"
      ]
     },
     "metadata": {},
     "output_type": "display_data"
    }
   ],
   "source": [
    "crimes.groupby(\"neighborhood_code\").size().hist(log=True)"
   ]
  },
  {
   "cell_type": "code",
   "execution_count": 185,
   "metadata": {},
   "outputs": [],
   "source": [
    "X_date = crimes[[\"estacao\", \"ano\", \"mes_sin\", \"mes_cos\", \"dia_sin\", \"dia_cos\", \"periodo\"]].values\n",
    "X_location = crimes[\"neighborhood_code\"]\n",
    "X = {\"location_code\": X_location, \"date_features\": X_date}"
   ]
  },
  {
   "cell_type": "code",
   "execution_count": 186,
   "metadata": {},
   "outputs": [],
   "source": [
    "y = crimes[\"pontos\"]\n",
    "y = y / y.max()"
   ]
  },
  {
   "cell_type": "code",
   "execution_count": 187,
   "metadata": {},
   "outputs": [
    {
     "data": {
      "text/plain": [
       "6117"
      ]
     },
     "execution_count": 187,
     "metadata": {},
     "output_type": "execute_result"
    }
   ],
   "source": [
    "num_locations = crimes[\"neighborhood_code\"].max() + 1\n",
    "num_locations"
   ]
  },
  {
   "cell_type": "code",
   "execution_count": 188,
   "metadata": {},
   "outputs": [],
   "source": [
    "k.utils.set_random_seed(42)"
   ]
  },
  {
   "cell_type": "code",
   "execution_count": 189,
   "metadata": {},
   "outputs": [],
   "source": [
    "location = k.layers.Input(shape=(1,), name=\"location_code\")\n",
    "date_components = k.layers.Input(shape=(7,), name=\"date_features\")"
   ]
  },
  {
   "cell_type": "code",
   "execution_count": 190,
   "metadata": {},
   "outputs": [],
   "source": [
    "def embedding_block(input_layer, num_cat, out_dim):\n",
    "    x = k.layers.Embedding(num_cat, out_dim)(input_layer)\n",
    "    x = k.layers.Flatten()(x)\n",
    "    return x"
   ]
  },
  {
   "cell_type": "code",
   "execution_count": 191,
   "metadata": {},
   "outputs": [],
   "source": [
    "location_embedding = embedding_block(location, num_locations, 5)"
   ]
  },
  {
   "cell_type": "code",
   "execution_count": 192,
   "metadata": {},
   "outputs": [],
   "source": [
    "normalizer = k.layers.Normalization()\n",
    "normalizer.adapt(X_date)"
   ]
  },
  {
   "cell_type": "code",
   "execution_count": 193,
   "metadata": {},
   "outputs": [],
   "source": [
    "time_normalization = normalizer(date_components)\n",
    "concat_layer = k.layers.concatenate([location_embedding, time_normalization])\n",
    "hidden_layer = k.layers.Dense(32, activation=\"relu\", name=\"hidden\")(concat_layer)\n",
    "output_layer = k.layers.Dense(1, activation=\"sigmoid\", name=\"output\")(hidden_layer)"
   ]
  },
  {
   "cell_type": "code",
   "execution_count": 194,
   "metadata": {},
   "outputs": [],
   "source": [
    "model = k.Model([location, date_components], output_layer)"
   ]
  },
  {
   "cell_type": "code",
   "execution_count": 195,
   "metadata": {},
   "outputs": [
    {
     "name": "stdout",
     "output_type": "stream",
     "text": [
      "Model: \"model_5\"\n",
      "__________________________________________________________________________________________________\n",
      " Layer (type)                   Output Shape         Param #     Connected to                     \n",
      "==================================================================================================\n",
      " location_code (InputLayer)     [(None, 1)]          0           []                               \n",
      "                                                                                                  \n",
      " embedding_5 (Embedding)        (None, 1, 5)         30585       ['location_code[0][0]']          \n",
      "                                                                                                  \n",
      " date_features (InputLayer)     [(None, 7)]          0           []                               \n",
      "                                                                                                  \n",
      " flatten_5 (Flatten)            (None, 5)            0           ['embedding_5[0][0]']            \n",
      "                                                                                                  \n",
      " normalization_5 (Normalization  (None, 7)           15          ['date_features[0][0]']          \n",
      " )                                                                                                \n",
      "                                                                                                  \n",
      " concatenate_5 (Concatenate)    (None, 12)           0           ['flatten_5[0][0]',              \n",
      "                                                                  'normalization_5[0][0]']        \n",
      "                                                                                                  \n",
      " hidden (Dense)                 (None, 32)           416         ['concatenate_5[0][0]']          \n",
      "                                                                                                  \n",
      " output (Dense)                 (None, 1)            33          ['hidden[0][0]']                 \n",
      "                                                                                                  \n",
      "==================================================================================================\n",
      "Total params: 31,049\n",
      "Trainable params: 31,034\n",
      "Non-trainable params: 15\n",
      "__________________________________________________________________________________________________\n"
     ]
    }
   ],
   "source": [
    "model.summary()"
   ]
  },
  {
   "cell_type": "code",
   "execution_count": 196,
   "metadata": {},
   "outputs": [
    {
     "data": {
      "image/png": "[encoded data removed]",
      "text/plain": [
       "<IPython.core.display.Image object>"
      ]
     },
     "execution_count": 196,
     "metadata": {},
     "output_type": "execute_result"
    }
   ],
   "source": [
    "k.utils.plot_model(model, show_shapes=True)"
   ]
  },
  {
   "cell_type": "code",
   "execution_count": 197,
   "metadata": {},
   "outputs": [],
   "source": [
    "model.compile(optimizer=\"Adam\", loss=\"mean_absolute_error\", metrics=[\n",
    "    \"mean_squared_error\",\n",
    "    \"mean_absolute_percentage_error\"\n",
    "    ]\n",
    ")"
   ]
  },
  {
   "cell_type": "code",
   "execution_count": 198,
   "metadata": {},
   "outputs": [
    {
     "name": "stdout",
     "output_type": "stream",
     "text": [
      "Epoch 1/10\n",
      "99/99 [==============================] - 2s 12ms/step - loss: 0.1494 - mean_squared_error: 0.0363 - mean_absolute_percentage_error: 19.7838 - val_loss: 0.1269 - val_mean_squared_error: 0.0188 - val_mean_absolute_percentage_error: 22.0142\n",
      "Epoch 2/10\n",
      "99/99 [==============================] - 1s 9ms/step - loss: 0.0578 - mean_squared_error: 0.0058 - mean_absolute_percentage_error: 8.2216 - val_loss: 0.1164 - val_mean_squared_error: 0.0170 - val_mean_absolute_percentage_error: 19.9812\n",
      "Epoch 3/10\n",
      "99/99 [==============================] - 0s 5ms/step - loss: 0.0312 - mean_squared_error: 0.0022 - mean_absolute_percentage_error: 4.4369 - val_loss: 0.0730 - val_mean_squared_error: 0.0075 - val_mean_absolute_percentage_error: 12.3666\n",
      "Epoch 4/10\n",
      "99/99 [==============================] - 0s 5ms/step - loss: 0.0214 - mean_squared_error: 0.0012 - mean_absolute_percentage_error: 2.9603 - val_loss: 0.0419 - val_mean_squared_error: 0.0029 - val_mean_absolute_percentage_error: 7.0409\n",
      "Epoch 5/10\n",
      "99/99 [==============================] - 1s 5ms/step - loss: 0.0173 - mean_squared_error: 8.3476e-04 - mean_absolute_percentage_error: 2.3735 - val_loss: 0.0295 - val_mean_squared_error: 0.0017 - val_mean_absolute_percentage_error: 4.9666\n",
      "Epoch 6/10\n",
      "99/99 [==============================] - 0s 4ms/step - loss: 0.0153 - mean_squared_error: 7.1907e-04 - mean_absolute_percentage_error: 2.0990 - val_loss: 0.0270 - val_mean_squared_error: 0.0016 - val_mean_absolute_percentage_error: 4.5554\n",
      "Epoch 7/10\n",
      "99/99 [==============================] - 0s 4ms/step - loss: 0.0140 - mean_squared_error: 6.5247e-04 - mean_absolute_percentage_error: 1.9226 - val_loss: 0.0256 - val_mean_squared_error: 0.0016 - val_mean_absolute_percentage_error: 4.3397\n",
      "Epoch 8/10\n",
      "99/99 [==============================] - 1s 5ms/step - loss: 0.0130 - mean_squared_error: 6.0865e-04 - mean_absolute_percentage_error: 1.7907 - val_loss: 0.0243 - val_mean_squared_error: 0.0015 - val_mean_absolute_percentage_error: 4.1206\n",
      "Epoch 9/10\n",
      "99/99 [==============================] - 0s 4ms/step - loss: 0.0122 - mean_squared_error: 5.7736e-04 - mean_absolute_percentage_error: 1.6826 - val_loss: 0.0239 - val_mean_squared_error: 0.0015 - val_mean_absolute_percentage_error: 4.0616\n",
      "Epoch 10/10\n",
      "99/99 [==============================] - 0s 4ms/step - loss: 0.0116 - mean_squared_error: 5.5594e-04 - mean_absolute_percentage_error: 1.5955 - val_loss: 0.0230 - val_mean_squared_error: 0.0015 - val_mean_absolute_percentage_error: 3.9200\n"
     ]
    },
    {
     "data": {
      "text/plain": [
       "<keras.callbacks.History at 0x7f02e3d2a080>"
      ]
     },
     "execution_count": 198,
     "metadata": {},
     "output_type": "execute_result"
    }
   ],
   "source": [
    "model.fit(X, y, batch_size=1_000, epochs=10, validation_split=.2, callbacks=[k.callbacks.TensorBoard()])"
   ]
  },
  {
   "cell_type": "code",
   "execution_count": 199,
   "metadata": {},
   "outputs": [
    {
     "name": "stdout",
     "output_type": "stream",
     "text": [
      "  12/3838 [..............................] - ETA: 21s - loss: 0.0126 - mean_squared_error: 6.5726e-04 - mean_absolute_percentage_error: 2.3109"
     ]
    },
    {
     "name": "stdout",
     "output_type": "stream",
     "text": [
      "3838/3838 [==============================] - 5s 1ms/step - loss: 0.0135 - mean_squared_error: 7.2948e-04 - mean_absolute_percentage_error: 2.0058\n",
      "MSE 0.013495322316884995 | MAE: 0.0007294832030311227 | MAPE: 2.0058250427246094\n"
     ]
    }
   ],
   "source": [
    "mse, mae, mape = model.evaluate(X, y)\n",
    "print(f\"MSE {mse} | MAE: {mae} | MAPE: {mape}\")"
   ]
  },
  {
   "cell_type": "code",
   "execution_count": 200,
   "metadata": {},
   "outputs": [
    {
     "name": "stdout",
     "output_type": "stream",
     "text": [
      "3838/3838 [==============================] - 5s 1ms/step\n"
     ]
    }
   ],
   "source": [
    "y_pred = model.predict(X)"
   ]
  },
  {
   "cell_type": "code",
   "execution_count": 201,
   "metadata": {},
   "outputs": [
    {
     "data": {
      "text/plain": [
       "(array([  825.,  5521., 11403., 11781., 19302., 19129., 16858., 16342.,\n",
       "         8361., 13286.]),\n",
       " array([0.3713406 , 0.4304464 , 0.48955214, 0.54865795, 0.6077637 ,\n",
       "        0.66686946, 0.7259753 , 0.785081  , 0.8441868 , 0.9032926 ,\n",
       "        0.96239835], dtype=float32),\n",
       " <BarContainer object of 10 artists>)"
      ]
     },
     "execution_count": 201,
     "metadata": {},
     "output_type": "execute_result"
    },
    {
     "data": {
      "image/png": "[encoded data removed]",
      "text/plain": [
       "<Figure size 640x480 with 1 Axes>"
      ]
     },
     "metadata": {},
     "output_type": "display_data"
    }
   ],
   "source": [
    "plt.hist(y, color=\"green\")\n",
    "plt.hist(y_pred, color=\"salmon\", alpha=.9)"
   ]
  },
  {
   "cell_type": "code",
   "execution_count": 202,
   "metadata": {},
   "outputs": [],
   "source": [
    "crimes[\"pred\"] = y_pred\n",
    "crimes[\"score\"] = y"
   ]
  },
  {
   "cell_type": "code",
   "execution_count": 203,
   "metadata": {},
   "outputs": [
    {
     "data": {
      "text/plain": [
       "<AxesSubplot:xlabel='neighborhood_code'>"
      ]
     },
     "execution_count": 203,
     "metadata": {},
     "output_type": "execute_result"
    },
    {
     "data": {
      "image/png": "[encoded data removed]",
      "text/plain": [
       "<Figure size 640x480 with 1 Axes>"
      ]
     },
     "metadata": {},
     "output_type": "display_data"
    }
   ],
   "source": [
    "crimes.groupby(\"neighborhood_code\")[[\"score\", \"pred\"]].sum().head().plot(kind=\"bar\")"
   ]
  },
  {
   "cell_type": "code",
   "execution_count": 204,
   "metadata": {},
   "outputs": [
    {
     "data": {
      "text/plain": [
       "<AxesSubplot:xlabel='mes'>"
      ]
     },
     "execution_count": 204,
     "metadata": {},
     "output_type": "execute_result"
    },
    {
     "data": {
      "image/png": "[encoded data removed]",
      "text/plain": [
       "<Figure size 640x480 with 1 Axes>"
      ]
     },
     "metadata": {},
     "output_type": "display_data"
    }
   ],
   "source": [
    "crimes.groupby(\"mes\")[[\"score\", \"pred\"]].sum().plot(kind=\"bar\")"
   ]
  },
  {
   "cell_type": "code",
   "execution_count": 205,
   "metadata": {},
   "outputs": [],
   "source": [
    "crimes[\"abs_error\"] = np.absolute(crimes[\"score\"] - crimes[\"pred\"])"
   ]
  },
  {
   "cell_type": "code",
   "execution_count": 206,
   "metadata": {},
   "outputs": [
    {
     "data": {
      "text/html": [
       "<div>\n",
       "<style scoped>\n",
       "    .dataframe tbody tr th:only-of-type {\n",
       "        vertical-align: middle;\n",
       "    }\n",
       "\n",
       "    .dataframe tbody tr th {\n",
       "        vertical-align: top;\n",
       "    }\n",
       "\n",
       "    .dataframe thead th {\n",
       "        text-align: right;\n",
       "    }\n",
       "</style>\n",
       "<table border=\"1\" class=\"dataframe\">\n",
       "  <thead>\n",
       "    <tr style=\"text-align: right;\">\n",
       "      <th></th>\n",
       "      <th>neighborhood_code</th>\n",
       "      <th>city_code</th>\n",
       "      <th>estacao</th>\n",
       "      <th>ano</th>\n",
       "      <th>mes</th>\n",
       "      <th>dia</th>\n",
       "      <th>mes_sin</th>\n",
       "      <th>mes_cos</th>\n",
       "      <th>dia_sin</th>\n",
       "      <th>dia_cos</th>\n",
       "      <th>periodo</th>\n",
       "      <th>pontos</th>\n",
       "      <th>pred</th>\n",
       "      <th>score</th>\n",
       "      <th>abs_error</th>\n",
       "    </tr>\n",
       "  </thead>\n",
       "  <tbody>\n",
       "    <tr>\n",
       "      <th>120764</th>\n",
       "      <td>5910</td>\n",
       "      <td>118</td>\n",
       "      <td>4</td>\n",
       "      <td>2022</td>\n",
       "      <td>9</td>\n",
       "      <td>13</td>\n",
       "      <td>-1.000000e+00</td>\n",
       "      <td>-1.836970e-16</td>\n",
       "      <td>4.067366e-01</td>\n",
       "      <td>-0.913545</td>\n",
       "      <td>0</td>\n",
       "      <td>113244.0</td>\n",
       "      <td>0.800751</td>\n",
       "      <td>0.484937</td>\n",
       "      <td>0.315814</td>\n",
       "    </tr>\n",
       "    <tr>\n",
       "      <th>98736</th>\n",
       "      <td>4725</td>\n",
       "      <td>319</td>\n",
       "      <td>4</td>\n",
       "      <td>2022</td>\n",
       "      <td>11</td>\n",
       "      <td>30</td>\n",
       "      <td>-5.000000e-01</td>\n",
       "      <td>8.660254e-01</td>\n",
       "      <td>-2.449294e-16</td>\n",
       "      <td>1.000000</td>\n",
       "      <td>1</td>\n",
       "      <td>127278.0</td>\n",
       "      <td>0.857338</td>\n",
       "      <td>0.545034</td>\n",
       "      <td>0.312304</td>\n",
       "    </tr>\n",
       "    <tr>\n",
       "      <th>111297</th>\n",
       "      <td>2143</td>\n",
       "      <td>71</td>\n",
       "      <td>4</td>\n",
       "      <td>2022</td>\n",
       "      <td>11</td>\n",
       "      <td>5</td>\n",
       "      <td>-5.000000e-01</td>\n",
       "      <td>8.660254e-01</td>\n",
       "      <td>8.660254e-01</td>\n",
       "      <td>0.500000</td>\n",
       "      <td>1</td>\n",
       "      <td>127490.0</td>\n",
       "      <td>0.854795</td>\n",
       "      <td>0.545942</td>\n",
       "      <td>0.308854</td>\n",
       "    </tr>\n",
       "    <tr>\n",
       "      <th>120590</th>\n",
       "      <td>345</td>\n",
       "      <td>121</td>\n",
       "      <td>3</td>\n",
       "      <td>2022</td>\n",
       "      <td>8</td>\n",
       "      <td>27</td>\n",
       "      <td>-8.660254e-01</td>\n",
       "      <td>-5.000000e-01</td>\n",
       "      <td>-5.877853e-01</td>\n",
       "      <td>0.809017</td>\n",
       "      <td>0</td>\n",
       "      <td>104715.0</td>\n",
       "      <td>0.752896</td>\n",
       "      <td>0.448414</td>\n",
       "      <td>0.304482</td>\n",
       "    </tr>\n",
       "    <tr>\n",
       "      <th>120591</th>\n",
       "      <td>345</td>\n",
       "      <td>121</td>\n",
       "      <td>3</td>\n",
       "      <td>2022</td>\n",
       "      <td>8</td>\n",
       "      <td>27</td>\n",
       "      <td>-8.660254e-01</td>\n",
       "      <td>-5.000000e-01</td>\n",
       "      <td>-5.877853e-01</td>\n",
       "      <td>0.809017</td>\n",
       "      <td>0</td>\n",
       "      <td>104715.0</td>\n",
       "      <td>0.752896</td>\n",
       "      <td>0.448414</td>\n",
       "      <td>0.304482</td>\n",
       "    </tr>\n",
       "    <tr>\n",
       "      <th>118864</th>\n",
       "      <td>345</td>\n",
       "      <td>121</td>\n",
       "      <td>3</td>\n",
       "      <td>2022</td>\n",
       "      <td>8</td>\n",
       "      <td>27</td>\n",
       "      <td>-8.660254e-01</td>\n",
       "      <td>-5.000000e-01</td>\n",
       "      <td>-5.877853e-01</td>\n",
       "      <td>0.809017</td>\n",
       "      <td>0</td>\n",
       "      <td>104715.0</td>\n",
       "      <td>0.752896</td>\n",
       "      <td>0.448414</td>\n",
       "      <td>0.304482</td>\n",
       "    </tr>\n",
       "    <tr>\n",
       "      <th>119064</th>\n",
       "      <td>345</td>\n",
       "      <td>121</td>\n",
       "      <td>3</td>\n",
       "      <td>2022</td>\n",
       "      <td>8</td>\n",
       "      <td>27</td>\n",
       "      <td>-8.660254e-01</td>\n",
       "      <td>-5.000000e-01</td>\n",
       "      <td>-5.877853e-01</td>\n",
       "      <td>0.809017</td>\n",
       "      <td>0</td>\n",
       "      <td>104715.0</td>\n",
       "      <td>0.752896</td>\n",
       "      <td>0.448414</td>\n",
       "      <td>0.304482</td>\n",
       "    </tr>\n",
       "    <tr>\n",
       "      <th>120589</th>\n",
       "      <td>345</td>\n",
       "      <td>121</td>\n",
       "      <td>3</td>\n",
       "      <td>2022</td>\n",
       "      <td>8</td>\n",
       "      <td>27</td>\n",
       "      <td>-8.660254e-01</td>\n",
       "      <td>-5.000000e-01</td>\n",
       "      <td>-5.877853e-01</td>\n",
       "      <td>0.809017</td>\n",
       "      <td>0</td>\n",
       "      <td>104715.0</td>\n",
       "      <td>0.752896</td>\n",
       "      <td>0.448414</td>\n",
       "      <td>0.304482</td>\n",
       "    </tr>\n",
       "    <tr>\n",
       "      <th>120588</th>\n",
       "      <td>345</td>\n",
       "      <td>121</td>\n",
       "      <td>3</td>\n",
       "      <td>2022</td>\n",
       "      <td>8</td>\n",
       "      <td>27</td>\n",
       "      <td>-8.660254e-01</td>\n",
       "      <td>-5.000000e-01</td>\n",
       "      <td>-5.877853e-01</td>\n",
       "      <td>0.809017</td>\n",
       "      <td>0</td>\n",
       "      <td>104715.0</td>\n",
       "      <td>0.752896</td>\n",
       "      <td>0.448414</td>\n",
       "      <td>0.304482</td>\n",
       "    </tr>\n",
       "    <tr>\n",
       "      <th>97774</th>\n",
       "      <td>5913</td>\n",
       "      <td>170</td>\n",
       "      <td>4</td>\n",
       "      <td>2022</td>\n",
       "      <td>11</td>\n",
       "      <td>21</td>\n",
       "      <td>-5.000000e-01</td>\n",
       "      <td>8.660254e-01</td>\n",
       "      <td>-9.510565e-01</td>\n",
       "      <td>-0.309017</td>\n",
       "      <td>0</td>\n",
       "      <td>115647.0</td>\n",
       "      <td>0.798195</td>\n",
       "      <td>0.495227</td>\n",
       "      <td>0.302968</td>\n",
       "    </tr>\n",
       "    <tr>\n",
       "      <th>97775</th>\n",
       "      <td>5913</td>\n",
       "      <td>170</td>\n",
       "      <td>4</td>\n",
       "      <td>2022</td>\n",
       "      <td>11</td>\n",
       "      <td>21</td>\n",
       "      <td>-5.000000e-01</td>\n",
       "      <td>8.660254e-01</td>\n",
       "      <td>-9.510565e-01</td>\n",
       "      <td>-0.309017</td>\n",
       "      <td>0</td>\n",
       "      <td>115647.0</td>\n",
       "      <td>0.798195</td>\n",
       "      <td>0.495227</td>\n",
       "      <td>0.302968</td>\n",
       "    </tr>\n",
       "    <tr>\n",
       "      <th>97772</th>\n",
       "      <td>5913</td>\n",
       "      <td>170</td>\n",
       "      <td>4</td>\n",
       "      <td>2022</td>\n",
       "      <td>11</td>\n",
       "      <td>21</td>\n",
       "      <td>-5.000000e-01</td>\n",
       "      <td>8.660254e-01</td>\n",
       "      <td>-9.510565e-01</td>\n",
       "      <td>-0.309017</td>\n",
       "      <td>0</td>\n",
       "      <td>115647.0</td>\n",
       "      <td>0.798195</td>\n",
       "      <td>0.495227</td>\n",
       "      <td>0.302968</td>\n",
       "    </tr>\n",
       "    <tr>\n",
       "      <th>97773</th>\n",
       "      <td>5913</td>\n",
       "      <td>170</td>\n",
       "      <td>4</td>\n",
       "      <td>2022</td>\n",
       "      <td>11</td>\n",
       "      <td>21</td>\n",
       "      <td>-5.000000e-01</td>\n",
       "      <td>8.660254e-01</td>\n",
       "      <td>-9.510565e-01</td>\n",
       "      <td>-0.309017</td>\n",
       "      <td>0</td>\n",
       "      <td>115647.0</td>\n",
       "      <td>0.798195</td>\n",
       "      <td>0.495227</td>\n",
       "      <td>0.302968</td>\n",
       "    </tr>\n",
       "    <tr>\n",
       "      <th>103044</th>\n",
       "      <td>626</td>\n",
       "      <td>92</td>\n",
       "      <td>1</td>\n",
       "      <td>2022</td>\n",
       "      <td>12</td>\n",
       "      <td>29</td>\n",
       "      <td>-2.449294e-16</td>\n",
       "      <td>1.000000e+00</td>\n",
       "      <td>-2.079117e-01</td>\n",
       "      <td>0.978148</td>\n",
       "      <td>1</td>\n",
       "      <td>134531.0</td>\n",
       "      <td>0.877755</td>\n",
       "      <td>0.576093</td>\n",
       "      <td>0.301662</td>\n",
       "    </tr>\n",
       "    <tr>\n",
       "      <th>121094</th>\n",
       "      <td>90</td>\n",
       "      <td>58</td>\n",
       "      <td>4</td>\n",
       "      <td>2022</td>\n",
       "      <td>9</td>\n",
       "      <td>16</td>\n",
       "      <td>-1.000000e+00</td>\n",
       "      <td>-1.836970e-16</td>\n",
       "      <td>-2.079117e-01</td>\n",
       "      <td>-0.978148</td>\n",
       "      <td>0</td>\n",
       "      <td>113233.0</td>\n",
       "      <td>0.782792</td>\n",
       "      <td>0.484890</td>\n",
       "      <td>0.297902</td>\n",
       "    </tr>\n",
       "    <tr>\n",
       "      <th>121092</th>\n",
       "      <td>90</td>\n",
       "      <td>58</td>\n",
       "      <td>4</td>\n",
       "      <td>2022</td>\n",
       "      <td>9</td>\n",
       "      <td>16</td>\n",
       "      <td>-1.000000e+00</td>\n",
       "      <td>-1.836970e-16</td>\n",
       "      <td>-2.079117e-01</td>\n",
       "      <td>-0.978148</td>\n",
       "      <td>0</td>\n",
       "      <td>113233.0</td>\n",
       "      <td>0.782792</td>\n",
       "      <td>0.484890</td>\n",
       "      <td>0.297902</td>\n",
       "    </tr>\n",
       "    <tr>\n",
       "      <th>121090</th>\n",
       "      <td>90</td>\n",
       "      <td>58</td>\n",
       "      <td>4</td>\n",
       "      <td>2022</td>\n",
       "      <td>9</td>\n",
       "      <td>16</td>\n",
       "      <td>-1.000000e+00</td>\n",
       "      <td>-1.836970e-16</td>\n",
       "      <td>-2.079117e-01</td>\n",
       "      <td>-0.978148</td>\n",
       "      <td>0</td>\n",
       "      <td>113233.0</td>\n",
       "      <td>0.782792</td>\n",
       "      <td>0.484890</td>\n",
       "      <td>0.297902</td>\n",
       "    </tr>\n",
       "    <tr>\n",
       "      <th>121089</th>\n",
       "      <td>90</td>\n",
       "      <td>58</td>\n",
       "      <td>4</td>\n",
       "      <td>2022</td>\n",
       "      <td>9</td>\n",
       "      <td>16</td>\n",
       "      <td>-1.000000e+00</td>\n",
       "      <td>-1.836970e-16</td>\n",
       "      <td>-2.079117e-01</td>\n",
       "      <td>-0.978148</td>\n",
       "      <td>0</td>\n",
       "      <td>113233.0</td>\n",
       "      <td>0.782792</td>\n",
       "      <td>0.484890</td>\n",
       "      <td>0.297902</td>\n",
       "    </tr>\n",
       "    <tr>\n",
       "      <th>121087</th>\n",
       "      <td>90</td>\n",
       "      <td>58</td>\n",
       "      <td>4</td>\n",
       "      <td>2022</td>\n",
       "      <td>9</td>\n",
       "      <td>16</td>\n",
       "      <td>-1.000000e+00</td>\n",
       "      <td>-1.836970e-16</td>\n",
       "      <td>-2.079117e-01</td>\n",
       "      <td>-0.978148</td>\n",
       "      <td>0</td>\n",
       "      <td>113233.0</td>\n",
       "      <td>0.782792</td>\n",
       "      <td>0.484890</td>\n",
       "      <td>0.297902</td>\n",
       "    </tr>\n",
       "    <tr>\n",
       "      <th>121093</th>\n",
       "      <td>90</td>\n",
       "      <td>58</td>\n",
       "      <td>4</td>\n",
       "      <td>2022</td>\n",
       "      <td>9</td>\n",
       "      <td>16</td>\n",
       "      <td>-1.000000e+00</td>\n",
       "      <td>-1.836970e-16</td>\n",
       "      <td>-2.079117e-01</td>\n",
       "      <td>-0.978148</td>\n",
       "      <td>0</td>\n",
       "      <td>113233.0</td>\n",
       "      <td>0.782792</td>\n",
       "      <td>0.484890</td>\n",
       "      <td>0.297902</td>\n",
       "    </tr>\n",
       "    <tr>\n",
       "      <th>121095</th>\n",
       "      <td>90</td>\n",
       "      <td>58</td>\n",
       "      <td>4</td>\n",
       "      <td>2022</td>\n",
       "      <td>9</td>\n",
       "      <td>16</td>\n",
       "      <td>-1.000000e+00</td>\n",
       "      <td>-1.836970e-16</td>\n",
       "      <td>-2.079117e-01</td>\n",
       "      <td>-0.978148</td>\n",
       "      <td>0</td>\n",
       "      <td>113233.0</td>\n",
       "      <td>0.782792</td>\n",
       "      <td>0.484890</td>\n",
       "      <td>0.297902</td>\n",
       "    </tr>\n",
       "    <tr>\n",
       "      <th>121088</th>\n",
       "      <td>90</td>\n",
       "      <td>58</td>\n",
       "      <td>4</td>\n",
       "      <td>2022</td>\n",
       "      <td>9</td>\n",
       "      <td>16</td>\n",
       "      <td>-1.000000e+00</td>\n",
       "      <td>-1.836970e-16</td>\n",
       "      <td>-2.079117e-01</td>\n",
       "      <td>-0.978148</td>\n",
       "      <td>0</td>\n",
       "      <td>113233.0</td>\n",
       "      <td>0.782792</td>\n",
       "      <td>0.484890</td>\n",
       "      <td>0.297902</td>\n",
       "    </tr>\n",
       "    <tr>\n",
       "      <th>121058</th>\n",
       "      <td>90</td>\n",
       "      <td>58</td>\n",
       "      <td>4</td>\n",
       "      <td>2022</td>\n",
       "      <td>9</td>\n",
       "      <td>15</td>\n",
       "      <td>-1.000000e+00</td>\n",
       "      <td>-1.836970e-16</td>\n",
       "      <td>1.224647e-16</td>\n",
       "      <td>-1.000000</td>\n",
       "      <td>0</td>\n",
       "      <td>112940.0</td>\n",
       "      <td>0.780864</td>\n",
       "      <td>0.483635</td>\n",
       "      <td>0.297228</td>\n",
       "    </tr>\n",
       "    <tr>\n",
       "      <th>121060</th>\n",
       "      <td>90</td>\n",
       "      <td>58</td>\n",
       "      <td>4</td>\n",
       "      <td>2022</td>\n",
       "      <td>9</td>\n",
       "      <td>15</td>\n",
       "      <td>-1.000000e+00</td>\n",
       "      <td>-1.836970e-16</td>\n",
       "      <td>1.224647e-16</td>\n",
       "      <td>-1.000000</td>\n",
       "      <td>0</td>\n",
       "      <td>112940.0</td>\n",
       "      <td>0.780864</td>\n",
       "      <td>0.483635</td>\n",
       "      <td>0.297228</td>\n",
       "    </tr>\n",
       "    <tr>\n",
       "      <th>121059</th>\n",
       "      <td>90</td>\n",
       "      <td>58</td>\n",
       "      <td>4</td>\n",
       "      <td>2022</td>\n",
       "      <td>9</td>\n",
       "      <td>15</td>\n",
       "      <td>-1.000000e+00</td>\n",
       "      <td>-1.836970e-16</td>\n",
       "      <td>1.224647e-16</td>\n",
       "      <td>-1.000000</td>\n",
       "      <td>0</td>\n",
       "      <td>112940.0</td>\n",
       "      <td>0.780864</td>\n",
       "      <td>0.483635</td>\n",
       "      <td>0.297228</td>\n",
       "    </tr>\n",
       "    <tr>\n",
       "      <th>109679</th>\n",
       "      <td>24</td>\n",
       "      <td>108</td>\n",
       "      <td>2</td>\n",
       "      <td>2022</td>\n",
       "      <td>4</td>\n",
       "      <td>25</td>\n",
       "      <td>8.660254e-01</td>\n",
       "      <td>-5.000000e-01</td>\n",
       "      <td>-8.660254e-01</td>\n",
       "      <td>0.500000</td>\n",
       "      <td>2</td>\n",
       "      <td>144432.0</td>\n",
       "      <td>0.915179</td>\n",
       "      <td>0.618492</td>\n",
       "      <td>0.296688</td>\n",
       "    </tr>\n",
       "    <tr>\n",
       "      <th>109207</th>\n",
       "      <td>626</td>\n",
       "      <td>92</td>\n",
       "      <td>2</td>\n",
       "      <td>2022</td>\n",
       "      <td>4</td>\n",
       "      <td>18</td>\n",
       "      <td>8.660254e-01</td>\n",
       "      <td>-5.000000e-01</td>\n",
       "      <td>-5.877853e-01</td>\n",
       "      <td>-0.809017</td>\n",
       "      <td>1</td>\n",
       "      <td>124635.0</td>\n",
       "      <td>0.829079</td>\n",
       "      <td>0.533716</td>\n",
       "      <td>0.295362</td>\n",
       "    </tr>\n",
       "    <tr>\n",
       "      <th>109197</th>\n",
       "      <td>626</td>\n",
       "      <td>92</td>\n",
       "      <td>2</td>\n",
       "      <td>2022</td>\n",
       "      <td>4</td>\n",
       "      <td>18</td>\n",
       "      <td>8.660254e-01</td>\n",
       "      <td>-5.000000e-01</td>\n",
       "      <td>-5.877853e-01</td>\n",
       "      <td>-0.809017</td>\n",
       "      <td>1</td>\n",
       "      <td>124635.0</td>\n",
       "      <td>0.829079</td>\n",
       "      <td>0.533716</td>\n",
       "      <td>0.295362</td>\n",
       "    </tr>\n",
       "    <tr>\n",
       "      <th>109205</th>\n",
       "      <td>626</td>\n",
       "      <td>92</td>\n",
       "      <td>2</td>\n",
       "      <td>2022</td>\n",
       "      <td>4</td>\n",
       "      <td>18</td>\n",
       "      <td>8.660254e-01</td>\n",
       "      <td>-5.000000e-01</td>\n",
       "      <td>-5.877853e-01</td>\n",
       "      <td>-0.809017</td>\n",
       "      <td>1</td>\n",
       "      <td>124635.0</td>\n",
       "      <td>0.829079</td>\n",
       "      <td>0.533716</td>\n",
       "      <td>0.295362</td>\n",
       "    </tr>\n",
       "    <tr>\n",
       "      <th>109192</th>\n",
       "      <td>626</td>\n",
       "      <td>92</td>\n",
       "      <td>2</td>\n",
       "      <td>2022</td>\n",
       "      <td>4</td>\n",
       "      <td>18</td>\n",
       "      <td>8.660254e-01</td>\n",
       "      <td>-5.000000e-01</td>\n",
       "      <td>-5.877853e-01</td>\n",
       "      <td>-0.809017</td>\n",
       "      <td>1</td>\n",
       "      <td>124635.0</td>\n",
       "      <td>0.829079</td>\n",
       "      <td>0.533716</td>\n",
       "      <td>0.295362</td>\n",
       "    </tr>\n",
       "  </tbody>\n",
       "</table>\n",
       "</div>"
      ],
      "text/plain": [
       "        neighborhood_code  city_code  estacao   ano  mes  dia       mes_sin  \\\n",
       "120764               5910        118        4  2022    9   13 -1.000000e+00   \n",
       "98736                4725        319        4  2022   11   30 -5.000000e-01   \n",
       "111297               2143         71        4  2022   11    5 -5.000000e-01   \n",
       "120590                345        121        3  2022    8   27 -8.660254e-01   \n",
       "120591                345        121        3  2022    8   27 -8.660254e-01   \n",
       "118864                345        121        3  2022    8   27 -8.660254e-01   \n",
       "119064                345        121        3  2022    8   27 -8.660254e-01   \n",
       "120589                345        121        3  2022    8   27 -8.660254e-01   \n",
       "120588                345        121        3  2022    8   27 -8.660254e-01   \n",
       "97774                5913        170        4  2022   11   21 -5.000000e-01   \n",
       "97775                5913        170        4  2022   11   21 -5.000000e-01   \n",
       "97772                5913        170        4  2022   11   21 -5.000000e-01   \n",
       "97773                5913        170        4  2022   11   21 -5.000000e-01   \n",
       "103044                626         92        1  2022   12   29 -2.449294e-16   \n",
       "121094                 90         58        4  2022    9   16 -1.000000e+00   \n",
       "121092                 90         58        4  2022    9   16 -1.000000e+00   \n",
       "121090                 90         58        4  2022    9   16 -1.000000e+00   \n",
       "121089                 90         58        4  2022    9   16 -1.000000e+00   \n",
       "121087                 90         58        4  2022    9   16 -1.000000e+00   \n",
       "121093                 90         58        4  2022    9   16 -1.000000e+00   \n",
       "121095                 90         58        4  2022    9   16 -1.000000e+00   \n",
       "121088                 90         58        4  2022    9   16 -1.000000e+00   \n",
       "121058                 90         58        4  2022    9   15 -1.000000e+00   \n",
       "121060                 90         58        4  2022    9   15 -1.000000e+00   \n",
       "121059                 90         58        4  2022    9   15 -1.000000e+00   \n",
       "109679                 24        108        2  2022    4   25  8.660254e-01   \n",
       "109207                626         92        2  2022    4   18  8.660254e-01   \n",
       "109197                626         92        2  2022    4   18  8.660254e-01   \n",
       "109205                626         92        2  2022    4   18  8.660254e-01   \n",
       "109192                626         92        2  2022    4   18  8.660254e-01   \n",
       "\n",
       "             mes_cos       dia_sin   dia_cos  periodo    pontos      pred  \\\n",
       "120764 -1.836970e-16  4.067366e-01 -0.913545        0  113244.0  0.800751   \n",
       "98736   8.660254e-01 -2.449294e-16  1.000000        1  127278.0  0.857338   \n",
       "111297  8.660254e-01  8.660254e-01  0.500000        1  127490.0  0.854795   \n",
       "120590 -5.000000e-01 -5.877853e-01  0.809017        0  104715.0  0.752896   \n",
       "120591 -5.000000e-01 -5.877853e-01  0.809017        0  104715.0  0.752896   \n",
       "118864 -5.000000e-01 -5.877853e-01  0.809017        0  104715.0  0.752896   \n",
       "119064 -5.000000e-01 -5.877853e-01  0.809017        0  104715.0  0.752896   \n",
       "120589 -5.000000e-01 -5.877853e-01  0.809017        0  104715.0  0.752896   \n",
       "120588 -5.000000e-01 -5.877853e-01  0.809017        0  104715.0  0.752896   \n",
       "97774   8.660254e-01 -9.510565e-01 -0.309017        0  115647.0  0.798195   \n",
       "97775   8.660254e-01 -9.510565e-01 -0.309017        0  115647.0  0.798195   \n",
       "97772   8.660254e-01 -9.510565e-01 -0.309017        0  115647.0  0.798195   \n",
       "97773   8.660254e-01 -9.510565e-01 -0.309017        0  115647.0  0.798195   \n",
       "103044  1.000000e+00 -2.079117e-01  0.978148        1  134531.0  0.877755   \n",
       "121094 -1.836970e-16 -2.079117e-01 -0.978148        0  113233.0  0.782792   \n",
       "121092 -1.836970e-16 -2.079117e-01 -0.978148        0  113233.0  0.782792   \n",
       "121090 -1.836970e-16 -2.079117e-01 -0.978148        0  113233.0  0.782792   \n",
       "121089 -1.836970e-16 -2.079117e-01 -0.978148        0  113233.0  0.782792   \n",
       "121087 -1.836970e-16 -2.079117e-01 -0.978148        0  113233.0  0.782792   \n",
       "121093 -1.836970e-16 -2.079117e-01 -0.978148        0  113233.0  0.782792   \n",
       "121095 -1.836970e-16 -2.079117e-01 -0.978148        0  113233.0  0.782792   \n",
       "121088 -1.836970e-16 -2.079117e-01 -0.978148        0  113233.0  0.782792   \n",
       "121058 -1.836970e-16  1.224647e-16 -1.000000        0  112940.0  0.780864   \n",
       "121060 -1.836970e-16  1.224647e-16 -1.000000        0  112940.0  0.780864   \n",
       "121059 -1.836970e-16  1.224647e-16 -1.000000        0  112940.0  0.780864   \n",
       "109679 -5.000000e-01 -8.660254e-01  0.500000        2  144432.0  0.915179   \n",
       "109207 -5.000000e-01 -5.877853e-01 -0.809017        1  124635.0  0.829079   \n",
       "109197 -5.000000e-01 -5.877853e-01 -0.809017        1  124635.0  0.829079   \n",
       "109205 -5.000000e-01 -5.877853e-01 -0.809017        1  124635.0  0.829079   \n",
       "109192 -5.000000e-01 -5.877853e-01 -0.809017        1  124635.0  0.829079   \n",
       "\n",
       "           score  abs_error  \n",
       "120764  0.484937   0.315814  \n",
       "98736   0.545034   0.312304  \n",
       "111297  0.545942   0.308854  \n",
       "120590  0.448414   0.304482  \n",
       "120591  0.448414   0.304482  \n",
       "118864  0.448414   0.304482  \n",
       "119064  0.448414   0.304482  \n",
       "120589  0.448414   0.304482  \n",
       "120588  0.448414   0.304482  \n",
       "97774   0.495227   0.302968  \n",
       "97775   0.495227   0.302968  \n",
       "97772   0.495227   0.302968  \n",
       "97773   0.495227   0.302968  \n",
       "103044  0.576093   0.301662  \n",
       "121094  0.484890   0.297902  \n",
       "121092  0.484890   0.297902  \n",
       "121090  0.484890   0.297902  \n",
       "121089  0.484890   0.297902  \n",
       "121087  0.484890   0.297902  \n",
       "121093  0.484890   0.297902  \n",
       "121095  0.484890   0.297902  \n",
       "121088  0.484890   0.297902  \n",
       "121058  0.483635   0.297228  \n",
       "121060  0.483635   0.297228  \n",
       "121059  0.483635   0.297228  \n",
       "109679  0.618492   0.296688  \n",
       "109207  0.533716   0.295362  \n",
       "109197  0.533716   0.295362  \n",
       "109205  0.533716   0.295362  \n",
       "109192  0.533716   0.295362  "
      ]
     },
     "execution_count": 206,
     "metadata": {},
     "output_type": "execute_result"
    }
   ],
   "source": [
    "crimes.sort_values(by=\"abs_error\", ascending=False).head(30)"
   ]
  },
  {
   "cell_type": "code",
   "execution_count": 207,
   "metadata": {},
   "outputs": [],
   "source": [
    "hidden_dense = model.get_layer(\"hidden\")\n",
    "kernel, bias = hidden_dense.trainable_weights"
   ]
  },
  {
   "cell_type": "code",
   "execution_count": 208,
   "metadata": {},
   "outputs": [
    {
     "data": {
      "text/plain": [
       "(12, 32)"
      ]
     },
     "execution_count": 208,
     "metadata": {},
     "output_type": "execute_result"
    }
   ],
   "source": [
    "kernel.numpy().shape"
   ]
  },
  {
   "cell_type": "code",
   "execution_count": 209,
   "metadata": {},
   "outputs": [
    {
     "data": {
      "text/plain": [
       "(array([ 2.,  1.,  5.,  5.,  2., 11.,  5.,  0.,  0.,  1.]),\n",
       " array([-0.2250232 , -0.1684199 , -0.11181659, -0.05521329,  0.00139001,\n",
       "         0.05799332,  0.11459662,  0.17119992,  0.22780322,  0.2844065 ,\n",
       "         0.34100983], dtype=float32),\n",
       " <BarContainer object of 10 artists>)"
      ]
     },
     "execution_count": 209,
     "metadata": {},
     "output_type": "execute_result"
    },
    {
     "data": {
      "image/png": "[encoded data removed]",
      "text/plain": [
       "<Figure size 1000x600 with 2 Axes>"
      ]
     },
     "metadata": {},
     "output_type": "display_data"
    }
   ],
   "source": [
    "fig, (ax1, ax2) = plt.subplots(1, 2, figsize=(10, 6))\n",
    "ax1.hist(kernel.numpy().ravel())\n",
    "ax2.hist(bias.numpy())"
   ]
  },
  {
   "cell_type": "code",
   "execution_count": 210,
   "metadata": {},
   "outputs": [],
   "source": [
    "def sin_transform(x, period):\n",
    "    return np.sin(x / period * 2 * np.pi)\n",
    "\n",
    "def cos_transform(x, period):\n",
    "    return np.cos(x / period * 2 * np.pi)"
   ]
  },
  {
   "cell_type": "code",
   "execution_count": 211,
   "metadata": {},
   "outputs": [],
   "source": [
    "obs = {\"periodo\": 1}\n",
    "start = date(2023, 4, 1)\n",
    "obs_lst = []\n",
    "for i in range(365):\n",
    "    dt = start + timedelta(days=i)\n",
    "    aux = {\n",
    "        \"ano\": dt.year,\n",
    "        \"mes\": dt.month,\n",
    "        \"dia\": dt.day,\n",
    "        \"estacao\": (dt.month % 12) // 3 + 1,\n",
    "    }\n",
    "    obs_lst.append(aux)\n",
    "obs_lst = pd.DataFrame(obs_lst)\n",
    "obs_lst.loc[:, \"mes_sin\"] = sin_transform(obs_lst[\"mes\"], 12)\n",
    "obs_lst.loc[:, \"mes_cos\"] = cos_transform(obs_lst[\"mes\"], 12)\n",
    "obs_lst.loc[:, \"dia_sin\"] = sin_transform(obs_lst[\"dia\"], 30)\n",
    "obs_lst.loc[:, \"dia_cos\"] = cos_transform(obs_lst[\"dia\"], 30)\n",
    "obs_lst[\"location_code\"] = 900\n",
    "obs_lst[\"periodo\"] = 1\n",
    "obs_lst = {\"location_code\": obs_lst[\"location_code\"], \"date_features\": obs_lst[[\"estacao\", \"ano\", \"mes_sin\", \"mes_cos\", \"dia_sin\", \"dia_cos\", \"periodo\"]]}"
   ]
  },
  {
   "cell_type": "code",
   "execution_count": 212,
   "metadata": {},
   "outputs": [
    {
     "name": "stdout",
     "output_type": "stream",
     "text": [
      "12/12 [==============================] - 0s 3ms/step\n"
     ]
    }
   ],
   "source": [
    "forecast_result = model.predict(obs_lst)"
   ]
  },
  {
   "cell_type": "code",
   "execution_count": 213,
   "metadata": {},
   "outputs": [
    {
     "data": {
      "text/plain": [
       "(array([36., 33., 17.,  4.,  9., 23., 93., 86., 33., 31.]),\n",
       " array([0.19792737, 0.21738958, 0.23685181, 0.25631404, 0.27577627,\n",
       "        0.29523847, 0.3147007 , 0.33416292, 0.35362512, 0.37308735,\n",
       "        0.39254957], dtype=float32),\n",
       " <BarContainer object of 10 artists>)"
      ]
     },
     "execution_count": 213,
     "metadata": {},
     "output_type": "execute_result"
    },
    {
     "data": {
      "image/png": "[encoded data removed]",
      "text/plain": [
       "<Figure size 640x480 with 1 Axes>"
      ]
     },
     "metadata": {},
     "output_type": "display_data"
    }
   ],
   "source": [
    "plt.hist(forecast_result)"
   ]
  },
  {
   "cell_type": "code",
   "execution_count": 214,
   "metadata": {},
   "outputs": [
    {
     "data": {
      "text/plain": [
       "[<matplotlib.lines.Line2D at 0x7f02e3ce9d50>]"
      ]
     },
     "execution_count": 214,
     "metadata": {},
     "output_type": "execute_result"
    },
    {
     "data": {
      "image/png": "[encoded data removed]",
      "text/plain": [
       "<Figure size 640x480 with 1 Axes>"
      ]
     },
     "metadata": {},
     "output_type": "display_data"
    }
   ],
   "source": [
    "plt.plot(forecast_result)"
   ]
  },
  {
   "cell_type": "code",
   "execution_count": 215,
   "metadata": {},
   "outputs": [
    {
     "name": "stderr",
     "output_type": "stream",
     "text": [
      "WARNING:absl:Found untraced functions such as _update_step_xla while saving (showing 1 of 1). These functions will not be directly callable after loading.\n"
     ]
    },
    {
     "name": "stdout",
     "output_type": "stream",
     "text": [
      "INFO:tensorflow:Assets written to: ../models/score/scoreV2_full/assets\n"
     ]
    },
    {
     "name": "stderr",
     "output_type": "stream",
     "text": [
      "INFO:tensorflow:Assets written to: ../models/score/scoreV2_full/assets\n"
     ]
    }
   ],
   "source": [
    "model.save(\"../models/score/scoreV2_full\")"
   ]
  }
 ],
 "metadata": {
  "kernelspec": {
   "display_name": "base",
   "language": "python",
   "name": "python3"
  },
  "language_info": {
   "codemirror_mode": {
    "name": "ipython",
    "version": 3
   },
   "file_extension": ".py",
   "mimetype": "text/x-python",
   "name": "python",
   "nbconvert_exporter": "python",
   "pygments_lexer": "ipython3",
   "version": "3.10.10"
  },
  "orig_nbformat": 4
 },
 "nbformat": 4,
 "nbformat_minor": 2
}
