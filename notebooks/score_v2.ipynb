{
 "cells": [
  {
   "cell_type": "code",
   "execution_count": 1,
   "metadata": {},
   "outputs": [
    {
     "name": "stderr",
     "output_type": "stream",
     "text": [
      "2023-08-31 21:53:12.853743: I tensorflow/core/platform/cpu_feature_guard.cc:182] This TensorFlow binary is optimized to use available CPU instructions in performance-critical operations.\n",
      "To enable the following instructions: SSE4.1 SSE4.2 AVX AVX2 FMA, in other operations, rebuild TensorFlow with the appropriate compiler flags.\n"
     ]
    }
   ],
   "source": [
    "import pandas as pd\n",
    "from datetime import date, timedelta\n",
    "import matplotlib.pyplot as plt\n",
    "from tensorflow import keras as k\n",
    "import numpy as np"
   ]
  },
  {
   "cell_type": "code",
   "execution_count": 2,
   "metadata": {},
   "outputs": [],
   "source": [
    "crimes = pd.read_csv(\"neighborhood_crimes_encoded.csv\")"
   ]
  },
  {
   "cell_type": "code",
   "execution_count": 3,
   "metadata": {},
   "outputs": [
    {
     "data": {
      "text/html": [
       "<div>\n",
       "<style scoped>\n",
       "    .dataframe tbody tr th:only-of-type {\n",
       "        vertical-align: middle;\n",
       "    }\n",
       "\n",
       "    .dataframe tbody tr th {\n",
       "        vertical-align: top;\n",
       "    }\n",
       "\n",
       "    .dataframe thead th {\n",
       "        text-align: right;\n",
       "    }\n",
       "</style>\n",
       "<table border=\"1\" class=\"dataframe\">\n",
       "  <thead>\n",
       "    <tr style=\"text-align: right;\">\n",
       "      <th></th>\n",
       "      <th>neighborhood_code</th>\n",
       "      <th>city_code</th>\n",
       "      <th>estacao</th>\n",
       "      <th>ano</th>\n",
       "      <th>mes</th>\n",
       "      <th>dia</th>\n",
       "      <th>mes_sin</th>\n",
       "      <th>mes_cos</th>\n",
       "      <th>dia_sin</th>\n",
       "      <th>dia_cos</th>\n",
       "      <th>periodo</th>\n",
       "      <th>pontos</th>\n",
       "    </tr>\n",
       "  </thead>\n",
       "  <tbody>\n",
       "    <tr>\n",
       "      <th>0</th>\n",
       "      <td>3887</td>\n",
       "      <td>202</td>\n",
       "      <td>1</td>\n",
       "      <td>2020</td>\n",
       "      <td>1</td>\n",
       "      <td>1</td>\n",
       "      <td>0.5</td>\n",
       "      <td>0.866025</td>\n",
       "      <td>0.207912</td>\n",
       "      <td>0.978148</td>\n",
       "      <td>0</td>\n",
       "      <td>107991.0</td>\n",
       "    </tr>\n",
       "    <tr>\n",
       "      <th>1</th>\n",
       "      <td>699</td>\n",
       "      <td>43</td>\n",
       "      <td>1</td>\n",
       "      <td>2020</td>\n",
       "      <td>1</td>\n",
       "      <td>1</td>\n",
       "      <td>0.5</td>\n",
       "      <td>0.866025</td>\n",
       "      <td>0.207912</td>\n",
       "      <td>0.978148</td>\n",
       "      <td>0</td>\n",
       "      <td>107530.0</td>\n",
       "    </tr>\n",
       "    <tr>\n",
       "      <th>2</th>\n",
       "      <td>711</td>\n",
       "      <td>43</td>\n",
       "      <td>1</td>\n",
       "      <td>2020</td>\n",
       "      <td>1</td>\n",
       "      <td>1</td>\n",
       "      <td>0.5</td>\n",
       "      <td>0.866025</td>\n",
       "      <td>0.207912</td>\n",
       "      <td>0.978148</td>\n",
       "      <td>0</td>\n",
       "      <td>107529.0</td>\n",
       "    </tr>\n",
       "    <tr>\n",
       "      <th>3</th>\n",
       "      <td>4991</td>\n",
       "      <td>305</td>\n",
       "      <td>1</td>\n",
       "      <td>2020</td>\n",
       "      <td>1</td>\n",
       "      <td>1</td>\n",
       "      <td>0.5</td>\n",
       "      <td>0.866025</td>\n",
       "      <td>0.207912</td>\n",
       "      <td>0.978148</td>\n",
       "      <td>0</td>\n",
       "      <td>108027.0</td>\n",
       "    </tr>\n",
       "    <tr>\n",
       "      <th>4</th>\n",
       "      <td>4991</td>\n",
       "      <td>305</td>\n",
       "      <td>1</td>\n",
       "      <td>2020</td>\n",
       "      <td>1</td>\n",
       "      <td>1</td>\n",
       "      <td>0.5</td>\n",
       "      <td>0.866025</td>\n",
       "      <td>0.207912</td>\n",
       "      <td>0.978148</td>\n",
       "      <td>0</td>\n",
       "      <td>108027.0</td>\n",
       "    </tr>\n",
       "  </tbody>\n",
       "</table>\n",
       "</div>"
      ],
      "text/plain": [
       "   neighborhood_code  city_code  estacao   ano  mes  dia  mes_sin   mes_cos  \\\n",
       "0               3887        202        1  2020    1    1      0.5  0.866025   \n",
       "1                699         43        1  2020    1    1      0.5  0.866025   \n",
       "2                711         43        1  2020    1    1      0.5  0.866025   \n",
       "3               4991        305        1  2020    1    1      0.5  0.866025   \n",
       "4               4991        305        1  2020    1    1      0.5  0.866025   \n",
       "\n",
       "    dia_sin   dia_cos  periodo    pontos  \n",
       "0  0.207912  0.978148        0  107991.0  \n",
       "1  0.207912  0.978148        0  107530.0  \n",
       "2  0.207912  0.978148        0  107529.0  \n",
       "3  0.207912  0.978148        0  108027.0  \n",
       "4  0.207912  0.978148        0  108027.0  "
      ]
     },
     "execution_count": 3,
     "metadata": {},
     "output_type": "execute_result"
    }
   ],
   "source": [
    "crimes.head()"
   ]
  },
  {
   "cell_type": "code",
   "execution_count": 4,
   "metadata": {},
   "outputs": [
    {
     "data": {
      "text/plain": [
       "<AxesSubplot:>"
      ]
     },
     "execution_count": 4,
     "metadata": {},
     "output_type": "execute_result"
    },
    {
     "data": {
      "image/png": "[encoded data removed]",
      "text/plain": [
       "<Figure size 640x480 with 1 Axes>"
      ]
     },
     "metadata": {},
     "output_type": "display_data"
    }
   ],
   "source": [
    "crimes.groupby(\"neighborhood_code\").size().hist(log=True)"
   ]
  },
  {
   "cell_type": "code",
   "execution_count": 5,
   "metadata": {},
   "outputs": [],
   "source": [
    "X_date = crimes[[\"estacao\", \"ano\", \"mes_sin\", \"mes_cos\", \"dia_sin\", \"dia_cos\", \"periodo\"]].values\n",
    "X_location = crimes[\"neighborhood_code\"]\n",
    "X = {\"location_code\": X_location, \"date_features\": X_date}"
   ]
  },
  {
   "cell_type": "code",
   "execution_count": 6,
   "metadata": {},
   "outputs": [],
   "source": [
    "y = crimes[\"pontos\"]\n",
    "y = y / y.max()"
   ]
  },
  {
   "cell_type": "code",
   "execution_count": 7,
   "metadata": {},
   "outputs": [
    {
     "data": {
      "text/plain": [
       "8400"
      ]
     },
     "execution_count": 7,
     "metadata": {},
     "output_type": "execute_result"
    }
   ],
   "source": [
    "num_locations = crimes[\"neighborhood_code\"].max() + 1\n",
    "num_locations"
   ]
  },
  {
   "cell_type": "code",
   "execution_count": 8,
   "metadata": {},
   "outputs": [],
   "source": [
    "k.utils.set_random_seed(42)"
   ]
  },
  {
   "cell_type": "code",
   "execution_count": 9,
   "metadata": {},
   "outputs": [],
   "source": [
    "location = k.layers.Input(shape=(1,), name=\"location_code\")\n",
    "date_components = k.layers.Input(shape=(7,), name=\"date_features\")"
   ]
  },
  {
   "cell_type": "code",
   "execution_count": 10,
   "metadata": {},
   "outputs": [],
   "source": [
    "def embedding_block(input_layer, num_cat, out_dim):\n",
    "    x = k.layers.Embedding(num_cat, out_dim)(input_layer)\n",
    "    x = k.layers.Flatten()(x)\n",
    "    return x"
   ]
  },
  {
   "cell_type": "code",
   "execution_count": 11,
   "metadata": {},
   "outputs": [
    {
     "name": "stderr",
     "output_type": "stream",
     "text": [
      "2023-08-31 21:53:15.680456: I tensorflow/core/common_runtime/process_util.cc:146] Creating new thread pool with default inter op setting: 2. Tune using inter_op_parallelism_threads for best performance.\n"
     ]
    }
   ],
   "source": [
    "location_embedding = embedding_block(location, num_locations, 5)"
   ]
  },
  {
   "cell_type": "code",
   "execution_count": 12,
   "metadata": {},
   "outputs": [],
   "source": [
    "normalizer = k.layers.Normalization()\n",
    "normalizer.adapt(X_date)"
   ]
  },
  {
   "cell_type": "code",
   "execution_count": 13,
   "metadata": {},
   "outputs": [],
   "source": [
    "time_normalization = normalizer(date_components)\n",
    "concat_layer = k.layers.concatenate([location_embedding, time_normalization])\n",
    "hidden_layer = k.layers.Dense(32, activation=\"relu\", name=\"hidden\")(concat_layer)\n",
    "output_layer = k.layers.Dense(1, activation=\"sigmoid\", name=\"output\")(hidden_layer)"
   ]
  },
  {
   "cell_type": "code",
   "execution_count": 14,
   "metadata": {},
   "outputs": [],
   "source": [
    "model = k.Model([location, date_components], output_layer)"
   ]
  },
  {
   "cell_type": "code",
   "execution_count": 15,
   "metadata": {},
   "outputs": [
    {
     "name": "stdout",
     "output_type": "stream",
     "text": [
      "Model: \"model\"\n",
      "__________________________________________________________________________________________________\n",
      " Layer (type)                   Output Shape         Param #     Connected to                     \n",
      "==================================================================================================\n",
      " location_code (InputLayer)     [(None, 1)]          0           []                               \n",
      "                                                                                                  \n",
      " embedding (Embedding)          (None, 1, 5)         42000       ['location_code[0][0]']          \n",
      "                                                                                                  \n",
      " date_features (InputLayer)     [(None, 7)]          0           []                               \n",
      "                                                                                                  \n",
      " flatten (Flatten)              (None, 5)            0           ['embedding[0][0]']              \n",
      "                                                                                                  \n",
      " normalization (Normalization)  (None, 7)            15          ['date_features[0][0]']          \n",
      "                                                                                                  \n",
      " concatenate (Concatenate)      (None, 12)           0           ['flatten[0][0]',                \n",
      "                                                                  'normalization[0][0]']          \n",
      "                                                                                                  \n",
      " hidden (Dense)                 (None, 32)           416         ['concatenate[0][0]']            \n",
      "                                                                                                  \n",
      " output (Dense)                 (None, 1)            33          ['hidden[0][0]']                 \n",
      "                                                                                                  \n",
      "==================================================================================================\n",
      "Total params: 42,464\n",
      "Trainable params: 42,449\n",
      "Non-trainable params: 15\n",
      "__________________________________________________________________________________________________\n"
     ]
    }
   ],
   "source": [
    "model.summary()"
   ]
  },
  {
   "cell_type": "code",
   "execution_count": 16,
   "metadata": {},
   "outputs": [
    {
     "data": {
      "image/png": "[encoded data removed]",
      "text/plain": [
       "<IPython.core.display.Image object>"
      ]
     },
     "execution_count": 16,
     "metadata": {},
     "output_type": "execute_result"
    }
   ],
   "source": [
    "k.utils.plot_model(model, show_shapes=True)"
   ]
  },
  {
   "cell_type": "code",
   "execution_count": 17,
   "metadata": {},
   "outputs": [],
   "source": [
    "model.compile(optimizer=\"Adam\", loss=\"mean_absolute_error\", metrics=[\n",
    "    \"mean_squared_error\",\n",
    "    \"mean_absolute_percentage_error\"\n",
    "    ]\n",
    ")"
   ]
  },
  {
   "cell_type": "code",
   "execution_count": 18,
   "metadata": {},
   "outputs": [
    {
     "name": "stdout",
     "output_type": "stream",
     "text": [
      "Epoch 1/10\n",
      "99/99 [==============================] - 1s 7ms/step - loss: 0.1488 - mean_squared_error: 0.0361 - mean_absolute_percentage_error: 19.7232 - val_loss: 0.1269 - val_mean_squared_error: 0.0187 - val_mean_absolute_percentage_error: 22.0506\n",
      "Epoch 2/10\n",
      "99/99 [==============================] - 1s 11ms/step - loss: 0.0560 - mean_squared_error: 0.0056 - mean_absolute_percentage_error: 7.9772 - val_loss: 0.1132 - val_mean_squared_error: 0.0161 - val_mean_absolute_percentage_error: 19.4355\n",
      "Epoch 3/10\n",
      "99/99 [==============================] - 3s 26ms/step - loss: 0.0293 - mean_squared_error: 0.0019 - mean_absolute_percentage_error: 4.1631 - val_loss: 0.0705 - val_mean_squared_error: 0.0068 - val_mean_absolute_percentage_error: 11.9528\n",
      "Epoch 4/10\n",
      "99/99 [==============================] - 3s 25ms/step - loss: 0.0193 - mean_squared_error: 8.4471e-04 - mean_absolute_percentage_error: 2.6559 - val_loss: 0.0398 - val_mean_squared_error: 0.0023 - val_mean_absolute_percentage_error: 6.6859\n",
      "Epoch 5/10\n",
      "99/99 [==============================] - 2s 21ms/step - loss: 0.0149 - mean_squared_error: 5.0193e-04 - mean_absolute_percentage_error: 2.0306 - val_loss: 0.0270 - val_mean_squared_error: 0.0011 - val_mean_absolute_percentage_error: 4.5593\n",
      "Epoch 6/10\n",
      "99/99 [==============================] - 1s 12ms/step - loss: 0.0126 - mean_squared_error: 3.6156e-04 - mean_absolute_percentage_error: 1.7140 - val_loss: 0.0241 - val_mean_squared_error: 9.3433e-04 - val_mean_absolute_percentage_error: 4.0740\n",
      "Epoch 7/10\n",
      "99/99 [==============================] - 1s 7ms/step - loss: 0.0111 - mean_squared_error: 2.8148e-04 - mean_absolute_percentage_error: 1.5139 - val_loss: 0.0226 - val_mean_squared_error: 8.4635e-04 - val_mean_absolute_percentage_error: 3.8322\n",
      "Epoch 8/10\n",
      "99/99 [==============================] - 1s 8ms/step - loss: 0.0100 - mean_squared_error: 2.2649e-04 - mean_absolute_percentage_error: 1.3643 - val_loss: 0.0212 - val_mean_squared_error: 7.7326e-04 - val_mean_absolute_percentage_error: 3.5991\n",
      "Epoch 9/10\n",
      "99/99 [==============================] - 1s 12ms/step - loss: 0.0091 - mean_squared_error: 1.8674e-04 - mean_absolute_percentage_error: 1.2386 - val_loss: 0.0208 - val_mean_squared_error: 7.4921e-04 - val_mean_absolute_percentage_error: 3.5402\n",
      "Epoch 10/10\n",
      "99/99 [==============================] - 1s 12ms/step - loss: 0.0084 - mean_squared_error: 1.5940e-04 - mean_absolute_percentage_error: 1.1414 - val_loss: 0.0200 - val_mean_squared_error: 7.0472e-04 - val_mean_absolute_percentage_error: 3.4153\n"
     ]
    },
    {
     "data": {
      "text/plain": [
       "<keras.callbacks.History at 0x7f9f983ec9a0>"
      ]
     },
     "execution_count": 18,
     "metadata": {},
     "output_type": "execute_result"
    }
   ],
   "source": [
    "model.fit(X, y, batch_size=1_000, epochs=10, validation_split=.2, callbacks=[k.callbacks.TensorBoard()])"
   ]
  },
  {
   "cell_type": "code",
   "execution_count": 19,
   "metadata": {},
   "outputs": [
    {
     "name": "stdout",
     "output_type": "stream",
     "text": [
      "   1/3838 [..............................] - ETA: 1:05 - loss: 0.0088 - mean_squared_error: 9.3127e-05 - mean_absolute_percentage_error: 1.7032"
     ]
    },
    {
     "name": "stdout",
     "output_type": "stream",
     "text": [
      "3838/3838 [==============================] - 5s 1ms/step - loss: 0.0103 - mean_squared_error: 2.5551e-04 - mean_absolute_percentage_error: 1.5382\n",
      "MSE 0.01031782478094101 | MAE: 0.0002555130049586296 | MAPE: 1.5381910800933838\n"
     ]
    }
   ],
   "source": [
    "mse, mae, mape = model.evaluate(X, y)\n",
    "print(f\"MSE {mse} | MAE: {mae} | MAPE: {mape}\")"
   ]
  },
  {
   "cell_type": "code",
   "execution_count": 20,
   "metadata": {},
   "outputs": [
    {
     "name": "stdout",
     "output_type": "stream",
     "text": [
      "3838/3838 [==============================] - 5s 1ms/step\n"
     ]
    }
   ],
   "source": [
    "y_pred = model.predict(X)"
   ]
  },
  {
   "cell_type": "code",
   "execution_count": 21,
   "metadata": {},
   "outputs": [
    {
     "data": {
      "text/plain": [
       "(array([  984.,  5896., 11294., 12887., 19006., 18797., 16801., 15672.,\n",
       "         8126., 13345.]),\n",
       " array([0.3752113 , 0.43397892, 0.49274656, 0.5515142 , 0.6102818 ,\n",
       "        0.66904944, 0.72781706, 0.7865847 , 0.84535235, 0.90411997,\n",
       "        0.9628876 ], dtype=float32),\n",
       " <BarContainer object of 10 artists>)"
      ]
     },
     "execution_count": 21,
     "metadata": {},
     "output_type": "execute_result"
    },
    {
     "data": {
      "image/png": "[encoded data removed]",
      "text/plain": [
       "<Figure size 640x480 with 1 Axes>"
      ]
     },
     "metadata": {},
     "output_type": "display_data"
    }
   ],
   "source": [
    "plt.hist(y, color=\"green\")\n",
    "plt.hist(y_pred, color=\"salmon\", alpha=.9)"
   ]
  },
  {
   "cell_type": "code",
   "execution_count": 22,
   "metadata": {},
   "outputs": [],
   "source": [
    "crimes[\"pred\"] = y_pred\n",
    "crimes[\"score\"] = y"
   ]
  },
  {
   "cell_type": "code",
   "execution_count": 23,
   "metadata": {},
   "outputs": [
    {
     "data": {
      "text/plain": [
       "<AxesSubplot:xlabel='neighborhood_code'>"
      ]
     },
     "execution_count": 23,
     "metadata": {},
     "output_type": "execute_result"
    },
    {
     "data": {
      "image/png": "[encoded data removed]",
      "text/plain": [
       "<Figure size 640x480 with 1 Axes>"
      ]
     },
     "metadata": {},
     "output_type": "display_data"
    }
   ],
   "source": [
    "crimes.groupby(\"neighborhood_code\")[[\"score\", \"pred\"]].sum().head().plot(kind=\"bar\")"
   ]
  },
  {
   "cell_type": "code",
   "execution_count": 24,
   "metadata": {},
   "outputs": [
    {
     "data": {
      "text/plain": [
       "<AxesSubplot:xlabel='mes'>"
      ]
     },
     "execution_count": 24,
     "metadata": {},
     "output_type": "execute_result"
    },
    {
     "data": {
      "image/png": "[encoded data removed]",
      "text/plain": [
       "<Figure size 640x480 with 1 Axes>"
      ]
     },
     "metadata": {},
     "output_type": "display_data"
    }
   ],
   "source": [
    "crimes.groupby(\"mes\")[[\"score\", \"pred\"]].sum().plot(kind=\"bar\")"
   ]
  },
  {
   "cell_type": "code",
   "execution_count": 25,
   "metadata": {},
   "outputs": [],
   "source": [
    "crimes[\"abs_error\"] = np.absolute(crimes[\"score\"] - crimes[\"pred\"])"
   ]
  },
  {
   "cell_type": "code",
   "execution_count": 26,
   "metadata": {},
   "outputs": [
    {
     "data": {
      "text/html": [
       "<div>\n",
       "<style scoped>\n",
       "    .dataframe tbody tr th:only-of-type {\n",
       "        vertical-align: middle;\n",
       "    }\n",
       "\n",
       "    .dataframe tbody tr th {\n",
       "        vertical-align: top;\n",
       "    }\n",
       "\n",
       "    .dataframe thead th {\n",
       "        text-align: right;\n",
       "    }\n",
       "</style>\n",
       "<table border=\"1\" class=\"dataframe\">\n",
       "  <thead>\n",
       "    <tr style=\"text-align: right;\">\n",
       "      <th></th>\n",
       "      <th>neighborhood_code</th>\n",
       "      <th>city_code</th>\n",
       "      <th>estacao</th>\n",
       "      <th>ano</th>\n",
       "      <th>mes</th>\n",
       "      <th>dia</th>\n",
       "      <th>mes_sin</th>\n",
       "      <th>mes_cos</th>\n",
       "      <th>dia_sin</th>\n",
       "      <th>dia_cos</th>\n",
       "      <th>periodo</th>\n",
       "      <th>pontos</th>\n",
       "      <th>pred</th>\n",
       "      <th>score</th>\n",
       "      <th>abs_error</th>\n",
       "    </tr>\n",
       "  </thead>\n",
       "  <tbody>\n",
       "    <tr>\n",
       "      <th>106162</th>\n",
       "      <td>6710</td>\n",
       "      <td>358</td>\n",
       "      <td>4</td>\n",
       "      <td>2022</td>\n",
       "      <td>9</td>\n",
       "      <td>3</td>\n",
       "      <td>-1.000000e+00</td>\n",
       "      <td>-1.836970e-16</td>\n",
       "      <td>0.587785</td>\n",
       "      <td>0.809017</td>\n",
       "      <td>0</td>\n",
       "      <td>151428.0</td>\n",
       "      <td>0.835097</td>\n",
       "      <td>0.648483</td>\n",
       "      <td>0.186614</td>\n",
       "    </tr>\n",
       "    <tr>\n",
       "      <th>106026</th>\n",
       "      <td>6710</td>\n",
       "      <td>358</td>\n",
       "      <td>4</td>\n",
       "      <td>2022</td>\n",
       "      <td>9</td>\n",
       "      <td>3</td>\n",
       "      <td>-1.000000e+00</td>\n",
       "      <td>-1.836970e-16</td>\n",
       "      <td>0.587785</td>\n",
       "      <td>0.809017</td>\n",
       "      <td>0</td>\n",
       "      <td>151428.0</td>\n",
       "      <td>0.835097</td>\n",
       "      <td>0.648483</td>\n",
       "      <td>0.186614</td>\n",
       "    </tr>\n",
       "    <tr>\n",
       "      <th>106024</th>\n",
       "      <td>6710</td>\n",
       "      <td>358</td>\n",
       "      <td>4</td>\n",
       "      <td>2022</td>\n",
       "      <td>9</td>\n",
       "      <td>3</td>\n",
       "      <td>-1.000000e+00</td>\n",
       "      <td>-1.836970e-16</td>\n",
       "      <td>0.587785</td>\n",
       "      <td>0.809017</td>\n",
       "      <td>0</td>\n",
       "      <td>151428.0</td>\n",
       "      <td>0.835097</td>\n",
       "      <td>0.648483</td>\n",
       "      <td>0.186614</td>\n",
       "    </tr>\n",
       "    <tr>\n",
       "      <th>106025</th>\n",
       "      <td>6710</td>\n",
       "      <td>358</td>\n",
       "      <td>4</td>\n",
       "      <td>2022</td>\n",
       "      <td>9</td>\n",
       "      <td>3</td>\n",
       "      <td>-1.000000e+00</td>\n",
       "      <td>-1.836970e-16</td>\n",
       "      <td>0.587785</td>\n",
       "      <td>0.809017</td>\n",
       "      <td>0</td>\n",
       "      <td>151428.0</td>\n",
       "      <td>0.835097</td>\n",
       "      <td>0.648483</td>\n",
       "      <td>0.186614</td>\n",
       "    </tr>\n",
       "    <tr>\n",
       "      <th>106161</th>\n",
       "      <td>6710</td>\n",
       "      <td>358</td>\n",
       "      <td>4</td>\n",
       "      <td>2022</td>\n",
       "      <td>9</td>\n",
       "      <td>3</td>\n",
       "      <td>-1.000000e+00</td>\n",
       "      <td>-1.836970e-16</td>\n",
       "      <td>0.587785</td>\n",
       "      <td>0.809017</td>\n",
       "      <td>0</td>\n",
       "      <td>151428.0</td>\n",
       "      <td>0.835097</td>\n",
       "      <td>0.648483</td>\n",
       "      <td>0.186614</td>\n",
       "    </tr>\n",
       "    <tr>\n",
       "      <th>106027</th>\n",
       "      <td>6710</td>\n",
       "      <td>358</td>\n",
       "      <td>4</td>\n",
       "      <td>2022</td>\n",
       "      <td>9</td>\n",
       "      <td>3</td>\n",
       "      <td>-1.000000e+00</td>\n",
       "      <td>-1.836970e-16</td>\n",
       "      <td>0.587785</td>\n",
       "      <td>0.809017</td>\n",
       "      <td>0</td>\n",
       "      <td>151428.0</td>\n",
       "      <td>0.835097</td>\n",
       "      <td>0.648483</td>\n",
       "      <td>0.186614</td>\n",
       "    </tr>\n",
       "    <tr>\n",
       "      <th>106163</th>\n",
       "      <td>6710</td>\n",
       "      <td>358</td>\n",
       "      <td>4</td>\n",
       "      <td>2022</td>\n",
       "      <td>9</td>\n",
       "      <td>3</td>\n",
       "      <td>-1.000000e+00</td>\n",
       "      <td>-1.836970e-16</td>\n",
       "      <td>0.587785</td>\n",
       "      <td>0.809017</td>\n",
       "      <td>0</td>\n",
       "      <td>151428.0</td>\n",
       "      <td>0.835097</td>\n",
       "      <td>0.648483</td>\n",
       "      <td>0.186614</td>\n",
       "    </tr>\n",
       "    <tr>\n",
       "      <th>106164</th>\n",
       "      <td>6710</td>\n",
       "      <td>358</td>\n",
       "      <td>4</td>\n",
       "      <td>2022</td>\n",
       "      <td>9</td>\n",
       "      <td>3</td>\n",
       "      <td>-1.000000e+00</td>\n",
       "      <td>-1.836970e-16</td>\n",
       "      <td>0.587785</td>\n",
       "      <td>0.809017</td>\n",
       "      <td>0</td>\n",
       "      <td>151428.0</td>\n",
       "      <td>0.835097</td>\n",
       "      <td>0.648483</td>\n",
       "      <td>0.186614</td>\n",
       "    </tr>\n",
       "    <tr>\n",
       "      <th>106812</th>\n",
       "      <td>6862</td>\n",
       "      <td>358</td>\n",
       "      <td>2</td>\n",
       "      <td>2022</td>\n",
       "      <td>3</td>\n",
       "      <td>18</td>\n",
       "      <td>1.000000e+00</td>\n",
       "      <td>6.123234e-17</td>\n",
       "      <td>-0.587785</td>\n",
       "      <td>-0.809017</td>\n",
       "      <td>1</td>\n",
       "      <td>164519.0</td>\n",
       "      <td>0.871692</td>\n",
       "      <td>0.704545</td>\n",
       "      <td>0.167147</td>\n",
       "    </tr>\n",
       "    <tr>\n",
       "      <th>108153</th>\n",
       "      <td>6710</td>\n",
       "      <td>358</td>\n",
       "      <td>2</td>\n",
       "      <td>2022</td>\n",
       "      <td>3</td>\n",
       "      <td>4</td>\n",
       "      <td>1.000000e+00</td>\n",
       "      <td>6.123234e-17</td>\n",
       "      <td>0.743145</td>\n",
       "      <td>0.669131</td>\n",
       "      <td>0</td>\n",
       "      <td>148341.0</td>\n",
       "      <td>0.802317</td>\n",
       "      <td>0.635263</td>\n",
       "      <td>0.167053</td>\n",
       "    </tr>\n",
       "    <tr>\n",
       "      <th>108151</th>\n",
       "      <td>6710</td>\n",
       "      <td>358</td>\n",
       "      <td>2</td>\n",
       "      <td>2022</td>\n",
       "      <td>3</td>\n",
       "      <td>4</td>\n",
       "      <td>1.000000e+00</td>\n",
       "      <td>6.123234e-17</td>\n",
       "      <td>0.743145</td>\n",
       "      <td>0.669131</td>\n",
       "      <td>0</td>\n",
       "      <td>148341.0</td>\n",
       "      <td>0.802317</td>\n",
       "      <td>0.635263</td>\n",
       "      <td>0.167053</td>\n",
       "    </tr>\n",
       "    <tr>\n",
       "      <th>108150</th>\n",
       "      <td>6710</td>\n",
       "      <td>358</td>\n",
       "      <td>2</td>\n",
       "      <td>2022</td>\n",
       "      <td>3</td>\n",
       "      <td>4</td>\n",
       "      <td>1.000000e+00</td>\n",
       "      <td>6.123234e-17</td>\n",
       "      <td>0.743145</td>\n",
       "      <td>0.669131</td>\n",
       "      <td>0</td>\n",
       "      <td>148341.0</td>\n",
       "      <td>0.802317</td>\n",
       "      <td>0.635263</td>\n",
       "      <td>0.167053</td>\n",
       "    </tr>\n",
       "    <tr>\n",
       "      <th>108152</th>\n",
       "      <td>6710</td>\n",
       "      <td>358</td>\n",
       "      <td>2</td>\n",
       "      <td>2022</td>\n",
       "      <td>3</td>\n",
       "      <td>4</td>\n",
       "      <td>1.000000e+00</td>\n",
       "      <td>6.123234e-17</td>\n",
       "      <td>0.743145</td>\n",
       "      <td>0.669131</td>\n",
       "      <td>0</td>\n",
       "      <td>148341.0</td>\n",
       "      <td>0.802317</td>\n",
       "      <td>0.635263</td>\n",
       "      <td>0.167053</td>\n",
       "    </tr>\n",
       "    <tr>\n",
       "      <th>103392</th>\n",
       "      <td>6391</td>\n",
       "      <td>358</td>\n",
       "      <td>1</td>\n",
       "      <td>2022</td>\n",
       "      <td>12</td>\n",
       "      <td>31</td>\n",
       "      <td>-2.449294e-16</td>\n",
       "      <td>1.000000e+00</td>\n",
       "      <td>0.207912</td>\n",
       "      <td>0.978148</td>\n",
       "      <td>0</td>\n",
       "      <td>153949.0</td>\n",
       "      <td>0.816227</td>\n",
       "      <td>0.659279</td>\n",
       "      <td>0.156948</td>\n",
       "    </tr>\n",
       "    <tr>\n",
       "      <th>120407</th>\n",
       "      <td>6279</td>\n",
       "      <td>358</td>\n",
       "      <td>4</td>\n",
       "      <td>2022</td>\n",
       "      <td>10</td>\n",
       "      <td>9</td>\n",
       "      <td>-8.660254e-01</td>\n",
       "      <td>5.000000e-01</td>\n",
       "      <td>0.951057</td>\n",
       "      <td>-0.309017</td>\n",
       "      <td>0</td>\n",
       "      <td>149469.0</td>\n",
       "      <td>0.791428</td>\n",
       "      <td>0.640094</td>\n",
       "      <td>0.151334</td>\n",
       "    </tr>\n",
       "    <tr>\n",
       "      <th>120765</th>\n",
       "      <td>6382</td>\n",
       "      <td>358</td>\n",
       "      <td>1</td>\n",
       "      <td>2022</td>\n",
       "      <td>12</td>\n",
       "      <td>9</td>\n",
       "      <td>-2.449294e-16</td>\n",
       "      <td>1.000000e+00</td>\n",
       "      <td>0.951057</td>\n",
       "      <td>-0.309017</td>\n",
       "      <td>0</td>\n",
       "      <td>155925.0</td>\n",
       "      <td>0.815407</td>\n",
       "      <td>0.667742</td>\n",
       "      <td>0.147665</td>\n",
       "    </tr>\n",
       "    <tr>\n",
       "      <th>118532</th>\n",
       "      <td>6948</td>\n",
       "      <td>358</td>\n",
       "      <td>3</td>\n",
       "      <td>2022</td>\n",
       "      <td>8</td>\n",
       "      <td>24</td>\n",
       "      <td>-8.660254e-01</td>\n",
       "      <td>-5.000000e-01</td>\n",
       "      <td>-0.951057</td>\n",
       "      <td>0.309017</td>\n",
       "      <td>1</td>\n",
       "      <td>156303.0</td>\n",
       "      <td>0.524682</td>\n",
       "      <td>0.669360</td>\n",
       "      <td>0.144678</td>\n",
       "    </tr>\n",
       "    <tr>\n",
       "      <th>112294</th>\n",
       "      <td>6312</td>\n",
       "      <td>358</td>\n",
       "      <td>2</td>\n",
       "      <td>2022</td>\n",
       "      <td>5</td>\n",
       "      <td>24</td>\n",
       "      <td>5.000000e-01</td>\n",
       "      <td>-8.660254e-01</td>\n",
       "      <td>-0.951057</td>\n",
       "      <td>0.309017</td>\n",
       "      <td>1</td>\n",
       "      <td>160548.0</td>\n",
       "      <td>0.831194</td>\n",
       "      <td>0.687539</td>\n",
       "      <td>0.143655</td>\n",
       "    </tr>\n",
       "    <tr>\n",
       "      <th>112296</th>\n",
       "      <td>6312</td>\n",
       "      <td>358</td>\n",
       "      <td>2</td>\n",
       "      <td>2022</td>\n",
       "      <td>5</td>\n",
       "      <td>24</td>\n",
       "      <td>5.000000e-01</td>\n",
       "      <td>-8.660254e-01</td>\n",
       "      <td>-0.951057</td>\n",
       "      <td>0.309017</td>\n",
       "      <td>1</td>\n",
       "      <td>160548.0</td>\n",
       "      <td>0.831194</td>\n",
       "      <td>0.687539</td>\n",
       "      <td>0.143655</td>\n",
       "    </tr>\n",
       "    <tr>\n",
       "      <th>112293</th>\n",
       "      <td>6312</td>\n",
       "      <td>358</td>\n",
       "      <td>2</td>\n",
       "      <td>2022</td>\n",
       "      <td>5</td>\n",
       "      <td>24</td>\n",
       "      <td>5.000000e-01</td>\n",
       "      <td>-8.660254e-01</td>\n",
       "      <td>-0.951057</td>\n",
       "      <td>0.309017</td>\n",
       "      <td>1</td>\n",
       "      <td>160548.0</td>\n",
       "      <td>0.831194</td>\n",
       "      <td>0.687539</td>\n",
       "      <td>0.143655</td>\n",
       "    </tr>\n",
       "    <tr>\n",
       "      <th>112295</th>\n",
       "      <td>6312</td>\n",
       "      <td>358</td>\n",
       "      <td>2</td>\n",
       "      <td>2022</td>\n",
       "      <td>5</td>\n",
       "      <td>24</td>\n",
       "      <td>5.000000e-01</td>\n",
       "      <td>-8.660254e-01</td>\n",
       "      <td>-0.951057</td>\n",
       "      <td>0.309017</td>\n",
       "      <td>1</td>\n",
       "      <td>160548.0</td>\n",
       "      <td>0.831194</td>\n",
       "      <td>0.687539</td>\n",
       "      <td>0.143655</td>\n",
       "    </tr>\n",
       "    <tr>\n",
       "      <th>99295</th>\n",
       "      <td>6339</td>\n",
       "      <td>358</td>\n",
       "      <td>2</td>\n",
       "      <td>2022</td>\n",
       "      <td>4</td>\n",
       "      <td>12</td>\n",
       "      <td>8.660254e-01</td>\n",
       "      <td>-5.000000e-01</td>\n",
       "      <td>0.587785</td>\n",
       "      <td>-0.809017</td>\n",
       "      <td>1</td>\n",
       "      <td>160562.0</td>\n",
       "      <td>0.825818</td>\n",
       "      <td>0.687599</td>\n",
       "      <td>0.138219</td>\n",
       "    </tr>\n",
       "    <tr>\n",
       "      <th>93749</th>\n",
       "      <td>6766</td>\n",
       "      <td>358</td>\n",
       "      <td>4</td>\n",
       "      <td>2022</td>\n",
       "      <td>10</td>\n",
       "      <td>26</td>\n",
       "      <td>-8.660254e-01</td>\n",
       "      <td>5.000000e-01</td>\n",
       "      <td>-0.743145</td>\n",
       "      <td>0.669131</td>\n",
       "      <td>1</td>\n",
       "      <td>165112.0</td>\n",
       "      <td>0.845052</td>\n",
       "      <td>0.707084</td>\n",
       "      <td>0.137967</td>\n",
       "    </tr>\n",
       "    <tr>\n",
       "      <th>93918</th>\n",
       "      <td>6766</td>\n",
       "      <td>358</td>\n",
       "      <td>4</td>\n",
       "      <td>2022</td>\n",
       "      <td>10</td>\n",
       "      <td>26</td>\n",
       "      <td>-8.660254e-01</td>\n",
       "      <td>5.000000e-01</td>\n",
       "      <td>-0.743145</td>\n",
       "      <td>0.669131</td>\n",
       "      <td>1</td>\n",
       "      <td>165112.0</td>\n",
       "      <td>0.845052</td>\n",
       "      <td>0.707084</td>\n",
       "      <td>0.137967</td>\n",
       "    </tr>\n",
       "    <tr>\n",
       "      <th>102563</th>\n",
       "      <td>6400</td>\n",
       "      <td>358</td>\n",
       "      <td>1</td>\n",
       "      <td>2022</td>\n",
       "      <td>12</td>\n",
       "      <td>25</td>\n",
       "      <td>-2.449294e-16</td>\n",
       "      <td>1.000000e+00</td>\n",
       "      <td>-0.866025</td>\n",
       "      <td>0.500000</td>\n",
       "      <td>0</td>\n",
       "      <td>155805.0</td>\n",
       "      <td>0.804660</td>\n",
       "      <td>0.667228</td>\n",
       "      <td>0.137433</td>\n",
       "    </tr>\n",
       "    <tr>\n",
       "      <th>118402</th>\n",
       "      <td>6440</td>\n",
       "      <td>358</td>\n",
       "      <td>3</td>\n",
       "      <td>2022</td>\n",
       "      <td>8</td>\n",
       "      <td>19</td>\n",
       "      <td>-8.660254e-01</td>\n",
       "      <td>-5.000000e-01</td>\n",
       "      <td>-0.743145</td>\n",
       "      <td>-0.669131</td>\n",
       "      <td>0</td>\n",
       "      <td>142204.0</td>\n",
       "      <td>0.471957</td>\n",
       "      <td>0.608982</td>\n",
       "      <td>0.137025</td>\n",
       "    </tr>\n",
       "    <tr>\n",
       "      <th>118042</th>\n",
       "      <td>6440</td>\n",
       "      <td>358</td>\n",
       "      <td>3</td>\n",
       "      <td>2022</td>\n",
       "      <td>8</td>\n",
       "      <td>19</td>\n",
       "      <td>-8.660254e-01</td>\n",
       "      <td>-5.000000e-01</td>\n",
       "      <td>-0.743145</td>\n",
       "      <td>-0.669131</td>\n",
       "      <td>0</td>\n",
       "      <td>142204.0</td>\n",
       "      <td>0.471957</td>\n",
       "      <td>0.608982</td>\n",
       "      <td>0.137025</td>\n",
       "    </tr>\n",
       "    <tr>\n",
       "      <th>90154</th>\n",
       "      <td>6880</td>\n",
       "      <td>358</td>\n",
       "      <td>1</td>\n",
       "      <td>2022</td>\n",
       "      <td>1</td>\n",
       "      <td>31</td>\n",
       "      <td>5.000000e-01</td>\n",
       "      <td>8.660254e-01</td>\n",
       "      <td>0.207912</td>\n",
       "      <td>0.978148</td>\n",
       "      <td>1</td>\n",
       "      <td>172044.0</td>\n",
       "      <td>0.873520</td>\n",
       "      <td>0.736770</td>\n",
       "      <td>0.136749</td>\n",
       "    </tr>\n",
       "    <tr>\n",
       "      <th>90157</th>\n",
       "      <td>6880</td>\n",
       "      <td>358</td>\n",
       "      <td>1</td>\n",
       "      <td>2022</td>\n",
       "      <td>1</td>\n",
       "      <td>31</td>\n",
       "      <td>5.000000e-01</td>\n",
       "      <td>8.660254e-01</td>\n",
       "      <td>0.207912</td>\n",
       "      <td>0.978148</td>\n",
       "      <td>1</td>\n",
       "      <td>172044.0</td>\n",
       "      <td>0.873520</td>\n",
       "      <td>0.736770</td>\n",
       "      <td>0.136749</td>\n",
       "    </tr>\n",
       "    <tr>\n",
       "      <th>90156</th>\n",
       "      <td>6880</td>\n",
       "      <td>358</td>\n",
       "      <td>1</td>\n",
       "      <td>2022</td>\n",
       "      <td>1</td>\n",
       "      <td>31</td>\n",
       "      <td>5.000000e-01</td>\n",
       "      <td>8.660254e-01</td>\n",
       "      <td>0.207912</td>\n",
       "      <td>0.978148</td>\n",
       "      <td>1</td>\n",
       "      <td>172044.0</td>\n",
       "      <td>0.873520</td>\n",
       "      <td>0.736770</td>\n",
       "      <td>0.136749</td>\n",
       "    </tr>\n",
       "  </tbody>\n",
       "</table>\n",
       "</div>"
      ],
      "text/plain": [
       "        neighborhood_code  city_code  estacao   ano  mes  dia       mes_sin  \\\n",
       "106162               6710        358        4  2022    9    3 -1.000000e+00   \n",
       "106026               6710        358        4  2022    9    3 -1.000000e+00   \n",
       "106024               6710        358        4  2022    9    3 -1.000000e+00   \n",
       "106025               6710        358        4  2022    9    3 -1.000000e+00   \n",
       "106161               6710        358        4  2022    9    3 -1.000000e+00   \n",
       "106027               6710        358        4  2022    9    3 -1.000000e+00   \n",
       "106163               6710        358        4  2022    9    3 -1.000000e+00   \n",
       "106164               6710        358        4  2022    9    3 -1.000000e+00   \n",
       "106812               6862        358        2  2022    3   18  1.000000e+00   \n",
       "108153               6710        358        2  2022    3    4  1.000000e+00   \n",
       "108151               6710        358        2  2022    3    4  1.000000e+00   \n",
       "108150               6710        358        2  2022    3    4  1.000000e+00   \n",
       "108152               6710        358        2  2022    3    4  1.000000e+00   \n",
       "103392               6391        358        1  2022   12   31 -2.449294e-16   \n",
       "120407               6279        358        4  2022   10    9 -8.660254e-01   \n",
       "120765               6382        358        1  2022   12    9 -2.449294e-16   \n",
       "118532               6948        358        3  2022    8   24 -8.660254e-01   \n",
       "112294               6312        358        2  2022    5   24  5.000000e-01   \n",
       "112296               6312        358        2  2022    5   24  5.000000e-01   \n",
       "112293               6312        358        2  2022    5   24  5.000000e-01   \n",
       "112295               6312        358        2  2022    5   24  5.000000e-01   \n",
       "99295                6339        358        2  2022    4   12  8.660254e-01   \n",
       "93749                6766        358        4  2022   10   26 -8.660254e-01   \n",
       "93918                6766        358        4  2022   10   26 -8.660254e-01   \n",
       "102563               6400        358        1  2022   12   25 -2.449294e-16   \n",
       "118402               6440        358        3  2022    8   19 -8.660254e-01   \n",
       "118042               6440        358        3  2022    8   19 -8.660254e-01   \n",
       "90154                6880        358        1  2022    1   31  5.000000e-01   \n",
       "90157                6880        358        1  2022    1   31  5.000000e-01   \n",
       "90156                6880        358        1  2022    1   31  5.000000e-01   \n",
       "\n",
       "             mes_cos   dia_sin   dia_cos  periodo    pontos      pred  \\\n",
       "106162 -1.836970e-16  0.587785  0.809017        0  151428.0  0.835097   \n",
       "106026 -1.836970e-16  0.587785  0.809017        0  151428.0  0.835097   \n",
       "106024 -1.836970e-16  0.587785  0.809017        0  151428.0  0.835097   \n",
       "106025 -1.836970e-16  0.587785  0.809017        0  151428.0  0.835097   \n",
       "106161 -1.836970e-16  0.587785  0.809017        0  151428.0  0.835097   \n",
       "106027 -1.836970e-16  0.587785  0.809017        0  151428.0  0.835097   \n",
       "106163 -1.836970e-16  0.587785  0.809017        0  151428.0  0.835097   \n",
       "106164 -1.836970e-16  0.587785  0.809017        0  151428.0  0.835097   \n",
       "106812  6.123234e-17 -0.587785 -0.809017        1  164519.0  0.871692   \n",
       "108153  6.123234e-17  0.743145  0.669131        0  148341.0  0.802317   \n",
       "108151  6.123234e-17  0.743145  0.669131        0  148341.0  0.802317   \n",
       "108150  6.123234e-17  0.743145  0.669131        0  148341.0  0.802317   \n",
       "108152  6.123234e-17  0.743145  0.669131        0  148341.0  0.802317   \n",
       "103392  1.000000e+00  0.207912  0.978148        0  153949.0  0.816227   \n",
       "120407  5.000000e-01  0.951057 -0.309017        0  149469.0  0.791428   \n",
       "120765  1.000000e+00  0.951057 -0.309017        0  155925.0  0.815407   \n",
       "118532 -5.000000e-01 -0.951057  0.309017        1  156303.0  0.524682   \n",
       "112294 -8.660254e-01 -0.951057  0.309017        1  160548.0  0.831194   \n",
       "112296 -8.660254e-01 -0.951057  0.309017        1  160548.0  0.831194   \n",
       "112293 -8.660254e-01 -0.951057  0.309017        1  160548.0  0.831194   \n",
       "112295 -8.660254e-01 -0.951057  0.309017        1  160548.0  0.831194   \n",
       "99295  -5.000000e-01  0.587785 -0.809017        1  160562.0  0.825818   \n",
       "93749   5.000000e-01 -0.743145  0.669131        1  165112.0  0.845052   \n",
       "93918   5.000000e-01 -0.743145  0.669131        1  165112.0  0.845052   \n",
       "102563  1.000000e+00 -0.866025  0.500000        0  155805.0  0.804660   \n",
       "118402 -5.000000e-01 -0.743145 -0.669131        0  142204.0  0.471957   \n",
       "118042 -5.000000e-01 -0.743145 -0.669131        0  142204.0  0.471957   \n",
       "90154   8.660254e-01  0.207912  0.978148        1  172044.0  0.873520   \n",
       "90157   8.660254e-01  0.207912  0.978148        1  172044.0  0.873520   \n",
       "90156   8.660254e-01  0.207912  0.978148        1  172044.0  0.873520   \n",
       "\n",
       "           score  abs_error  \n",
       "106162  0.648483   0.186614  \n",
       "106026  0.648483   0.186614  \n",
       "106024  0.648483   0.186614  \n",
       "106025  0.648483   0.186614  \n",
       "106161  0.648483   0.186614  \n",
       "106027  0.648483   0.186614  \n",
       "106163  0.648483   0.186614  \n",
       "106164  0.648483   0.186614  \n",
       "106812  0.704545   0.167147  \n",
       "108153  0.635263   0.167053  \n",
       "108151  0.635263   0.167053  \n",
       "108150  0.635263   0.167053  \n",
       "108152  0.635263   0.167053  \n",
       "103392  0.659279   0.156948  \n",
       "120407  0.640094   0.151334  \n",
       "120765  0.667742   0.147665  \n",
       "118532  0.669360   0.144678  \n",
       "112294  0.687539   0.143655  \n",
       "112296  0.687539   0.143655  \n",
       "112293  0.687539   0.143655  \n",
       "112295  0.687539   0.143655  \n",
       "99295   0.687599   0.138219  \n",
       "93749   0.707084   0.137967  \n",
       "93918   0.707084   0.137967  \n",
       "102563  0.667228   0.137433  \n",
       "118402  0.608982   0.137025  \n",
       "118042  0.608982   0.137025  \n",
       "90154   0.736770   0.136749  \n",
       "90157   0.736770   0.136749  \n",
       "90156   0.736770   0.136749  "
      ]
     },
     "execution_count": 26,
     "metadata": {},
     "output_type": "execute_result"
    }
   ],
   "source": [
    "crimes.sort_values(by=\"abs_error\", ascending=False).head(30)"
   ]
  },
  {
   "cell_type": "code",
   "execution_count": 27,
   "metadata": {},
   "outputs": [],
   "source": [
    "hidden_dense = model.get_layer(\"hidden\")\n",
    "kernel, bias = hidden_dense.trainable_weights"
   ]
  },
  {
   "cell_type": "code",
   "execution_count": 28,
   "metadata": {},
   "outputs": [
    {
     "data": {
      "text/plain": [
       "(12, 32)"
      ]
     },
     "execution_count": 28,
     "metadata": {},
     "output_type": "execute_result"
    }
   ],
   "source": [
    "kernel.numpy().shape"
   ]
  },
  {
   "cell_type": "code",
   "execution_count": 29,
   "metadata": {},
   "outputs": [
    {
     "data": {
      "text/plain": [
       "(array([ 2.,  1.,  4.,  7.,  0., 12.,  5.,  0.,  0.,  1.]),\n",
       " array([-0.22119974, -0.16463986, -0.10807997, -0.05152009,  0.0050398 ,\n",
       "         0.06159968,  0.11815956,  0.17471945,  0.23127933,  0.2878392 ,\n",
       "         0.3443991 ], dtype=float32),\n",
       " <BarContainer object of 10 artists>)"
      ]
     },
     "execution_count": 29,
     "metadata": {},
     "output_type": "execute_result"
    },
    {
     "data": {
      "image/png": "[encoded data removed]",
      "text/plain": [
       "<Figure size 1000x600 with 2 Axes>"
      ]
     },
     "metadata": {},
     "output_type": "display_data"
    }
   ],
   "source": [
    "fig, (ax1, ax2) = plt.subplots(1, 2, figsize=(10, 6))\n",
    "ax1.hist(kernel.numpy().ravel())\n",
    "ax2.hist(bias.numpy())"
   ]
  },
  {
   "cell_type": "code",
   "execution_count": 30,
   "metadata": {},
   "outputs": [],
   "source": [
    "def sin_transform(x, period):\n",
    "    return np.sin(x / period * 2 * np.pi)\n",
    "\n",
    "def cos_transform(x, period):\n",
    "    return np.cos(x / period * 2 * np.pi)"
   ]
  },
  {
   "cell_type": "code",
   "execution_count": 31,
   "metadata": {},
   "outputs": [],
   "source": [
    "obs = {\"periodo\": 1}\n",
    "start = date(2023, 4, 1)\n",
    "obs_lst = []\n",
    "for i in range(365):\n",
    "    dt = start + timedelta(days=i)\n",
    "    aux = {\n",
    "        \"ano\": dt.year,\n",
    "        \"mes\": dt.month,\n",
    "        \"dia\": dt.day,\n",
    "        \"estacao\": (dt.month % 12) // 3 + 1,\n",
    "    }\n",
    "    obs_lst.append(aux)\n",
    "obs_lst = pd.DataFrame(obs_lst)\n",
    "obs_lst.loc[:, \"mes_sin\"] = sin_transform(obs_lst[\"mes\"], 12)\n",
    "obs_lst.loc[:, \"mes_cos\"] = cos_transform(obs_lst[\"mes\"], 12)\n",
    "obs_lst.loc[:, \"dia_sin\"] = sin_transform(obs_lst[\"dia\"], 30)\n",
    "obs_lst.loc[:, \"dia_cos\"] = cos_transform(obs_lst[\"dia\"], 30)\n",
    "obs_lst[\"location_code\"] = 900\n",
    "obs_lst[\"periodo\"] = 1\n",
    "obs_lst = {\"location_code\": obs_lst[\"location_code\"], \"date_features\": obs_lst[[\"estacao\", \"ano\", \"mes_sin\", \"mes_cos\", \"dia_sin\", \"dia_cos\", \"periodo\"]]}"
   ]
  },
  {
   "cell_type": "code",
   "execution_count": 32,
   "metadata": {},
   "outputs": [
    {
     "name": "stdout",
     "output_type": "stream",
     "text": [
      "12/12 [==============================] - 0s 4ms/step\n"
     ]
    }
   ],
   "source": [
    "forecast_result = model.predict(obs_lst)"
   ]
  },
  {
   "cell_type": "code",
   "execution_count": 33,
   "metadata": {},
   "outputs": [
    {
     "data": {
      "text/plain": [
       "(array([ 43.,  27.,  20.,   0.,   2.,  29.,  60., 107.,  46.,  31.]),\n",
       " array([0.19503872, 0.2149575 , 0.23487629, 0.25479507, 0.27471387,\n",
       "        0.29463264, 0.31455144, 0.3344702 , 0.354389  , 0.37430778,\n",
       "        0.39422658], dtype=float32),\n",
       " <BarContainer object of 10 artists>)"
      ]
     },
     "execution_count": 33,
     "metadata": {},
     "output_type": "execute_result"
    },
    {
     "data": {
      "image/png": "[encoded data removed]",
      "text/plain": [
       "<Figure size 640x480 with 1 Axes>"
      ]
     },
     "metadata": {},
     "output_type": "display_data"
    }
   ],
   "source": [
    "plt.hist(forecast_result)"
   ]
  },
  {
   "cell_type": "code",
   "execution_count": 34,
   "metadata": {},
   "outputs": [
    {
     "data": {
      "text/plain": [
       "[<matplotlib.lines.Line2D at 0x7f9f5ee95e70>]"
      ]
     },
     "execution_count": 34,
     "metadata": {},
     "output_type": "execute_result"
    },
    {
     "data": {
      "image/png": "[encoded data removed]",
      "text/plain": [
       "<Figure size 640x480 with 1 Axes>"
      ]
     },
     "metadata": {},
     "output_type": "display_data"
    }
   ],
   "source": [
    "plt.plot(forecast_result)"
   ]
  },
  {
   "cell_type": "code",
   "execution_count": 35,
   "metadata": {},
   "outputs": [
    {
     "name": "stderr",
     "output_type": "stream",
     "text": [
      "WARNING:absl:Found untraced functions such as _update_step_xla while saving (showing 1 of 1). These functions will not be directly callable after loading.\n"
     ]
    },
    {
     "name": "stdout",
     "output_type": "stream",
     "text": [
      "INFO:tensorflow:Assets written to: ../models/score/scoreV2_full/assets\n"
     ]
    },
    {
     "name": "stderr",
     "output_type": "stream",
     "text": [
      "INFO:tensorflow:Assets written to: ../models/score/scoreV2_full/assets\n"
     ]
    }
   ],
   "source": [
    "model.save(\"../models/score/scoreV2_full\")"
   ]
  }
 ],
 "metadata": {
  "kernelspec": {
   "display_name": "base",
   "language": "python",
   "name": "python3"
  },
  "language_info": {
   "codemirror_mode": {
    "name": "ipython",
    "version": 3
   },
   "file_extension": ".py",
   "mimetype": "text/x-python",
   "name": "python",
   "nbconvert_exporter": "python",
   "pygments_lexer": "ipython3",
   "version": "3.10.10"
  },
  "orig_nbformat": 4
 },
 "nbformat": 4,
 "nbformat_minor": 2
}
