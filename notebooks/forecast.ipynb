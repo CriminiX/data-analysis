{
 "cells": [
  {
   "cell_type": "code",
   "execution_count": 1,
   "id": "6ba18e4c-cac2-45ba-aeb5-a56daeebf884",
   "metadata": {},
   "outputs": [],
   "source": [
    "import pandas as pd\n",
    "import glob\n",
    "import matplotlib.pyplot as plt\n",
    "import numpy as np\n",
    "import warnings\n",
    "import seaborn as sns"
   ]
  },
  {
   "cell_type": "code",
   "execution_count": 2,
   "id": "44bfbc25-b133-4dc8-afc4-5a7e41c1a930",
   "metadata": {},
   "outputs": [],
   "source": [
    "warnings.filterwarnings('ignore')"
   ]
  },
  {
   "cell_type": "code",
   "execution_count": 3,
   "id": "70c1c908-2db3-4d17-a4a8-ccbebb459dd4",
   "metadata": {},
   "outputs": [],
   "source": [
    "all_files = glob.glob(r\"./furtos/*\")\n",
    "df = pd.concat((pd.read_csv(f, sep='\\t', encoding='UTF-16 LE') for f in all_files), ignore_index=True)"
   ]
  },
  {
   "cell_type": "code",
   "execution_count": 4,
   "id": "d6f0adc2-8440-432a-8108-cd9dc0363885",
   "metadata": {},
   "outputs": [],
   "source": [
    "df.columns = df.columns.str.lower()"
   ]
  },
  {
   "cell_type": "code",
   "execution_count": 5,
   "id": "08ac9c62-8b95-49fd-b256-72cf493d8f75",
   "metadata": {},
   "outputs": [
    {
     "name": "stdout",
     "output_type": "stream",
     "text": [
      "<class 'pandas.core.frame.DataFrame'>\n",
      "RangeIndex: 27258 entries, 0 to 27257\n",
      "Data columns (total 54 columns):\n",
      " #   Column                    Non-Null Count  Dtype  \n",
      "---  ------                    --------------  -----  \n",
      " 0   ano_bo                    27258 non-null  int64  \n",
      " 1   num_bo                    27258 non-null  int64  \n",
      " 2   numero_boletim            27258 non-null  object \n",
      " 3   bo_iniciado               27258 non-null  object \n",
      " 4   bo_emitido                27258 non-null  object \n",
      " 5   dataocorrencia            27258 non-null  object \n",
      " 6   horaocorrencia            21584 non-null  object \n",
      " 7   peridoocorrencia          27258 non-null  object \n",
      " 8   datacomunicacao           27258 non-null  object \n",
      " 9   dataelaboracao            27258 non-null  object \n",
      " 10  bo_autoria                27258 non-null  object \n",
      " 11  flagrante                 27258 non-null  object \n",
      " 12  numero_boletim_principal  2077 non-null   object \n",
      " 13  logradouro                24531 non-null  object \n",
      " 14  numero                    27228 non-null  float64\n",
      " 15  bairro                    27191 non-null  object \n",
      " 16  cidade                    27228 non-null  object \n",
      " 17  uf                        27228 non-null  object \n",
      " 18  latitude                  23533 non-null  object \n",
      " 19  longitude                 23533 non-null  object \n",
      " 20  descricaolocal            27258 non-null  object \n",
      " 21  exame                     3260 non-null   object \n",
      " 22  solucao                   27258 non-null  object \n",
      " 23  delegacia_nome            27258 non-null  object \n",
      " 24  delegacia_circunscricao   27258 non-null  object \n",
      " 25  especie                   27258 non-null  object \n",
      " 26  rubrica                   27258 non-null  object \n",
      " 27  desdobramento             936 non-null    object \n",
      " 28  status                    27258 non-null  object \n",
      " 29  tipopessoa                36 non-null     object \n",
      " 30  vitimafatal               36 non-null     object \n",
      " 31  naturalidade              36 non-null     object \n",
      " 32  nacionalidade             36 non-null     object \n",
      " 33  sexo                      36 non-null     object \n",
      " 34  datanascimento            36 non-null     object \n",
      " 35  idade                     36 non-null     float64\n",
      " 36  estadocivil               36 non-null     object \n",
      " 37  profissao                 36 non-null     object \n",
      " 38  grauinstrucao             12 non-null     object \n",
      " 39  corcutis                  36 non-null     object \n",
      " 40  naturezavinculada         36 non-null     object \n",
      " 41  tipovinculo               36 non-null     object \n",
      " 42  relacionamento            0 non-null      float64\n",
      " 43  parentesco                0 non-null      float64\n",
      " 44  placa_veiculo             23882 non-null  object \n",
      " 45  uf_veiculo                23881 non-null  object \n",
      " 46  cidade_veiculo            23868 non-null  object \n",
      " 47  descr_cor_veiculo         23882 non-null  object \n",
      " 48  descr_marca_veiculo       23253 non-null  object \n",
      " 49  ano_fabricacao            27092 non-null  float64\n",
      " 50  ano_modelo                18997 non-null  float64\n",
      " 51  descr_tipo_veiculo        23882 non-null  object \n",
      " 52  quant_celular             0 non-null      float64\n",
      " 53  marca_celular             0 non-null      float64\n",
      "dtypes: float64(8), int64(2), object(44)\n",
      "memory usage: 11.2+ MB\n"
     ]
    }
   ],
   "source": [
    "df.info()"
   ]
  },
  {
   "cell_type": "code",
   "execution_count": 6,
   "id": "01cd098b-ac2a-4626-a285-3ffac62659d0",
   "metadata": {},
   "outputs": [
    {
     "data": {
      "text/plain": [
       "array(['AUTOMOVEL', 'CAMINHONETE', 'MOTOCICLO', nan, 'MOTONETA',\n",
       "       'CAMIONETA', 'MICRO-ONIBUS', 'UTILITÁRIO', 'CAMINHÃO', 'INEXIST.',\n",
       "       'Não Informado', 'REBOQUE', 'CAMINHÃO TRATOR', 'TRATOR RODAS',\n",
       "       'CICLOMOTO', 'SEMI-REBOQUE', 'ONIBUS', 'TRATOR MISTO'],\n",
       "      dtype=object)"
      ]
     },
     "execution_count": 6,
     "metadata": {},
     "output_type": "execute_result"
    }
   ],
   "source": [
    "df[\"descr_tipo_veiculo\"].unique()"
   ]
  },
  {
   "cell_type": "code",
   "execution_count": 7,
   "id": "3c25810b-1608-404e-a287-ff88d4646551",
   "metadata": {},
   "outputs": [],
   "source": [
    "furtos = df[[\"dataocorrencia\", \"horaocorrencia\", \"cidade\", \"bairro\", \"logradouro\", \"descr_tipo_veiculo\"]]"
   ]
  },
  {
   "cell_type": "code",
   "execution_count": 8,
   "id": "fa540367-1b15-4444-beb0-30adb34743ff",
   "metadata": {},
   "outputs": [
    {
     "name": "stdout",
     "output_type": "stream",
     "text": [
      "<class 'pandas.core.frame.DataFrame'>\n",
      "RangeIndex: 27258 entries, 0 to 27257\n",
      "Data columns (total 6 columns):\n",
      " #   Column              Non-Null Count  Dtype \n",
      "---  ------              --------------  ----- \n",
      " 0   dataocorrencia      27258 non-null  object\n",
      " 1   horaocorrencia      21584 non-null  object\n",
      " 2   cidade              27228 non-null  object\n",
      " 3   bairro              27191 non-null  object\n",
      " 4   logradouro          24531 non-null  object\n",
      " 5   descr_tipo_veiculo  23882 non-null  object\n",
      "dtypes: object(6)\n",
      "memory usage: 1.2+ MB\n"
     ]
    }
   ],
   "source": [
    "furtos.info()"
   ]
  },
  {
   "cell_type": "code",
   "execution_count": 9,
   "id": "db117f01-211b-490f-87a0-376efa1d6485",
   "metadata": {},
   "outputs": [
    {
     "data": {
      "text/plain": [
       "<AxesSubplot:>"
      ]
     },
     "execution_count": 9,
     "metadata": {},
     "output_type": "execute_result"
    },
    {
     "data": {
      "image/png": "[encoded data removed]",
      "text/plain": [
       "<Figure size 432x288 with 1 Axes>"
      ]
     },
     "metadata": {
      "needs_background": "light"
     },
     "output_type": "display_data"
    }
   ],
   "source": [
    "furtos.isnull().mean().plot(kind=\"barh\")"
   ]
  },
  {
   "cell_type": "code",
   "execution_count": 10,
   "id": "b35144ce-16b3-4f9b-836c-c1a917e12932",
   "metadata": {},
   "outputs": [],
   "source": [
    "furtos.dropna(inplace=True)"
   ]
  },
  {
   "cell_type": "code",
   "execution_count": 11,
   "id": "7d4c79b2-3bf1-479d-a079-a1d86ae64507",
   "metadata": {},
   "outputs": [
    {
     "data": {
      "text/plain": [
       "(17784, 6)"
      ]
     },
     "execution_count": 11,
     "metadata": {},
     "output_type": "execute_result"
    }
   ],
   "source": [
    "furtos.shape"
   ]
  },
  {
   "cell_type": "code",
   "execution_count": 12,
   "id": "90b89107-68ec-4c37-b147-77f08ccb108e",
   "metadata": {},
   "outputs": [],
   "source": [
    "furtos[\"data_hora\"] = pd.to_datetime(furtos[\"dataocorrencia\"]+\" \"+furtos[\"horaocorrencia\"])"
   ]
  },
  {
   "cell_type": "code",
   "execution_count": 13,
   "id": "7a9e6066-38d7-43a0-8252-63fa56f1e08e",
   "metadata": {},
   "outputs": [
    {
     "data": {
      "text/plain": [
       "array(['S.PAULO', 'LIMEIRA', 'BIRIGUI', 'GUARULHOS', 'COSMOPOLIS',\n",
       "       'ITANHAEM', 'PRAIA GRANDE', 'S.CARLOS', 'JARDINOPOLIS',\n",
       "       'S.JOSE DO RIO PRETO'], dtype=object)"
      ]
     },
     "execution_count": 13,
     "metadata": {},
     "output_type": "execute_result"
    }
   ],
   "source": [
    "furtos[\"cidade\"].unique()[:10]"
   ]
  },
  {
   "cell_type": "code",
   "execution_count": 14,
   "id": "498ecfb0-c3bf-4496-9150-f695fdcdf68f",
   "metadata": {},
   "outputs": [
    {
     "data": {
      "text/plain": [
       "array(['RECANTO CAMPO BELO', 'VILA CLAUDIA', 'CHACARAS CAICARA', ...,\n",
       "       'JARDIM BOTÂNICO', 'JARDIM MIZAEL',\n",
       "       'RESIDENCIAL CAVALARI (ZONA RURAL)'], dtype=object)"
      ]
     },
     "execution_count": 14,
     "metadata": {},
     "output_type": "execute_result"
    }
   ],
   "source": [
    "furtos['bairro'].unique()"
   ]
  },
  {
   "cell_type": "code",
   "execution_count": 15,
   "id": "55c4d6d0-29fe-4817-b4b4-ee8a9ec78f35",
   "metadata": {},
   "outputs": [],
   "source": [
    "furtos['bairro'] = furtos['bairro'].str.normalize('NFKD').str.encode('ascii', errors='ignore').str.decode('utf-8')"
   ]
  },
  {
   "cell_type": "code",
   "execution_count": 16,
   "id": "dbd472bd-4054-454c-8b93-d9ce18467254",
   "metadata": {},
   "outputs": [],
   "source": [
    "furtos['bairro'] = furtos['bairro'].str.replace(r'\\(.*', '', regex=True).str.strip()"
   ]
  },
  {
   "cell_type": "code",
   "execution_count": 17,
   "id": "35250fd8-8346-44b1-99ad-eb2573515813",
   "metadata": {},
   "outputs": [
    {
     "data": {
      "text/plain": [
       "array(['RUA CARLOS JORGE SCHMIDT', 'AVENIDA ANTÔNIO OMETO',\n",
       "       'RUA BENJAMIN STROZI', ..., 'RUA MENA', 'RUA FERNANDO DE NORONHA',\n",
       "       'RUA MILTON VARGAS DA SILVA'], dtype=object)"
      ]
     },
     "execution_count": 17,
     "metadata": {},
     "output_type": "execute_result"
    }
   ],
   "source": [
    "furtos['logradouro'].unique()"
   ]
  },
  {
   "cell_type": "code",
   "execution_count": 18,
   "id": "cb77d7cb-aa69-4d8d-97b6-840002fe5012",
   "metadata": {},
   "outputs": [],
   "source": [
    "furtos['logradouro'] = furtos['logradouro'].str.normalize('NFKD').str.encode('ascii', errors='ignore').str.decode('utf-8')"
   ]
  },
  {
   "cell_type": "code",
   "execution_count": 19,
   "id": "ed978f69-f1cd-449f-b95c-64a08c71cf2c",
   "metadata": {},
   "outputs": [
    {
     "data": {
      "text/html": [
       "<div>\n",
       "<style scoped>\n",
       "    .dataframe tbody tr th:only-of-type {\n",
       "        vertical-align: middle;\n",
       "    }\n",
       "\n",
       "    .dataframe tbody tr th {\n",
       "        vertical-align: top;\n",
       "    }\n",
       "\n",
       "    .dataframe thead th {\n",
       "        text-align: right;\n",
       "    }\n",
       "</style>\n",
       "<table border=\"1\" class=\"dataframe\">\n",
       "  <thead>\n",
       "    <tr style=\"text-align: right;\">\n",
       "      <th></th>\n",
       "      <th>dataocorrencia</th>\n",
       "      <th>horaocorrencia</th>\n",
       "      <th>cidade</th>\n",
       "      <th>bairro</th>\n",
       "      <th>logradouro</th>\n",
       "      <th>descr_tipo_veiculo</th>\n",
       "      <th>data_hora</th>\n",
       "    </tr>\n",
       "  </thead>\n",
       "  <tbody>\n",
       "    <tr>\n",
       "      <th>4406</th>\n",
       "      <td>15/01/2020</td>\n",
       "      <td>16:20</td>\n",
       "      <td>GUARULHOS</td>\n",
       "      <td>ITAPEGICA</td>\n",
       "      <td>RODOVIA PRESIDENTE DUTRA (BR 116)</td>\n",
       "      <td>AUTOMOVEL</td>\n",
       "      <td>2020-01-15 16:20:00</td>\n",
       "    </tr>\n",
       "    <tr>\n",
       "      <th>8785</th>\n",
       "      <td>27/01/2020</td>\n",
       "      <td>22:30</td>\n",
       "      <td>BARRETOS</td>\n",
       "      <td>CENTRO</td>\n",
       "      <td>RUA DEZOITO (NUMERACAO COM ZERO INICIAL)</td>\n",
       "      <td>MOTOCICLO</td>\n",
       "      <td>2020-01-27 22:30:00</td>\n",
       "    </tr>\n",
       "    <tr>\n",
       "      <th>8956</th>\n",
       "      <td>28/01/2020</td>\n",
       "      <td>19:40</td>\n",
       "      <td>BARRETOS</td>\n",
       "      <td>SUMARE</td>\n",
       "      <td>RUA TRINTA E QUATRO (NUMERACAO COM ZERO</td>\n",
       "      <td>MOTOCICLO</td>\n",
       "      <td>2020-01-28 19:40:00</td>\n",
       "    </tr>\n",
       "    <tr>\n",
       "      <th>11628</th>\n",
       "      <td>27/01/2020</td>\n",
       "      <td>22:30</td>\n",
       "      <td>BARRETOS</td>\n",
       "      <td>CENTRO</td>\n",
       "      <td>RUA DEZOITO (NUMERACAO COM ZERO INICIAL)</td>\n",
       "      <td>MOTOCICLO</td>\n",
       "      <td>2020-01-27 22:30:00</td>\n",
       "    </tr>\n",
       "    <tr>\n",
       "      <th>16351</th>\n",
       "      <td>31/01/2020</td>\n",
       "      <td>19:10</td>\n",
       "      <td>GUARULHOS</td>\n",
       "      <td>ITAPEGICA</td>\n",
       "      <td>RODOVIA PRESIDENTE DUTRA (BR 116)</td>\n",
       "      <td>MOTOCICLO</td>\n",
       "      <td>2020-01-31 19:10:00</td>\n",
       "    </tr>\n",
       "    <tr>\n",
       "      <th>16353</th>\n",
       "      <td>31/01/2020</td>\n",
       "      <td>19:10</td>\n",
       "      <td>GUARULHOS</td>\n",
       "      <td>ITAPEGICA</td>\n",
       "      <td>RODOVIA PRESIDENTE DUTRA (BR 116)</td>\n",
       "      <td>MOTOCICLO</td>\n",
       "      <td>2020-01-31 19:10:00</td>\n",
       "    </tr>\n",
       "    <tr>\n",
       "      <th>16355</th>\n",
       "      <td>31/01/2020</td>\n",
       "      <td>19:10</td>\n",
       "      <td>GUARULHOS</td>\n",
       "      <td>ITAPEGICA</td>\n",
       "      <td>RODOVIA PRESIDENTE DUTRA (BR 116)</td>\n",
       "      <td>MOTOCICLO</td>\n",
       "      <td>2020-01-31 19:10:00</td>\n",
       "    </tr>\n",
       "    <tr>\n",
       "      <th>19259</th>\n",
       "      <td>29/02/2020</td>\n",
       "      <td>21:45</td>\n",
       "      <td>BARRETOS</td>\n",
       "      <td>MARILIA</td>\n",
       "      <td>AVENIDA QUARENTA E NOVE (NUMERACAO COM Z</td>\n",
       "      <td>MOTOCICLO</td>\n",
       "      <td>2020-02-29 21:45:00</td>\n",
       "    </tr>\n",
       "    <tr>\n",
       "      <th>19322</th>\n",
       "      <td>01/03/2020</td>\n",
       "      <td>06:55</td>\n",
       "      <td>ITAPEVA</td>\n",
       "      <td>RURAL</td>\n",
       "      <td>RUA AUGUSTO BATISTA DO CANTO (TECO)</td>\n",
       "      <td>AUTOMOVEL</td>\n",
       "      <td>2020-01-03 06:55:00</td>\n",
       "    </tr>\n",
       "    <tr>\n",
       "      <th>20654</th>\n",
       "      <td>05/03/2020</td>\n",
       "      <td>13:30</td>\n",
       "      <td>MOGI GUACU</td>\n",
       "      <td>JARDIM NOVO II</td>\n",
       "      <td>RUA ANTONIO ORTIZ ( LOLO)</td>\n",
       "      <td>MOTOCICLO</td>\n",
       "      <td>2020-05-03 13:30:00</td>\n",
       "    </tr>\n",
       "  </tbody>\n",
       "</table>\n",
       "</div>"
      ],
      "text/plain": [
       "      dataocorrencia horaocorrencia      cidade          bairro  \\\n",
       "4406      15/01/2020          16:20   GUARULHOS       ITAPEGICA   \n",
       "8785      27/01/2020          22:30    BARRETOS          CENTRO   \n",
       "8956      28/01/2020          19:40    BARRETOS          SUMARE   \n",
       "11628     27/01/2020          22:30    BARRETOS          CENTRO   \n",
       "16351     31/01/2020          19:10   GUARULHOS       ITAPEGICA   \n",
       "16353     31/01/2020          19:10   GUARULHOS       ITAPEGICA   \n",
       "16355     31/01/2020          19:10   GUARULHOS       ITAPEGICA   \n",
       "19259     29/02/2020          21:45    BARRETOS         MARILIA   \n",
       "19322     01/03/2020          06:55     ITAPEVA           RURAL   \n",
       "20654     05/03/2020          13:30  MOGI GUACU  JARDIM NOVO II   \n",
       "\n",
       "                                     logradouro descr_tipo_veiculo  \\\n",
       "4406          RODOVIA PRESIDENTE DUTRA (BR 116)          AUTOMOVEL   \n",
       "8785   RUA DEZOITO (NUMERACAO COM ZERO INICIAL)          MOTOCICLO   \n",
       "8956    RUA TRINTA E QUATRO (NUMERACAO COM ZERO          MOTOCICLO   \n",
       "11628  RUA DEZOITO (NUMERACAO COM ZERO INICIAL)          MOTOCICLO   \n",
       "16351         RODOVIA PRESIDENTE DUTRA (BR 116)          MOTOCICLO   \n",
       "16353         RODOVIA PRESIDENTE DUTRA (BR 116)          MOTOCICLO   \n",
       "16355         RODOVIA PRESIDENTE DUTRA (BR 116)          MOTOCICLO   \n",
       "19259  AVENIDA QUARENTA E NOVE (NUMERACAO COM Z          MOTOCICLO   \n",
       "19322       RUA AUGUSTO BATISTA DO CANTO (TECO)          AUTOMOVEL   \n",
       "20654                 RUA ANTONIO ORTIZ ( LOLO)          MOTOCICLO   \n",
       "\n",
       "                data_hora  \n",
       "4406  2020-01-15 16:20:00  \n",
       "8785  2020-01-27 22:30:00  \n",
       "8956  2020-01-28 19:40:00  \n",
       "11628 2020-01-27 22:30:00  \n",
       "16351 2020-01-31 19:10:00  \n",
       "16353 2020-01-31 19:10:00  \n",
       "16355 2020-01-31 19:10:00  \n",
       "19259 2020-02-29 21:45:00  \n",
       "19322 2020-01-03 06:55:00  \n",
       "20654 2020-05-03 13:30:00  "
      ]
     },
     "execution_count": 19,
     "metadata": {},
     "output_type": "execute_result"
    }
   ],
   "source": [
    "furtos[furtos['logradouro'].str.contains('\\(')]"
   ]
  },
  {
   "cell_type": "code",
   "execution_count": 20,
   "id": "5ed2019c-8bf7-4807-a1a7-cfa8aedbeee3",
   "metadata": {},
   "outputs": [],
   "source": [
    "furtos['logradouro'] = furtos['logradouro'].str.replace(r'\\(.*', '', regex=True).str.strip()"
   ]
  },
  {
   "cell_type": "code",
   "execution_count": 21,
   "id": "b8bac4bc-e973-42c8-9d27-07462e48bbd3",
   "metadata": {},
   "outputs": [
    {
     "data": {
      "text/plain": [
       "array(['AUTOMOVEL', 'MOTOCICLO', 'MOTONETA', 'CAMIONETA', 'MICRO-ONIBUS',\n",
       "       'UTILITÁRIO', 'CAMINHÃO', 'INEXIST.', 'CAMINHONETE',\n",
       "       'Não Informado', 'CICLOMOTO', 'TRATOR RODAS', 'TRATOR MISTO',\n",
       "       'ONIBUS', 'REBOQUE', 'CAMINHÃO TRATOR', 'SEMI-REBOQUE'],\n",
       "      dtype=object)"
      ]
     },
     "execution_count": 21,
     "metadata": {},
     "output_type": "execute_result"
    }
   ],
   "source": [
    "furtos['descr_tipo_veiculo'].unique()"
   ]
  },
  {
   "cell_type": "code",
   "execution_count": 22,
   "id": "c0f176f1-b280-454b-b884-24b6b70a7a9f",
   "metadata": {},
   "outputs": [],
   "source": [
    "furtos['descr_tipo_veiculo'] = furtos['descr_tipo_veiculo'].str.normalize('NFKD').str.encode('ascii', errors='ignore').str.decode('utf-8')"
   ]
  },
  {
   "cell_type": "code",
   "execution_count": 23,
   "id": "f17a2d88-84f5-4b22-bd8b-18a4792b1471",
   "metadata": {},
   "outputs": [
    {
     "data": {
      "text/plain": [
       "array(['AUTOMOVEL', 'MOTOCICLO', 'MOTONETA', 'CAMIONETA', 'MICRO-ONIBUS',\n",
       "       'UTILITARIO', 'CAMINHAO', 'INEXIST.', 'CAMINHONETE',\n",
       "       'Nao Informado', 'CICLOMOTO', 'TRATOR RODAS', 'TRATOR MISTO',\n",
       "       'ONIBUS', 'REBOQUE', 'CAMINHAO TRATOR', 'SEMI-REBOQUE'],\n",
       "      dtype=object)"
      ]
     },
     "execution_count": 23,
     "metadata": {},
     "output_type": "execute_result"
    }
   ],
   "source": [
    "furtos['descr_tipo_veiculo'].unique()"
   ]
  },
  {
   "cell_type": "code",
   "execution_count": 24,
   "id": "3c5a3e0c-2e0b-49e7-82db-1701c34ca258",
   "metadata": {},
   "outputs": [
    {
     "data": {
      "text/plain": [
       "<AxesSubplot:>"
      ]
     },
     "execution_count": 24,
     "metadata": {},
     "output_type": "execute_result"
    },
    {
     "data": {
      "image/png": "[encoded data removed]",
      "text/plain": [
       "<Figure size 432x288 with 1 Axes>"
      ]
     },
     "metadata": {
      "needs_background": "light"
     },
     "output_type": "display_data"
    }
   ],
   "source": [
    "furtos['descr_tipo_veiculo'].value_counts().plot(kind='barh')"
   ]
  },
  {
   "cell_type": "code",
   "execution_count": 25,
   "id": "3aba51a1-b69d-4ffe-9c89-94918136e393",
   "metadata": {},
   "outputs": [],
   "source": [
    "furtos['descr_tipo_veiculo'] = furtos['descr_tipo_veiculo'].replace(\n",
    "    {'Nao Informado': np.NaN, 'INEXIST.': np.NaN, 'SEMI-REBOQUE': 'REBOQUE', \n",
    "     'CAMINHAO TRATOR': 'TRATOR', 'TRATOR RODAS': 'TRATOR', 'TRATOR MISTO': 'TRATOR',\n",
    "     'MICRO-ONIBUS': 'ONIBUS', 'CICLOMOTO': 'MOTOCICLO'\n",
    "})"
   ]
  },
  {
   "cell_type": "code",
   "execution_count": 26,
   "id": "4d1a7b48-dd2b-46b9-aece-01f5abc2d3f8",
   "metadata": {},
   "outputs": [
    {
     "data": {
      "text/plain": [
       "<AxesSubplot:>"
      ]
     },
     "execution_count": 26,
     "metadata": {},
     "output_type": "execute_result"
    },
    {
     "data": {
      "image/png": "[encoded data removed]",
      "text/plain": [
       "<Figure size 432x288 with 1 Axes>"
      ]
     },
     "metadata": {
      "needs_background": "light"
     },
     "output_type": "display_data"
    }
   ],
   "source": [
    "furtos['descr_tipo_veiculo'].value_counts().plot(kind='barh')"
   ]
  },
  {
   "cell_type": "code",
   "execution_count": 27,
   "id": "72c93e1b-565b-4e27-9243-12df0958018f",
   "metadata": {},
   "outputs": [],
   "source": [
    "furtos.dropna(inplace=True)"
   ]
  },
  {
   "cell_type": "code",
   "execution_count": 28,
   "id": "057c8a8a-ad77-4d9e-8717-e7aa79c828f9",
   "metadata": {},
   "outputs": [],
   "source": [
    "furtos['ano'] = furtos['data_hora'].dt.year\n",
    "furtos['mes'] = furtos['data_hora'].dt.month\n",
    "furtos['dia'] = furtos['data_hora'].dt.day\n",
    "furtos['dia_semana'] = furtos['data_hora'].dt.weekday\n",
    "furtos['estacao'] = (furtos['data_hora'].dt.month - 1) // 3"
   ]
  },
  {
   "cell_type": "code",
   "execution_count": 29,
   "id": "c97162d2-e265-4020-ac6a-5e74c08782e1",
   "metadata": {},
   "outputs": [],
   "source": [
    "furtos = furtos[furtos['ano'] == 2020]"
   ]
  },
  {
   "cell_type": "code",
   "execution_count": 30,
   "id": "3f0c561c-9695-448b-8541-35803e681223",
   "metadata": {},
   "outputs": [],
   "source": [
    "furtos.drop(columns=['dataocorrencia', 'horaocorrencia', 'data_hora', 'ano'], inplace=True)"
   ]
  },
  {
   "cell_type": "code",
   "execution_count": 31,
   "id": "72e6f6fa-f691-4221-ae4f-488169d443c2",
   "metadata": {},
   "outputs": [
    {
     "data": {
      "text/html": [
       "<div>\n",
       "<style scoped>\n",
       "    .dataframe tbody tr th:only-of-type {\n",
       "        vertical-align: middle;\n",
       "    }\n",
       "\n",
       "    .dataframe tbody tr th {\n",
       "        vertical-align: top;\n",
       "    }\n",
       "\n",
       "    .dataframe thead th {\n",
       "        text-align: right;\n",
       "    }\n",
       "</style>\n",
       "<table border=\"1\" class=\"dataframe\">\n",
       "  <thead>\n",
       "    <tr style=\"text-align: right;\">\n",
       "      <th></th>\n",
       "      <th>cidade</th>\n",
       "      <th>bairro</th>\n",
       "      <th>logradouro</th>\n",
       "      <th>descr_tipo_veiculo</th>\n",
       "      <th>mes</th>\n",
       "      <th>dia</th>\n",
       "      <th>dia_semana</th>\n",
       "      <th>estacao</th>\n",
       "    </tr>\n",
       "  </thead>\n",
       "  <tbody>\n",
       "    <tr>\n",
       "      <th>3</th>\n",
       "      <td>LIMEIRA</td>\n",
       "      <td>VILA CLAUDIA</td>\n",
       "      <td>AVENIDA ANTONIO OMETO</td>\n",
       "      <td>AUTOMOVEL</td>\n",
       "      <td>1</td>\n",
       "      <td>1</td>\n",
       "      <td>2</td>\n",
       "      <td>0</td>\n",
       "    </tr>\n",
       "    <tr>\n",
       "      <th>4</th>\n",
       "      <td>BIRIGUI</td>\n",
       "      <td>CHACARAS CAICARA</td>\n",
       "      <td>RUA BENJAMIN STROZI</td>\n",
       "      <td>AUTOMOVEL</td>\n",
       "      <td>1</td>\n",
       "      <td>1</td>\n",
       "      <td>2</td>\n",
       "      <td>0</td>\n",
       "    </tr>\n",
       "    <tr>\n",
       "      <th>5</th>\n",
       "      <td>BIRIGUI</td>\n",
       "      <td>JARDIM VITRINE</td>\n",
       "      <td>RUA SILVIO VIEIRA COELHO</td>\n",
       "      <td>AUTOMOVEL</td>\n",
       "      <td>1</td>\n",
       "      <td>1</td>\n",
       "      <td>2</td>\n",
       "      <td>0</td>\n",
       "    </tr>\n",
       "    <tr>\n",
       "      <th>18</th>\n",
       "      <td>PRAIA GRANDE</td>\n",
       "      <td>SOLEMAR II</td>\n",
       "      <td>AVENIDA MINISTRO MARCOS FREIRE</td>\n",
       "      <td>MOTOCICLO</td>\n",
       "      <td>1</td>\n",
       "      <td>1</td>\n",
       "      <td>2</td>\n",
       "      <td>0</td>\n",
       "    </tr>\n",
       "    <tr>\n",
       "      <th>20</th>\n",
       "      <td>PRAIA GRANDE</td>\n",
       "      <td>SOLEMAR II</td>\n",
       "      <td>AVENIDA MINISTRO MARCOS FREIRE</td>\n",
       "      <td>MOTOCICLO</td>\n",
       "      <td>1</td>\n",
       "      <td>1</td>\n",
       "      <td>2</td>\n",
       "      <td>0</td>\n",
       "    </tr>\n",
       "  </tbody>\n",
       "</table>\n",
       "</div>"
      ],
      "text/plain": [
       "          cidade            bairro                      logradouro  \\\n",
       "3        LIMEIRA      VILA CLAUDIA           AVENIDA ANTONIO OMETO   \n",
       "4        BIRIGUI  CHACARAS CAICARA             RUA BENJAMIN STROZI   \n",
       "5        BIRIGUI    JARDIM VITRINE        RUA SILVIO VIEIRA COELHO   \n",
       "18  PRAIA GRANDE        SOLEMAR II  AVENIDA MINISTRO MARCOS FREIRE   \n",
       "20  PRAIA GRANDE        SOLEMAR II  AVENIDA MINISTRO MARCOS FREIRE   \n",
       "\n",
       "   descr_tipo_veiculo  mes  dia  dia_semana  estacao  \n",
       "3           AUTOMOVEL    1    1           2        0  \n",
       "4           AUTOMOVEL    1    1           2        0  \n",
       "5           AUTOMOVEL    1    1           2        0  \n",
       "18          MOTOCICLO    1    1           2        0  \n",
       "20          MOTOCICLO    1    1           2        0  "
      ]
     },
     "execution_count": 31,
     "metadata": {},
     "output_type": "execute_result"
    }
   ],
   "source": [
    "furtos.head()"
   ]
  },
  {
   "cell_type": "code",
   "execution_count": 32,
   "id": "e04397b9-b9ef-4c7b-8289-8bc791bf97a6",
   "metadata": {},
   "outputs": [
    {
     "data": {
      "text/plain": [
       "<AxesSubplot:>"
      ]
     },
     "execution_count": 32,
     "metadata": {},
     "output_type": "execute_result"
    },
    {
     "data": {
      "image/png": "[encoded data removed]",
      "text/plain": [
       "<Figure size 432x288 with 1 Axes>"
      ]
     },
     "metadata": {
      "needs_background": "light"
     },
     "output_type": "display_data"
    }
   ],
   "source": [
    "furtos.groupby(list(furtos.columns)).size().hist()"
   ]
  },
  {
   "cell_type": "code",
   "execution_count": 33,
   "id": "c67074f8-8c1d-4128-880c-1af992a7ac8d",
   "metadata": {},
   "outputs": [
    {
     "data": {
      "text/plain": [
       "<AxesSubplot:>"
      ]
     },
     "execution_count": 33,
     "metadata": {},
     "output_type": "execute_result"
    },
    {
     "data": {
      "image/png": "[encoded data removed]",
      "text/plain": [
       "<Figure size 432x288 with 1 Axes>"
      ]
     },
     "metadata": {
      "needs_background": "light"
     },
     "output_type": "display_data"
    }
   ],
   "source": [
    "furtos_cidade = furtos.groupby(['cidade', 'mes', 'estacao']).size().reset_index()\n",
    "furtos_cidade[0].hist(log=True)"
   ]
  },
  {
   "cell_type": "code",
   "execution_count": 34,
   "id": "43233ce0-5825-46b3-9fdd-e704629635dc",
   "metadata": {},
   "outputs": [
    {
     "data": {
      "text/html": [
       "<div>\n",
       "<style scoped>\n",
       "    .dataframe tbody tr th:only-of-type {\n",
       "        vertical-align: middle;\n",
       "    }\n",
       "\n",
       "    .dataframe tbody tr th {\n",
       "        vertical-align: top;\n",
       "    }\n",
       "\n",
       "    .dataframe thead th {\n",
       "        text-align: right;\n",
       "    }\n",
       "</style>\n",
       "<table border=\"1\" class=\"dataframe\">\n",
       "  <thead>\n",
       "    <tr style=\"text-align: right;\">\n",
       "      <th></th>\n",
       "      <th>cidade</th>\n",
       "      <th>mes</th>\n",
       "      <th>estacao</th>\n",
       "      <th>0</th>\n",
       "    </tr>\n",
       "  </thead>\n",
       "  <tbody>\n",
       "    <tr>\n",
       "      <th>0</th>\n",
       "      <td>ADAMANTINA</td>\n",
       "      <td>1</td>\n",
       "      <td>0</td>\n",
       "      <td>1</td>\n",
       "    </tr>\n",
       "    <tr>\n",
       "      <th>1</th>\n",
       "      <td>ADAMANTINA</td>\n",
       "      <td>2</td>\n",
       "      <td>0</td>\n",
       "      <td>2</td>\n",
       "    </tr>\n",
       "    <tr>\n",
       "      <th>2</th>\n",
       "      <td>ADAMANTINA</td>\n",
       "      <td>3</td>\n",
       "      <td>0</td>\n",
       "      <td>1</td>\n",
       "    </tr>\n",
       "    <tr>\n",
       "      <th>3</th>\n",
       "      <td>AGUAI</td>\n",
       "      <td>3</td>\n",
       "      <td>0</td>\n",
       "      <td>1</td>\n",
       "    </tr>\n",
       "    <tr>\n",
       "      <th>4</th>\n",
       "      <td>AGUAS DE LINDOIA</td>\n",
       "      <td>1</td>\n",
       "      <td>0</td>\n",
       "      <td>1</td>\n",
       "    </tr>\n",
       "    <tr>\n",
       "      <th>...</th>\n",
       "      <td>...</td>\n",
       "      <td>...</td>\n",
       "      <td>...</td>\n",
       "      <td>...</td>\n",
       "    </tr>\n",
       "    <tr>\n",
       "      <th>1357</th>\n",
       "      <td>VOTORANTIM</td>\n",
       "      <td>5</td>\n",
       "      <td>1</td>\n",
       "      <td>2</td>\n",
       "    </tr>\n",
       "    <tr>\n",
       "      <th>1358</th>\n",
       "      <td>VOTORANTIM</td>\n",
       "      <td>7</td>\n",
       "      <td>2</td>\n",
       "      <td>1</td>\n",
       "    </tr>\n",
       "    <tr>\n",
       "      <th>1359</th>\n",
       "      <td>VOTUPORANGA</td>\n",
       "      <td>2</td>\n",
       "      <td>0</td>\n",
       "      <td>3</td>\n",
       "    </tr>\n",
       "    <tr>\n",
       "      <th>1360</th>\n",
       "      <td>VOTUPORANGA</td>\n",
       "      <td>3</td>\n",
       "      <td>0</td>\n",
       "      <td>4</td>\n",
       "    </tr>\n",
       "    <tr>\n",
       "      <th>1361</th>\n",
       "      <td>VOTUPORANGA</td>\n",
       "      <td>11</td>\n",
       "      <td>3</td>\n",
       "      <td>2</td>\n",
       "    </tr>\n",
       "  </tbody>\n",
       "</table>\n",
       "<p>1362 rows × 4 columns</p>\n",
       "</div>"
      ],
      "text/plain": [
       "                cidade  mes  estacao  0\n",
       "0           ADAMANTINA    1        0  1\n",
       "1           ADAMANTINA    2        0  2\n",
       "2           ADAMANTINA    3        0  1\n",
       "3                AGUAI    3        0  1\n",
       "4     AGUAS DE LINDOIA    1        0  1\n",
       "...                ...  ...      ... ..\n",
       "1357        VOTORANTIM    5        1  2\n",
       "1358        VOTORANTIM    7        2  1\n",
       "1359       VOTUPORANGA    2        0  3\n",
       "1360       VOTUPORANGA    3        0  4\n",
       "1361       VOTUPORANGA   11        3  2\n",
       "\n",
       "[1362 rows x 4 columns]"
      ]
     },
     "execution_count": 34,
     "metadata": {},
     "output_type": "execute_result"
    }
   ],
   "source": [
    "furtos_cidade"
   ]
  },
  {
   "cell_type": "code",
   "execution_count": 35,
   "id": "cadc2085-3a12-41d3-8c32-72ddcb1a952d",
   "metadata": {},
   "outputs": [
    {
     "data": {
      "text/plain": [
       "<AxesSubplot:>"
      ]
     },
     "execution_count": 35,
     "metadata": {},
     "output_type": "execute_result"
    },
    {
     "data": {
      "image/png": "[encoded data removed]",
      "text/plain": [
       "<Figure size 432x288 with 1 Axes>"
      ]
     },
     "metadata": {
      "needs_background": "light"
     },
     "output_type": "display_data"
    }
   ],
   "source": [
    "furtos_cidade[0].sort_values(ascending=False).head(10).plot(kind='barh')"
   ]
  },
  {
   "cell_type": "code",
   "execution_count": 36,
   "id": "348365b8-7289-4030-baa7-6a390744c248",
   "metadata": {},
   "outputs": [
    {
     "data": {
      "text/plain": [
       "<AxesSubplot:>"
      ]
     },
     "execution_count": 36,
     "metadata": {},
     "output_type": "execute_result"
    },
    {
     "data": {
      "image/png": "[encoded data removed]",
      "text/plain": [
       "<Figure size 432x288 with 1 Axes>"
      ]
     },
     "metadata": {
      "needs_background": "light"
     },
     "output_type": "display_data"
    }
   ],
   "source": [
    "furtos_cidade.boxplot(0)"
   ]
  },
  {
   "cell_type": "code",
   "execution_count": 37,
   "id": "0c39b94d-e92e-4d6d-965f-9670a0d2d2b1",
   "metadata": {},
   "outputs": [
    {
     "data": {
      "text/plain": [
       "<AxesSubplot:>"
      ]
     },
     "execution_count": 37,
     "metadata": {},
     "output_type": "execute_result"
    },
    {
     "data": {
      "image/png": "[encoded data removed]",
      "text/plain": [
       "<Figure size 432x288 with 1 Axes>"
      ]
     },
     "metadata": {
      "needs_background": "light"
     },
     "output_type": "display_data"
    }
   ],
   "source": [
    "furtos_diames = furtos.groupby(['dia', 'mes', 'estacao', 'dia_semana']).size().reset_index()\n",
    "furtos_diames[0].hist()"
   ]
  },
  {
   "cell_type": "code",
   "execution_count": 38,
   "id": "56692bf0-dc7e-4e8f-805b-add0e854602c",
   "metadata": {},
   "outputs": [
    {
     "data": {
      "text/plain": [
       "<AxesSubplot:>"
      ]
     },
     "execution_count": 38,
     "metadata": {},
     "output_type": "execute_result"
    },
    {
     "data": {
      "image/png": "[encoded data removed]",
      "text/plain": [
       "<Figure size 432x288 with 2 Axes>"
      ]
     },
     "metadata": {
      "needs_background": "light"
     },
     "output_type": "display_data"
    }
   ],
   "source": [
    "sns.heatmap(furtos_diames.corr())"
   ]
  },
  {
   "cell_type": "code",
   "execution_count": 39,
   "id": "69e7b89f-9bf2-435a-9ede-47f05d7f898a",
   "metadata": {},
   "outputs": [
    {
     "data": {
      "text/plain": [
       "<AxesSubplot:xlabel='dia'>"
      ]
     },
     "execution_count": 39,
     "metadata": {},
     "output_type": "execute_result"
    },
    {
     "data": {
      "image/png": "[encoded data removed]",
      "text/plain": [
       "<Figure size 432x288 with 1 Axes>"
      ]
     },
     "metadata": {
      "needs_background": "light"
     },
     "output_type": "display_data"
    }
   ],
   "source": [
    "furtos_diames.groupby('dia')[0].sum().plot()"
   ]
  },
  {
   "cell_type": "code",
   "execution_count": 40,
   "id": "5ddae582-17fe-4d69-a0ad-d4d51d1d88e0",
   "metadata": {},
   "outputs": [
    {
     "data": {
      "text/plain": [
       "<AxesSubplot:xlabel='mes'>"
      ]
     },
     "execution_count": 40,
     "metadata": {},
     "output_type": "execute_result"
    },
    {
     "data": {
      "image/png": "[encoded data removed]",
      "text/plain": [
       "<Figure size 432x288 with 1 Axes>"
      ]
     },
     "metadata": {
      "needs_background": "light"
     },
     "output_type": "display_data"
    }
   ],
   "source": [
    "furtos_diames.groupby('mes')[0].sum().plot()"
   ]
  },
  {
   "cell_type": "code",
   "execution_count": 57,
   "id": "88c50dd6-30ef-4669-a9bb-f239d4653263",
   "metadata": {},
   "outputs": [],
   "source": [
    "furtos_cidade = furtos.groupby(['cidade', 'mes', 'dia', 'dia_semana', 'estacao']).size().reset_index()"
   ]
  },
  {
   "cell_type": "code",
   "execution_count": 58,
   "id": "eee5fd16-0689-4789-a915-da8a60c45f92",
   "metadata": {},
   "outputs": [],
   "source": [
    "X = furtos_cidade.drop(0, axis=1)\n",
    "y = furtos_cidade[0]"
   ]
  },
  {
   "cell_type": "code",
   "execution_count": 72,
   "id": "d157cf20-d63e-4bb3-99e3-192bbf21c738",
   "metadata": {},
   "outputs": [
    {
     "data": {
      "image/png": "[encoded data removed]",
      "text/plain": [
       "<Figure size 1080x720 with 4 Axes>"
      ]
     },
     "metadata": {
      "needs_background": "light"
     },
     "output_type": "display_data"
    }
   ],
   "source": [
    "feat = X.select_dtypes(include=['float64', 'int64']).columns\n",
    "plt.figure(figsize=(15,10))\n",
    "for i, f in enumerate(feat):\n",
    "    plt.subplot(2, 3, i+1)\n",
    "    plt.title(f)\n",
    "    furtos_cidade.groupby(f)[0].sum().head(10).plot()\n",
    "plt.tight_layout()"
   ]
  },
  {
   "cell_type": "code",
   "execution_count": 81,
   "id": "114951ca-4051-4c71-98a8-448d42999c58",
   "metadata": {},
   "outputs": [],
   "source": [
    "from sklearn import tree\n",
    "from sklearn.model_selection import train_test_split\n",
    "from sklearn.preprocessing import OneHotEncoder\n",
    "from sklearn.pipeline import make_pipeline\n",
    "from sklearn.compose import ColumnTransformer"
   ]
  },
  {
   "cell_type": "code",
   "execution_count": 73,
   "id": "875cd99e-eb49-4b66-92d7-b9f15591f6e8",
   "metadata": {},
   "outputs": [],
   "source": [
    "regressor = tree.DecisionTreeRegressor(max_depth=2, min_samples_leaf=100)"
   ]
  },
  {
   "cell_type": "code",
   "execution_count": 75,
   "id": "193f4dbe-be2b-4faf-b293-b9208094baa2",
   "metadata": {},
   "outputs": [],
   "source": [
    "X_train, X_test, y_train, y_test = train_test_split(X, y)"
   ]
  },
  {
   "cell_type": "code",
   "execution_count": 82,
   "id": "e13d1913-3154-4bc3-9acd-82a6cbc08cde",
   "metadata": {},
   "outputs": [],
   "source": [
    "encoder = OneHotEncoder(drop='first')\n",
    "preprocessing = ColumnTransformer(transformers=[\n",
    "    ('cat', encoder, ['cidade'])\n",
    "], remainder='passthrough')"
   ]
  },
  {
   "cell_type": "code",
   "execution_count": 83,
   "id": "1ae1103d-aa5e-4ad6-8d78-65f4800d24b3",
   "metadata": {},
   "outputs": [],
   "source": [
    "pipeline = make_pipeline(preprocessing, regressor)"
   ]
  },
  {
   "cell_type": "code",
   "execution_count": 84,
   "id": "aa2ce8af-69d4-4127-bd30-c3910627a7c7",
   "metadata": {},
   "outputs": [
    {
     "data": {
      "text/html": [
       "<style>#sk-container-id-3 {color: black;background-color: white;}#sk-container-id-3 pre{padding: 0;}#sk-container-id-3 div.sk-toggleable {background-color: white;}#sk-container-id-3 label.sk-toggleable__label {cursor: pointer;display: block;width: 100%;margin-bottom: 0;padding: 0.3em;box-sizing: border-box;text-align: center;}#sk-container-id-3 label.sk-toggleable__label-arrow:before {content: \"▸\";float: left;margin-right: 0.25em;color: #696969;}#sk-container-id-3 label.sk-toggleable__label-arrow:hover:before {color: black;}#sk-container-id-3 div.sk-estimator:hover label.sk-toggleable__label-arrow:before {color: black;}#sk-container-id-3 div.sk-toggleable__content {max-height: 0;max-width: 0;overflow: hidden;text-align: left;background-color: #f0f8ff;}#sk-container-id-3 div.sk-toggleable__content pre {margin: 0.2em;color: black;border-radius: 0.25em;background-color: #f0f8ff;}#sk-container-id-3 input.sk-toggleable__control:checked~div.sk-toggleable__content {max-height: 200px;max-width: 100%;overflow: auto;}#sk-container-id-3 input.sk-toggleable__control:checked~label.sk-toggleable__label-arrow:before {content: \"▾\";}#sk-container-id-3 div.sk-estimator input.sk-toggleable__control:checked~label.sk-toggleable__label {background-color: #d4ebff;}#sk-container-id-3 div.sk-label input.sk-toggleable__control:checked~label.sk-toggleable__label {background-color: #d4ebff;}#sk-container-id-3 input.sk-hidden--visually {border: 0;clip: rect(1px 1px 1px 1px);clip: rect(1px, 1px, 1px, 1px);height: 1px;margin: -1px;overflow: hidden;padding: 0;position: absolute;width: 1px;}#sk-container-id-3 div.sk-estimator {font-family: monospace;background-color: #f0f8ff;border: 1px dotted black;border-radius: 0.25em;box-sizing: border-box;margin-bottom: 0.5em;}#sk-container-id-3 div.sk-estimator:hover {background-color: #d4ebff;}#sk-container-id-3 div.sk-parallel-item::after {content: \"\";width: 100%;border-bottom: 1px solid gray;flex-grow: 1;}#sk-container-id-3 div.sk-label:hover label.sk-toggleable__label {background-color: #d4ebff;}#sk-container-id-3 div.sk-serial::before {content: \"\";position: absolute;border-left: 1px solid gray;box-sizing: border-box;top: 0;bottom: 0;left: 50%;z-index: 0;}#sk-container-id-3 div.sk-serial {display: flex;flex-direction: column;align-items: center;background-color: white;padding-right: 0.2em;padding-left: 0.2em;position: relative;}#sk-container-id-3 div.sk-item {position: relative;z-index: 1;}#sk-container-id-3 div.sk-parallel {display: flex;align-items: stretch;justify-content: center;background-color: white;position: relative;}#sk-container-id-3 div.sk-item::before, #sk-container-id-3 div.sk-parallel-item::before {content: \"\";position: absolute;border-left: 1px solid gray;box-sizing: border-box;top: 0;bottom: 0;left: 50%;z-index: -1;}#sk-container-id-3 div.sk-parallel-item {display: flex;flex-direction: column;z-index: 1;position: relative;background-color: white;}#sk-container-id-3 div.sk-parallel-item:first-child::after {align-self: flex-end;width: 50%;}#sk-container-id-3 div.sk-parallel-item:last-child::after {align-self: flex-start;width: 50%;}#sk-container-id-3 div.sk-parallel-item:only-child::after {width: 0;}#sk-container-id-3 div.sk-dashed-wrapped {border: 1px dashed gray;margin: 0 0.4em 0.5em 0.4em;box-sizing: border-box;padding-bottom: 0.4em;background-color: white;}#sk-container-id-3 div.sk-label label {font-family: monospace;font-weight: bold;display: inline-block;line-height: 1.2em;}#sk-container-id-3 div.sk-label-container {text-align: center;}#sk-container-id-3 div.sk-container {/* jupyter's `normalize.less` sets `[hidden] { display: none; }` but bootstrap.min.css set `[hidden] { display: none !important; }` so we also need the `!important` here to be able to override the default hidden behavior on the sphinx rendered scikit-learn.org. See: https://github.com/scikit-learn/scikit-learn/issues/21755 */display: inline-block !important;position: relative;}#sk-container-id-3 div.sk-text-repr-fallback {display: none;}</style><div id=\"sk-container-id-3\" class=\"sk-top-container\"><div class=\"sk-text-repr-fallback\"><pre>Pipeline(steps=[(&#x27;columntransformer&#x27;,\n",
       "                 ColumnTransformer(remainder=&#x27;passthrough&#x27;,\n",
       "                                   transformers=[(&#x27;cat&#x27;,\n",
       "                                                  OneHotEncoder(drop=&#x27;first&#x27;),\n",
       "                                                  [&#x27;cidade&#x27;])])),\n",
       "                (&#x27;decisiontreeregressor&#x27;,\n",
       "                 DecisionTreeRegressor(max_depth=2, min_samples_leaf=100))])</pre><b>In a Jupyter environment, please rerun this cell to show the HTML representation or trust the notebook. <br />On GitHub, the HTML representation is unable to render, please try loading this page with nbviewer.org.</b></div><div class=\"sk-container\" hidden><div class=\"sk-item sk-dashed-wrapped\"><div class=\"sk-label-container\"><div class=\"sk-label sk-toggleable\"><input class=\"sk-toggleable__control sk-hidden--visually\" id=\"sk-estimator-id-3\" type=\"checkbox\" ><label for=\"sk-estimator-id-3\" class=\"sk-toggleable__label sk-toggleable__label-arrow\">Pipeline</label><div class=\"sk-toggleable__content\"><pre>Pipeline(steps=[(&#x27;columntransformer&#x27;,\n",
       "                 ColumnTransformer(remainder=&#x27;passthrough&#x27;,\n",
       "                                   transformers=[(&#x27;cat&#x27;,\n",
       "                                                  OneHotEncoder(drop=&#x27;first&#x27;),\n",
       "                                                  [&#x27;cidade&#x27;])])),\n",
       "                (&#x27;decisiontreeregressor&#x27;,\n",
       "                 DecisionTreeRegressor(max_depth=2, min_samples_leaf=100))])</pre></div></div></div><div class=\"sk-serial\"><div class=\"sk-item sk-dashed-wrapped\"><div class=\"sk-label-container\"><div class=\"sk-label sk-toggleable\"><input class=\"sk-toggleable__control sk-hidden--visually\" id=\"sk-estimator-id-4\" type=\"checkbox\" ><label for=\"sk-estimator-id-4\" class=\"sk-toggleable__label sk-toggleable__label-arrow\">columntransformer: ColumnTransformer</label><div class=\"sk-toggleable__content\"><pre>ColumnTransformer(remainder=&#x27;passthrough&#x27;,\n",
       "                  transformers=[(&#x27;cat&#x27;, OneHotEncoder(drop=&#x27;first&#x27;),\n",
       "                                 [&#x27;cidade&#x27;])])</pre></div></div></div><div class=\"sk-parallel\"><div class=\"sk-parallel-item\"><div class=\"sk-item\"><div class=\"sk-label-container\"><div class=\"sk-label sk-toggleable\"><input class=\"sk-toggleable__control sk-hidden--visually\" id=\"sk-estimator-id-5\" type=\"checkbox\" ><label for=\"sk-estimator-id-5\" class=\"sk-toggleable__label sk-toggleable__label-arrow\">cat</label><div class=\"sk-toggleable__content\"><pre>[&#x27;cidade&#x27;]</pre></div></div></div><div class=\"sk-serial\"><div class=\"sk-item\"><div class=\"sk-estimator sk-toggleable\"><input class=\"sk-toggleable__control sk-hidden--visually\" id=\"sk-estimator-id-6\" type=\"checkbox\" ><label for=\"sk-estimator-id-6\" class=\"sk-toggleable__label sk-toggleable__label-arrow\">OneHotEncoder</label><div class=\"sk-toggleable__content\"><pre>OneHotEncoder(drop=&#x27;first&#x27;)</pre></div></div></div></div></div></div><div class=\"sk-parallel-item\"><div class=\"sk-item\"><div class=\"sk-label-container\"><div class=\"sk-label sk-toggleable\"><input class=\"sk-toggleable__control sk-hidden--visually\" id=\"sk-estimator-id-7\" type=\"checkbox\" ><label for=\"sk-estimator-id-7\" class=\"sk-toggleable__label sk-toggleable__label-arrow\">remainder</label><div class=\"sk-toggleable__content\"><pre>[&#x27;mes&#x27;, &#x27;dia&#x27;, &#x27;dia_semana&#x27;, &#x27;estacao&#x27;]</pre></div></div></div><div class=\"sk-serial\"><div class=\"sk-item\"><div class=\"sk-estimator sk-toggleable\"><input class=\"sk-toggleable__control sk-hidden--visually\" id=\"sk-estimator-id-8\" type=\"checkbox\" ><label for=\"sk-estimator-id-8\" class=\"sk-toggleable__label sk-toggleable__label-arrow\">passthrough</label><div class=\"sk-toggleable__content\"><pre>passthrough</pre></div></div></div></div></div></div></div></div><div class=\"sk-item\"><div class=\"sk-estimator sk-toggleable\"><input class=\"sk-toggleable__control sk-hidden--visually\" id=\"sk-estimator-id-9\" type=\"checkbox\" ><label for=\"sk-estimator-id-9\" class=\"sk-toggleable__label sk-toggleable__label-arrow\">DecisionTreeRegressor</label><div class=\"sk-toggleable__content\"><pre>DecisionTreeRegressor(max_depth=2, min_samples_leaf=100)</pre></div></div></div></div></div></div></div>"
      ],
      "text/plain": [
       "Pipeline(steps=[('columntransformer',\n",
       "                 ColumnTransformer(remainder='passthrough',\n",
       "                                   transformers=[('cat',\n",
       "                                                  OneHotEncoder(drop='first'),\n",
       "                                                  ['cidade'])])),\n",
       "                ('decisiontreeregressor',\n",
       "                 DecisionTreeRegressor(max_depth=2, min_samples_leaf=100))])"
      ]
     },
     "execution_count": 84,
     "metadata": {},
     "output_type": "execute_result"
    }
   ],
   "source": [
    "pipeline.fit(X_train, y_train)"
   ]
  },
  {
   "cell_type": "code",
   "execution_count": 86,
   "id": "626b5c04-9286-433e-a17d-570d8358920d",
   "metadata": {},
   "outputs": [],
   "source": [
    "train_score = pipeline.score(X_train, y_train)\n",
    "#test_score = pipeline.score(X_test, y_test)"
   ]
  },
  {
   "cell_type": "code",
   "execution_count": 87,
   "id": "f353c0cc-fb46-48c8-947a-53b5f798e682",
   "metadata": {},
   "outputs": [
    {
     "name": "stdout",
     "output_type": "stream",
     "text": [
      "0.0013059805703165006\n"
     ]
    }
   ],
   "source": [
    "print(train_score)"
   ]
  },
  {
   "cell_type": "code",
   "execution_count": 88,
   "id": "82ccf3fe-5ef5-488a-9e9b-e493cf198278",
   "metadata": {},
   "outputs": [
    {
     "data": {
      "text/plain": [
       "[Text(0.5, 0.8333333333333334, 'x[298] <= 15.5\\nsquared_error = 163.493\\nsamples = 3174\\nvalue = 4.073'),\n",
       " Text(0.25, 0.5, 'x[298] <= 1.5\\nsquared_error = 183.543\\nsamples = 1590\\nvalue = 4.353'),\n",
       " Text(0.125, 0.16666666666666666, 'squared_error = 136.061\\nsamples = 389\\nvalue = 3.794'),\n",
       " Text(0.375, 0.16666666666666666, 'squared_error = 198.788\\nsamples = 1201\\nvalue = 4.535'),\n",
       " Text(0.75, 0.5, 'x[297] <= 1.5\\nsquared_error = 143.209\\nsamples = 1584\\nvalue = 3.792'),\n",
       " Text(0.625, 0.16666666666666666, 'squared_error = 209.774\\nsamples = 607\\nvalue = 4.313'),\n",
       " Text(0.875, 0.16666666666666666, 'squared_error = 101.58\\nsamples = 977\\nvalue = 3.469')]"
      ]
     },
     "execution_count": 88,
     "metadata": {},
     "output_type": "execute_result"
    },
    {
     "data": {
      "image/png": "[encoded data removed]",
      "text/plain": [
       "<Figure size 432x288 with 1 Axes>"
      ]
     },
     "metadata": {
      "needs_background": "light"
     },
     "output_type": "display_data"
    }
   ],
   "source": [
    "tree.plot_tree(regressor, filled=True)"
   ]
  },
  {
   "cell_type": "code",
   "execution_count": 89,
   "id": "2f5304c0-2d47-4475-a078-384c1894b074",
   "metadata": {},
   "outputs": [],
   "source": [
    "y_pred = pipeline.predict(X_train)"
   ]
  },
  {
   "cell_type": "code",
   "execution_count": 97,
   "id": "64b33f11-c349-40a1-8e78-7d2f2d9d64ea",
   "metadata": {},
   "outputs": [
    {
     "data": {
      "text/plain": [
       "<matplotlib.collections.PathCollection at 0x224d35c3610>"
      ]
     },
     "execution_count": 97,
     "metadata": {},
     "output_type": "execute_result"
    },
    {
     "data": {
      "image/png": "[encoded data removed]",
      "text/plain": [
       "<Figure size 432x288 with 1 Axes>"
      ]
     },
     "metadata": {
      "needs_background": "light"
     },
     "output_type": "display_data"
    }
   ],
   "source": [
    "plt.scatter(X_train['dia'], y_train)\n",
    "plt.scatter(X_train['dia'], y_pred, alpha=.7)"
   ]
  },
  {
   "cell_type": "code",
   "execution_count": null,
   "id": "163b5fe8-6c23-46df-85dc-cbc40f59cf60",
   "metadata": {},
   "outputs": [],
   "source": []
  }
 ],
 "metadata": {
  "kernelspec": {
   "display_name": "Python 3 (ipykernel)",
   "language": "python",
   "name": "python3"
  },
  "language_info": {
   "codemirror_mode": {
    "name": "ipython",
    "version": 3
   },
   "file_extension": ".py",
   "mimetype": "text/x-python",
   "name": "python",
   "nbconvert_exporter": "python",
   "pygments_lexer": "ipython3",
   "version": "3.9.12"
  }
 },
 "nbformat": 4,
 "nbformat_minor": 5
}
